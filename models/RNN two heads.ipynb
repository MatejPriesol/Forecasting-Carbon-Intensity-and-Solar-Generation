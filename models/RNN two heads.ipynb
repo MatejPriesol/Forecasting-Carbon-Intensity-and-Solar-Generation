{
 "cells": [
  {
   "cell_type": "code",
   "execution_count": 128,
   "id": "initial_id",
   "metadata": {
    "collapsed": true,
    "ExecuteTime": {
     "end_time": "2024-01-10T18:47:49.266551100Z",
     "start_time": "2024-01-10T18:47:48.985483800Z"
    }
   },
   "outputs": [],
   "source": [
    "import numpy as np\n",
    "import pandas as pd\n",
    "import matplotlib.pyplot as plt\n",
    "from tensorflow import keras\n",
    "from sklearn.metrics import mean_squared_error\n",
    "from math import sqrt"
   ]
  },
  {
   "cell_type": "code",
   "execution_count": 129,
   "outputs": [],
   "source": [
    "train = pd.read_csv(\"../data/schemas/warm_up/TrainSet.csv\", sep=\",\")\n",
    "validation = pd.read_csv(\"../data/schemas/warm_up/ValidationSet.csv\", sep=\",\")\n",
    "test = pd.read_csv(\"../data/schemas/warm_up/TestSet.csv\", sep=\",\")"
   ],
   "metadata": {
    "collapsed": false,
    "ExecuteTime": {
     "end_time": "2024-01-10T18:47:49.350445900Z",
     "start_time": "2024-01-10T18:47:49.269860500Z"
    }
   },
   "id": "8878ce79c1e517d8"
  },
  {
   "cell_type": "code",
   "execution_count": 130,
   "outputs": [],
   "source": [
    "# Global variables\n",
    "\n",
    "NUM_OF_TIMESTEPS_INPUT = 48\n",
    "NUM_OF_TIMESTEPS_OUTPUT = 24\n",
    "\n",
    "THRESHOLD = 0.4   # For feature selection"
   ],
   "metadata": {
    "collapsed": false,
    "ExecuteTime": {
     "end_time": "2024-01-10T18:47:49.370691Z",
     "start_time": "2024-01-10T18:47:49.316371400Z"
    }
   },
   "id": "4eb19b54d6ddc902"
  },
  {
   "cell_type": "code",
   "execution_count": 131,
   "outputs": [
    {
     "name": "stdout",
     "output_type": "stream",
     "text": [
      "['Hour_1', 'Hour_2', 'Hour_3', 'Occupant Count (people)_3', '12h Outdoor Drybulb Temperature (C)', '24h Outdoor Drybulb Temperature (C)', '12h Outdoor Relative Humidity (%)', '6h Direct Solar Radiation (W/m2)', '12h Direct Solar Radiation (W/m2)']\n"
     ]
    }
   ],
   "source": [
    "columns_to_predict = [\"kg_CO2/kWh\", \"Avg solar generation\"]\n",
    "\n",
    "independent_variables = []\n",
    "\n",
    "for column in train:\n",
    "    if abs(train[column].corr(train[columns_to_predict[0]])) > THRESHOLD: #or abs(train[column].corr(train[columns_to_predict[1]])) > THRESHOLD:\n",
    "        independent_variables.append(column)\n",
    "\n",
    "#[independent_variables.remove(i) for i in columns_to_predict]\n",
    "independent_variables.remove(columns_to_predict[0])\n",
    "    \n",
    "if \"Index\" in independent_variables:\n",
    "    independent_variables.remove(\"Index\")\n",
    "if \"Solar Generation (W/kW)_1\" in independent_variables:\n",
    "    independent_variables.remove(\"Solar Generation (W/kW)_1\")\n",
    "if \"Solar Generation (W/kW)_2\" in independent_variables:\n",
    "    independent_variables.remove(\"Solar Generation (W/kW)_2\")\n",
    "if \"Solar Generation (W/kW)_3\" in independent_variables:\n",
    "    independent_variables.remove(\"Solar Generation (W/kW)_3\")\n",
    "    \n",
    "print(independent_variables)"
   ],
   "metadata": {
    "collapsed": false,
    "ExecuteTime": {
     "end_time": "2024-01-10T18:47:49.423744700Z",
     "start_time": "2024-01-10T18:47:49.374759Z"
    }
   },
   "id": "d1e33045de75032a"
  },
  {
   "cell_type": "markdown",
   "source": [
    "Prepare the data"
   ],
   "metadata": {
    "collapsed": false
   },
   "id": "a16b8a4996fc1af8"
  },
  {
   "cell_type": "code",
   "execution_count": 132,
   "outputs": [
    {
     "name": "stdout",
     "output_type": "stream",
     "text": [
      "(576, 9)\n",
      "(96, 9)\n",
      "(96, 9)\n"
     ]
    }
   ],
   "source": [
    "# Split the X and Y for all sets\n",
    "\n",
    "# Train set\n",
    "X_train_default = train[independent_variables]\n",
    "Y_train_default = train[columns_to_predict]\n",
    "\n",
    "# Validation set, also include the data from train that was used only as output to get more datapoints\n",
    "X_val_default = pd.concat([X_train_default.tail(NUM_OF_TIMESTEPS_OUTPUT), validation[independent_variables]], ignore_index=True)\n",
    "Y_val_default = pd.concat([Y_train_default.tail(NUM_OF_TIMESTEPS_OUTPUT), validation[columns_to_predict]], ignore_index=True)\n",
    "\n",
    "# Test set, also include the data from train that was used only as output to get more datapoints\n",
    "X_test_default = pd.concat([X_val_default.tail(NUM_OF_TIMESTEPS_OUTPUT), test[independent_variables]], ignore_index=True)\n",
    "Y_test_default = pd.concat([Y_val_default.tail(NUM_OF_TIMESTEPS_OUTPUT), test[columns_to_predict]], ignore_index=True)\n",
    "\n",
    "NUM_OF_ROWS_TRAIN, NUM_OF_FEATURES = X_train_default.shape\n",
    "\n",
    "print(X_train_default.shape)\n",
    "print(X_val_default.shape)\n",
    "print(X_test_default.shape)"
   ],
   "metadata": {
    "collapsed": false,
    "ExecuteTime": {
     "end_time": "2024-01-10T18:47:49.455703400Z",
     "start_time": "2024-01-10T18:47:49.394095300Z"
    }
   },
   "id": "8d8d2bf1598aca2e"
  },
  {
   "cell_type": "code",
   "execution_count": 133,
   "outputs": [],
   "source": [
    "# Function to prepare the data into batches that will be passed into the model\n",
    "\n",
    "def create_sequences(input_data, output_data, timesteps_input, timesteps_output):\n",
    "    sequences, targets = [], []\n",
    "    for i in range(len(input_data) - timesteps_input - timesteps_output + 1):\n",
    "        seq = input_data[i:i + timesteps_input]\n",
    "        target = output_data[i + timesteps_input: i + timesteps_input + timesteps_output]\n",
    "        sequences.append(seq)\n",
    "        targets.append(target)\n",
    "\n",
    "    return np.array(sequences), np.array(targets)"
   ],
   "metadata": {
    "collapsed": false,
    "ExecuteTime": {
     "end_time": "2024-01-10T18:47:49.522409300Z",
     "start_time": "2024-01-10T18:47:49.446144800Z"
    }
   },
   "id": "9083707d0c36e95a"
  },
  {
   "cell_type": "code",
   "execution_count": 134,
   "outputs": [
    {
     "name": "stdout",
     "output_type": "stream",
     "text": [
      "X_train = (505, 48, 9), Y_train = (505, 24, 2)\n",
      "X_val = (25, 48, 9), Y_val = (25, 24, 2)\n",
      "X_test = (25, 48, 9), Y_test = (25, 24, 2)\n"
     ]
    }
   ],
   "source": [
    "X_train, Y_train = create_sequences(X_train_default, Y_train_default, NUM_OF_TIMESTEPS_INPUT, NUM_OF_TIMESTEPS_OUTPUT)\n",
    "X_val, Y_val = create_sequences(X_val_default, Y_val_default, NUM_OF_TIMESTEPS_INPUT, NUM_OF_TIMESTEPS_OUTPUT)\n",
    "X_test, Y_test = create_sequences(X_test_default, Y_test_default, NUM_OF_TIMESTEPS_INPUT, NUM_OF_TIMESTEPS_OUTPUT)\n",
    "\n",
    "print(f\"X_train = {X_train.shape}, Y_train = {Y_train.shape}\\n\"\n",
    "      f\"X_val = {X_val.shape}, Y_val = {Y_val.shape}\\n\"\n",
    "      f\"X_test = {X_test.shape}, Y_test = {Y_test.shape}\")"
   ],
   "metadata": {
    "collapsed": false,
    "ExecuteTime": {
     "end_time": "2024-01-10T18:47:49.571549700Z",
     "start_time": "2024-01-10T18:47:49.478830700Z"
    }
   },
   "id": "919f3327d6b102f7"
  },
  {
   "cell_type": "code",
   "outputs": [
    {
     "name": "stdout",
     "output_type": "stream",
     "text": [
      "[[0.59739428 0.49429981 0.38708765 ... 0.73547528 0.69513525 0.71729728]\n",
      " [0.49429981 0.38708765 0.28880037 ... 0.69513525 0.71729728 0.6633147 ]\n",
      " [0.38708765 0.28880037 0.2346659  ... 0.71729728 0.6633147  0.55539687]\n",
      " ...\n",
      " [0.47416969 0.39741721 0.28594384 ... 0.4397153  0.45619247 0.45482902]\n",
      " [0.39741721 0.28594384 0.16805223 ... 0.45619247 0.45482902 0.41836388]\n",
      " [0.28594384 0.16805223 0.12974031 ... 0.45482902 0.41836388 0.39162712]]\n"
     ]
    }
   ],
   "source": [
    "print(Y_train[:, :, 0])"
   ],
   "metadata": {
    "collapsed": false,
    "ExecuteTime": {
     "end_time": "2024-01-10T18:47:49.641313200Z",
     "start_time": "2024-01-10T18:47:49.561292500Z"
    }
   },
   "id": "97939f8fe231a8ac",
   "execution_count": 135
  },
  {
   "cell_type": "code",
   "execution_count": null,
   "outputs": [
    {
     "name": "stdout",
     "output_type": "stream",
     "text": [
      "Epoch 1/100\n",
      "4/4 [==============================] - 2s 87ms/step - loss: 3.1317 - output_variable1_loss: 1.3789 - output_variable2_loss: 1.7528 - val_loss: 0.5283 - val_output_variable1_loss: 0.2915 - val_output_variable2_loss: 0.2368\n",
      "Epoch 2/100\n",
      "4/4 [==============================] - 0s 35ms/step - loss: 0.4572 - output_variable1_loss: 0.2225 - output_variable2_loss: 0.2346 - val_loss: 0.2448 - val_output_variable1_loss: 0.1402 - val_output_variable2_loss: 0.1045\n",
      "Epoch 3/100\n",
      "4/4 [==============================] - 0s 38ms/step - loss: 0.1831 - output_variable1_loss: 0.1050 - output_variable2_loss: 0.0781 - val_loss: 0.1571 - val_output_variable1_loss: 0.0860 - val_output_variable2_loss: 0.0711\n",
      "Epoch 4/100\n",
      "4/4 [==============================] - 0s 39ms/step - loss: 0.1166 - output_variable1_loss: 0.0524 - output_variable2_loss: 0.0642 - val_loss: 0.1177 - val_output_variable1_loss: 0.0737 - val_output_variable2_loss: 0.0440\n",
      "Epoch 5/100\n",
      "4/4 [==============================] - 0s 38ms/step - loss: 0.0872 - output_variable1_loss: 0.0439 - output_variable2_loss: 0.0432 - val_loss: 0.0829 - val_output_variable1_loss: 0.0500 - val_output_variable2_loss: 0.0329\n",
      "Epoch 6/100\n",
      "4/4 [==============================] - 0s 39ms/step - loss: 0.0695 - output_variable1_loss: 0.0323 - output_variable2_loss: 0.0373 - val_loss: 0.0941 - val_output_variable1_loss: 0.0621 - val_output_variable2_loss: 0.0320\n",
      "Epoch 7/100\n",
      "4/4 [==============================] - 0s 37ms/step - loss: 0.0547 - output_variable1_loss: 0.0259 - output_variable2_loss: 0.0287 - val_loss: 0.0759 - val_output_variable1_loss: 0.0531 - val_output_variable2_loss: 0.0228\n",
      "Epoch 8/100\n",
      "4/4 [==============================] - 0s 36ms/step - loss: 0.0463 - output_variable1_loss: 0.0206 - output_variable2_loss: 0.0257 - val_loss: 0.0682 - val_output_variable1_loss: 0.0500 - val_output_variable2_loss: 0.0181\n",
      "Epoch 9/100\n",
      "4/4 [==============================] - 0s 37ms/step - loss: 0.0395 - output_variable1_loss: 0.0195 - output_variable2_loss: 0.0200 - val_loss: 0.0619 - val_output_variable1_loss: 0.0441 - val_output_variable2_loss: 0.0178\n",
      "Epoch 10/100\n",
      "4/4 [==============================] - 0s 35ms/step - loss: 0.0341 - output_variable1_loss: 0.0162 - output_variable2_loss: 0.0179 - val_loss: 0.0672 - val_output_variable1_loss: 0.0510 - val_output_variable2_loss: 0.0162\n",
      "Epoch 11/100\n",
      "4/4 [==============================] - 0s 37ms/step - loss: 0.0305 - output_variable1_loss: 0.0154 - output_variable2_loss: 0.0151 - val_loss: 0.0614 - val_output_variable1_loss: 0.0504 - val_output_variable2_loss: 0.0110\n",
      "Epoch 12/100\n",
      "4/4 [==============================] - 0s 38ms/step - loss: 0.0248 - output_variable1_loss: 0.0130 - output_variable2_loss: 0.0118 - val_loss: 0.0475 - val_output_variable1_loss: 0.0378 - val_output_variable2_loss: 0.0097\n",
      "Epoch 13/100\n",
      "4/4 [==============================] - 0s 39ms/step - loss: 0.0237 - output_variable1_loss: 0.0131 - output_variable2_loss: 0.0106 - val_loss: 0.0526 - val_output_variable1_loss: 0.0450 - val_output_variable2_loss: 0.0076\n",
      "Epoch 14/100\n",
      "4/4 [==============================] - 0s 37ms/step - loss: 0.0199 - output_variable1_loss: 0.0112 - output_variable2_loss: 0.0087 - val_loss: 0.0507 - val_output_variable1_loss: 0.0430 - val_output_variable2_loss: 0.0077\n",
      "Epoch 15/100\n",
      "4/4 [==============================] - 0s 36ms/step - loss: 0.0189 - output_variable1_loss: 0.0109 - output_variable2_loss: 0.0080 - val_loss: 0.0462 - val_output_variable1_loss: 0.0399 - val_output_variable2_loss: 0.0063\n",
      "Epoch 16/100\n",
      "4/4 [==============================] - 0s 36ms/step - loss: 0.0172 - output_variable1_loss: 0.0105 - output_variable2_loss: 0.0067 - val_loss: 0.0429 - val_output_variable1_loss: 0.0370 - val_output_variable2_loss: 0.0058\n",
      "Epoch 17/100\n",
      "4/4 [==============================] - 0s 37ms/step - loss: 0.0160 - output_variable1_loss: 0.0098 - output_variable2_loss: 0.0062 - val_loss: 0.0553 - val_output_variable1_loss: 0.0494 - val_output_variable2_loss: 0.0059\n",
      "Epoch 18/100\n",
      "4/4 [==============================] - 0s 45ms/step - loss: 0.0162 - output_variable1_loss: 0.0098 - output_variable2_loss: 0.0064 - val_loss: 0.0486 - val_output_variable1_loss: 0.0413 - val_output_variable2_loss: 0.0072\n",
      "Epoch 19/100\n",
      "4/4 [==============================] - 0s 39ms/step - loss: 0.0157 - output_variable1_loss: 0.0091 - output_variable2_loss: 0.0066 - val_loss: 0.0429 - val_output_variable1_loss: 0.0362 - val_output_variable2_loss: 0.0067\n",
      "Epoch 20/100\n",
      "4/4 [==============================] - 0s 38ms/step - loss: 0.0151 - output_variable1_loss: 0.0089 - output_variable2_loss: 0.0062 - val_loss: 0.0486 - val_output_variable1_loss: 0.0426 - val_output_variable2_loss: 0.0060\n",
      "Epoch 21/100\n",
      "4/4 [==============================] - 0s 38ms/step - loss: 0.0143 - output_variable1_loss: 0.0082 - output_variable2_loss: 0.0061 - val_loss: 0.0474 - val_output_variable1_loss: 0.0421 - val_output_variable2_loss: 0.0052\n",
      "Epoch 22/100\n",
      "4/4 [==============================] - 0s 40ms/step - loss: 0.0130 - output_variable1_loss: 0.0078 - output_variable2_loss: 0.0052 - val_loss: 0.0456 - val_output_variable1_loss: 0.0395 - val_output_variable2_loss: 0.0062\n",
      "Epoch 23/100\n",
      "4/4 [==============================] - 0s 43ms/step - loss: 0.0133 - output_variable1_loss: 0.0073 - output_variable2_loss: 0.0060 - val_loss: 0.0419 - val_output_variable1_loss: 0.0365 - val_output_variable2_loss: 0.0055\n",
      "Epoch 24/100\n",
      "4/4 [==============================] - 0s 38ms/step - loss: 0.0127 - output_variable1_loss: 0.0071 - output_variable2_loss: 0.0056 - val_loss: 0.0443 - val_output_variable1_loss: 0.0381 - val_output_variable2_loss: 0.0062\n",
      "Epoch 25/100\n",
      "4/4 [==============================] - 0s 38ms/step - loss: 0.0118 - output_variable1_loss: 0.0064 - output_variable2_loss: 0.0054 - val_loss: 0.0457 - val_output_variable1_loss: 0.0394 - val_output_variable2_loss: 0.0062\n",
      "Epoch 26/100\n",
      "4/4 [==============================] - 0s 42ms/step - loss: 0.0113 - output_variable1_loss: 0.0061 - output_variable2_loss: 0.0052 - val_loss: 0.0385 - val_output_variable1_loss: 0.0325 - val_output_variable2_loss: 0.0061\n",
      "Epoch 27/100\n",
      "4/4 [==============================] - 0s 39ms/step - loss: 0.0110 - output_variable1_loss: 0.0058 - output_variable2_loss: 0.0052 - val_loss: 0.0484 - val_output_variable1_loss: 0.0426 - val_output_variable2_loss: 0.0058\n",
      "Epoch 28/100\n",
      "4/4 [==============================] - 0s 40ms/step - loss: 0.0106 - output_variable1_loss: 0.0059 - output_variable2_loss: 0.0047 - val_loss: 0.0385 - val_output_variable1_loss: 0.0339 - val_output_variable2_loss: 0.0046\n",
      "Epoch 29/100\n",
      "4/4 [==============================] - 0s 41ms/step - loss: 0.0099 - output_variable1_loss: 0.0057 - output_variable2_loss: 0.0042 - val_loss: 0.0459 - val_output_variable1_loss: 0.0402 - val_output_variable2_loss: 0.0057\n",
      "Epoch 30/100\n",
      "4/4 [==============================] - 0s 40ms/step - loss: 0.0100 - output_variable1_loss: 0.0062 - output_variable2_loss: 0.0038 - val_loss: 0.0417 - val_output_variable1_loss: 0.0379 - val_output_variable2_loss: 0.0038\n",
      "Epoch 31/100\n",
      "4/4 [==============================] - 0s 40ms/step - loss: 0.0101 - output_variable1_loss: 0.0063 - output_variable2_loss: 0.0038 - val_loss: 0.0396 - val_output_variable1_loss: 0.0356 - val_output_variable2_loss: 0.0040\n",
      "Epoch 32/100\n",
      "4/4 [==============================] - 0s 41ms/step - loss: 0.0091 - output_variable1_loss: 0.0058 - output_variable2_loss: 0.0033 - val_loss: 0.0445 - val_output_variable1_loss: 0.0392 - val_output_variable2_loss: 0.0053\n",
      "Epoch 33/100\n",
      "4/4 [==============================] - 0s 40ms/step - loss: 0.0092 - output_variable1_loss: 0.0054 - output_variable2_loss: 0.0037 - val_loss: 0.0449 - val_output_variable1_loss: 0.0398 - val_output_variable2_loss: 0.0052\n",
      "Epoch 34/100\n",
      "4/4 [==============================] - 0s 41ms/step - loss: 0.0086 - output_variable1_loss: 0.0050 - output_variable2_loss: 0.0035 - val_loss: 0.0381 - val_output_variable1_loss: 0.0338 - val_output_variable2_loss: 0.0043\n",
      "Epoch 35/100\n",
      "4/4 [==============================] - 0s 39ms/step - loss: 0.0079 - output_variable1_loss: 0.0046 - output_variable2_loss: 0.0033 - val_loss: 0.0383 - val_output_variable1_loss: 0.0344 - val_output_variable2_loss: 0.0039\n",
      "Epoch 36/100\n",
      "4/4 [==============================] - 0s 43ms/step - loss: 0.0077 - output_variable1_loss: 0.0046 - output_variable2_loss: 0.0030 - val_loss: 0.0423 - val_output_variable1_loss: 0.0379 - val_output_variable2_loss: 0.0044\n",
      "Epoch 37/100\n",
      "4/4 [==============================] - 0s 41ms/step - loss: 0.0076 - output_variable1_loss: 0.0044 - output_variable2_loss: 0.0032 - val_loss: 0.0441 - val_output_variable1_loss: 0.0397 - val_output_variable2_loss: 0.0044\n",
      "Epoch 38/100\n",
      "4/4 [==============================] - 0s 41ms/step - loss: 0.0073 - output_variable1_loss: 0.0045 - output_variable2_loss: 0.0028 - val_loss: 0.0420 - val_output_variable1_loss: 0.0375 - val_output_variable2_loss: 0.0045\n",
      "Epoch 39/100\n",
      "4/4 [==============================] - 0s 52ms/step - loss: 0.0070 - output_variable1_loss: 0.0043 - output_variable2_loss: 0.0027 - val_loss: 0.0420 - val_output_variable1_loss: 0.0379 - val_output_variable2_loss: 0.0041\n",
      "Epoch 40/100\n",
      "4/4 [==============================] - 0s 39ms/step - loss: 0.0072 - output_variable1_loss: 0.0044 - output_variable2_loss: 0.0029 - val_loss: 0.0445 - val_output_variable1_loss: 0.0395 - val_output_variable2_loss: 0.0051\n",
      "Epoch 41/100\n",
      "4/4 [==============================] - 0s 43ms/step - loss: 0.0070 - output_variable1_loss: 0.0041 - output_variable2_loss: 0.0029 - val_loss: 0.0429 - val_output_variable1_loss: 0.0386 - val_output_variable2_loss: 0.0043\n",
      "Epoch 42/100\n",
      "4/4 [==============================] - 0s 44ms/step - loss: 0.0068 - output_variable1_loss: 0.0040 - output_variable2_loss: 0.0028 - val_loss: 0.0388 - val_output_variable1_loss: 0.0341 - val_output_variable2_loss: 0.0047\n",
      "Epoch 43/100\n",
      "4/4 [==============================] - 0s 41ms/step - loss: 0.0063 - output_variable1_loss: 0.0036 - output_variable2_loss: 0.0027 - val_loss: 0.0393 - val_output_variable1_loss: 0.0345 - val_output_variable2_loss: 0.0048\n",
      "Epoch 44/100\n",
      "4/4 [==============================] - 0s 41ms/step - loss: 0.0065 - output_variable1_loss: 0.0036 - output_variable2_loss: 0.0029 - val_loss: 0.0440 - val_output_variable1_loss: 0.0395 - val_output_variable2_loss: 0.0045\n",
      "Epoch 45/100\n",
      "4/4 [==============================] - 0s 39ms/step - loss: 0.0061 - output_variable1_loss: 0.0036 - output_variable2_loss: 0.0025 - val_loss: 0.0403 - val_output_variable1_loss: 0.0367 - val_output_variable2_loss: 0.0035\n",
      "Epoch 46/100\n",
      "4/4 [==============================] - 0s 41ms/step - loss: 0.0060 - output_variable1_loss: 0.0037 - output_variable2_loss: 0.0024 - val_loss: 0.0423 - val_output_variable1_loss: 0.0384 - val_output_variable2_loss: 0.0039\n",
      "Epoch 47/100\n",
      "4/4 [==============================] - 0s 41ms/step - loss: 0.0056 - output_variable1_loss: 0.0034 - output_variable2_loss: 0.0022 - val_loss: 0.0419 - val_output_variable1_loss: 0.0379 - val_output_variable2_loss: 0.0041\n",
      "Epoch 48/100\n",
      "1/4 [======>.......................] - ETA: 0s - loss: 0.0057 - output_variable1_loss: 0.0036 - output_variable2_loss: 0.0021"
     ]
    }
   ],
   "source": [
    "from sklearn.model_selection import TimeSeriesSplit\n",
    "from tensorflow.keras import layers, models\n",
    "\n",
    "tscv = TimeSeriesSplit(n_splits = 4) # For cross-validation\n",
    "\n",
    "callback = keras.callbacks.EarlyStopping(monitor='loss', patience = 8) #patience parameter to be adjusted\n",
    "\n",
    "loss = []\n",
    "val_loss = []\n",
    "loss_1 = []\n",
    "val_loss_1 = []\n",
    "loss_2 = []\n",
    "val_loss_2 = []\n",
    "\n",
    "\n",
    "for train_data, test_data in tscv.split(X_train):\n",
    "    X_train_current_split, X_test_current_split = X_train[train_data], X_train[test_data]\n",
    "    y_train_current_split, y_test_current_split = Y_train[train_data], Y_train[test_data]\n",
    "    \n",
    "    # Input layer\n",
    "    input_layer = layers.Input(shape=(NUM_OF_TIMESTEPS_INPUT, NUM_OF_FEATURES))\n",
    "    \n",
    "    # Permute layer\n",
    "    permute_layer = layers.Permute((2, 1))(input_layer)\n",
    "    \n",
    "    # Flatten layer\n",
    "    flatten_layer = layers.Flatten()(permute_layer)\n",
    "    \n",
    "    # Dense layers for variable 1\n",
    "    dense1 = layers.Dense(1200, activation='tanh')(flatten_layer)\n",
    "    dense2 = layers.Dense(600, activation='tanh')(dense1)\n",
    "    dense3 = layers.Dense(240, activation='tanh')(dense2)\n",
    "    output_variable1 = layers.Dense(24, name='output_variable1')(dense3)\n",
    "    \n",
    "    # Dense layers for variable 2\n",
    "    dense4 = layers.Dense(1200, activation='tanh')(flatten_layer)\n",
    "    dense5 = layers.Dense(600, activation='tanh')(dense4)\n",
    "    dense6 = layers.Dense(240, activation='tanh')(dense5)\n",
    "    output_variable2 = layers.Dense(24, name='output_variable2')(dense6)\n",
    "    \n",
    "    # Define the model\n",
    "    model = models.Model(inputs=input_layer, outputs=[output_variable1, output_variable2])\n",
    "\n",
    "    model.compile(\n",
    "        optimizer='adam',\n",
    "        loss={'output_variable1': 'mean_squared_error', 'output_variable2': 'mean_squared_error'}\n",
    "    ) #types of optimizer, loss function to be adjusted\n",
    "    \n",
    "    history = model.fit(X_train_current_split, y={\"output_variable1\": y_train_current_split[:, :, 0], \n",
    "                                                  \"output_variable2\": y_train_current_split[:, :, 1]},\n",
    "              epochs=100, \n",
    "              validation_data=(\n",
    "                  X_test_current_split,\n",
    "                {\n",
    "                    \"output_variable1\": y_test_current_split[:, :, 0],\n",
    "                    \"output_variable2\": y_test_current_split[:, :, 1],\n",
    "                },\n",
    "              ),\n",
    "              # validation_split = 0.8,\n",
    "              verbose=1,\n",
    "              callbacks=callback\n",
    "    )\n",
    "    loss.append(model.history.history['loss'])\n",
    "    val_loss.append(model.history.history['val_loss'])\n",
    "    \n",
    "    loss_1.append(model.history.history['output_variable1_loss'])\n",
    "    val_loss_1.append(model.history.history['val_output_variable1_loss'])\n",
    "    \n",
    "    loss_2.append(model.history.history['output_variable2_loss'])\n",
    "    val_loss_2.append(model.history.history['val_output_variable2_loss'])"
   ],
   "metadata": {
    "collapsed": false,
    "is_executing": true,
    "ExecuteTime": {
     "start_time": "2024-01-10T18:47:49.626958200Z"
    }
   },
   "id": "779f35bf4f1bc980"
  },
  {
   "cell_type": "code",
   "execution_count": null,
   "outputs": [],
   "source": [
    "fig, axs = plt.subplots(2, 2, figsize=(15, 15))\n",
    "axs = axs.flatten()\n",
    "\n",
    "for i, column in enumerate(loss_1):\n",
    "    ax = axs[i]\n",
    "    ax.plot(column, label=\"Train error\")\n",
    "    ax.plot(val_loss_1[i], label=\"Validation error\")\n",
    "    ax.title.set_text(i)\n",
    "    \n",
    "fig.suptitle(\"Train vs Validation error 1\", fontsize=24)\n",
    "plt.tight_layout(rect=[0, 0, 1, 0.98])\n",
    "plt.legend()\n",
    "plt.show()"
   ],
   "metadata": {
    "collapsed": false,
    "is_executing": true
   },
   "id": "5187c6d9d1179844"
  },
  {
   "cell_type": "code",
   "outputs": [],
   "source": [
    "fig, axs = plt.subplots(2, 2, figsize=(15, 15))\n",
    "axs = axs.flatten()\n",
    "\n",
    "for i, column in enumerate(loss_2):\n",
    "    ax = axs[i]\n",
    "    ax.plot(column, label=\"Train error\")\n",
    "    ax.plot(val_loss_2[i], label=\"Validation error\")\n",
    "    ax.title.set_text(i)\n",
    "    \n",
    "fig.suptitle(\"Train vs Validation error 2\", fontsize=24)\n",
    "plt.tight_layout(rect=[0, 0, 1, 0.98])\n",
    "plt.legend()\n",
    "plt.show()"
   ],
   "metadata": {
    "collapsed": false,
    "is_executing": true
   },
   "id": "174dd3d256bd68d7",
   "execution_count": null
  },
  {
   "cell_type": "code",
   "outputs": [],
   "source": [
    "fig, axs = plt.subplots(2, 2, figsize=(15, 15))\n",
    "axs = axs.flatten()\n",
    "\n",
    "for i, column in enumerate(loss):\n",
    "    ax = axs[i]\n",
    "    ax.plot(column, label=\"Train error\")\n",
    "    ax.plot(val_loss[i], label=\"Validation error\")\n",
    "    ax.title.set_text(i)\n",
    "    \n",
    "fig.suptitle(\"Train vs Validation error\", fontsize=24)\n",
    "plt.tight_layout(rect=[0, 0, 1, 0.98])\n",
    "plt.legend()\n",
    "plt.show()"
   ],
   "metadata": {
    "collapsed": false,
    "is_executing": true
   },
   "id": "83379c5becddadd7",
   "execution_count": null
  },
  {
   "cell_type": "code",
   "outputs": [],
   "source": [
    "# Evaluate the model on the test data\n",
    "predictions_1 = []\n",
    "predictions_2 = []\n",
    "#print(len(eval_target_variables))\n",
    "\n",
    "for i in range(len(Y_val)):\n",
    "    current_batch = X_val[i].reshape((1, NUM_OF_TIMESTEPS_INPUT, NUM_OF_FEATURES))\n",
    "    curr_pred1, curr_pred2 = model.predict(current_batch)\n",
    "    predictions_1.append(curr_pred1)\n",
    "    predictions_2.append(curr_pred2)"
   ],
   "metadata": {
    "collapsed": false,
    "is_executing": true
   },
   "id": "3bf256ff8260eda2",
   "execution_count": null
  },
  {
   "cell_type": "code",
   "outputs": [],
   "source": [
    "fig, axs = plt.subplots(5, 5, figsize=(25, 25))\n",
    "axs = axs.flatten()\n",
    "\n",
    "for i, column in enumerate(predictions_1):\n",
    "    ax = axs[i]\n",
    "    # TODO seems to work but check why column[0]\n",
    "    ax.plot(column[0], label=\"Prediction\")\n",
    "    ax.plot(Y_val[i, :, 0], label=\"Actual\")\n",
    "    ax.title.set_text(i)\n",
    "\n",
    "fig.suptitle(\"RNN\", fontsize=24)\n",
    "plt.tight_layout(rect=[0, 0, 1, 0.98])\n",
    "plt.legend()\n",
    "plt.show()"
   ],
   "metadata": {
    "collapsed": false,
    "is_executing": true
   },
   "id": "9e211b5fad82c4c3",
   "execution_count": null
  },
  {
   "cell_type": "code",
   "outputs": [],
   "source": [
    "fig, axs = plt.subplots(5, 5, figsize=(25, 25))\n",
    "axs = axs.flatten()\n",
    "\n",
    "for i, column in enumerate(predictions_2):\n",
    "    ax = axs[i]\n",
    "    # TODO seems to work but check why column[0]\n",
    "    ax.plot(column[0], label=\"Prediction\")\n",
    "    ax.plot(Y_val[i, :, 1], label=\"Actual\")\n",
    "    ax.title.set_text(i)\n",
    "\n",
    "fig.suptitle(\"RNN\", fontsize=24)\n",
    "plt.tight_layout(rect=[0, 0, 1, 0.98])\n",
    "plt.legend()\n",
    "plt.show()"
   ],
   "metadata": {
    "collapsed": false,
    "is_executing": true
   },
   "id": "392e406c930b9ac0",
   "execution_count": null
  },
  {
   "cell_type": "code",
   "outputs": [],
   "source": [
    "rmse = 0\n",
    "for i in range(len(predictions_1)):\n",
    "    print(f'pred={i}, num = {sqrt(mean_squared_error(predictions_1[i][0], Y_val[i, :, 0]))}')\n",
    "    rmse += sqrt(mean_squared_error(predictions_1[i][0], Y_val[i, :, 0]))\n",
    "\n",
    "rmse /= len(predictions_1)    \n",
    "print(f\"RMSE = {rmse}\")"
   ],
   "metadata": {
    "collapsed": false,
    "is_executing": true
   },
   "id": "37ba52b0c61c1d5",
   "execution_count": null
  },
  {
   "cell_type": "code",
   "outputs": [],
   "source": [
    "rmse = 0\n",
    "for i in range(len(predictions_2)):\n",
    "    print(f'pred={i}, num = {sqrt(mean_squared_error(predictions_2[i][0], Y_val[i, :, 1]))}')\n",
    "    rmse += sqrt(mean_squared_error(predictions_2[i][0], Y_val[i, :, 1]))\n",
    "\n",
    "rmse /= len(predictions_2)    \n",
    "print(f\"RMSE = {rmse}\")"
   ],
   "metadata": {
    "collapsed": false,
    "is_executing": true
   },
   "id": "7b5002dc9b4f0e67",
   "execution_count": null
  }
 ],
 "metadata": {
  "kernelspec": {
   "display_name": "Python 3",
   "language": "python",
   "name": "python3"
  },
  "language_info": {
   "codemirror_mode": {
    "name": "ipython",
    "version": 2
   },
   "file_extension": ".py",
   "mimetype": "text/x-python",
   "name": "python",
   "nbconvert_exporter": "python",
   "pygments_lexer": "ipython2",
   "version": "2.7.6"
  }
 },
 "nbformat": 4,
 "nbformat_minor": 5
}
