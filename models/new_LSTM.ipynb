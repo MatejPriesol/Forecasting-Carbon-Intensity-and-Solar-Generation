{
 "cells": [
  {
   "cell_type": "code",
   "execution_count": 2,
   "id": "initial_id",
   "metadata": {
    "collapsed": true,
    "ExecuteTime": {
     "end_time": "2023-12-19T08:05:40.297846572Z",
     "start_time": "2023-12-19T08:05:40.264906096Z"
    }
   },
   "outputs": [],
   "source": [
    "import numpy as np\n",
    "import pandas as pd\n",
    "import matplotlib.pyplot as plt"
   ]
  },
  {
   "cell_type": "code",
   "execution_count": 3,
   "outputs": [],
   "source": [
    "train = pd.read_csv(\"../data/schemas/warm_up/TrainSet.csv\", sep=\",\")\n",
    "test = pd.read_csv(\"../data/schemas/warm_up/TestSet.csv\", sep=\",\")"
   ],
   "metadata": {
    "collapsed": false,
    "ExecuteTime": {
     "end_time": "2023-12-19T08:05:40.298566132Z",
     "start_time": "2023-12-19T08:05:40.297253422Z"
    }
   },
   "id": "8878ce79c1e517d8"
  },
  {
   "cell_type": "code",
   "execution_count": 4,
   "outputs": [],
   "source": [
    "NUM_OF_TIMESTEPS_INPUT = 48\n",
    "NUM_OF_TIMESTEPS_OUTPUT = 24"
   ],
   "metadata": {
    "collapsed": false,
    "ExecuteTime": {
     "end_time": "2023-12-19T08:05:40.298849421Z",
     "start_time": "2023-12-19T08:05:40.297642012Z"
    }
   },
   "id": "4eb19b54d6ddc902"
  },
  {
   "cell_type": "code",
   "execution_count": 8,
   "outputs": [
    {
     "data": {
      "text/plain": "['Hour_1',\n 'Hour_2',\n 'Hour_3',\n 'Occupant Count (people)_3',\n '12h Outdoor Drybulb Temperature (C)',\n '24h Outdoor Drybulb Temperature (C)',\n '12h Outdoor Relative Humidity (%)',\n '6h Direct Solar Radiation (W/m2)',\n '12h Direct Solar Radiation (W/m2)',\n 'kg_CO2/kWh']"
     },
     "execution_count": 8,
     "metadata": {},
     "output_type": "execute_result"
    }
   ],
   "source": [
    "threshold = 0.4\n",
    "column_to_predict = \"kg_CO2/kWh\"\n",
    "\n",
    "independent_variables = []\n",
    "\n",
    "\n",
    "for column in train:\n",
    "    if abs(train[column].corr(train[column_to_predict])) > threshold:\n",
    "        independent_variables.append(column)\n",
    "\n",
    "# independent_variables.remove(column_to_predict)\n",
    "if \"Index\" in independent_variables:\n",
    "    independent_variables.remove(\"Index\")\n",
    "independent_variables"
   ],
   "metadata": {
    "collapsed": false,
    "ExecuteTime": {
     "end_time": "2023-12-19T08:06:55.098867983Z",
     "start_time": "2023-12-19T08:06:55.085146098Z"
    }
   },
   "id": "d1e33045de75032a"
  },
  {
   "cell_type": "code",
   "execution_count": 10,
   "outputs": [
    {
     "name": "stdout",
     "output_type": "stream",
     "text": [
      "(648, 10)\n"
     ]
    },
    {
     "data": {
      "text/plain": "     Hour_1    Hour_2    Hour_3  Occupant Count (people)_3  \\\n0  0.000000  0.000000  0.000000                        1.0   \n1  0.043478  0.043478  0.043478                        1.0   \n2  0.086957  0.086957  0.086957                        1.0   \n3  0.130435  0.130435  0.130435                        1.0   \n4  0.173913  0.173913  0.173913                        0.5   \n\n   12h Outdoor Drybulb Temperature (C)  24h Outdoor Drybulb Temperature (C)  \\\n0                             0.840306                             0.341111   \n1                             0.835694                             0.131464   \n2                             0.875368                             0.138832   \n3                             0.960541                             0.293742   \n4                             0.902451                             0.180205   \n\n   12h Outdoor Relative Humidity (%)  6h Direct Solar Radiation (W/m2)  \\\n0                           0.284653                          0.135681   \n1                           0.236548                          0.284343   \n2                           0.141625                          0.186202   \n3                           0.157973                          0.440659   \n4                           0.177644                          0.538847   \n\n   12h Direct Solar Radiation (W/m2)  kg_CO2/kWh  \n0                           0.903531    0.297295  \n1                           0.730342    0.206405  \n2                           0.874457    0.146161  \n3                           0.756219    0.134990  \n4                           0.833150    0.167124  ",
      "text/html": "<div>\n<style scoped>\n    .dataframe tbody tr th:only-of-type {\n        vertical-align: middle;\n    }\n\n    .dataframe tbody tr th {\n        vertical-align: top;\n    }\n\n    .dataframe thead th {\n        text-align: right;\n    }\n</style>\n<table border=\"1\" class=\"dataframe\">\n  <thead>\n    <tr style=\"text-align: right;\">\n      <th></th>\n      <th>Hour_1</th>\n      <th>Hour_2</th>\n      <th>Hour_3</th>\n      <th>Occupant Count (people)_3</th>\n      <th>12h Outdoor Drybulb Temperature (C)</th>\n      <th>24h Outdoor Drybulb Temperature (C)</th>\n      <th>12h Outdoor Relative Humidity (%)</th>\n      <th>6h Direct Solar Radiation (W/m2)</th>\n      <th>12h Direct Solar Radiation (W/m2)</th>\n      <th>kg_CO2/kWh</th>\n    </tr>\n  </thead>\n  <tbody>\n    <tr>\n      <th>0</th>\n      <td>0.000000</td>\n      <td>0.000000</td>\n      <td>0.000000</td>\n      <td>1.0</td>\n      <td>0.840306</td>\n      <td>0.341111</td>\n      <td>0.284653</td>\n      <td>0.135681</td>\n      <td>0.903531</td>\n      <td>0.297295</td>\n    </tr>\n    <tr>\n      <th>1</th>\n      <td>0.043478</td>\n      <td>0.043478</td>\n      <td>0.043478</td>\n      <td>1.0</td>\n      <td>0.835694</td>\n      <td>0.131464</td>\n      <td>0.236548</td>\n      <td>0.284343</td>\n      <td>0.730342</td>\n      <td>0.206405</td>\n    </tr>\n    <tr>\n      <th>2</th>\n      <td>0.086957</td>\n      <td>0.086957</td>\n      <td>0.086957</td>\n      <td>1.0</td>\n      <td>0.875368</td>\n      <td>0.138832</td>\n      <td>0.141625</td>\n      <td>0.186202</td>\n      <td>0.874457</td>\n      <td>0.146161</td>\n    </tr>\n    <tr>\n      <th>3</th>\n      <td>0.130435</td>\n      <td>0.130435</td>\n      <td>0.130435</td>\n      <td>1.0</td>\n      <td>0.960541</td>\n      <td>0.293742</td>\n      <td>0.157973</td>\n      <td>0.440659</td>\n      <td>0.756219</td>\n      <td>0.134990</td>\n    </tr>\n    <tr>\n      <th>4</th>\n      <td>0.173913</td>\n      <td>0.173913</td>\n      <td>0.173913</td>\n      <td>0.5</td>\n      <td>0.902451</td>\n      <td>0.180205</td>\n      <td>0.177644</td>\n      <td>0.538847</td>\n      <td>0.833150</td>\n      <td>0.167124</td>\n    </tr>\n  </tbody>\n</table>\n</div>"
     },
     "execution_count": 10,
     "metadata": {},
     "output_type": "execute_result"
    }
   ],
   "source": [
    "X_train = train[independent_variables]\n",
    "# X_train = train[[\"Hour_1\", \"Day Type_1\"]]\n",
    "Y_train = train[column_to_predict]\n",
    "\n",
    "print(X_train.shape)\n",
    "X_train.head()"
   ],
   "metadata": {
    "collapsed": false,
    "ExecuteTime": {
     "end_time": "2023-12-19T08:07:47.727703144Z",
     "start_time": "2023-12-19T08:07:47.716457444Z"
    }
   },
   "id": "8d8d2bf1598aca2e"
  },
  {
   "cell_type": "code",
   "execution_count": 11,
   "outputs": [],
   "source": [
    "def create_sequences(input_data, output_data, timesteps_input, timesteps_output):\n",
    "    sequences, targets = [], []\n",
    "    for i in range(len(input_data) - timesteps_input - timesteps_output + 1):\n",
    "        seq = input_data[i:i + timesteps_input]\n",
    "        #print(f\"i = {i}, seq = {seq}\")\n",
    "        target = output_data[i + timesteps_input: i + timesteps_input + timesteps_output]\n",
    "        #print(f\"i = {i}, target = {target}\")\n",
    "        sequences.append(seq)\n",
    "        targets.append(target)\n",
    "\n",
    "    return np.array(sequences), np.array(targets)"
   ],
   "metadata": {
    "collapsed": false,
    "ExecuteTime": {
     "end_time": "2023-12-19T08:08:41.387760666Z",
     "start_time": "2023-12-19T08:08:41.385769095Z"
    }
   },
   "id": "9083707d0c36e95a"
  },
  {
   "cell_type": "code",
   "execution_count": 12,
   "outputs": [
    {
     "name": "stdout",
     "output_type": "stream",
     "text": [
      "[[0.00000000e+00 0.00000000e+00 0.00000000e+00 1.00000000e+00\n",
      "  8.40305674e-01 3.41110874e-01 2.84653240e-01 1.35680787e-01\n",
      "  9.03531290e-01 2.97294973e-01]\n",
      " [4.34782609e-02 4.34782609e-02 4.34782609e-02 1.00000000e+00\n",
      "  8.35694132e-01 1.31464429e-01 2.36547501e-01 2.84342677e-01\n",
      "  7.30342170e-01 2.06405263e-01]\n",
      " [8.69565217e-02 8.69565217e-02 8.69565217e-02 1.00000000e+00\n",
      "  8.75367853e-01 1.38832035e-01 1.41625263e-01 1.86201506e-01\n",
      "  8.74456687e-01 1.46160546e-01]\n",
      " [1.30434783e-01 1.30434783e-01 1.30434783e-01 1.00000000e+00\n",
      "  9.60540996e-01 2.93742444e-01 1.57973161e-01 4.40658779e-01\n",
      "  7.56219376e-01 1.34989510e-01]\n",
      " [1.73913043e-01 1.73913043e-01 1.73913043e-01 5.00000000e-01\n",
      "  9.02450503e-01 1.80204520e-01 1.77644208e-01 5.38847476e-01\n",
      "  8.33149859e-01 1.67124490e-01]\n",
      " [2.17391304e-01 2.17391304e-01 2.17391304e-01 5.00000000e-01\n",
      "  8.54914265e-01 2.18826081e-01 1.59108714e-01 8.63126113e-01\n",
      "  4.14593785e-01 2.18208263e-01]\n",
      " [2.60869565e-01 2.60869565e-01 2.60869565e-01 5.00000000e-01\n",
      "  6.63713429e-01 1.82985249e-01 1.45386382e-01 6.66149107e-01\n",
      "  2.07818803e-01 2.64929663e-01]\n",
      " [3.04347826e-01 3.04347826e-01 3.04347826e-01 5.00000000e-01\n",
      "  6.05915178e-01 3.28474612e-01 4.60630477e-01 8.67269320e-01\n",
      "  0.00000000e+00 3.37080899e-01]\n",
      " [3.47826087e-01 3.47826087e-01 3.47826087e-01 5.00000000e-01\n",
      "  4.37459445e-01 5.04974785e-01 2.24354611e-01 9.45520399e-01\n",
      "  0.00000000e+00 4.36138646e-01]\n",
      " [3.91304348e-01 3.91304348e-01 3.91304348e-01 5.00000000e-01\n",
      "  3.86945416e-01 6.30234799e-01 5.94272335e-01 7.89553633e-01\n",
      "  0.00000000e+00 4.16248889e-01]\n",
      " [4.34782609e-01 4.34782609e-01 4.34782609e-01 5.00000000e-01\n",
      "  3.27662858e-01 7.20356798e-01 4.36503796e-01 6.46287739e-01\n",
      "  0.00000000e+00 5.49463752e-01]\n",
      " [4.78260870e-01 4.78260870e-01 4.78260870e-01 0.00000000e+00\n",
      "  2.51922336e-01 8.05845325e-01 4.98331673e-01 5.55595928e-01\n",
      "  0.00000000e+00 6.86134017e-01]\n",
      " [5.21739130e-01 5.21739130e-01 5.21739130e-01 5.00000000e-01\n",
      "  2.43023859e-01 9.10028657e-01 8.08516872e-01 3.69178312e-01\n",
      "  0.00000000e+00 7.04748573e-01]\n",
      " [5.65217391e-01 5.65217391e-01 5.65217391e-01 5.00000000e-01\n",
      "  2.34465307e-01 9.01668986e-01 8.16078467e-01 0.00000000e+00\n",
      "  0.00000000e+00 6.86956343e-01]\n",
      " [6.08695652e-01 6.08695652e-01 6.08695652e-01 0.00000000e+00\n",
      "  2.12513336e-01 8.93914290e-01 6.77477870e-01 0.00000000e+00\n",
      "  0.00000000e+00 6.50662702e-01]\n",
      " [6.52173913e-01 6.52173913e-01 6.52173913e-01 5.00000000e-01\n",
      "  2.08805740e-01 9.45523682e-01 6.35023460e-01 0.00000000e+00\n",
      "  0.00000000e+00 6.13074885e-01]\n",
      " [6.95652174e-01 6.95652174e-01 6.95652174e-01 5.00000000e-01\n",
      "  1.54992322e-01 9.92244529e-01 6.40347477e-01 0.00000000e+00\n",
      "  0.00000000e+00 5.60648015e-01]\n",
      " [7.39130435e-01 7.39130435e-01 7.39130435e-01 5.00000000e-01\n",
      "  1.19472378e-01 8.36380573e-01 6.46511171e-01 0.00000000e+00\n",
      "  0.00000000e+00 5.11990255e-01]\n",
      " [7.82608696e-01 7.82608696e-01 7.82608696e-01 5.00000000e-01\n",
      "  1.64784277e-01 7.07989926e-01 1.00000000e+00 0.00000000e+00\n",
      "  1.16704867e-01 4.63811228e-01]\n",
      " [8.26086957e-01 8.26086957e-01 8.26086957e-01 1.00000000e+00\n",
      "  3.27658528e-01 5.40732822e-01 4.82172480e-01 0.00000000e+00\n",
      "  2.92533877e-01 4.51047409e-01]\n",
      " [8.69565217e-01 8.69565217e-01 8.69565217e-01 1.00000000e+00\n",
      "  3.85557458e-01 4.76445551e-01 5.11282335e-01 0.00000000e+00\n",
      "  2.99467181e-01 4.70749469e-01]\n",
      " [9.13043478e-01 9.13043478e-01 9.13043478e-01 1.00000000e+00\n",
      "  5.66777182e-01 5.76859626e-01 4.75594168e-01 0.00000000e+00\n",
      "  5.31183970e-01 5.01633039e-01]\n",
      " [9.56521739e-01 9.56521739e-01 9.56521739e-01 1.00000000e+00\n",
      "  6.07407817e-01 3.84302624e-01 2.24999857e-01 0.00000000e+00\n",
      "  7.58127366e-01 5.13153152e-01]\n",
      " [1.00000000e+00 1.00000000e+00 1.00000000e+00 1.00000000e+00\n",
      "  6.97264642e-01 3.31739229e-01 1.80009849e-01 0.00000000e+00\n",
      "  5.54954912e-01 4.82945182e-01]\n",
      " [0.00000000e+00 0.00000000e+00 0.00000000e+00 1.00000000e+00\n",
      "  8.43727600e-01 3.06258840e-01 2.27592594e-01 1.49659495e-01\n",
      "  7.59691046e-01 4.27764165e-01]\n",
      " [4.34782609e-02 4.34782609e-02 4.34782609e-02 1.00000000e+00\n",
      "  9.20082434e-01 3.00750046e-01 1.04984066e-01 3.12179449e-01\n",
      "  9.70858925e-01 2.77962351e-01]\n",
      " [8.69565217e-02 8.69565217e-02 8.69565217e-02 1.00000000e+00\n",
      "  8.76436621e-01 2.84493624e-01 9.63253851e-04 4.14964072e-01\n",
      "  7.16021445e-01 2.08723752e-01]\n",
      " [1.30434783e-01 1.30434783e-01 1.30434783e-01 1.00000000e+00\n",
      "  1.00000000e+00 2.14496483e-01 1.14885492e-01 5.85210960e-01\n",
      "  7.92154346e-01 1.60689483e-01]\n",
      " [1.73913043e-01 1.73913043e-01 1.73913043e-01 1.00000000e+00\n",
      "  8.36232130e-01 1.55944435e-01 7.43098913e-02 7.66868835e-01\n",
      "  6.65919322e-01 1.53265997e-01]\n",
      " [2.17391304e-01 2.17391304e-01 2.17391304e-01 1.00000000e+00\n",
      "  8.82683928e-01 2.98292332e-01 5.64705305e-02 7.87039919e-01\n",
      "  4.10303421e-01 1.34454376e-01]\n",
      " [2.60869565e-01 2.60869565e-01 2.60869565e-01 1.00000000e+00\n",
      "  7.06195137e-01 2.75701985e-01 7.61597177e-02 6.61931731e-01\n",
      "  2.43042341e-01 1.60855533e-01]\n",
      " [3.04347826e-01 3.04347826e-01 3.04347826e-01 1.00000000e+00\n",
      "  5.25151232e-01 2.68431071e-01 2.18780747e-01 9.15338231e-01\n",
      "  0.00000000e+00 2.01469636e-01]\n",
      " [3.47826087e-01 3.47826087e-01 3.47826087e-01 1.00000000e+00\n",
      "  5.66582563e-01 3.72184494e-01 2.89789325e-01 9.36186488e-01\n",
      "  0.00000000e+00 3.16502038e-01]\n",
      " [3.91304348e-01 3.91304348e-01 3.91304348e-01 1.00000000e+00\n",
      "  5.05575786e-01 5.15694603e-01 3.70631086e-01 8.01931382e-01\n",
      "  0.00000000e+00 3.96281548e-01]\n",
      " [4.34782609e-01 4.34782609e-01 4.34782609e-01 1.00000000e+00\n",
      "  3.74906779e-01 4.96512919e-01 6.35577594e-01 7.83704460e-01\n",
      "  0.00000000e+00 5.70275003e-01]\n",
      " [4.78260870e-01 4.78260870e-01 4.78260870e-01 1.00000000e+00\n",
      "  3.52270029e-01 6.77732357e-01 7.60553410e-01 6.36871302e-01\n",
      "  0.00000000e+00 6.60075979e-01]\n",
      " [5.21739130e-01 5.21739130e-01 5.21739130e-01 1.00000000e+00\n",
      "  3.18417776e-01 4.58099743e-01 6.42948511e-01 3.65011240e-01\n",
      "  0.00000000e+00 6.71582364e-01]\n",
      " [5.65217391e-01 5.65217391e-01 5.65217391e-01 1.00000000e+00\n",
      "  2.25072953e-01 4.85406222e-01 6.95233645e-01 0.00000000e+00\n",
      "  0.00000000e+00 6.64820559e-01]\n",
      " [6.08695652e-01 6.08695652e-01 6.08695652e-01 1.00000000e+00\n",
      "  2.35585442e-01 6.25502037e-01 6.95585021e-01 0.00000000e+00\n",
      "  0.00000000e+00 6.52163291e-01]\n",
      " [6.52173913e-01 6.52173913e-01 6.52173913e-01 1.00000000e+00\n",
      "  2.09085248e-01 6.05849812e-01 1.00000000e+00 0.00000000e+00\n",
      "  0.00000000e+00 6.23495515e-01]\n",
      " [6.95652174e-01 6.95652174e-01 6.95652174e-01 1.00000000e+00\n",
      "  2.01460808e-01 4.27337631e-01 1.00000000e+00 0.00000000e+00\n",
      "  0.00000000e+00 5.81919827e-01]\n",
      " [7.39130435e-01 7.39130435e-01 7.39130435e-01 1.00000000e+00\n",
      "  2.10023626e-01 4.82140809e-01 1.00000000e+00 0.00000000e+00\n",
      "  0.00000000e+00 5.55825381e-01]\n",
      " [7.82608696e-01 7.82608696e-01 7.82608696e-01 1.00000000e+00\n",
      "  2.69763421e-01 4.01751928e-01 1.00000000e+00 0.00000000e+00\n",
      "  6.09479080e-02 5.18592843e-01]\n",
      " [8.26086957e-01 8.26086957e-01 8.26086957e-01 1.00000000e+00\n",
      "  3.17199917e-01 2.82967649e-01 1.00000000e+00 0.00000000e+00\n",
      "  1.17894589e-01 4.89755375e-01]\n",
      " [8.69565217e-01 8.69565217e-01 8.69565217e-01 1.00000000e+00\n",
      "  4.09337862e-01 2.32549958e-01 8.16080922e-01 0.00000000e+00\n",
      "  2.24270429e-01 4.99356425e-01]\n",
      " [9.13043478e-01 9.13043478e-01 9.13043478e-01 1.00000000e+00\n",
      "  4.04595131e-01 1.72801271e-01 3.27353393e-01 0.00000000e+00\n",
      "  2.90658417e-01 5.51470603e-01]\n",
      " [9.56521739e-01 9.56521739e-01 9.56521739e-01 1.00000000e+00\n",
      "  5.44869084e-01 1.87385237e-01 4.85605535e-01 0.00000000e+00\n",
      "  5.91642788e-01 5.53916207e-01]\n",
      " [1.00000000e+00 1.00000000e+00 1.00000000e+00 1.00000000e+00\n",
      "  5.15232120e-01 2.92569359e-01 4.78955967e-01 0.00000000e+00\n",
      "  5.35633084e-01 5.37711647e-01]]\n",
      "[0.59739428 0.49429981 0.38708765 0.28880037 0.2346659  0.22880156\n",
      " 0.26241434 0.31385395 0.36274065 0.32912399 0.41859464 0.59690114\n",
      " 0.74685743 0.82796725 0.84589733 0.83725959 0.82125879 0.80709442\n",
      " 0.78806505 0.73835998 0.71748058 0.73547528 0.69513525 0.71729728]\n",
      "(577, 48, 10)\n",
      "(577, 24)\n"
     ]
    }
   ],
   "source": [
    "input_sequences, target_variables = create_sequences(X_train, Y_train, NUM_OF_TIMESTEPS_INPUT, NUM_OF_TIMESTEPS_OUTPUT)\n",
    "print(input_sequences[0])\n",
    "print(target_variables[0])\n",
    "print(input_sequences.shape)\n",
    "print(target_variables.shape)"
   ],
   "metadata": {
    "collapsed": false,
    "ExecuteTime": {
     "end_time": "2023-12-19T08:08:49.629937406Z",
     "start_time": "2023-12-19T08:08:49.592635355Z"
    }
   },
   "id": "919f3327d6b102f7"
  },
  {
   "cell_type": "code",
   "execution_count": 13,
   "outputs": [
    {
     "name": "stderr",
     "output_type": "stream",
     "text": [
      "2023-12-19 09:15:58.616517: I external/local_tsl/tsl/cuda/cudart_stub.cc:31] Could not find cuda drivers on your machine, GPU will not be used.\n",
      "2023-12-19 09:15:58.907094: E external/local_xla/xla/stream_executor/cuda/cuda_dnn.cc:9261] Unable to register cuDNN factory: Attempting to register factory for plugin cuDNN when one has already been registered\n",
      "2023-12-19 09:15:58.907138: E external/local_xla/xla/stream_executor/cuda/cuda_fft.cc:607] Unable to register cuFFT factory: Attempting to register factory for plugin cuFFT when one has already been registered\n",
      "2023-12-19 09:15:58.921402: E external/local_xla/xla/stream_executor/cuda/cuda_blas.cc:1515] Unable to register cuBLAS factory: Attempting to register factory for plugin cuBLAS when one has already been registered\n",
      "2023-12-19 09:15:58.949110: I external/local_tsl/tsl/cuda/cudart_stub.cc:31] Could not find cuda drivers on your machine, GPU will not be used.\n",
      "2023-12-19 09:15:58.949557: I tensorflow/core/platform/cpu_feature_guard.cc:182] This TensorFlow binary is optimized to use available CPU instructions in performance-critical operations.\n",
      "To enable the following instructions: AVX2 FMA, in other operations, rebuild TensorFlow with the appropriate compiler flags.\n",
      "2023-12-19 09:15:59.890770: W tensorflow/compiler/tf2tensorrt/utils/py_utils.cc:38] TF-TRT Warning: Could not find TensorRT\n"
     ]
    }
   ],
   "source": [
    "# importing libraries\n",
    "from tensorflow import keras\n",
    "from keras.models import Sequential\n",
    "from keras.layers import Dense\n",
    "from keras.layers import SimpleRNN\n",
    "from keras.layers import Dropout\n",
    "from keras.optimizers import SGD"
   ],
   "metadata": {
    "collapsed": false,
    "ExecuteTime": {
     "end_time": "2023-12-19T08:16:00.570236832Z",
     "start_time": "2023-12-19T08:15:58.217779627Z"
    }
   },
   "id": "3ee39bd103866ee1"
  },
  {
   "cell_type": "code",
   "execution_count": 15,
   "outputs": [
    {
     "name": "stderr",
     "output_type": "stream",
     "text": [
      "2023-12-19 09:18:22.135242: E external/local_xla/xla/stream_executor/cuda/cuda_driver.cc:274] failed call to cuInit: CUDA_ERROR_NO_DEVICE: no CUDA-capable device is detected\n"
     ]
    },
    {
     "name": "stdout",
     "output_type": "stream",
     "text": [
      "Model: \"sequential\"\n",
      "_________________________________________________________________\n",
      " Layer (type)                Output Shape              Param #   \n",
      "=================================================================\n",
      " lstm (LSTM)                 (None, 48, 48)            11328     \n",
      "                                                                 \n",
      " lstm_1 (LSTM)               (None, 48, 48)            18624     \n",
      "                                                                 \n",
      " lstm_2 (LSTM)               (None, 24)                7008      \n",
      "                                                                 \n",
      " dense (Dense)               (None, 24)                600       \n",
      "                                                                 \n",
      "=================================================================\n",
      "Total params: 37560 (146.72 KB)\n",
      "Trainable params: 37560 (146.72 KB)\n",
      "Non-trainable params: 0 (0.00 Byte)\n",
      "_________________________________________________________________\n"
     ]
    }
   ],
   "source": [
    "# initializing the LSTM\n",
    "model_LSTM = keras.Sequential([        \n",
    "        keras.layers.LSTM(48, activation='tanh', input_shape=(input_sequences.shape[1], input_sequences.shape[2]), return_sequences=True),\n",
    "        # keras.layers.Dropout(0.2),   no dropout yet\n",
    "        keras.layers.LSTM(48, activation='tanh', return_sequences=True),\n",
    "        keras.layers.LSTM(24, activation='tanh', return_sequences=False),\n",
    "        keras.layers.Dense(24)\n",
    "    ]) #amount of layers & neurons to be adjusted\n",
    "\n",
    "\n",
    "# compiling RNN\n",
    "model_LSTM.compile(optimizer = SGD(learning_rate=0.01, \n",
    "                                  momentum=0.9, \n",
    "                                  nesterov=True), \n",
    "                  loss = \"mean_squared_error\")\n",
    " \n",
    "model_LSTM.summary()"
   ],
   "metadata": {
    "collapsed": false,
    "ExecuteTime": {
     "end_time": "2023-12-19T08:18:22.610436543Z",
     "start_time": "2023-12-19T08:18:10.083855028Z"
    }
   },
   "id": "779f35bf4f1bc980"
  },
  {
   "cell_type": "code",
   "execution_count": 16,
   "outputs": [
    {
     "name": "stdout",
     "output_type": "stream",
     "text": [
      "Epoch 1/100\n",
      "19/19 [==============================] - 3s 20ms/step - loss: 0.2697\n",
      "Epoch 2/100\n",
      "19/19 [==============================] - 0s 18ms/step - loss: 0.1269\n",
      "Epoch 3/100\n",
      "19/19 [==============================] - 0s 19ms/step - loss: 0.0723\n",
      "Epoch 4/100\n",
      "19/19 [==============================] - 0s 19ms/step - loss: 0.0559\n",
      "Epoch 5/100\n",
      "19/19 [==============================] - 0s 19ms/step - loss: 0.0519\n",
      "Epoch 6/100\n",
      "19/19 [==============================] - 0s 19ms/step - loss: 0.0510\n",
      "Epoch 7/100\n",
      "19/19 [==============================] - 0s 19ms/step - loss: 0.0508\n",
      "Epoch 8/100\n",
      "19/19 [==============================] - 0s 18ms/step - loss: 0.0505\n",
      "Epoch 9/100\n",
      "19/19 [==============================] - 0s 18ms/step - loss: 0.0502\n",
      "Epoch 10/100\n",
      "19/19 [==============================] - 0s 19ms/step - loss: 0.0499\n",
      "Epoch 11/100\n",
      "19/19 [==============================] - 0s 19ms/step - loss: 0.0496\n",
      "Epoch 12/100\n",
      "19/19 [==============================] - 0s 19ms/step - loss: 0.0492\n",
      "Epoch 13/100\n",
      "19/19 [==============================] - 0s 19ms/step - loss: 0.0487\n",
      "Epoch 14/100\n",
      "19/19 [==============================] - 0s 19ms/step - loss: 0.0483\n",
      "Epoch 15/100\n",
      "19/19 [==============================] - 0s 19ms/step - loss: 0.0477\n",
      "Epoch 16/100\n",
      "19/19 [==============================] - 0s 18ms/step - loss: 0.0471\n",
      "Epoch 17/100\n",
      "19/19 [==============================] - 0s 19ms/step - loss: 0.0465\n",
      "Epoch 18/100\n",
      "19/19 [==============================] - 0s 19ms/step - loss: 0.0460\n",
      "Epoch 19/100\n",
      "19/19 [==============================] - 0s 19ms/step - loss: 0.0450\n",
      "Epoch 20/100\n",
      "19/19 [==============================] - 0s 19ms/step - loss: 0.0446\n",
      "Epoch 21/100\n",
      "19/19 [==============================] - 0s 20ms/step - loss: 0.0435\n",
      "Epoch 22/100\n",
      "19/19 [==============================] - 0s 20ms/step - loss: 0.0431\n",
      "Epoch 23/100\n",
      "19/19 [==============================] - 0s 20ms/step - loss: 0.0425\n",
      "Epoch 24/100\n",
      "19/19 [==============================] - 0s 19ms/step - loss: 0.0423\n",
      "Epoch 25/100\n",
      "19/19 [==============================] - 0s 19ms/step - loss: 0.0417\n",
      "Epoch 26/100\n",
      "19/19 [==============================] - 0s 19ms/step - loss: 0.0412\n",
      "Epoch 27/100\n",
      "19/19 [==============================] - 0s 19ms/step - loss: 0.0411\n",
      "Epoch 28/100\n",
      "19/19 [==============================] - 0s 19ms/step - loss: 0.0405\n",
      "Epoch 29/100\n",
      "19/19 [==============================] - 0s 19ms/step - loss: 0.0404\n",
      "Epoch 30/100\n",
      "19/19 [==============================] - 0s 20ms/step - loss: 0.0400\n",
      "Epoch 31/100\n",
      "19/19 [==============================] - 0s 19ms/step - loss: 0.0395\n",
      "Epoch 32/100\n",
      "19/19 [==============================] - 0s 18ms/step - loss: 0.0392\n",
      "Epoch 33/100\n",
      "19/19 [==============================] - 0s 19ms/step - loss: 0.0389\n",
      "Epoch 34/100\n",
      "19/19 [==============================] - 0s 19ms/step - loss: 0.0386\n",
      "Epoch 35/100\n",
      "19/19 [==============================] - 0s 19ms/step - loss: 0.0384\n",
      "Epoch 36/100\n",
      "19/19 [==============================] - 0s 19ms/step - loss: 0.0381\n",
      "Epoch 37/100\n",
      "19/19 [==============================] - 0s 24ms/step - loss: 0.0378\n",
      "Epoch 38/100\n",
      "19/19 [==============================] - 0s 21ms/step - loss: 0.0377\n",
      "Epoch 39/100\n",
      "19/19 [==============================] - 0s 20ms/step - loss: 0.0374\n",
      "Epoch 40/100\n",
      "19/19 [==============================] - 0s 19ms/step - loss: 0.0370\n",
      "Epoch 41/100\n",
      "19/19 [==============================] - 0s 19ms/step - loss: 0.0367\n",
      "Epoch 42/100\n",
      "19/19 [==============================] - 0s 19ms/step - loss: 0.0366\n",
      "Epoch 43/100\n",
      "19/19 [==============================] - 0s 19ms/step - loss: 0.0370\n",
      "Epoch 44/100\n",
      "19/19 [==============================] - 0s 18ms/step - loss: 0.0360\n",
      "Epoch 45/100\n",
      "19/19 [==============================] - 0s 19ms/step - loss: 0.0355\n",
      "Epoch 46/100\n",
      "19/19 [==============================] - 0s 19ms/step - loss: 0.0361\n",
      "Epoch 47/100\n",
      "19/19 [==============================] - 0s 19ms/step - loss: 0.0350\n",
      "Epoch 48/100\n",
      "19/19 [==============================] - 0s 19ms/step - loss: 0.0349\n",
      "Epoch 49/100\n",
      "19/19 [==============================] - 0s 19ms/step - loss: 0.0346\n",
      "Epoch 50/100\n",
      "19/19 [==============================] - 0s 19ms/step - loss: 0.0342\n",
      "Epoch 51/100\n",
      "19/19 [==============================] - 0s 19ms/step - loss: 0.0343\n",
      "Epoch 52/100\n",
      "19/19 [==============================] - 0s 19ms/step - loss: 0.0336\n",
      "Epoch 53/100\n",
      "19/19 [==============================] - 0s 19ms/step - loss: 0.0332\n",
      "Epoch 54/100\n",
      "19/19 [==============================] - 0s 19ms/step - loss: 0.0329\n",
      "Epoch 55/100\n",
      "19/19 [==============================] - 0s 19ms/step - loss: 0.0326\n",
      "Epoch 56/100\n",
      "19/19 [==============================] - 0s 19ms/step - loss: 0.0326\n",
      "Epoch 57/100\n",
      "19/19 [==============================] - 0s 20ms/step - loss: 0.0322\n",
      "Epoch 58/100\n",
      "19/19 [==============================] - 0s 19ms/step - loss: 0.0316\n",
      "Epoch 59/100\n",
      "19/19 [==============================] - 0s 19ms/step - loss: 0.0314\n",
      "Epoch 60/100\n",
      "19/19 [==============================] - 0s 19ms/step - loss: 0.0315\n",
      "Epoch 61/100\n",
      "19/19 [==============================] - 0s 21ms/step - loss: 0.0311\n",
      "Epoch 62/100\n",
      "19/19 [==============================] - 0s 20ms/step - loss: 0.0305\n",
      "Epoch 63/100\n",
      "19/19 [==============================] - 0s 19ms/step - loss: 0.0303\n",
      "Epoch 64/100\n",
      "19/19 [==============================] - 0s 19ms/step - loss: 0.0299\n",
      "Epoch 65/100\n",
      "19/19 [==============================] - 0s 19ms/step - loss: 0.0295\n",
      "Epoch 66/100\n",
      "19/19 [==============================] - 0s 19ms/step - loss: 0.0293\n",
      "Epoch 67/100\n",
      "19/19 [==============================] - 0s 19ms/step - loss: 0.0293\n",
      "Epoch 68/100\n",
      "19/19 [==============================] - 0s 19ms/step - loss: 0.0288\n",
      "Epoch 69/100\n",
      "19/19 [==============================] - 0s 19ms/step - loss: 0.0289\n",
      "Epoch 70/100\n",
      "19/19 [==============================] - 0s 19ms/step - loss: 0.0283\n",
      "Epoch 71/100\n",
      "19/19 [==============================] - 0s 19ms/step - loss: 0.0278\n",
      "Epoch 72/100\n",
      "19/19 [==============================] - 0s 19ms/step - loss: 0.0280\n",
      "Epoch 73/100\n",
      "19/19 [==============================] - 0s 19ms/step - loss: 0.0273\n",
      "Epoch 74/100\n",
      "19/19 [==============================] - 0s 19ms/step - loss: 0.0271\n",
      "Epoch 75/100\n",
      "19/19 [==============================] - 0s 19ms/step - loss: 0.0269\n",
      "Epoch 76/100\n",
      "19/19 [==============================] - 0s 20ms/step - loss: 0.0266\n",
      "Epoch 77/100\n",
      "19/19 [==============================] - 0s 19ms/step - loss: 0.0263\n",
      "Epoch 78/100\n",
      "19/19 [==============================] - 0s 19ms/step - loss: 0.0259\n",
      "Epoch 79/100\n",
      "19/19 [==============================] - 0s 19ms/step - loss: 0.0257\n",
      "Epoch 80/100\n",
      "19/19 [==============================] - 0s 20ms/step - loss: 0.0255\n",
      "Epoch 81/100\n",
      "19/19 [==============================] - 0s 19ms/step - loss: 0.0256\n",
      "Epoch 82/100\n",
      "19/19 [==============================] - 0s 19ms/step - loss: 0.0250\n",
      "Epoch 83/100\n",
      "19/19 [==============================] - 0s 19ms/step - loss: 0.0253\n",
      "Epoch 84/100\n",
      "19/19 [==============================] - 0s 20ms/step - loss: 0.0250\n",
      "Epoch 85/100\n",
      "19/19 [==============================] - 0s 19ms/step - loss: 0.0244\n",
      "Epoch 86/100\n",
      "19/19 [==============================] - 0s 19ms/step - loss: 0.0241\n",
      "Epoch 87/100\n",
      "19/19 [==============================] - 0s 19ms/step - loss: 0.0239\n",
      "Epoch 88/100\n",
      "19/19 [==============================] - 0s 19ms/step - loss: 0.0237\n",
      "Epoch 89/100\n",
      "19/19 [==============================] - 0s 19ms/step - loss: 0.0235\n",
      "Epoch 90/100\n",
      "19/19 [==============================] - 0s 19ms/step - loss: 0.0238\n",
      "Epoch 91/100\n",
      "19/19 [==============================] - 0s 19ms/step - loss: 0.0235\n",
      "Epoch 92/100\n",
      "19/19 [==============================] - 0s 19ms/step - loss: 0.0232\n",
      "Epoch 93/100\n",
      "19/19 [==============================] - 0s 19ms/step - loss: 0.0228\n",
      "Epoch 94/100\n",
      "19/19 [==============================] - 0s 18ms/step - loss: 0.0227\n",
      "Epoch 95/100\n",
      "19/19 [==============================] - 0s 19ms/step - loss: 0.0226\n",
      "Epoch 96/100\n",
      "19/19 [==============================] - 0s 19ms/step - loss: 0.0228\n",
      "Epoch 97/100\n",
      "19/19 [==============================] - 0s 19ms/step - loss: 0.0225\n",
      "Epoch 98/100\n",
      "19/19 [==============================] - 0s 19ms/step - loss: 0.0222\n",
      "Epoch 99/100\n",
      "19/19 [==============================] - 0s 19ms/step - loss: 0.0234\n",
      "Epoch 100/100\n",
      "19/19 [==============================] - 0s 19ms/step - loss: 0.0217\n"
     ]
    }
   ],
   "source": [
    "# fitting the model\n",
    "history_LSTM = model_LSTM.fit(input_sequences, target_variables, epochs = 100, verbose=1)"
   ],
   "metadata": {
    "collapsed": false,
    "ExecuteTime": {
     "end_time": "2023-12-19T08:20:29.912859799Z",
     "start_time": "2023-12-19T08:19:50.294287812Z"
    }
   },
   "id": "a9dbf40ec1ab07c4"
  },
  {
   "cell_type": "code",
   "execution_count": 17,
   "outputs": [
    {
     "data": {
      "text/plain": "[<matplotlib.lines.Line2D at 0x7fc8e82ca7d0>]"
     },
     "execution_count": 17,
     "metadata": {},
     "output_type": "execute_result"
    },
    {
     "data": {
      "text/plain": "<Figure size 640x480 with 1 Axes>",
      "image/png": "[encoded data removed]"
     },
     "metadata": {},
     "output_type": "display_data"
    }
   ],
   "source": [
    "loss_per_epoch = model_LSTM.history.history['loss']\n",
    "plt.plot(range(len(loss_per_epoch)),loss_per_epoch)"
   ],
   "metadata": {
    "collapsed": false,
    "ExecuteTime": {
     "end_time": "2023-12-19T08:24:19.260520934Z",
     "start_time": "2023-12-19T08:24:19.071771131Z"
    }
   },
   "id": "7d9fba1d0cc76b77"
  },
  {
   "cell_type": "code",
   "execution_count": null,
   "outputs": [],
   "source": [
    "# Evaluate the model on the test data\n",
    "predictions = []\n",
    "#print(len(eval_target_variables))\n",
    "\n",
    "for i in range(len(eval_target_variables)):\n",
    "    current_batch = eval_input_sequences[i].reshape((1, NUM_OF_TIMESTEPS_INPUT, 50))\n",
    "    curr_pred = model.predict(current_batch)\n",
    "    predictions.append(curr_pred)\n",
    "\n",
    "#print(predictions)"
   ],
   "metadata": {
    "collapsed": false
   },
   "id": "cd728c546d6ed9d6"
  }
 ],
 "metadata": {
  "kernelspec": {
   "display_name": "Python 3",
   "language": "python",
   "name": "python3"
  },
  "language_info": {
   "codemirror_mode": {
    "name": "ipython",
    "version": 2
   },
   "file_extension": ".py",
   "mimetype": "text/x-python",
   "name": "python",
   "nbconvert_exporter": "python",
   "pygments_lexer": "ipython2",
   "version": "2.7.6"
  }
 },
 "nbformat": 4,
 "nbformat_minor": 5
}
