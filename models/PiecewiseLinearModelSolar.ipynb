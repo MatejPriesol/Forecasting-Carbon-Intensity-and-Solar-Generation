{
 "cells": [
  {
   "cell_type": "code",
   "execution_count": 2,
   "id": "initial_id",
   "metadata": {
    "collapsed": true,
    "ExecuteTime": {
     "end_time": "2023-10-25T19:05:14.525120348Z",
     "start_time": "2023-10-25T19:05:14.457662781Z"
    }
   },
   "outputs": [],
   "source": [
    "import matplotlib.pyplot as plt\n",
    "import numpy as np\n",
    "import pandas as pd\n",
    "import seaborn as sns\n",
    "from sklearn.model_selection import train_test_split\n",
    "from sklearn import linear_model"
   ]
  },
  {
   "cell_type": "code",
   "execution_count": 3,
   "outputs": [],
   "source": [
    "train = pd.read_csv(\"../data/schemas/warm_up/TrainSet.csv\", sep=\",\")\n",
    "test = pd.read_csv(\"../data/schemas/warm_up/TestSet.csv\", sep=\",\")"
   ],
   "metadata": {
    "collapsed": false,
    "ExecuteTime": {
     "end_time": "2023-10-25T19:05:15.628685556Z",
     "start_time": "2023-10-25T19:05:15.616619546Z"
    }
   },
   "id": "a3758b5da1d39e24"
  },
  {
   "cell_type": "code",
   "execution_count": 4,
   "outputs": [
    {
     "name": "stdout",
     "output_type": "stream",
     "text": [
      "variable = Index, value = -0.015244564086752423\n",
      "variable = Hour_1, value = 0.10500990241991089\n",
      "variable = Day Type_1, value = 0.046635004979262235\n",
      "variable = Indoor Temperature (C)_1, value = 0.3056475730222216\n",
      "variable = Average Unmet Cooling Setpoint Difference (C)_1, value = -0.13861161368485506\n",
      "variable = Indoor Relative Humidity (%)_1, value = -0.3328790618567653\n",
      "variable = Equipment Electric Power (kWh)_1, value = 0.17285109842711732\n",
      "variable = DHW Heating (kWh)_1, value = 0.05345933465086446\n",
      "variable = Cooling Load (kWh)_1, value = 0.1450521662856913\n",
      "variable = Occupant Count (people)_1, value = -0.6556543130833186\n",
      "variable = Temperature Set Point (C)_1, value = 0.3075412277138346\n",
      "variable = Hour_2, value = 0.10500990241991089\n",
      "variable = Day Type_2, value = 0.046635004979262235\n",
      "variable = Indoor Temperature (C)_2, value = 0.1119422703262405\n",
      "variable = Average Unmet Cooling Setpoint Difference (C)_2, value = 0.22532684177014695\n",
      "variable = Indoor Relative Humidity (%)_2, value = -0.011576794221053847\n",
      "variable = Equipment Electric Power (kWh)_2, value = 0.3199027342171042\n",
      "variable = DHW Heating (kWh)_2, value = 0.07127894369250239\n",
      "variable = Cooling Load (kWh)_2, value = 0.6386485107373673\n",
      "variable = Occupant Count (people)_2, value = -0.5465921106505564\n",
      "variable = Temperature Set Point (C)_2, value = 0.04800993840621795\n",
      "variable = Hour_3, value = 0.10500990241991089\n",
      "variable = Day Type_3, value = 0.046635004979262235\n",
      "variable = Indoor Temperature (C)_3, value = -0.1862129221584918\n",
      "variable = Average Unmet Cooling Setpoint Difference (C)_3, value = 0.1089290816529607\n",
      "variable = Indoor Relative Humidity (%)_3, value = 0.1877572946350015\n",
      "variable = Equipment Electric Power (kWh)_3, value = 0.19807813666093993\n",
      "variable = DHW Heating (kWh)_3, value = -0.01908334391171425\n",
      "variable = Cooling Load (kWh)_3, value = 0.4894361568916329\n",
      "variable = Occupant Count (people)_3, value = -0.6144556388342671\n",
      "variable = Temperature Set Point (C)_3, value = -0.18944855798711055\n",
      "variable = Outdoor Drybulb Temperature (C), value = 0.8267971914227791\n",
      "variable = Outdoor Relative Humidity (%), value = -0.7646392205490417\n",
      "variable = Diffuse Solar Radiation (W/m2), value = 0.7741214346147959\n",
      "variable = Direct Solar Radiation (W/m2), value = 0.889626055579267\n",
      "variable = 6h Outdoor Drybulb Temperature (C), value = 0.4070809834565989\n",
      "variable = 12h Outdoor Drybulb Temperature (C), value = -0.619395802651778\n",
      "variable = 24h Outdoor Drybulb Temperature (C), value = 0.7872392332663871\n",
      "variable = 6h Outdoor Relative Humidity (%), value = -0.4348046178557025\n",
      "variable = 12h Outdoor Relative Humidity (%), value = 0.5234763119967121\n",
      "variable = 24h Outdoor Relative Humidity (%), value = -0.615583793417707\n",
      "variable = 6h Diffuse Solar Radiation (W/m2), value = -0.1278818228038807\n",
      "variable = 12h Diffuse Solar Radiation (W/m2), value = -0.6589480791417842\n",
      "variable = 24h Diffuse Solar Radiation (W/m2), value = 0.7682379463330768\n",
      "variable = 6h Direct Solar Radiation (W/m2), value = -0.03302163626084918\n",
      "variable = 12h Direct Solar Radiation (W/m2), value = -0.6949355324930939\n",
      "variable = 24h Direct Solar Radiation (W/m2), value = 0.8024866930106844\n",
      "variable = kg_CO2/kWh, value = 0.3161394289472377\n",
      "variable = Avg solar generation, value = 1.0\n"
     ]
    },
    {
     "data": {
      "text/plain": "['Hour_1',\n 'Day Type_1',\n 'Indoor Temperature (C)_1',\n 'Average Unmet Cooling Setpoint Difference (C)_1',\n 'Indoor Relative Humidity (%)_1',\n 'Equipment Electric Power (kWh)_1',\n 'DHW Heating (kWh)_1',\n 'Cooling Load (kWh)_1',\n 'Occupant Count (people)_1',\n 'Temperature Set Point (C)_1',\n 'Hour_2',\n 'Day Type_2',\n 'Indoor Temperature (C)_2',\n 'Average Unmet Cooling Setpoint Difference (C)_2',\n 'Indoor Relative Humidity (%)_2',\n 'Equipment Electric Power (kWh)_2',\n 'DHW Heating (kWh)_2',\n 'Cooling Load (kWh)_2',\n 'Occupant Count (people)_2',\n 'Temperature Set Point (C)_2',\n 'Hour_3',\n 'Day Type_3',\n 'Indoor Temperature (C)_3',\n 'Average Unmet Cooling Setpoint Difference (C)_3',\n 'Indoor Relative Humidity (%)_3',\n 'Equipment Electric Power (kWh)_3',\n 'DHW Heating (kWh)_3',\n 'Cooling Load (kWh)_3',\n 'Occupant Count (people)_3',\n 'Temperature Set Point (C)_3',\n 'Outdoor Drybulb Temperature (C)',\n 'Outdoor Relative Humidity (%)',\n 'Diffuse Solar Radiation (W/m2)',\n 'Direct Solar Radiation (W/m2)',\n '6h Outdoor Drybulb Temperature (C)',\n '12h Outdoor Drybulb Temperature (C)',\n '24h Outdoor Drybulb Temperature (C)',\n '6h Outdoor Relative Humidity (%)',\n '12h Outdoor Relative Humidity (%)',\n '24h Outdoor Relative Humidity (%)',\n '6h Diffuse Solar Radiation (W/m2)',\n '12h Diffuse Solar Radiation (W/m2)',\n '24h Diffuse Solar Radiation (W/m2)',\n '6h Direct Solar Radiation (W/m2)',\n '12h Direct Solar Radiation (W/m2)',\n '24h Direct Solar Radiation (W/m2)',\n 'kg_CO2/kWh']"
     },
     "execution_count": 4,
     "metadata": {},
     "output_type": "execute_result"
    }
   ],
   "source": [
    "threshold = 0\n",
    "column_to_predict = \"Avg solar generation\"\n",
    "\n",
    "train = train.drop(columns=[\"Solar Generation (W/kW)_1\", \"Solar Generation (W/kW)_2\", \"Solar Generation (W/kW)_3\"])\n",
    "test = test.drop(columns=[\"Solar Generation (W/kW)_1\", \"Solar Generation (W/kW)_2\", \"Solar Generation (W/kW)_3\"])\n",
    "\n",
    "independent_variables = []\n",
    "values = []\n",
    "\n",
    "\n",
    "for column in train:\n",
    "    if abs(train[column].corr(train[column_to_predict])) > threshold:\n",
    "        independent_variables.append(column)\n",
    "        values.append(train[column].corr(train[column_to_predict]))\n",
    "\n",
    "for variable in range(len(independent_variables)):\n",
    "    print(f\"variable = {independent_variables[variable]}, value = {values[variable]}\")\n",
    "\n",
    "\n",
    "independent_variables.remove(column_to_predict)\n",
    "independent_variables.remove(\"Index\")"
   ],
   "metadata": {
    "collapsed": false,
    "ExecuteTime": {
     "end_time": "2023-10-25T19:05:16.407062735Z",
     "start_time": "2023-10-25T19:05:16.386151437Z"
    }
   },
   "id": "3b44d39a80f50049"
  },
  {
   "cell_type": "code",
   "execution_count": 5,
   "outputs": [],
   "source": [
    "X = train[independent_variables]\n",
    "Y = train[column_to_predict]"
   ],
   "metadata": {
    "collapsed": false,
    "ExecuteTime": {
     "end_time": "2023-10-25T19:05:49.165210393Z",
     "start_time": "2023-10-25T19:05:49.124077480Z"
    }
   },
   "id": "a4988debdda6fae7"
  },
  {
   "cell_type": "code",
   "execution_count": 7,
   "outputs": [
    {
     "name": "stdout",
     "output_type": "stream",
     "text": [
      "start = 0, end = 76, score = 0.9896646530417417\n",
      "start = 76, end = 152, score = 0.984184853433016\n",
      "start = 152, end = 228, score = 0.9957306868818574\n",
      "start = 228, end = 304, score = 0.9868388053102913\n",
      "start = 304, end = 380, score = 0.9860333161330584\n",
      "start = 380, end = 456, score = 0.9965026116402799\n",
      "start = 456, end = 532, score = 0.9918211767407286\n",
      "start = 532, end = 608, score = 0.991613496993008\n",
      "start = 608, end = 684, score = 0.9948032491904992\n",
      "0.9907992054849424\n"
     ]
    }
   ],
   "source": [
    "# train = 684 columns\n",
    "\n",
    "# for whole numbers, use 6, 9, 12, 18 (these are 1.0 average score, probably overfit)\n",
    "# using e.g. 72 seems much more reasonable\n",
    "# but e.g. 12 seems reasonable since it can represent day/night\n",
    "# how to use this to predict the test?\n",
    "\n",
    "step_size = 76\n",
    "overall_score = 0\n",
    "regr = linear_model.LinearRegression()\n",
    "\n",
    "for step in range(int(len(train)/step_size)):\n",
    "    start = step*step_size\n",
    "    end = step*step_size + step_size\n",
    "    df_x = X.iloc[start:end]\n",
    "    df_y = Y.iloc[start:end]\n",
    "    regr.fit(df_x, df_y)\n",
    "    overall_score += regr.score(df_x, df_y)\n",
    "    print(f\"start = {start}, end = {end}, score = {regr.score(df_x, df_y)}\")\n",
    "\n",
    "overall_score /= len(train)/step_size\n",
    "print(overall_score)"
   ],
   "metadata": {
    "collapsed": false,
    "ExecuteTime": {
     "end_time": "2023-10-25T19:07:52.502206146Z",
     "start_time": "2023-10-25T19:07:52.460989563Z"
    }
   },
   "id": "ab5c3099c63088cf"
  },
  {
   "cell_type": "code",
   "execution_count": 11,
   "outputs": [
    {
     "name": "stdout",
     "output_type": "stream",
     "text": [
      "start = 0, end = 6, score = 1.0\n",
      "start = 6, end = 12, score = 0.9533085093572073\n",
      "start = 12, end = 18, score = 0.04169294752228392\n",
      "start = 18, end = 24, score = 0.5420014175504109\n",
      "start = 24, end = 30, score = 1.0\n",
      "start = 30, end = 36, score = 0.8927376064387565\n",
      "start = 36, end = 42, score = 0.08116003221252366\n",
      "start = 42, end = 48, score = 0.6671518918725777\n",
      "start = 48, end = 54, score = 1.0\n",
      "start = 54, end = 60, score = 0.9134047082775762\n",
      "start = 60, end = 66, score = 0.00023322840332429262\n",
      "start = 66, end = 72, score = 0.3162474721367565\n",
      "start = 72, end = 78, score = 1.0\n",
      "start = 78, end = 84, score = 0.8333317503479188\n",
      "start = 84, end = 90, score = 0.3302556301349705\n",
      "start = 90, end = 96, score = 0.7239866704728906\n",
      "start = 96, end = 102, score = 1.0\n",
      "start = 102, end = 108, score = 0.9284689832743309\n",
      "start = 108, end = 114, score = 0.007601287110612032\n",
      "start = 114, end = 120, score = 0.6900627451550796\n",
      "start = 120, end = 126, score = 1.0\n",
      "start = 126, end = 132, score = 0.9222691230267472\n",
      "start = 132, end = 138, score = 0.2426268161331746\n",
      "start = 138, end = 144, score = 0.8768758783347899\n",
      "start = 144, end = 150, score = 1.0\n",
      "start = 150, end = 156, score = 0.8771371596336998\n",
      "start = 156, end = 162, score = 0.5009548645264335\n",
      "start = 162, end = 168, score = 0.7404020159243168\n",
      "start = 168, end = 174, score = 1.0\n",
      "start = 174, end = 180, score = 0.7690794810681674\n",
      "start = 180, end = 186, score = 0.3771383272896983\n",
      "start = 186, end = 192, score = 0.5566795162462422\n",
      "start = 192, end = 198, score = 1.0\n",
      "start = 198, end = 204, score = 0.9158243253658064\n",
      "start = 204, end = 210, score = 0.002129869167364573\n",
      "start = 210, end = 216, score = 0.447943400076354\n",
      "start = 216, end = 222, score = 1.0\n",
      "start = 222, end = 228, score = 0.7489102017967337\n",
      "start = 228, end = 234, score = 0.12329628100546697\n",
      "start = 234, end = 240, score = 0.5895526942298763\n",
      "start = 240, end = 246, score = 1.0\n",
      "start = 246, end = 252, score = 0.8914545796387446\n",
      "start = 252, end = 258, score = 0.001329479492142016\n",
      "start = 258, end = 264, score = 0.8282115365710692\n",
      "start = 264, end = 270, score = 1.0\n",
      "start = 270, end = 276, score = 0.8660084499265854\n",
      "start = 276, end = 282, score = 0.024638334611023605\n",
      "start = 282, end = 288, score = 0.5532351391807455\n",
      "start = 288, end = 294, score = 1.0\n",
      "start = 294, end = 300, score = 0.9296664711792368\n",
      "start = 300, end = 306, score = 0.3650852459293583\n",
      "start = 306, end = 312, score = 0.44933365732461605\n",
      "start = 312, end = 318, score = 1.0\n",
      "start = 318, end = 324, score = 0.8470421199802317\n",
      "start = 324, end = 330, score = 0.6396232606087537\n",
      "start = 330, end = 336, score = 0.4250017368672291\n",
      "start = 336, end = 342, score = 1.0\n",
      "start = 342, end = 348, score = 0.8667328071664101\n",
      "start = 348, end = 354, score = 0.05233498149589233\n",
      "start = 354, end = 360, score = 0.8463068598231022\n",
      "start = 360, end = 366, score = 1.0\n",
      "start = 366, end = 372, score = 0.9225688063291833\n",
      "start = 372, end = 378, score = 0.7206460944831393\n",
      "start = 378, end = 384, score = 0.12854407715067107\n",
      "start = 384, end = 390, score = 1.0\n",
      "start = 390, end = 396, score = 0.9623510430200325\n",
      "start = 396, end = 402, score = 0.6569419198918609\n",
      "start = 402, end = 408, score = 0.5975137162484999\n",
      "start = 408, end = 414, score = 1.0\n",
      "start = 414, end = 420, score = 0.8124622982342902\n",
      "start = 420, end = 426, score = 0.7790226807774782\n",
      "start = 426, end = 432, score = 0.5944159532230451\n",
      "start = 432, end = 438, score = 1.0\n",
      "start = 438, end = 444, score = 0.3990861169261616\n",
      "start = 444, end = 450, score = 0.0008446719926485935\n",
      "start = 450, end = 456, score = 0.3694573866161023\n",
      "start = 456, end = 462, score = 1.0\n",
      "start = 462, end = 468, score = 0.8870882752817986\n",
      "start = 468, end = 474, score = 0.28382078106892594\n",
      "start = 474, end = 480, score = 0.5931696322170413\n",
      "start = 480, end = 486, score = 1.0\n",
      "start = 486, end = 492, score = 0.8512062442225676\n",
      "start = 492, end = 498, score = 0.1114695847359144\n",
      "start = 498, end = 504, score = 0.4698929129784133\n",
      "start = 504, end = 510, score = 1.0\n",
      "start = 510, end = 516, score = 0.8471652137941361\n",
      "start = 516, end = 522, score = 0.47425294686139063\n",
      "start = 522, end = 528, score = 0.25694033446022013\n",
      "start = 528, end = 534, score = 1.0\n",
      "start = 534, end = 540, score = 0.839195501557095\n",
      "start = 540, end = 546, score = 0.8187652675290594\n",
      "start = 546, end = 552, score = 0.6851684537196217\n",
      "start = 552, end = 558, score = 1.0\n",
      "start = 558, end = 564, score = 0.6538729176665558\n",
      "start = 564, end = 570, score = 0.7195538008407951\n",
      "start = 570, end = 576, score = 0.45467928079448927\n",
      "start = 576, end = 582, score = 1.0\n",
      "start = 582, end = 588, score = 0.9781882225456698\n",
      "start = 588, end = 594, score = 0.0632189613964036\n",
      "start = 594, end = 600, score = 0.5664187810333143\n",
      "start = 600, end = 606, score = 1.0\n",
      "start = 606, end = 612, score = 0.9486802344958593\n",
      "start = 612, end = 618, score = 0.0751230457401515\n",
      "start = 618, end = 624, score = 0.5832540455655982\n",
      "start = 624, end = 630, score = 1.0\n",
      "start = 630, end = 636, score = 0.9154962128913825\n",
      "start = 636, end = 642, score = 0.0479761108459803\n",
      "start = 642, end = 648, score = 0.5033820165728409\n",
      "start = 648, end = 654, score = 1.0\n",
      "start = 654, end = 660, score = 0.8958949756831438\n",
      "start = 660, end = 666, score = 0.21293285252846395\n",
      "start = 666, end = 672, score = 0.47147257404787213\n",
      "start = 672, end = 678, score = 1.0\n",
      "start = 678, end = 684, score = 0.9643773175246779\n",
      "0.6782015855910503\n"
     ]
    }
   ],
   "source": [
    "column_to_predict = \"Avg solar generation\"\n",
    "independent_variables = [\"24h Outdoor Drybulb Temperature (C)\"]\n",
    "\n",
    "X = train[independent_variables]\n",
    "Y = train[column_to_predict]\n",
    "\n",
    "\n",
    "# something weird is going on with e.g. 6\n",
    "step_size = 6\n",
    "overall_score = 0\n",
    "regr = linear_model.LinearRegression()\n",
    "\n",
    "for step in range(int(len(train)/step_size)):\n",
    "    start = step*step_size\n",
    "    end = step*step_size + step_size\n",
    "    df_x = X.iloc[start:end]\n",
    "    df_y = Y.iloc[start:end]\n",
    "    regr.fit(df_x, df_y)\n",
    "    overall_score += regr.score(df_x, df_y)\n",
    "    print(f\"start = {start}, end = {end}, score = {regr.score(df_x, df_y)}\")\n",
    "\n",
    "overall_score /= len(train)/step_size\n",
    "print(overall_score)"
   ],
   "metadata": {
    "collapsed": false,
    "ExecuteTime": {
     "end_time": "2023-10-25T19:09:45.794105818Z",
     "start_time": "2023-10-25T19:09:45.629272089Z"
    }
   },
   "id": "98f378eac068e6b"
  },
  {
   "cell_type": "code",
   "execution_count": null,
   "outputs": [],
   "source": [],
   "metadata": {
    "collapsed": false
   },
   "id": "343be4a7cf8688af"
  }
 ],
 "metadata": {
  "kernelspec": {
   "display_name": "Python 3",
   "language": "python",
   "name": "python3"
  },
  "language_info": {
   "codemirror_mode": {
    "name": "ipython",
    "version": 2
   },
   "file_extension": ".py",
   "mimetype": "text/x-python",
   "name": "python",
   "nbconvert_exporter": "python",
   "pygments_lexer": "ipython2",
   "version": "2.7.6"
  }
 },
 "nbformat": 4,
 "nbformat_minor": 5
}
