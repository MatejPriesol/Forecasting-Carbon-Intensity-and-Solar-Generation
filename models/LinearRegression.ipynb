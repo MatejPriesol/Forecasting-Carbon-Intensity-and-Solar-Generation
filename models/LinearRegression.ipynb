{
 "cells": [
  {
   "cell_type": "code",
   "execution_count": 21,
   "id": "initial_id",
   "metadata": {
    "collapsed": true,
    "ExecuteTime": {
     "end_time": "2023-10-25T18:57:42.428758125Z",
     "start_time": "2023-10-25T18:57:42.395297713Z"
    }
   },
   "outputs": [],
   "source": [
    "import matplotlib.pyplot as plt\n",
    "import numpy as np\n",
    "import pandas as pd\n",
    "import seaborn as sns\n",
    "from sklearn.model_selection import train_test_split\n",
    "from sklearn import linear_model"
   ]
  },
  {
   "cell_type": "code",
   "execution_count": 22,
   "outputs": [],
   "source": [
    "train = pd.read_csv(\"../data/schemas/warm_up/TrainSet.csv\", sep=\",\")\n",
    "test = pd.read_csv(\"../data/schemas/warm_up/TestSet.csv\", sep=\",\")"
   ],
   "metadata": {
    "collapsed": false,
    "ExecuteTime": {
     "end_time": "2023-10-25T18:57:42.529599123Z",
     "start_time": "2023-10-25T18:57:42.399130883Z"
    }
   },
   "id": "284601924d111671"
  },
  {
   "cell_type": "markdown",
   "source": [
    "Using automatic feature selection with threshold to predict carbon intensity"
   ],
   "metadata": {
    "collapsed": false
   },
   "id": "8abefb4b13cfddcc"
  },
  {
   "cell_type": "code",
   "execution_count": 23,
   "outputs": [
    {
     "data": {
      "text/plain": "['Unnamed: 0',\n 'Index',\n 'Hour_1',\n 'Day Type_1',\n 'Indoor Temperature (C)_1',\n 'Average Unmet Cooling Setpoint Difference (C)_1',\n 'Indoor Relative Humidity (%)_1',\n 'Equipment Electric Power (kWh)_1',\n 'DHW Heating (kWh)_1',\n 'Cooling Load (kWh)_1',\n 'Solar Generation (W/kW)_1',\n 'Occupant Count (people)_1',\n 'Temperature Set Point (C)_1',\n 'Hour_2',\n 'Day Type_2',\n 'Indoor Temperature (C)_2',\n 'Average Unmet Cooling Setpoint Difference (C)_2',\n 'Indoor Relative Humidity (%)_2',\n 'Equipment Electric Power (kWh)_2',\n 'DHW Heating (kWh)_2',\n 'Cooling Load (kWh)_2',\n 'Solar Generation (W/kW)_2',\n 'Occupant Count (people)_2',\n 'Temperature Set Point (C)_2',\n 'Hour_3',\n 'Day Type_3',\n 'Indoor Temperature (C)_3',\n 'Average Unmet Cooling Setpoint Difference (C)_3',\n 'Indoor Relative Humidity (%)_3',\n 'Equipment Electric Power (kWh)_3',\n 'DHW Heating (kWh)_3',\n 'Cooling Load (kWh)_3',\n 'Solar Generation (W/kW)_3',\n 'Occupant Count (people)_3',\n 'Temperature Set Point (C)_3',\n 'Outdoor Drybulb Temperature (C)',\n 'Outdoor Relative Humidity (%)',\n 'Diffuse Solar Radiation (W/m2)',\n 'Direct Solar Radiation (W/m2)',\n '6h Outdoor Drybulb Temperature (C)',\n '12h Outdoor Drybulb Temperature (C)',\n '24h Outdoor Drybulb Temperature (C)',\n '6h Outdoor Relative Humidity (%)',\n '12h Outdoor Relative Humidity (%)',\n '24h Outdoor Relative Humidity (%)',\n '6h Diffuse Solar Radiation (W/m2)',\n '12h Diffuse Solar Radiation (W/m2)',\n '24h Diffuse Solar Radiation (W/m2)',\n '6h Direct Solar Radiation (W/m2)',\n '12h Direct Solar Radiation (W/m2)',\n '24h Direct Solar Radiation (W/m2)',\n 'Avg solar generation']"
     },
     "execution_count": 23,
     "metadata": {},
     "output_type": "execute_result"
    }
   ],
   "source": [
    "threshold = 0\n",
    "column_to_predict = \"kg_CO2/kWh\"\n",
    "\n",
    "independent_variables = []\n",
    "\n",
    "\n",
    "for column in train:\n",
    "    if abs(train[column].corr(train[column_to_predict])) > threshold:\n",
    "        independent_variables.append(column)\n",
    "\n",
    "independent_variables.remove(column_to_predict)\n",
    "independent_variables"
   ],
   "metadata": {
    "collapsed": false,
    "ExecuteTime": {
     "end_time": "2023-10-25T18:57:42.728260775Z",
     "start_time": "2023-10-25T18:57:42.451222795Z"
    }
   },
   "id": "eb6ac8029f6d170"
  },
  {
   "cell_type": "code",
   "execution_count": 24,
   "outputs": [],
   "source": [
    "X = train[independent_variables]\n",
    "Y = train[column_to_predict]"
   ],
   "metadata": {
    "collapsed": false,
    "ExecuteTime": {
     "end_time": "2023-10-25T18:57:42.728509477Z",
     "start_time": "2023-10-25T18:57:42.451565777Z"
    }
   },
   "id": "d9eb4601d75843c7"
  },
  {
   "cell_type": "code",
   "execution_count": 25,
   "outputs": [
    {
     "data": {
      "text/plain": "LinearRegression()",
      "text/html": "<style>#sk-container-id-2 {color: black;}#sk-container-id-2 pre{padding: 0;}#sk-container-id-2 div.sk-toggleable {background-color: white;}#sk-container-id-2 label.sk-toggleable__label {cursor: pointer;display: block;width: 100%;margin-bottom: 0;padding: 0.3em;box-sizing: border-box;text-align: center;}#sk-container-id-2 label.sk-toggleable__label-arrow:before {content: \"▸\";float: left;margin-right: 0.25em;color: #696969;}#sk-container-id-2 label.sk-toggleable__label-arrow:hover:before {color: black;}#sk-container-id-2 div.sk-estimator:hover label.sk-toggleable__label-arrow:before {color: black;}#sk-container-id-2 div.sk-toggleable__content {max-height: 0;max-width: 0;overflow: hidden;text-align: left;background-color: #f0f8ff;}#sk-container-id-2 div.sk-toggleable__content pre {margin: 0.2em;color: black;border-radius: 0.25em;background-color: #f0f8ff;}#sk-container-id-2 input.sk-toggleable__control:checked~div.sk-toggleable__content {max-height: 200px;max-width: 100%;overflow: auto;}#sk-container-id-2 input.sk-toggleable__control:checked~label.sk-toggleable__label-arrow:before {content: \"▾\";}#sk-container-id-2 div.sk-estimator input.sk-toggleable__control:checked~label.sk-toggleable__label {background-color: #d4ebff;}#sk-container-id-2 div.sk-label input.sk-toggleable__control:checked~label.sk-toggleable__label {background-color: #d4ebff;}#sk-container-id-2 input.sk-hidden--visually {border: 0;clip: rect(1px 1px 1px 1px);clip: rect(1px, 1px, 1px, 1px);height: 1px;margin: -1px;overflow: hidden;padding: 0;position: absolute;width: 1px;}#sk-container-id-2 div.sk-estimator {font-family: monospace;background-color: #f0f8ff;border: 1px dotted black;border-radius: 0.25em;box-sizing: border-box;margin-bottom: 0.5em;}#sk-container-id-2 div.sk-estimator:hover {background-color: #d4ebff;}#sk-container-id-2 div.sk-parallel-item::after {content: \"\";width: 100%;border-bottom: 1px solid gray;flex-grow: 1;}#sk-container-id-2 div.sk-label:hover label.sk-toggleable__label {background-color: #d4ebff;}#sk-container-id-2 div.sk-serial::before {content: \"\";position: absolute;border-left: 1px solid gray;box-sizing: border-box;top: 0;bottom: 0;left: 50%;z-index: 0;}#sk-container-id-2 div.sk-serial {display: flex;flex-direction: column;align-items: center;background-color: white;padding-right: 0.2em;padding-left: 0.2em;position: relative;}#sk-container-id-2 div.sk-item {position: relative;z-index: 1;}#sk-container-id-2 div.sk-parallel {display: flex;align-items: stretch;justify-content: center;background-color: white;position: relative;}#sk-container-id-2 div.sk-item::before, #sk-container-id-2 div.sk-parallel-item::before {content: \"\";position: absolute;border-left: 1px solid gray;box-sizing: border-box;top: 0;bottom: 0;left: 50%;z-index: -1;}#sk-container-id-2 div.sk-parallel-item {display: flex;flex-direction: column;z-index: 1;position: relative;background-color: white;}#sk-container-id-2 div.sk-parallel-item:first-child::after {align-self: flex-end;width: 50%;}#sk-container-id-2 div.sk-parallel-item:last-child::after {align-self: flex-start;width: 50%;}#sk-container-id-2 div.sk-parallel-item:only-child::after {width: 0;}#sk-container-id-2 div.sk-dashed-wrapped {border: 1px dashed gray;margin: 0 0.4em 0.5em 0.4em;box-sizing: border-box;padding-bottom: 0.4em;background-color: white;}#sk-container-id-2 div.sk-label label {font-family: monospace;font-weight: bold;display: inline-block;line-height: 1.2em;}#sk-container-id-2 div.sk-label-container {text-align: center;}#sk-container-id-2 div.sk-container {/* jupyter's `normalize.less` sets `[hidden] { display: none; }` but bootstrap.min.css set `[hidden] { display: none !important; }` so we also need the `!important` here to be able to override the default hidden behavior on the sphinx rendered scikit-learn.org. See: https://github.com/scikit-learn/scikit-learn/issues/21755 */display: inline-block !important;position: relative;}#sk-container-id-2 div.sk-text-repr-fallback {display: none;}</style><div id=\"sk-container-id-2\" class=\"sk-top-container\"><div class=\"sk-text-repr-fallback\"><pre>LinearRegression()</pre><b>In a Jupyter environment, please rerun this cell to show the HTML representation or trust the notebook. <br />On GitHub, the HTML representation is unable to render, please try loading this page with nbviewer.org.</b></div><div class=\"sk-container\" hidden><div class=\"sk-item\"><div class=\"sk-estimator sk-toggleable\"><input class=\"sk-toggleable__control sk-hidden--visually\" id=\"sk-estimator-id-2\" type=\"checkbox\" checked><label for=\"sk-estimator-id-2\" class=\"sk-toggleable__label sk-toggleable__label-arrow\">LinearRegression</label><div class=\"sk-toggleable__content\"><pre>LinearRegression()</pre></div></div></div></div></div>"
     },
     "execution_count": 25,
     "metadata": {},
     "output_type": "execute_result"
    }
   ],
   "source": [
    "regr = linear_model.LinearRegression()\n",
    "regr.fit(X, Y)"
   ],
   "metadata": {
    "collapsed": false,
    "ExecuteTime": {
     "end_time": "2023-10-25T18:57:42.729132362Z",
     "start_time": "2023-10-25T18:57:42.451732595Z"
    }
   },
   "id": "7f31f0ffec88ac0e"
  },
  {
   "cell_type": "code",
   "execution_count": 26,
   "outputs": [
    {
     "data": {
      "text/plain": "     kg_CO2/kWh  predicted\n0      0.297295   0.292678\n1      0.206405   0.330426\n2      0.146161   0.320186\n3      0.134990   0.255513\n4      0.167124   0.319180\n..          ...        ...\n679    0.242889   0.264667\n680    0.214475   0.362552\n681    0.193694   0.421455\n682    0.306812   0.481065\n683    0.404334   0.556194\n\n[684 rows x 2 columns]",
      "text/html": "<div>\n<style scoped>\n    .dataframe tbody tr th:only-of-type {\n        vertical-align: middle;\n    }\n\n    .dataframe tbody tr th {\n        vertical-align: top;\n    }\n\n    .dataframe thead th {\n        text-align: right;\n    }\n</style>\n<table border=\"1\" class=\"dataframe\">\n  <thead>\n    <tr style=\"text-align: right;\">\n      <th></th>\n      <th>kg_CO2/kWh</th>\n      <th>predicted</th>\n    </tr>\n  </thead>\n  <tbody>\n    <tr>\n      <th>0</th>\n      <td>0.297295</td>\n      <td>0.292678</td>\n    </tr>\n    <tr>\n      <th>1</th>\n      <td>0.206405</td>\n      <td>0.330426</td>\n    </tr>\n    <tr>\n      <th>2</th>\n      <td>0.146161</td>\n      <td>0.320186</td>\n    </tr>\n    <tr>\n      <th>3</th>\n      <td>0.134990</td>\n      <td>0.255513</td>\n    </tr>\n    <tr>\n      <th>4</th>\n      <td>0.167124</td>\n      <td>0.319180</td>\n    </tr>\n    <tr>\n      <th>...</th>\n      <td>...</td>\n      <td>...</td>\n    </tr>\n    <tr>\n      <th>679</th>\n      <td>0.242889</td>\n      <td>0.264667</td>\n    </tr>\n    <tr>\n      <th>680</th>\n      <td>0.214475</td>\n      <td>0.362552</td>\n    </tr>\n    <tr>\n      <th>681</th>\n      <td>0.193694</td>\n      <td>0.421455</td>\n    </tr>\n    <tr>\n      <th>682</th>\n      <td>0.306812</td>\n      <td>0.481065</td>\n    </tr>\n    <tr>\n      <th>683</th>\n      <td>0.404334</td>\n      <td>0.556194</td>\n    </tr>\n  </tbody>\n</table>\n<p>684 rows × 2 columns</p>\n</div>"
     },
     "execution_count": 26,
     "metadata": {},
     "output_type": "execute_result"
    }
   ],
   "source": [
    "y_pred = regr.predict(X)\n",
    "results = Y.copy()\n",
    "results = results.to_frame()\n",
    "results[\"predicted\"] = y_pred\n",
    "results"
   ],
   "metadata": {
    "collapsed": false,
    "ExecuteTime": {
     "end_time": "2023-10-25T18:57:42.729560276Z",
     "start_time": "2023-10-25T18:57:42.454859591Z"
    }
   },
   "id": "6974cdb7de20f0c1"
  },
  {
   "cell_type": "code",
   "execution_count": 27,
   "outputs": [
    {
     "data": {
      "text/plain": "0.6642533028003659"
     },
     "execution_count": 27,
     "metadata": {},
     "output_type": "execute_result"
    }
   ],
   "source": [
    "regr.score(X, Y)"
   ],
   "metadata": {
    "collapsed": false,
    "ExecuteTime": {
     "end_time": "2023-10-25T18:57:42.729805703Z",
     "start_time": "2023-10-25T18:57:42.465926457Z"
    }
   },
   "id": "4a57cbb3d2a71788"
  },
  {
   "cell_type": "code",
   "execution_count": 28,
   "outputs": [
    {
     "data": {
      "text/plain": "    kg_CO2/kWh  predicted\n0     0.471615   0.465308\n1     0.518917   0.593791\n2     0.554976   0.573076\n3     0.564855   0.596734\n4     0.555823   0.601599\n5     0.549391   0.576729\n6     0.544221   0.730759\n7     0.500163   0.554402\n8     0.491011   0.477341\n9     0.496357   0.497929\n10    0.481642   0.497369\n11    0.503693   0.511884\n12    0.517775   0.282300\n13    0.563846   0.275297\n14    0.569727   0.270726\n15    0.582340   0.247300\n16    0.557425   0.246704\n17    0.576379   0.237653\n18    0.548859   0.390769\n19    0.503307   0.490929\n20    0.425264   0.507202\n21    0.263146   0.608182\n22    0.272375   0.532376\n23    0.366386   0.572367\n24    0.432384   0.516956\n25    0.506673   0.480883\n26    0.579861   0.538608\n27    0.601116   0.537311\n28    0.605275   0.509629\n29    0.602406   0.484060\n30    0.584241   0.508864\n31    0.587037   0.499048\n32    0.607686   0.508684\n33    0.571493   0.511109\n34    0.508506   0.515288\n35    0.414290   0.481426",
      "text/html": "<div>\n<style scoped>\n    .dataframe tbody tr th:only-of-type {\n        vertical-align: middle;\n    }\n\n    .dataframe tbody tr th {\n        vertical-align: top;\n    }\n\n    .dataframe thead th {\n        text-align: right;\n    }\n</style>\n<table border=\"1\" class=\"dataframe\">\n  <thead>\n    <tr style=\"text-align: right;\">\n      <th></th>\n      <th>kg_CO2/kWh</th>\n      <th>predicted</th>\n    </tr>\n  </thead>\n  <tbody>\n    <tr>\n      <th>0</th>\n      <td>0.471615</td>\n      <td>0.465308</td>\n    </tr>\n    <tr>\n      <th>1</th>\n      <td>0.518917</td>\n      <td>0.593791</td>\n    </tr>\n    <tr>\n      <th>2</th>\n      <td>0.554976</td>\n      <td>0.573076</td>\n    </tr>\n    <tr>\n      <th>3</th>\n      <td>0.564855</td>\n      <td>0.596734</td>\n    </tr>\n    <tr>\n      <th>4</th>\n      <td>0.555823</td>\n      <td>0.601599</td>\n    </tr>\n    <tr>\n      <th>5</th>\n      <td>0.549391</td>\n      <td>0.576729</td>\n    </tr>\n    <tr>\n      <th>6</th>\n      <td>0.544221</td>\n      <td>0.730759</td>\n    </tr>\n    <tr>\n      <th>7</th>\n      <td>0.500163</td>\n      <td>0.554402</td>\n    </tr>\n    <tr>\n      <th>8</th>\n      <td>0.491011</td>\n      <td>0.477341</td>\n    </tr>\n    <tr>\n      <th>9</th>\n      <td>0.496357</td>\n      <td>0.497929</td>\n    </tr>\n    <tr>\n      <th>10</th>\n      <td>0.481642</td>\n      <td>0.497369</td>\n    </tr>\n    <tr>\n      <th>11</th>\n      <td>0.503693</td>\n      <td>0.511884</td>\n    </tr>\n    <tr>\n      <th>12</th>\n      <td>0.517775</td>\n      <td>0.282300</td>\n    </tr>\n    <tr>\n      <th>13</th>\n      <td>0.563846</td>\n      <td>0.275297</td>\n    </tr>\n    <tr>\n      <th>14</th>\n      <td>0.569727</td>\n      <td>0.270726</td>\n    </tr>\n    <tr>\n      <th>15</th>\n      <td>0.582340</td>\n      <td>0.247300</td>\n    </tr>\n    <tr>\n      <th>16</th>\n      <td>0.557425</td>\n      <td>0.246704</td>\n    </tr>\n    <tr>\n      <th>17</th>\n      <td>0.576379</td>\n      <td>0.237653</td>\n    </tr>\n    <tr>\n      <th>18</th>\n      <td>0.548859</td>\n      <td>0.390769</td>\n    </tr>\n    <tr>\n      <th>19</th>\n      <td>0.503307</td>\n      <td>0.490929</td>\n    </tr>\n    <tr>\n      <th>20</th>\n      <td>0.425264</td>\n      <td>0.507202</td>\n    </tr>\n    <tr>\n      <th>21</th>\n      <td>0.263146</td>\n      <td>0.608182</td>\n    </tr>\n    <tr>\n      <th>22</th>\n      <td>0.272375</td>\n      <td>0.532376</td>\n    </tr>\n    <tr>\n      <th>23</th>\n      <td>0.366386</td>\n      <td>0.572367</td>\n    </tr>\n    <tr>\n      <th>24</th>\n      <td>0.432384</td>\n      <td>0.516956</td>\n    </tr>\n    <tr>\n      <th>25</th>\n      <td>0.506673</td>\n      <td>0.480883</td>\n    </tr>\n    <tr>\n      <th>26</th>\n      <td>0.579861</td>\n      <td>0.538608</td>\n    </tr>\n    <tr>\n      <th>27</th>\n      <td>0.601116</td>\n      <td>0.537311</td>\n    </tr>\n    <tr>\n      <th>28</th>\n      <td>0.605275</td>\n      <td>0.509629</td>\n    </tr>\n    <tr>\n      <th>29</th>\n      <td>0.602406</td>\n      <td>0.484060</td>\n    </tr>\n    <tr>\n      <th>30</th>\n      <td>0.584241</td>\n      <td>0.508864</td>\n    </tr>\n    <tr>\n      <th>31</th>\n      <td>0.587037</td>\n      <td>0.499048</td>\n    </tr>\n    <tr>\n      <th>32</th>\n      <td>0.607686</td>\n      <td>0.508684</td>\n    </tr>\n    <tr>\n      <th>33</th>\n      <td>0.571493</td>\n      <td>0.511109</td>\n    </tr>\n    <tr>\n      <th>34</th>\n      <td>0.508506</td>\n      <td>0.515288</td>\n    </tr>\n    <tr>\n      <th>35</th>\n      <td>0.414290</td>\n      <td>0.481426</td>\n    </tr>\n  </tbody>\n</table>\n</div>"
     },
     "execution_count": 28,
     "metadata": {},
     "output_type": "execute_result"
    }
   ],
   "source": [
    "X = train[independent_variables]\n",
    "Y = train[column_to_predict]\n",
    "\n",
    "X_test = test[independent_variables]\n",
    "Y_test = test[column_to_predict]\n",
    "\n",
    "regr = linear_model.LinearRegression()\n",
    "regr.fit(X, Y)\n",
    "\n",
    "y_pred = regr.predict(X_test)\n",
    "results = Y_test.copy()\n",
    "results = results.to_frame()\n",
    "results[\"predicted\"] = y_pred\n",
    "results"
   ],
   "metadata": {
    "collapsed": false,
    "ExecuteTime": {
     "end_time": "2023-10-25T18:57:42.730510453Z",
     "start_time": "2023-10-25T18:57:42.474089851Z"
    }
   },
   "id": "9df5772173730215"
  },
  {
   "cell_type": "code",
   "execution_count": 29,
   "outputs": [
    {
     "data": {
      "text/plain": "-2.7529983417625767"
     },
     "execution_count": 29,
     "metadata": {},
     "output_type": "execute_result"
    }
   ],
   "source": [
    "regr.score(X_test, Y_test)"
   ],
   "metadata": {
    "collapsed": false,
    "ExecuteTime": {
     "end_time": "2023-10-25T18:57:42.730954838Z",
     "start_time": "2023-10-25T18:57:42.500564959Z"
    }
   },
   "id": "8cd85cdccbceea9e"
  },
  {
   "cell_type": "markdown",
   "source": [
    "Predict Solar Generation"
   ],
   "metadata": {
    "collapsed": false
   },
   "id": "7b9a6beef0905095"
  },
  {
   "cell_type": "code",
   "execution_count": 30,
   "outputs": [
    {
     "name": "stdout",
     "output_type": "stream",
     "text": [
      "variable = Unnamed: 0, value = -0.015244564086752423\n",
      "variable = Index, value = -0.015244564086752423\n",
      "variable = Hour_1, value = 0.10500990241991089\n",
      "variable = Day Type_1, value = 0.046635004979262235\n",
      "variable = Indoor Temperature (C)_1, value = 0.3056475730222216\n",
      "variable = Average Unmet Cooling Setpoint Difference (C)_1, value = -0.13861161368485506\n",
      "variable = Indoor Relative Humidity (%)_1, value = -0.3328790618567653\n",
      "variable = Equipment Electric Power (kWh)_1, value = 0.17285109842711732\n",
      "variable = DHW Heating (kWh)_1, value = 0.05345933465086446\n",
      "variable = Cooling Load (kWh)_1, value = 0.1450521662856913\n",
      "variable = Occupant Count (people)_1, value = -0.6556543130833186\n",
      "variable = Temperature Set Point (C)_1, value = 0.3075412277138346\n",
      "variable = Hour_2, value = 0.10500990241991089\n",
      "variable = Day Type_2, value = 0.046635004979262235\n",
      "variable = Indoor Temperature (C)_2, value = 0.1119422703262405\n",
      "variable = Average Unmet Cooling Setpoint Difference (C)_2, value = 0.22532684177014695\n",
      "variable = Indoor Relative Humidity (%)_2, value = -0.011576794221053847\n",
      "variable = Equipment Electric Power (kWh)_2, value = 0.3199027342171042\n",
      "variable = DHW Heating (kWh)_2, value = 0.07127894369250239\n",
      "variable = Cooling Load (kWh)_2, value = 0.6386485107373673\n",
      "variable = Occupant Count (people)_2, value = -0.5465921106505564\n",
      "variable = Temperature Set Point (C)_2, value = 0.04800993840621795\n",
      "variable = Hour_3, value = 0.10500990241991089\n",
      "variable = Day Type_3, value = 0.046635004979262235\n",
      "variable = Indoor Temperature (C)_3, value = -0.1862129221584918\n",
      "variable = Average Unmet Cooling Setpoint Difference (C)_3, value = 0.1089290816529607\n",
      "variable = Indoor Relative Humidity (%)_3, value = 0.1877572946350015\n",
      "variable = Equipment Electric Power (kWh)_3, value = 0.19807813666093993\n",
      "variable = DHW Heating (kWh)_3, value = -0.01908334391171425\n",
      "variable = Cooling Load (kWh)_3, value = 0.4894361568916329\n",
      "variable = Occupant Count (people)_3, value = -0.6144556388342671\n",
      "variable = Temperature Set Point (C)_3, value = -0.18944855798711055\n",
      "variable = Outdoor Drybulb Temperature (C), value = 0.8267971914227791\n",
      "variable = Outdoor Relative Humidity (%), value = -0.7646392205490417\n",
      "variable = Diffuse Solar Radiation (W/m2), value = 0.7741214346147959\n",
      "variable = Direct Solar Radiation (W/m2), value = 0.889626055579267\n",
      "variable = 6h Outdoor Drybulb Temperature (C), value = 0.4070809834565989\n",
      "variable = 12h Outdoor Drybulb Temperature (C), value = -0.619395802651778\n",
      "variable = 24h Outdoor Drybulb Temperature (C), value = 0.7872392332663871\n",
      "variable = 6h Outdoor Relative Humidity (%), value = -0.4348046178557025\n",
      "variable = 12h Outdoor Relative Humidity (%), value = 0.5234763119967121\n",
      "variable = 24h Outdoor Relative Humidity (%), value = -0.615583793417707\n",
      "variable = 6h Diffuse Solar Radiation (W/m2), value = -0.1278818228038807\n",
      "variable = 12h Diffuse Solar Radiation (W/m2), value = -0.6589480791417842\n",
      "variable = 24h Diffuse Solar Radiation (W/m2), value = 0.7682379463330768\n",
      "variable = 6h Direct Solar Radiation (W/m2), value = -0.03302163626084918\n",
      "variable = 12h Direct Solar Radiation (W/m2), value = -0.6949355324930939\n",
      "variable = 24h Direct Solar Radiation (W/m2), value = 0.8024866930106844\n",
      "variable = kg_CO2/kWh, value = 0.3161394289472377\n",
      "variable = Avg solar generation, value = 1.0\n"
     ]
    }
   ],
   "source": [
    "train1 = train.copy()\n",
    "test1 = test.copy()\n",
    "\n",
    "train1 = train1.drop(columns=[\"Solar Generation (W/kW)_1\", \"Solar Generation (W/kW)_2\", \"Solar Generation (W/kW)_3\"])\n",
    "test1 = test1.drop(columns=[\"Solar Generation (W/kW)_1\", \"Solar Generation (W/kW)_2\", \"Solar Generation (W/kW)_3\"])\n",
    "\n",
    "\n",
    "threshold = 0\n",
    "column_to_predict = \"Avg solar generation\"\n",
    "\n",
    "independent_variables = []\n",
    "values = []\n",
    "\n",
    "\n",
    "for column in train1:\n",
    "    if abs(train1[column].corr(train1[column_to_predict])) > threshold:\n",
    "        independent_variables.append(column)\n",
    "        values.append(train1[column].corr(train1[column_to_predict]))\n",
    "\n",
    "for variable in range(len(independent_variables)):\n",
    "    print(f\"variable = {independent_variables[variable]}, value = {values[variable]}\")\n",
    "\n",
    "\n",
    "independent_variables.remove(column_to_predict)\n"
   ],
   "metadata": {
    "collapsed": false,
    "ExecuteTime": {
     "end_time": "2023-10-25T18:57:42.732267314Z",
     "start_time": "2023-10-25T18:57:42.510683110Z"
    }
   },
   "id": "f8a8d7f80590c533"
  },
  {
   "cell_type": "code",
   "execution_count": 31,
   "outputs": [
    {
     "data": {
      "text/plain": "     Avg solar generation  predicted\n0                0.000000   0.045256\n1                0.000000  -0.002548\n2                0.000000   0.007329\n3                0.000000   0.028808\n4                0.000000   0.027230\n..                    ...        ...\n679              0.138333   0.317547\n680              0.352913   0.432773\n681              0.527590   0.609295\n682              0.765604   0.756550\n683              0.826452   0.785339\n\n[684 rows x 2 columns]",
      "text/html": "<div>\n<style scoped>\n    .dataframe tbody tr th:only-of-type {\n        vertical-align: middle;\n    }\n\n    .dataframe tbody tr th {\n        vertical-align: top;\n    }\n\n    .dataframe thead th {\n        text-align: right;\n    }\n</style>\n<table border=\"1\" class=\"dataframe\">\n  <thead>\n    <tr style=\"text-align: right;\">\n      <th></th>\n      <th>Avg solar generation</th>\n      <th>predicted</th>\n    </tr>\n  </thead>\n  <tbody>\n    <tr>\n      <th>0</th>\n      <td>0.000000</td>\n      <td>0.045256</td>\n    </tr>\n    <tr>\n      <th>1</th>\n      <td>0.000000</td>\n      <td>-0.002548</td>\n    </tr>\n    <tr>\n      <th>2</th>\n      <td>0.000000</td>\n      <td>0.007329</td>\n    </tr>\n    <tr>\n      <th>3</th>\n      <td>0.000000</td>\n      <td>0.028808</td>\n    </tr>\n    <tr>\n      <th>4</th>\n      <td>0.000000</td>\n      <td>0.027230</td>\n    </tr>\n    <tr>\n      <th>...</th>\n      <td>...</td>\n      <td>...</td>\n    </tr>\n    <tr>\n      <th>679</th>\n      <td>0.138333</td>\n      <td>0.317547</td>\n    </tr>\n    <tr>\n      <th>680</th>\n      <td>0.352913</td>\n      <td>0.432773</td>\n    </tr>\n    <tr>\n      <th>681</th>\n      <td>0.527590</td>\n      <td>0.609295</td>\n    </tr>\n    <tr>\n      <th>682</th>\n      <td>0.765604</td>\n      <td>0.756550</td>\n    </tr>\n    <tr>\n      <th>683</th>\n      <td>0.826452</td>\n      <td>0.785339</td>\n    </tr>\n  </tbody>\n</table>\n<p>684 rows × 2 columns</p>\n</div>"
     },
     "execution_count": 31,
     "metadata": {},
     "output_type": "execute_result"
    }
   ],
   "source": [
    "X = train1[independent_variables]\n",
    "Y = train1[column_to_predict]\n",
    "\n",
    "regr = linear_model.LinearRegression()\n",
    "regr.fit(X, Y)\n",
    "\n",
    "y_pred = regr.predict(X)\n",
    "results = Y.copy()\n",
    "results = results.to_frame()\n",
    "results[\"predicted\"] = y_pred\n",
    "results"
   ],
   "metadata": {
    "collapsed": false,
    "ExecuteTime": {
     "end_time": "2023-10-25T18:57:42.732958759Z",
     "start_time": "2023-10-25T18:57:42.553947986Z"
    }
   },
   "id": "5be924637693c82d"
  },
  {
   "cell_type": "code",
   "execution_count": 32,
   "outputs": [
    {
     "data": {
      "text/plain": "0.9539744396315684"
     },
     "execution_count": 32,
     "metadata": {},
     "output_type": "execute_result"
    }
   ],
   "source": [
    "regr.score(X, Y)"
   ],
   "metadata": {
    "collapsed": false,
    "ExecuteTime": {
     "end_time": "2023-10-25T18:57:42.733355954Z",
     "start_time": "2023-10-25T18:57:42.600023397Z"
    }
   },
   "id": "7e36028a5c3c9927"
  },
  {
   "cell_type": "code",
   "execution_count": 33,
   "outputs": [
    {
     "data": {
      "text/plain": "    Avg solar generation  predicted\n0               0.942854   0.800844\n1               0.936498   0.884000\n2               0.849920   0.871367\n3               0.788518   0.806802\n4               0.594962   0.665138\n5               0.353275   0.434645\n6               0.117611   0.249037\n7               0.002852  -0.036852\n8               0.000000  -0.019870\n9               0.000000  -0.028068\n10              0.000000  -0.048654\n11              0.000000  -0.000694\n12              0.000000   0.049664\n13              0.000000   0.060808\n14              0.000000   0.114554\n15              0.000000   0.021998\n16              0.000000   0.036698\n17              0.000000  -0.043697\n18              0.042001   0.094566\n19              0.182794   0.284512\n20              0.421948   0.509280\n21              0.650849   0.629909\n22              0.820398   0.761449\n23              0.899643   0.777040\n24              0.955371   0.794385\n25              0.948050   0.793908\n26              0.841356   0.723242\n27              0.681897   0.585046\n28              0.508111   0.451419\n29              0.300607   0.258754\n30              0.111316   0.137770\n31              0.003143   0.011234\n32              0.000000  -0.011164\n33              0.000000  -0.010365\n34              0.000000  -0.049299\n35              0.000000  -0.065637",
      "text/html": "<div>\n<style scoped>\n    .dataframe tbody tr th:only-of-type {\n        vertical-align: middle;\n    }\n\n    .dataframe tbody tr th {\n        vertical-align: top;\n    }\n\n    .dataframe thead th {\n        text-align: right;\n    }\n</style>\n<table border=\"1\" class=\"dataframe\">\n  <thead>\n    <tr style=\"text-align: right;\">\n      <th></th>\n      <th>Avg solar generation</th>\n      <th>predicted</th>\n    </tr>\n  </thead>\n  <tbody>\n    <tr>\n      <th>0</th>\n      <td>0.942854</td>\n      <td>0.800844</td>\n    </tr>\n    <tr>\n      <th>1</th>\n      <td>0.936498</td>\n      <td>0.884000</td>\n    </tr>\n    <tr>\n      <th>2</th>\n      <td>0.849920</td>\n      <td>0.871367</td>\n    </tr>\n    <tr>\n      <th>3</th>\n      <td>0.788518</td>\n      <td>0.806802</td>\n    </tr>\n    <tr>\n      <th>4</th>\n      <td>0.594962</td>\n      <td>0.665138</td>\n    </tr>\n    <tr>\n      <th>5</th>\n      <td>0.353275</td>\n      <td>0.434645</td>\n    </tr>\n    <tr>\n      <th>6</th>\n      <td>0.117611</td>\n      <td>0.249037</td>\n    </tr>\n    <tr>\n      <th>7</th>\n      <td>0.002852</td>\n      <td>-0.036852</td>\n    </tr>\n    <tr>\n      <th>8</th>\n      <td>0.000000</td>\n      <td>-0.019870</td>\n    </tr>\n    <tr>\n      <th>9</th>\n      <td>0.000000</td>\n      <td>-0.028068</td>\n    </tr>\n    <tr>\n      <th>10</th>\n      <td>0.000000</td>\n      <td>-0.048654</td>\n    </tr>\n    <tr>\n      <th>11</th>\n      <td>0.000000</td>\n      <td>-0.000694</td>\n    </tr>\n    <tr>\n      <th>12</th>\n      <td>0.000000</td>\n      <td>0.049664</td>\n    </tr>\n    <tr>\n      <th>13</th>\n      <td>0.000000</td>\n      <td>0.060808</td>\n    </tr>\n    <tr>\n      <th>14</th>\n      <td>0.000000</td>\n      <td>0.114554</td>\n    </tr>\n    <tr>\n      <th>15</th>\n      <td>0.000000</td>\n      <td>0.021998</td>\n    </tr>\n    <tr>\n      <th>16</th>\n      <td>0.000000</td>\n      <td>0.036698</td>\n    </tr>\n    <tr>\n      <th>17</th>\n      <td>0.000000</td>\n      <td>-0.043697</td>\n    </tr>\n    <tr>\n      <th>18</th>\n      <td>0.042001</td>\n      <td>0.094566</td>\n    </tr>\n    <tr>\n      <th>19</th>\n      <td>0.182794</td>\n      <td>0.284512</td>\n    </tr>\n    <tr>\n      <th>20</th>\n      <td>0.421948</td>\n      <td>0.509280</td>\n    </tr>\n    <tr>\n      <th>21</th>\n      <td>0.650849</td>\n      <td>0.629909</td>\n    </tr>\n    <tr>\n      <th>22</th>\n      <td>0.820398</td>\n      <td>0.761449</td>\n    </tr>\n    <tr>\n      <th>23</th>\n      <td>0.899643</td>\n      <td>0.777040</td>\n    </tr>\n    <tr>\n      <th>24</th>\n      <td>0.955371</td>\n      <td>0.794385</td>\n    </tr>\n    <tr>\n      <th>25</th>\n      <td>0.948050</td>\n      <td>0.793908</td>\n    </tr>\n    <tr>\n      <th>26</th>\n      <td>0.841356</td>\n      <td>0.723242</td>\n    </tr>\n    <tr>\n      <th>27</th>\n      <td>0.681897</td>\n      <td>0.585046</td>\n    </tr>\n    <tr>\n      <th>28</th>\n      <td>0.508111</td>\n      <td>0.451419</td>\n    </tr>\n    <tr>\n      <th>29</th>\n      <td>0.300607</td>\n      <td>0.258754</td>\n    </tr>\n    <tr>\n      <th>30</th>\n      <td>0.111316</td>\n      <td>0.137770</td>\n    </tr>\n    <tr>\n      <th>31</th>\n      <td>0.003143</td>\n      <td>0.011234</td>\n    </tr>\n    <tr>\n      <th>32</th>\n      <td>0.000000</td>\n      <td>-0.011164</td>\n    </tr>\n    <tr>\n      <th>33</th>\n      <td>0.000000</td>\n      <td>-0.010365</td>\n    </tr>\n    <tr>\n      <th>34</th>\n      <td>0.000000</td>\n      <td>-0.049299</td>\n    </tr>\n    <tr>\n      <th>35</th>\n      <td>0.000000</td>\n      <td>-0.065637</td>\n    </tr>\n  </tbody>\n</table>\n</div>"
     },
     "execution_count": 33,
     "metadata": {},
     "output_type": "execute_result"
    }
   ],
   "source": [
    "X = train1[independent_variables]\n",
    "Y = train1[column_to_predict]\n",
    "\n",
    "X_test = test1[independent_variables]\n",
    "Y_test = test1[column_to_predict]\n",
    "\n",
    "regr = linear_model.LinearRegression()\n",
    "regr.fit(X, Y)\n",
    "\n",
    "y_pred = regr.predict(X_test)\n",
    "results = Y_test.copy()\n",
    "results = results.to_frame()\n",
    "results[\"predicted\"] = y_pred\n",
    "results"
   ],
   "metadata": {
    "collapsed": false,
    "ExecuteTime": {
     "end_time": "2023-10-25T18:57:42.733966124Z",
     "start_time": "2023-10-25T18:57:42.618540611Z"
    }
   },
   "id": "97babcebef3f82e1"
  },
  {
   "cell_type": "code",
   "execution_count": 34,
   "outputs": [
    {
     "data": {
      "text/plain": "0.959576079472485"
     },
     "execution_count": 34,
     "metadata": {},
     "output_type": "execute_result"
    }
   ],
   "source": [
    "regr.score(X_test, Y_test)"
   ],
   "metadata": {
    "collapsed": false,
    "ExecuteTime": {
     "end_time": "2023-10-25T18:57:42.740969923Z",
     "start_time": "2023-10-25T18:57:42.655703563Z"
    }
   },
   "id": "d1a82a88df47b378"
  },
  {
   "cell_type": "markdown",
   "source": [
    "More intuitive choice for features for carbon intensity\n",
    "check all that have more than 0.2 and choose manually"
   ],
   "metadata": {
    "collapsed": false
   },
   "id": "546e4ada71906f0"
  },
  {
   "cell_type": "code",
   "execution_count": 35,
   "outputs": [
    {
     "name": "stdout",
     "output_type": "stream",
     "text": [
      "column = Hour_1, corr = 0.4725739111545835\n",
      "column = Day Type_1, corr = 0.32824556097941815\n",
      "column = Indoor Temperature (C)_1, corr = 0.33190116954720184\n",
      "column = Indoor Relative Humidity (%)_1, corr = 0.2431589905634283\n",
      "column = Solar Generation (W/kW)_1, corr = 0.3161394289472377\n",
      "column = Occupant Count (people)_1, corr = 0.3855856726104952\n",
      "column = Temperature Set Point (C)_1, corr = 0.3305287434724822\n",
      "column = Hour_2, corr = 0.4725739111545835\n",
      "column = Day Type_2, corr = 0.32824556097941815\n",
      "column = Average Unmet Cooling Setpoint Difference (C)_2, corr = 0.20508746119059384\n",
      "column = Cooling Load (kWh)_2, corr = 0.3185567320650478\n",
      "column = Solar Generation (W/kW)_2, corr = 0.3161394289472377\n",
      "column = Occupant Count (people)_2, corr = 0.32286788210095174\n",
      "column = Hour_3, corr = 0.4725739111545835\n",
      "column = Day Type_3, corr = 0.32824556097941815\n",
      "column = Indoor Temperature (C)_3, corr = 0.22234199213561143\n",
      "column = Indoor Relative Humidity (%)_3, corr = 0.2995061223600635\n",
      "column = Cooling Load (kWh)_3, corr = 0.35228874075075095\n",
      "column = Solar Generation (W/kW)_3, corr = 0.3161394289472377\n",
      "column = Occupant Count (people)_3, corr = 0.45667952738788054\n",
      "column = Temperature Set Point (C)_3, corr = 0.22373972070957293\n",
      "column = Outdoor Drybulb Temperature (C), corr = 0.3913925760694168\n",
      "column = Outdoor Relative Humidity (%), corr = 0.36099192693526044\n",
      "column = Diffuse Solar Radiation (W/m2), corr = 0.3961094727118893\n",
      "column = Direct Solar Radiation (W/m2), corr = 0.20706766211095548\n",
      "column = 6h Outdoor Drybulb Temperature (C), corr = 0.2836812097634688\n",
      "column = 12h Outdoor Drybulb Temperature (C), corr = 0.6323695656648245\n",
      "column = 24h Outdoor Drybulb Temperature (C), corr = 0.4288548433025126\n",
      "column = 6h Outdoor Relative Humidity (%), corr = 0.2895419486375433\n",
      "column = 12h Outdoor Relative Humidity (%), corr = 0.5554942632399923\n",
      "column = 24h Outdoor Relative Humidity (%), corr = 0.34930612609019096\n",
      "column = 6h Diffuse Solar Radiation (W/m2), corr = 0.27129293768440654\n",
      "column = 12h Diffuse Solar Radiation (W/m2), corr = 0.23619689791328902\n",
      "column = 24h Diffuse Solar Radiation (W/m2), corr = 0.2956227871387787\n",
      "column = 6h Direct Solar Radiation (W/m2), corr = 0.5595605589170167\n",
      "column = 12h Direct Solar Radiation (W/m2), corr = 0.418285182613021\n",
      "column = 24h Direct Solar Radiation (W/m2), corr = 0.30919029235959367\n",
      "column = Avg solar generation, corr = 1.0\n"
     ]
    }
   ],
   "source": [
    "threshold = 0.2\n",
    "column_to_predict = \"kg_CO2/kWh\"\n",
    "\n",
    "independent_variables = []\n",
    "values = []\n",
    "\n",
    "\n",
    "for column in train:\n",
    "    if abs(train[column].corr(train[column_to_predict])) > threshold:\n",
    "        independent_variables.append(column)\n",
    "        values.append(abs(train[column].corr(train[column_to_predict])))\n",
    "\n",
    "independent_variables.remove(column_to_predict)\n",
    "\n",
    "for i in range(len(independent_variables)):\n",
    "    print(f\"column = {independent_variables[i]}, corr = {values[i]}\")"
   ],
   "metadata": {
    "collapsed": false,
    "ExecuteTime": {
     "end_time": "2023-10-25T18:57:42.741320540Z",
     "start_time": "2023-10-25T18:57:42.668123152Z"
    }
   },
   "id": "21d031a6c2e3701b"
  },
  {
   "cell_type": "code",
   "execution_count": 36,
   "outputs": [
    {
     "data": {
      "text/plain": "    kg_CO2/kWh  predicted\n0     0.471615   0.481098\n1     0.518917   0.589472\n2     0.554976   0.639690\n3     0.564855   0.640832\n4     0.555823   0.663350\n5     0.549391   0.579039\n6     0.544221   0.587976\n7     0.500163   0.578213\n8     0.491011   0.528992\n9     0.496357   0.454422\n10    0.481642   0.453316\n11    0.503693   0.443840\n12    0.517775   0.163224\n13    0.563846   0.229265\n14    0.569727   0.277450\n15    0.582340   0.224707\n16    0.557425   0.249360\n17    0.576379   0.216632\n18    0.548859   0.351349\n19    0.503307   0.396724\n20    0.425264   0.403109\n21    0.263146   0.524505\n22    0.272375   0.526180\n23    0.366386   0.516112\n24    0.432384   0.540376\n25    0.506673   0.517412\n26    0.579861   0.589908\n27    0.601116   0.571195\n28    0.605275   0.586191\n29    0.602406   0.533729\n30    0.584241   0.537858\n31    0.587037   0.570600\n32    0.607686   0.594586\n33    0.571493   0.557056\n34    0.508506   0.481164\n35    0.414290   0.424395",
      "text/html": "<div>\n<style scoped>\n    .dataframe tbody tr th:only-of-type {\n        vertical-align: middle;\n    }\n\n    .dataframe tbody tr th {\n        vertical-align: top;\n    }\n\n    .dataframe thead th {\n        text-align: right;\n    }\n</style>\n<table border=\"1\" class=\"dataframe\">\n  <thead>\n    <tr style=\"text-align: right;\">\n      <th></th>\n      <th>kg_CO2/kWh</th>\n      <th>predicted</th>\n    </tr>\n  </thead>\n  <tbody>\n    <tr>\n      <th>0</th>\n      <td>0.471615</td>\n      <td>0.481098</td>\n    </tr>\n    <tr>\n      <th>1</th>\n      <td>0.518917</td>\n      <td>0.589472</td>\n    </tr>\n    <tr>\n      <th>2</th>\n      <td>0.554976</td>\n      <td>0.639690</td>\n    </tr>\n    <tr>\n      <th>3</th>\n      <td>0.564855</td>\n      <td>0.640832</td>\n    </tr>\n    <tr>\n      <th>4</th>\n      <td>0.555823</td>\n      <td>0.663350</td>\n    </tr>\n    <tr>\n      <th>5</th>\n      <td>0.549391</td>\n      <td>0.579039</td>\n    </tr>\n    <tr>\n      <th>6</th>\n      <td>0.544221</td>\n      <td>0.587976</td>\n    </tr>\n    <tr>\n      <th>7</th>\n      <td>0.500163</td>\n      <td>0.578213</td>\n    </tr>\n    <tr>\n      <th>8</th>\n      <td>0.491011</td>\n      <td>0.528992</td>\n    </tr>\n    <tr>\n      <th>9</th>\n      <td>0.496357</td>\n      <td>0.454422</td>\n    </tr>\n    <tr>\n      <th>10</th>\n      <td>0.481642</td>\n      <td>0.453316</td>\n    </tr>\n    <tr>\n      <th>11</th>\n      <td>0.503693</td>\n      <td>0.443840</td>\n    </tr>\n    <tr>\n      <th>12</th>\n      <td>0.517775</td>\n      <td>0.163224</td>\n    </tr>\n    <tr>\n      <th>13</th>\n      <td>0.563846</td>\n      <td>0.229265</td>\n    </tr>\n    <tr>\n      <th>14</th>\n      <td>0.569727</td>\n      <td>0.277450</td>\n    </tr>\n    <tr>\n      <th>15</th>\n      <td>0.582340</td>\n      <td>0.224707</td>\n    </tr>\n    <tr>\n      <th>16</th>\n      <td>0.557425</td>\n      <td>0.249360</td>\n    </tr>\n    <tr>\n      <th>17</th>\n      <td>0.576379</td>\n      <td>0.216632</td>\n    </tr>\n    <tr>\n      <th>18</th>\n      <td>0.548859</td>\n      <td>0.351349</td>\n    </tr>\n    <tr>\n      <th>19</th>\n      <td>0.503307</td>\n      <td>0.396724</td>\n    </tr>\n    <tr>\n      <th>20</th>\n      <td>0.425264</td>\n      <td>0.403109</td>\n    </tr>\n    <tr>\n      <th>21</th>\n      <td>0.263146</td>\n      <td>0.524505</td>\n    </tr>\n    <tr>\n      <th>22</th>\n      <td>0.272375</td>\n      <td>0.526180</td>\n    </tr>\n    <tr>\n      <th>23</th>\n      <td>0.366386</td>\n      <td>0.516112</td>\n    </tr>\n    <tr>\n      <th>24</th>\n      <td>0.432384</td>\n      <td>0.540376</td>\n    </tr>\n    <tr>\n      <th>25</th>\n      <td>0.506673</td>\n      <td>0.517412</td>\n    </tr>\n    <tr>\n      <th>26</th>\n      <td>0.579861</td>\n      <td>0.589908</td>\n    </tr>\n    <tr>\n      <th>27</th>\n      <td>0.601116</td>\n      <td>0.571195</td>\n    </tr>\n    <tr>\n      <th>28</th>\n      <td>0.605275</td>\n      <td>0.586191</td>\n    </tr>\n    <tr>\n      <th>29</th>\n      <td>0.602406</td>\n      <td>0.533729</td>\n    </tr>\n    <tr>\n      <th>30</th>\n      <td>0.584241</td>\n      <td>0.537858</td>\n    </tr>\n    <tr>\n      <th>31</th>\n      <td>0.587037</td>\n      <td>0.570600</td>\n    </tr>\n    <tr>\n      <th>32</th>\n      <td>0.607686</td>\n      <td>0.594586</td>\n    </tr>\n    <tr>\n      <th>33</th>\n      <td>0.571493</td>\n      <td>0.557056</td>\n    </tr>\n    <tr>\n      <th>34</th>\n      <td>0.508506</td>\n      <td>0.481164</td>\n    </tr>\n    <tr>\n      <th>35</th>\n      <td>0.414290</td>\n      <td>0.424395</td>\n    </tr>\n  </tbody>\n</table>\n</div>"
     },
     "execution_count": 36,
     "metadata": {},
     "output_type": "execute_result"
    }
   ],
   "source": [
    "# What about day type and hour between the buildings?\n",
    "# they have the same values, but because they are highly correlated, the more of them the better\n",
    "\n",
    "columns_to_use = [\"Hour_1\", \"Day Type_1\", \"Hour_2\", \"Day Type_2\", \"Hour_3\", \"Day Type_3\",\n",
    "                  \"Indoor Temperature (C)_1\", \"Indoor Temperature (C)_2\", \"Indoor Temperature (C)_3\",\n",
    "                  \"Solar Generation (W/kW)_1\", \"Solar Generation (W/kW)_2\", \"Solar Generation (W/kW)_3\",\n",
    "                  \"Occupant Count (people)_1\", \"Occupant Count (people)_2\", \"Occupant Count (people)_3\",\n",
    "                  \"Cooling Load (kWh)_1\", \"Cooling Load (kWh)_2\", \"Cooling Load (kWh)_3\",\n",
    "                  \"Outdoor Drybulb Temperature (C)\", \"Diffuse Solar Radiation (W/m2)\",\n",
    "                  \"12h Outdoor Drybulb Temperature (C)\", \"12h Outdoor Relative Humidity (%)\",\n",
    "                  \"12h Diffuse Solar Radiation (W/m2)\", \"12h Direct Solar Radiation (W/m2)\"]\n",
    "\n",
    "X = train[columns_to_use]\n",
    "Y = train[column_to_predict]\n",
    "\n",
    "X_test = test[columns_to_use]\n",
    "Y_test = test[column_to_predict]\n",
    "\n",
    "regr = linear_model.LinearRegression()\n",
    "regr.fit(X, Y)\n",
    "\n",
    "y_pred = regr.predict(X_test)\n",
    "results = Y_test.copy()\n",
    "results = results.to_frame()\n",
    "results[\"predicted\"] = y_pred\n",
    "results"
   ],
   "metadata": {
    "collapsed": false,
    "ExecuteTime": {
     "end_time": "2023-10-25T18:57:42.742279444Z",
     "start_time": "2023-10-25T18:57:42.697359019Z"
    }
   },
   "id": "88595e00baedfcd9"
  },
  {
   "cell_type": "code",
   "execution_count": 37,
   "outputs": [
    {
     "data": {
      "text/plain": "-2.8339449763155313"
     },
     "execution_count": 37,
     "metadata": {},
     "output_type": "execute_result"
    }
   ],
   "source": [
    "regr.score(X_test, Y_test)"
   ],
   "metadata": {
    "collapsed": false,
    "ExecuteTime": {
     "end_time": "2023-10-25T18:57:42.743022637Z",
     "start_time": "2023-10-25T18:57:42.719067873Z"
    }
   },
   "id": "2d957676a2bc834a"
  },
  {
   "cell_type": "code",
   "execution_count": 38,
   "outputs": [],
   "source": [
    "columns_to_use = [\"Hour_1\", \"Day Type_1\", \"Hour_2\", \"Day Type_2\", \"Hour_3\", \"Day Type_3\",\n",
    "                  \"Indoor Temperature (C)_1\", \"Indoor Temperature (C)_2\", \"Indoor Temperature (C)_3\",\n",
    "                  \"Solar Generation (W/kW)_1\", \"Solar Generation (W/kW)_2\", \"Solar Generation (W/kW)_3\",\n",
    "                  \"Occupant Count (people)_1\", \"Occupant Count (people)_2\", \"Occupant Count (people)_3\",\n",
    "                  \"Cooling Load (kWh)_1\", \"Cooling Load (kWh)_2\", \"Cooling Load (kWh)_3\",\n",
    "                  \"Outdoor Drybulb Temperature (C)\", \"Diffuse Solar Radiation (W/m2)\",\n",
    "                  \"12h Outdoor Drybulb Temperature (C)\", \"12h Outdoor Relative Humidity (%)\",\n",
    "                  \"12h Diffuse Solar Radiation (W/m2)\", \"12h Direct Solar Radiation (W/m2)\"]\n",
    "\n",
    "X = train[columns_to_use]\n",
    "Y = train[column_to_predict]"
   ],
   "metadata": {
    "collapsed": false,
    "ExecuteTime": {
     "end_time": "2023-10-25T18:57:42.858814597Z",
     "start_time": "2023-10-25T18:57:42.724379714Z"
    }
   },
   "id": "3740d23998888fc7"
  }
 ],
 "metadata": {
  "kernelspec": {
   "display_name": "Python 3",
   "language": "python",
   "name": "python3"
  },
  "language_info": {
   "codemirror_mode": {
    "name": "ipython",
    "version": 2
   },
   "file_extension": ".py",
   "mimetype": "text/x-python",
   "name": "python",
   "nbconvert_exporter": "python",
   "pygments_lexer": "ipython2",
   "version": "2.7.6"
  }
 },
 "nbformat": 4,
 "nbformat_minor": 5
}
