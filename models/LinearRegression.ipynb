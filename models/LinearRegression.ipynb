{
 "cells": [
  {
   "cell_type": "code",
   "execution_count": 1,
   "id": "initial_id",
   "metadata": {
    "collapsed": true,
    "ExecuteTime": {
     "end_time": "2023-10-23T19:12:23.508607554Z",
     "start_time": "2023-10-23T19:12:23.403568391Z"
    }
   },
   "outputs": [],
   "source": [
    "import matplotlib.pyplot as plt\n",
    "import numpy as np\n",
    "import pandas as pd\n",
    "import seaborn as sns\n",
    "from sklearn.model_selection import train_test_split\n",
    "from sklearn import linear_model"
   ]
  },
  {
   "cell_type": "raw",
   "source": [
    "Merge all the data"
   ],
   "metadata": {
    "collapsed": false
   },
   "id": "e0b46bd337263b68"
  },
  {
   "cell_type": "code",
   "execution_count": 2,
   "outputs": [],
   "source": [
    "building1 = pd.read_csv(\"../data/schemas/warm_up/Building_1.csv\", sep=\",\")\n",
    "building2 = pd.read_csv(\"../data/schemas/warm_up/Building_2.csv\", sep=\",\")\n",
    "building3 = pd.read_csv(\"../data/schemas/warm_up/Building_3.csv\", sep=\",\")\n",
    "weather = pd.read_csv(\"../data/schemas/warm_up/weather.csv\", sep=\",\")\n",
    "carbon_intensity = pd.read_csv(\"../data/schemas/warm_up/carbon_intensity.csv\", sep=\",\")"
   ],
   "metadata": {
    "collapsed": false,
    "ExecuteTime": {
     "end_time": "2023-10-23T19:12:23.527657313Z",
     "start_time": "2023-10-23T19:12:23.509611234Z"
    }
   },
   "id": "284601924d111671"
  },
  {
   "cell_type": "code",
   "execution_count": 3,
   "outputs": [],
   "source": [
    "building1 = building1.add_suffix(\"_1\")\n",
    "building2 = building2.add_suffix(\"_2\")\n",
    "building3 = building3.add_suffix(\"_3\")"
   ],
   "metadata": {
    "collapsed": false,
    "ExecuteTime": {
     "end_time": "2023-10-23T19:12:23.537959933Z",
     "start_time": "2023-10-23T19:12:23.529629026Z"
    }
   },
   "id": "6159d1a56c1b0990"
  },
  {
   "cell_type": "code",
   "execution_count": 4,
   "outputs": [
    {
     "data": {
      "text/plain": "   Month_1  Hour_1  Day Type_1  Daylight Savings Status_1  \\\n0        6       1           5                          0   \n1        6       2           5                          0   \n2        6       3           5                          0   \n3        6       4           5                          0   \n4        6       5           5                          0   \n\n   Indoor Temperature (C)_1  Average Unmet Cooling Setpoint Difference (C)_1  \\\n0                 23.098652                                        -0.123570   \n1                 22.234742                                         0.012520   \n2                 22.223061                                         0.000838   \n3                 22.222251                                         0.000029   \n4                 22.222236                                         0.000014   \n\n   Indoor Relative Humidity (%)_1  Equipment Electric Power (kWh)_1  \\\n0                       61.086187                          0.356839   \n1                       64.361378                          0.345078   \n2                       64.493415                          0.338769   \n3                       64.769702                          0.334856   \n4                       65.152120                          0.348607   \n\n   DHW Heating (kWh)_1  Cooling Load (kWh)_1  ...  \\\n0             0.055682              1.119216  ...   \n1             0.159338              1.469638  ...   \n2             0.057004              1.458372  ...   \n3             0.000000              1.337342  ...   \n4             0.000000              1.163453  ...   \n\n   6h Outdoor Relative Humidity (%)  12h Outdoor Relative Humidity (%)  \\\n0                         72.980273                          41.822361   \n1                         87.317655                          37.910023   \n2                         60.341453                          30.190199   \n3                         50.063925                          31.519739   \n4                         40.942579                          33.119543   \n\n   24h Outdoor Relative Humidity (%)  6h Diffuse Solar Radiation (W/m2)  \\\n0                          83.230997                          54.625927   \n1                          95.353948                          78.375479   \n2                          66.266409                         259.822134   \n3                          94.456370                         248.631525   \n4                         100.000000                         272.825159   \n\n   12h Diffuse Solar Radiation (W/m2)  24h Diffuse Solar Radiation (W/m2)  \\\n0                          116.842886                                 0.0   \n1                           89.220504                                 0.0   \n2                           82.855932                                 0.0   \n3                          105.130119                                 0.0   \n4                           75.627986                                 0.0   \n\n   6h Direct Solar Radiation (W/m2)  12h Direct Solar Radiation (W/m2)  \\\n0                        143.324335                        1020.756093   \n1                        300.361061                         825.097292   \n2                        196.691127                         987.909330   \n3                        465.483196                         854.331825   \n4                        569.203332                         941.243325   \n\n   24h Direct Solar Radiation (W/m2)  kg_CO2/kWh  \n0                                0.0    0.402488  \n1                                0.0    0.382625  \n2                                0.0    0.369458  \n3                                0.0    0.367017  \n4                                0.0    0.374040  \n\n[5 rows x 62 columns]",
      "text/html": "<div>\n<style scoped>\n    .dataframe tbody tr th:only-of-type {\n        vertical-align: middle;\n    }\n\n    .dataframe tbody tr th {\n        vertical-align: top;\n    }\n\n    .dataframe thead th {\n        text-align: right;\n    }\n</style>\n<table border=\"1\" class=\"dataframe\">\n  <thead>\n    <tr style=\"text-align: right;\">\n      <th></th>\n      <th>Month_1</th>\n      <th>Hour_1</th>\n      <th>Day Type_1</th>\n      <th>Daylight Savings Status_1</th>\n      <th>Indoor Temperature (C)_1</th>\n      <th>Average Unmet Cooling Setpoint Difference (C)_1</th>\n      <th>Indoor Relative Humidity (%)_1</th>\n      <th>Equipment Electric Power (kWh)_1</th>\n      <th>DHW Heating (kWh)_1</th>\n      <th>Cooling Load (kWh)_1</th>\n      <th>...</th>\n      <th>6h Outdoor Relative Humidity (%)</th>\n      <th>12h Outdoor Relative Humidity (%)</th>\n      <th>24h Outdoor Relative Humidity (%)</th>\n      <th>6h Diffuse Solar Radiation (W/m2)</th>\n      <th>12h Diffuse Solar Radiation (W/m2)</th>\n      <th>24h Diffuse Solar Radiation (W/m2)</th>\n      <th>6h Direct Solar Radiation (W/m2)</th>\n      <th>12h Direct Solar Radiation (W/m2)</th>\n      <th>24h Direct Solar Radiation (W/m2)</th>\n      <th>kg_CO2/kWh</th>\n    </tr>\n  </thead>\n  <tbody>\n    <tr>\n      <th>0</th>\n      <td>6</td>\n      <td>1</td>\n      <td>5</td>\n      <td>0</td>\n      <td>23.098652</td>\n      <td>-0.123570</td>\n      <td>61.086187</td>\n      <td>0.356839</td>\n      <td>0.055682</td>\n      <td>1.119216</td>\n      <td>...</td>\n      <td>72.980273</td>\n      <td>41.822361</td>\n      <td>83.230997</td>\n      <td>54.625927</td>\n      <td>116.842886</td>\n      <td>0.0</td>\n      <td>143.324335</td>\n      <td>1020.756093</td>\n      <td>0.0</td>\n      <td>0.402488</td>\n    </tr>\n    <tr>\n      <th>1</th>\n      <td>6</td>\n      <td>2</td>\n      <td>5</td>\n      <td>0</td>\n      <td>22.234742</td>\n      <td>0.012520</td>\n      <td>64.361378</td>\n      <td>0.345078</td>\n      <td>0.159338</td>\n      <td>1.469638</td>\n      <td>...</td>\n      <td>87.317655</td>\n      <td>37.910023</td>\n      <td>95.353948</td>\n      <td>78.375479</td>\n      <td>89.220504</td>\n      <td>0.0</td>\n      <td>300.361061</td>\n      <td>825.097292</td>\n      <td>0.0</td>\n      <td>0.382625</td>\n    </tr>\n    <tr>\n      <th>2</th>\n      <td>6</td>\n      <td>3</td>\n      <td>5</td>\n      <td>0</td>\n      <td>22.223061</td>\n      <td>0.000838</td>\n      <td>64.493415</td>\n      <td>0.338769</td>\n      <td>0.057004</td>\n      <td>1.458372</td>\n      <td>...</td>\n      <td>60.341453</td>\n      <td>30.190199</td>\n      <td>66.266409</td>\n      <td>259.822134</td>\n      <td>82.855932</td>\n      <td>0.0</td>\n      <td>196.691127</td>\n      <td>987.909330</td>\n      <td>0.0</td>\n      <td>0.369458</td>\n    </tr>\n    <tr>\n      <th>3</th>\n      <td>6</td>\n      <td>4</td>\n      <td>5</td>\n      <td>0</td>\n      <td>22.222251</td>\n      <td>0.000029</td>\n      <td>64.769702</td>\n      <td>0.334856</td>\n      <td>0.000000</td>\n      <td>1.337342</td>\n      <td>...</td>\n      <td>50.063925</td>\n      <td>31.519739</td>\n      <td>94.456370</td>\n      <td>248.631525</td>\n      <td>105.130119</td>\n      <td>0.0</td>\n      <td>465.483196</td>\n      <td>854.331825</td>\n      <td>0.0</td>\n      <td>0.367017</td>\n    </tr>\n    <tr>\n      <th>4</th>\n      <td>6</td>\n      <td>5</td>\n      <td>5</td>\n      <td>0</td>\n      <td>22.222236</td>\n      <td>0.000014</td>\n      <td>65.152120</td>\n      <td>0.348607</td>\n      <td>0.000000</td>\n      <td>1.163453</td>\n      <td>...</td>\n      <td>40.942579</td>\n      <td>33.119543</td>\n      <td>100.000000</td>\n      <td>272.825159</td>\n      <td>75.627986</td>\n      <td>0.0</td>\n      <td>569.203332</td>\n      <td>941.243325</td>\n      <td>0.0</td>\n      <td>0.374040</td>\n    </tr>\n  </tbody>\n</table>\n<p>5 rows × 62 columns</p>\n</div>"
     },
     "execution_count": 4,
     "metadata": {},
     "output_type": "execute_result"
    }
   ],
   "source": [
    "data = [building1, building2, building3, weather, carbon_intensity]\n",
    "merged = pd.concat(data, axis=1)\n",
    "merged.head()"
   ],
   "metadata": {
    "collapsed": false,
    "ExecuteTime": {
     "end_time": "2023-10-23T19:12:23.558543302Z",
     "start_time": "2023-10-23T19:12:23.534678087Z"
    }
   },
   "id": "a71d5f23434a809a"
  },
  {
   "cell_type": "code",
   "execution_count": 5,
   "outputs": [
    {
     "data": {
      "text/plain": "       Month_1      Hour_1  Day Type_1  Daylight Savings Status_1  \\\ncount    720.0  720.000000  720.000000                      720.0   \nmean       6.0   12.500000    4.100000                        0.0   \nstd        0.0    6.926999    1.973679                        0.0   \nmin        6.0    1.000000    1.000000                        0.0   \n25%        6.0    6.750000    2.000000                        0.0   \n50%        6.0   12.500000    4.000000                        0.0   \n75%        6.0   18.250000    6.000000                        0.0   \nmax        6.0   24.000000    7.000000                        0.0   \n\n       Indoor Temperature (C)_1  \\\ncount                720.000000   \nmean                  24.024244   \nstd                    1.538245   \nmin                   19.999914   \n25%                   22.332080   \n50%                   24.444309   \n75%                   24.444459   \nmax                   27.222233   \n\n       Average Unmet Cooling Setpoint Difference (C)_1  \\\ncount                                       720.000000   \nmean                                          0.003642   \nstd                                           0.042871   \nmin                                          -0.238674   \n25%                                          -0.000159   \n50%                                           0.000007   \n75%                                           0.000476   \nmax                                           0.353503   \n\n       Indoor Relative Humidity (%)_1  Equipment Electric Power (kWh)_1  \\\ncount                      720.000000                        720.000000   \nmean                        57.808784                          0.625618   \nstd                          4.707318                          0.810932   \nmin                         46.463528                          0.319633   \n25%                         54.488177                          0.355172   \n50%                         57.407697                          0.405048   \n75%                         61.325861                          0.528865   \nmax                         67.854749                          7.458969   \n\n       DHW Heating (kWh)_1  Cooling Load (kWh)_1  ...  \\\ncount           720.000000            720.000000  ...   \nmean              0.213675              3.333438  ...   \nstd               0.469465              1.827450  ...   \nmin               0.000000              0.000000  ...   \n25%               0.000000              2.076277  ...   \n50%               0.000000              3.043866  ...   \n75%               0.218549              4.262129  ...   \nmax               4.565351             10.608549  ...   \n\n       6h Outdoor Relative Humidity (%)  12h Outdoor Relative Humidity (%)  \\\ncount                        720.000000                         720.000000   \nmean                          63.424809                          62.786474   \nstd                           23.154273                          23.444021   \nmin                           19.430299                          18.265532   \n25%                           41.746715                          42.122502   \n50%                           63.427843                          63.155060   \n75%                           82.917889                          81.912389   \nmax                          100.000000                         100.000000   \n\n       24h Outdoor Relative Humidity (%)  6h Diffuse Solar Radiation (W/m2)  \\\ncount                         720.000000                         720.000000   \nmean                           61.793372                          90.000166   \nstd                            24.038353                         107.451266   \nmin                            16.665542                           0.000000   \n25%                            41.263384                           0.000000   \n50%                            59.349503                          59.419070   \n75%                            81.111493                         147.018653   \nmax                           100.000000                         461.251418   \n\n       12h Diffuse Solar Radiation (W/m2)  24h Diffuse Solar Radiation (W/m2)  \\\ncount                          720.000000                          720.000000   \nmean                            92.607278                           91.938938   \nstd                            113.491246                          115.477303   \nmin                              0.000000                            0.000000   \n25%                              0.000000                            0.000000   \n50%                             62.671503                           53.935234   \n75%                            154.836660                          149.505159   \nmax                            554.828726                          551.798130   \n\n       6h Direct Solar Radiation (W/m2)  12h Direct Solar Radiation (W/m2)  \\\ncount                        720.000000                         720.000000   \nmean                         269.654399                         270.472846   \nstd                          308.867793                         313.529048   \nmin                            0.000000                           0.000000   \n25%                            0.000000                           0.000000   \n50%                          113.453978                         100.850994   \n75%                          542.437341                         547.864391   \nmax                         1056.334784                        1129.740724   \n\n       24h Direct Solar Radiation (W/m2)  kg_CO2/kWh  \ncount                         720.000000  720.000000  \nmean                          272.939691    0.454334  \nstd                           320.500605    0.048759  \nmin                             0.000000    0.337515  \n25%                             0.000000    0.422080  \n50%                           104.554913    0.459258  \n75%                           519.350326    0.489864  \nmax                          1237.587486    0.556063  \n\n[8 rows x 62 columns]",
      "text/html": "<div>\n<style scoped>\n    .dataframe tbody tr th:only-of-type {\n        vertical-align: middle;\n    }\n\n    .dataframe tbody tr th {\n        vertical-align: top;\n    }\n\n    .dataframe thead th {\n        text-align: right;\n    }\n</style>\n<table border=\"1\" class=\"dataframe\">\n  <thead>\n    <tr style=\"text-align: right;\">\n      <th></th>\n      <th>Month_1</th>\n      <th>Hour_1</th>\n      <th>Day Type_1</th>\n      <th>Daylight Savings Status_1</th>\n      <th>Indoor Temperature (C)_1</th>\n      <th>Average Unmet Cooling Setpoint Difference (C)_1</th>\n      <th>Indoor Relative Humidity (%)_1</th>\n      <th>Equipment Electric Power (kWh)_1</th>\n      <th>DHW Heating (kWh)_1</th>\n      <th>Cooling Load (kWh)_1</th>\n      <th>...</th>\n      <th>6h Outdoor Relative Humidity (%)</th>\n      <th>12h Outdoor Relative Humidity (%)</th>\n      <th>24h Outdoor Relative Humidity (%)</th>\n      <th>6h Diffuse Solar Radiation (W/m2)</th>\n      <th>12h Diffuse Solar Radiation (W/m2)</th>\n      <th>24h Diffuse Solar Radiation (W/m2)</th>\n      <th>6h Direct Solar Radiation (W/m2)</th>\n      <th>12h Direct Solar Radiation (W/m2)</th>\n      <th>24h Direct Solar Radiation (W/m2)</th>\n      <th>kg_CO2/kWh</th>\n    </tr>\n  </thead>\n  <tbody>\n    <tr>\n      <th>count</th>\n      <td>720.0</td>\n      <td>720.000000</td>\n      <td>720.000000</td>\n      <td>720.0</td>\n      <td>720.000000</td>\n      <td>720.000000</td>\n      <td>720.000000</td>\n      <td>720.000000</td>\n      <td>720.000000</td>\n      <td>720.000000</td>\n      <td>...</td>\n      <td>720.000000</td>\n      <td>720.000000</td>\n      <td>720.000000</td>\n      <td>720.000000</td>\n      <td>720.000000</td>\n      <td>720.000000</td>\n      <td>720.000000</td>\n      <td>720.000000</td>\n      <td>720.000000</td>\n      <td>720.000000</td>\n    </tr>\n    <tr>\n      <th>mean</th>\n      <td>6.0</td>\n      <td>12.500000</td>\n      <td>4.100000</td>\n      <td>0.0</td>\n      <td>24.024244</td>\n      <td>0.003642</td>\n      <td>57.808784</td>\n      <td>0.625618</td>\n      <td>0.213675</td>\n      <td>3.333438</td>\n      <td>...</td>\n      <td>63.424809</td>\n      <td>62.786474</td>\n      <td>61.793372</td>\n      <td>90.000166</td>\n      <td>92.607278</td>\n      <td>91.938938</td>\n      <td>269.654399</td>\n      <td>270.472846</td>\n      <td>272.939691</td>\n      <td>0.454334</td>\n    </tr>\n    <tr>\n      <th>std</th>\n      <td>0.0</td>\n      <td>6.926999</td>\n      <td>1.973679</td>\n      <td>0.0</td>\n      <td>1.538245</td>\n      <td>0.042871</td>\n      <td>4.707318</td>\n      <td>0.810932</td>\n      <td>0.469465</td>\n      <td>1.827450</td>\n      <td>...</td>\n      <td>23.154273</td>\n      <td>23.444021</td>\n      <td>24.038353</td>\n      <td>107.451266</td>\n      <td>113.491246</td>\n      <td>115.477303</td>\n      <td>308.867793</td>\n      <td>313.529048</td>\n      <td>320.500605</td>\n      <td>0.048759</td>\n    </tr>\n    <tr>\n      <th>min</th>\n      <td>6.0</td>\n      <td>1.000000</td>\n      <td>1.000000</td>\n      <td>0.0</td>\n      <td>19.999914</td>\n      <td>-0.238674</td>\n      <td>46.463528</td>\n      <td>0.319633</td>\n      <td>0.000000</td>\n      <td>0.000000</td>\n      <td>...</td>\n      <td>19.430299</td>\n      <td>18.265532</td>\n      <td>16.665542</td>\n      <td>0.000000</td>\n      <td>0.000000</td>\n      <td>0.000000</td>\n      <td>0.000000</td>\n      <td>0.000000</td>\n      <td>0.000000</td>\n      <td>0.337515</td>\n    </tr>\n    <tr>\n      <th>25%</th>\n      <td>6.0</td>\n      <td>6.750000</td>\n      <td>2.000000</td>\n      <td>0.0</td>\n      <td>22.332080</td>\n      <td>-0.000159</td>\n      <td>54.488177</td>\n      <td>0.355172</td>\n      <td>0.000000</td>\n      <td>2.076277</td>\n      <td>...</td>\n      <td>41.746715</td>\n      <td>42.122502</td>\n      <td>41.263384</td>\n      <td>0.000000</td>\n      <td>0.000000</td>\n      <td>0.000000</td>\n      <td>0.000000</td>\n      <td>0.000000</td>\n      <td>0.000000</td>\n      <td>0.422080</td>\n    </tr>\n    <tr>\n      <th>50%</th>\n      <td>6.0</td>\n      <td>12.500000</td>\n      <td>4.000000</td>\n      <td>0.0</td>\n      <td>24.444309</td>\n      <td>0.000007</td>\n      <td>57.407697</td>\n      <td>0.405048</td>\n      <td>0.000000</td>\n      <td>3.043866</td>\n      <td>...</td>\n      <td>63.427843</td>\n      <td>63.155060</td>\n      <td>59.349503</td>\n      <td>59.419070</td>\n      <td>62.671503</td>\n      <td>53.935234</td>\n      <td>113.453978</td>\n      <td>100.850994</td>\n      <td>104.554913</td>\n      <td>0.459258</td>\n    </tr>\n    <tr>\n      <th>75%</th>\n      <td>6.0</td>\n      <td>18.250000</td>\n      <td>6.000000</td>\n      <td>0.0</td>\n      <td>24.444459</td>\n      <td>0.000476</td>\n      <td>61.325861</td>\n      <td>0.528865</td>\n      <td>0.218549</td>\n      <td>4.262129</td>\n      <td>...</td>\n      <td>82.917889</td>\n      <td>81.912389</td>\n      <td>81.111493</td>\n      <td>147.018653</td>\n      <td>154.836660</td>\n      <td>149.505159</td>\n      <td>542.437341</td>\n      <td>547.864391</td>\n      <td>519.350326</td>\n      <td>0.489864</td>\n    </tr>\n    <tr>\n      <th>max</th>\n      <td>6.0</td>\n      <td>24.000000</td>\n      <td>7.000000</td>\n      <td>0.0</td>\n      <td>27.222233</td>\n      <td>0.353503</td>\n      <td>67.854749</td>\n      <td>7.458969</td>\n      <td>4.565351</td>\n      <td>10.608549</td>\n      <td>...</td>\n      <td>100.000000</td>\n      <td>100.000000</td>\n      <td>100.000000</td>\n      <td>461.251418</td>\n      <td>554.828726</td>\n      <td>551.798130</td>\n      <td>1056.334784</td>\n      <td>1129.740724</td>\n      <td>1237.587486</td>\n      <td>0.556063</td>\n    </tr>\n  </tbody>\n</table>\n<p>8 rows × 62 columns</p>\n</div>"
     },
     "execution_count": 5,
     "metadata": {},
     "output_type": "execute_result"
    }
   ],
   "source": [
    "merged.describe()"
   ],
   "metadata": {
    "collapsed": false,
    "ExecuteTime": {
     "end_time": "2023-10-23T19:12:23.673752763Z",
     "start_time": "2023-10-23T19:12:23.553177899Z"
    }
   },
   "id": "2f9f332241751e79"
  },
  {
   "cell_type": "markdown",
   "source": [
    "Drop the columns with constant values"
   ],
   "metadata": {
    "collapsed": false
   },
   "id": "3dd58879c8a13546"
  },
  {
   "cell_type": "code",
   "execution_count": 6,
   "outputs": [],
   "source": [
    "merged_dropped = merged.drop(columns=[\"Month_1\", \"Month_2\", \"Month_3\",\n",
    "                                      \"Daylight Savings Status_1\", \"Daylight Savings Status_2\", \"Daylight Savings Status_3\",\n",
    "                                      \"Heating Load (kWh)_1\", \"Heating Load (kWh)_2\", \"Heating Load (kWh)_3\",\n",
    "                                      \"HVAC Mode (Off/Cooling/Heating)_1\", \"HVAC Mode (Off/Cooling/Heating)_2\", \"HVAC Mode (Off/Cooling/Heating)_3\"])\n",
    "merged_dropped.head()\n",
    "\n",
    "index = range(1, len(merged_dropped)+1)\n",
    "merged_dropped.insert(loc=0, column=\"Index\", value=index)"
   ],
   "metadata": {
    "collapsed": false,
    "ExecuteTime": {
     "end_time": "2023-10-23T19:12:23.680090366Z",
     "start_time": "2023-10-23T19:12:23.620890404Z"
    }
   },
   "id": "a9aae4a6809d2f4c"
  },
  {
   "cell_type": "code",
   "execution_count": 7,
   "outputs": [
    {
     "data": {
      "text/plain": "   Index  Hour_1  Day Type_1  Indoor Temperature (C)_1  \\\n0      1       1           5                 23.098652   \n1      2       2           5                 22.234742   \n2      3       3           5                 22.223061   \n3      4       4           5                 22.222251   \n4      5       5           5                 22.222236   \n\n   Average Unmet Cooling Setpoint Difference (C)_1  \\\n0                                        -0.123570   \n1                                         0.012520   \n2                                         0.000838   \n3                                         0.000029   \n4                                         0.000014   \n\n   Indoor Relative Humidity (%)_1  Equipment Electric Power (kWh)_1  \\\n0                       61.086187                          0.356839   \n1                       64.361378                          0.345078   \n2                       64.493415                          0.338769   \n3                       64.769702                          0.334856   \n4                       65.152120                          0.348607   \n\n   DHW Heating (kWh)_1  Cooling Load (kWh)_1  Solar Generation (W/kW)_1  ...  \\\n0             0.055682              1.119216                        0.0  ...   \n1             0.159338              1.469638                        0.0  ...   \n2             0.057004              1.458372                        0.0  ...   \n3             0.000000              1.337342                        0.0  ...   \n4             0.000000              1.163453                        0.0  ...   \n\n   12h Outdoor Relative Humidity (%)  24h Outdoor Relative Humidity (%)  \\\n0                          41.822361                          83.230997   \n1                          37.910023                          95.353948   \n2                          30.190199                          66.266409   \n3                          31.519739                          94.456370   \n4                          33.119543                         100.000000   \n\n   6h Diffuse Solar Radiation (W/m2)  12h Diffuse Solar Radiation (W/m2)  \\\n0                          54.625927                          116.842886   \n1                          78.375479                           89.220504   \n2                         259.822134                           82.855932   \n3                         248.631525                          105.130119   \n4                         272.825159                           75.627986   \n\n   24h Diffuse Solar Radiation (W/m2)  6h Direct Solar Radiation (W/m2)  \\\n0                                 0.0                        143.324335   \n1                                 0.0                        300.361061   \n2                                 0.0                        196.691127   \n3                                 0.0                        465.483196   \n4                                 0.0                        569.203332   \n\n   12h Direct Solar Radiation (W/m2)  24h Direct Solar Radiation (W/m2)  \\\n0                        1020.756093                                0.0   \n1                         825.097292                                0.0   \n2                         987.909330                                0.0   \n3                         854.331825                                0.0   \n4                         941.243325                                0.0   \n\n   kg_CO2/kWh  Avg solar generation  \n0    0.402488                   0.0  \n1    0.382625                   0.0  \n2    0.369458                   0.0  \n3    0.367017                   0.0  \n4    0.374040                   0.0  \n\n[5 rows x 52 columns]",
      "text/html": "<div>\n<style scoped>\n    .dataframe tbody tr th:only-of-type {\n        vertical-align: middle;\n    }\n\n    .dataframe tbody tr th {\n        vertical-align: top;\n    }\n\n    .dataframe thead th {\n        text-align: right;\n    }\n</style>\n<table border=\"1\" class=\"dataframe\">\n  <thead>\n    <tr style=\"text-align: right;\">\n      <th></th>\n      <th>Index</th>\n      <th>Hour_1</th>\n      <th>Day Type_1</th>\n      <th>Indoor Temperature (C)_1</th>\n      <th>Average Unmet Cooling Setpoint Difference (C)_1</th>\n      <th>Indoor Relative Humidity (%)_1</th>\n      <th>Equipment Electric Power (kWh)_1</th>\n      <th>DHW Heating (kWh)_1</th>\n      <th>Cooling Load (kWh)_1</th>\n      <th>Solar Generation (W/kW)_1</th>\n      <th>...</th>\n      <th>12h Outdoor Relative Humidity (%)</th>\n      <th>24h Outdoor Relative Humidity (%)</th>\n      <th>6h Diffuse Solar Radiation (W/m2)</th>\n      <th>12h Diffuse Solar Radiation (W/m2)</th>\n      <th>24h Diffuse Solar Radiation (W/m2)</th>\n      <th>6h Direct Solar Radiation (W/m2)</th>\n      <th>12h Direct Solar Radiation (W/m2)</th>\n      <th>24h Direct Solar Radiation (W/m2)</th>\n      <th>kg_CO2/kWh</th>\n      <th>Avg solar generation</th>\n    </tr>\n  </thead>\n  <tbody>\n    <tr>\n      <th>0</th>\n      <td>1</td>\n      <td>1</td>\n      <td>5</td>\n      <td>23.098652</td>\n      <td>-0.123570</td>\n      <td>61.086187</td>\n      <td>0.356839</td>\n      <td>0.055682</td>\n      <td>1.119216</td>\n      <td>0.0</td>\n      <td>...</td>\n      <td>41.822361</td>\n      <td>83.230997</td>\n      <td>54.625927</td>\n      <td>116.842886</td>\n      <td>0.0</td>\n      <td>143.324335</td>\n      <td>1020.756093</td>\n      <td>0.0</td>\n      <td>0.402488</td>\n      <td>0.0</td>\n    </tr>\n    <tr>\n      <th>1</th>\n      <td>2</td>\n      <td>2</td>\n      <td>5</td>\n      <td>22.234742</td>\n      <td>0.012520</td>\n      <td>64.361378</td>\n      <td>0.345078</td>\n      <td>0.159338</td>\n      <td>1.469638</td>\n      <td>0.0</td>\n      <td>...</td>\n      <td>37.910023</td>\n      <td>95.353948</td>\n      <td>78.375479</td>\n      <td>89.220504</td>\n      <td>0.0</td>\n      <td>300.361061</td>\n      <td>825.097292</td>\n      <td>0.0</td>\n      <td>0.382625</td>\n      <td>0.0</td>\n    </tr>\n    <tr>\n      <th>2</th>\n      <td>3</td>\n      <td>3</td>\n      <td>5</td>\n      <td>22.223061</td>\n      <td>0.000838</td>\n      <td>64.493415</td>\n      <td>0.338769</td>\n      <td>0.057004</td>\n      <td>1.458372</td>\n      <td>0.0</td>\n      <td>...</td>\n      <td>30.190199</td>\n      <td>66.266409</td>\n      <td>259.822134</td>\n      <td>82.855932</td>\n      <td>0.0</td>\n      <td>196.691127</td>\n      <td>987.909330</td>\n      <td>0.0</td>\n      <td>0.369458</td>\n      <td>0.0</td>\n    </tr>\n    <tr>\n      <th>3</th>\n      <td>4</td>\n      <td>4</td>\n      <td>5</td>\n      <td>22.222251</td>\n      <td>0.000029</td>\n      <td>64.769702</td>\n      <td>0.334856</td>\n      <td>0.000000</td>\n      <td>1.337342</td>\n      <td>0.0</td>\n      <td>...</td>\n      <td>31.519739</td>\n      <td>94.456370</td>\n      <td>248.631525</td>\n      <td>105.130119</td>\n      <td>0.0</td>\n      <td>465.483196</td>\n      <td>854.331825</td>\n      <td>0.0</td>\n      <td>0.367017</td>\n      <td>0.0</td>\n    </tr>\n    <tr>\n      <th>4</th>\n      <td>5</td>\n      <td>5</td>\n      <td>5</td>\n      <td>22.222236</td>\n      <td>0.000014</td>\n      <td>65.152120</td>\n      <td>0.348607</td>\n      <td>0.000000</td>\n      <td>1.163453</td>\n      <td>0.0</td>\n      <td>...</td>\n      <td>33.119543</td>\n      <td>100.000000</td>\n      <td>272.825159</td>\n      <td>75.627986</td>\n      <td>0.0</td>\n      <td>569.203332</td>\n      <td>941.243325</td>\n      <td>0.0</td>\n      <td>0.374040</td>\n      <td>0.0</td>\n    </tr>\n  </tbody>\n</table>\n<p>5 rows × 52 columns</p>\n</div>"
     },
     "execution_count": 7,
     "metadata": {},
     "output_type": "execute_result"
    }
   ],
   "source": [
    "merged_dropped[\"Avg solar generation\"] = merged_dropped[[\"Solar Generation (W/kW)_1\", \"Solar Generation (W/kW)_2\", \"Solar Generation (W/kW)_3\"]].mean(axis=1)\n",
    "merged_dropped.head()"
   ],
   "metadata": {
    "collapsed": false,
    "ExecuteTime": {
     "end_time": "2023-10-23T19:12:23.681873320Z",
     "start_time": "2023-10-23T19:12:23.661613387Z"
    }
   },
   "id": "a2f7536281c2bd31"
  },
  {
   "cell_type": "code",
   "execution_count": 22,
   "outputs": [
    {
     "data": {
      "text/plain": "            Index      Hour_1  Day Type_1  Indoor Temperature (C)_1  \\\ncount  720.000000  720.000000  720.000000                720.000000   \nmean   360.500000   12.500000    4.100000                 24.024244   \nstd    207.990384    6.926999    1.973679                  1.538245   \nmin      1.000000    1.000000    1.000000                 19.999914   \n25%    180.750000    6.750000    2.000000                 22.332080   \n50%    360.500000   12.500000    4.000000                 24.444309   \n75%    540.250000   18.250000    6.000000                 24.444459   \nmax    720.000000   24.000000    7.000000                 27.222233   \n\n       Average Unmet Cooling Setpoint Difference (C)_1  \\\ncount                                       720.000000   \nmean                                          0.003642   \nstd                                           0.042871   \nmin                                          -0.238674   \n25%                                          -0.000159   \n50%                                           0.000007   \n75%                                           0.000476   \nmax                                           0.353503   \n\n       Indoor Relative Humidity (%)_1  Equipment Electric Power (kWh)_1  \\\ncount                      720.000000                        720.000000   \nmean                        57.808784                          0.625618   \nstd                          4.707318                          0.810932   \nmin                         46.463528                          0.319633   \n25%                         54.488177                          0.355172   \n50%                         57.407697                          0.405048   \n75%                         61.325861                          0.528865   \nmax                         67.854749                          7.458969   \n\n       DHW Heating (kWh)_1  Cooling Load (kWh)_1  Solar Generation (W/kW)_1  \\\ncount           720.000000            720.000000                 720.000000   \nmean              0.213675              3.333438                 200.066115   \nstd               0.469465              1.827450                 243.372592   \nmin               0.000000              0.000000                   0.000000   \n25%               0.000000              2.076277                   0.000000   \n50%               0.000000              3.043866                  35.825707   \n75%               0.218549              4.262129                 422.030274   \nmax               4.565351             10.608549                 703.628269   \n\n       ...  12h Outdoor Relative Humidity (%)  \\\ncount  ...                         720.000000   \nmean   ...                          62.786474   \nstd    ...                          23.444021   \nmin    ...                          18.265532   \n25%    ...                          42.122502   \n50%    ...                          63.155060   \n75%    ...                          81.912389   \nmax    ...                         100.000000   \n\n       24h Outdoor Relative Humidity (%)  6h Diffuse Solar Radiation (W/m2)  \\\ncount                         720.000000                         720.000000   \nmean                           61.793372                          90.000166   \nstd                            24.038353                         107.451266   \nmin                            16.665542                           0.000000   \n25%                            41.263384                           0.000000   \n50%                            59.349503                          59.419070   \n75%                            81.111493                         147.018653   \nmax                           100.000000                         461.251418   \n\n       12h Diffuse Solar Radiation (W/m2)  24h Diffuse Solar Radiation (W/m2)  \\\ncount                          720.000000                          720.000000   \nmean                            92.607278                           91.938938   \nstd                            113.491246                          115.477303   \nmin                              0.000000                            0.000000   \n25%                              0.000000                            0.000000   \n50%                             62.671503                           53.935234   \n75%                            154.836660                          149.505159   \nmax                            554.828726                          551.798130   \n\n       6h Direct Solar Radiation (W/m2)  12h Direct Solar Radiation (W/m2)  \\\ncount                        720.000000                         720.000000   \nmean                         269.654399                         270.472846   \nstd                          308.867793                         313.529048   \nmin                            0.000000                           0.000000   \n25%                            0.000000                           0.000000   \n50%                          113.453978                         100.850994   \n75%                          542.437341                         547.864391   \nmax                         1056.334784                        1129.740724   \n\n       24h Direct Solar Radiation (W/m2)  kg_CO2/kWh  Avg solar generation  \ncount                         720.000000  720.000000            720.000000  \nmean                          272.939691    0.454334            200.066115  \nstd                           320.500605    0.048759            243.372592  \nmin                             0.000000    0.337515              0.000000  \n25%                             0.000000    0.422080              0.000000  \n50%                           104.554913    0.459258             35.825707  \n75%                           519.350326    0.489864            422.030274  \nmax                          1237.587486    0.556063            703.628269  \n\n[8 rows x 52 columns]",
      "text/html": "<div>\n<style scoped>\n    .dataframe tbody tr th:only-of-type {\n        vertical-align: middle;\n    }\n\n    .dataframe tbody tr th {\n        vertical-align: top;\n    }\n\n    .dataframe thead th {\n        text-align: right;\n    }\n</style>\n<table border=\"1\" class=\"dataframe\">\n  <thead>\n    <tr style=\"text-align: right;\">\n      <th></th>\n      <th>Index</th>\n      <th>Hour_1</th>\n      <th>Day Type_1</th>\n      <th>Indoor Temperature (C)_1</th>\n      <th>Average Unmet Cooling Setpoint Difference (C)_1</th>\n      <th>Indoor Relative Humidity (%)_1</th>\n      <th>Equipment Electric Power (kWh)_1</th>\n      <th>DHW Heating (kWh)_1</th>\n      <th>Cooling Load (kWh)_1</th>\n      <th>Solar Generation (W/kW)_1</th>\n      <th>...</th>\n      <th>12h Outdoor Relative Humidity (%)</th>\n      <th>24h Outdoor Relative Humidity (%)</th>\n      <th>6h Diffuse Solar Radiation (W/m2)</th>\n      <th>12h Diffuse Solar Radiation (W/m2)</th>\n      <th>24h Diffuse Solar Radiation (W/m2)</th>\n      <th>6h Direct Solar Radiation (W/m2)</th>\n      <th>12h Direct Solar Radiation (W/m2)</th>\n      <th>24h Direct Solar Radiation (W/m2)</th>\n      <th>kg_CO2/kWh</th>\n      <th>Avg solar generation</th>\n    </tr>\n  </thead>\n  <tbody>\n    <tr>\n      <th>count</th>\n      <td>720.000000</td>\n      <td>720.000000</td>\n      <td>720.000000</td>\n      <td>720.000000</td>\n      <td>720.000000</td>\n      <td>720.000000</td>\n      <td>720.000000</td>\n      <td>720.000000</td>\n      <td>720.000000</td>\n      <td>720.000000</td>\n      <td>...</td>\n      <td>720.000000</td>\n      <td>720.000000</td>\n      <td>720.000000</td>\n      <td>720.000000</td>\n      <td>720.000000</td>\n      <td>720.000000</td>\n      <td>720.000000</td>\n      <td>720.000000</td>\n      <td>720.000000</td>\n      <td>720.000000</td>\n    </tr>\n    <tr>\n      <th>mean</th>\n      <td>360.500000</td>\n      <td>12.500000</td>\n      <td>4.100000</td>\n      <td>24.024244</td>\n      <td>0.003642</td>\n      <td>57.808784</td>\n      <td>0.625618</td>\n      <td>0.213675</td>\n      <td>3.333438</td>\n      <td>200.066115</td>\n      <td>...</td>\n      <td>62.786474</td>\n      <td>61.793372</td>\n      <td>90.000166</td>\n      <td>92.607278</td>\n      <td>91.938938</td>\n      <td>269.654399</td>\n      <td>270.472846</td>\n      <td>272.939691</td>\n      <td>0.454334</td>\n      <td>200.066115</td>\n    </tr>\n    <tr>\n      <th>std</th>\n      <td>207.990384</td>\n      <td>6.926999</td>\n      <td>1.973679</td>\n      <td>1.538245</td>\n      <td>0.042871</td>\n      <td>4.707318</td>\n      <td>0.810932</td>\n      <td>0.469465</td>\n      <td>1.827450</td>\n      <td>243.372592</td>\n      <td>...</td>\n      <td>23.444021</td>\n      <td>24.038353</td>\n      <td>107.451266</td>\n      <td>113.491246</td>\n      <td>115.477303</td>\n      <td>308.867793</td>\n      <td>313.529048</td>\n      <td>320.500605</td>\n      <td>0.048759</td>\n      <td>243.372592</td>\n    </tr>\n    <tr>\n      <th>min</th>\n      <td>1.000000</td>\n      <td>1.000000</td>\n      <td>1.000000</td>\n      <td>19.999914</td>\n      <td>-0.238674</td>\n      <td>46.463528</td>\n      <td>0.319633</td>\n      <td>0.000000</td>\n      <td>0.000000</td>\n      <td>0.000000</td>\n      <td>...</td>\n      <td>18.265532</td>\n      <td>16.665542</td>\n      <td>0.000000</td>\n      <td>0.000000</td>\n      <td>0.000000</td>\n      <td>0.000000</td>\n      <td>0.000000</td>\n      <td>0.000000</td>\n      <td>0.337515</td>\n      <td>0.000000</td>\n    </tr>\n    <tr>\n      <th>25%</th>\n      <td>180.750000</td>\n      <td>6.750000</td>\n      <td>2.000000</td>\n      <td>22.332080</td>\n      <td>-0.000159</td>\n      <td>54.488177</td>\n      <td>0.355172</td>\n      <td>0.000000</td>\n      <td>2.076277</td>\n      <td>0.000000</td>\n      <td>...</td>\n      <td>42.122502</td>\n      <td>41.263384</td>\n      <td>0.000000</td>\n      <td>0.000000</td>\n      <td>0.000000</td>\n      <td>0.000000</td>\n      <td>0.000000</td>\n      <td>0.000000</td>\n      <td>0.422080</td>\n      <td>0.000000</td>\n    </tr>\n    <tr>\n      <th>50%</th>\n      <td>360.500000</td>\n      <td>12.500000</td>\n      <td>4.000000</td>\n      <td>24.444309</td>\n      <td>0.000007</td>\n      <td>57.407697</td>\n      <td>0.405048</td>\n      <td>0.000000</td>\n      <td>3.043866</td>\n      <td>35.825707</td>\n      <td>...</td>\n      <td>63.155060</td>\n      <td>59.349503</td>\n      <td>59.419070</td>\n      <td>62.671503</td>\n      <td>53.935234</td>\n      <td>113.453978</td>\n      <td>100.850994</td>\n      <td>104.554913</td>\n      <td>0.459258</td>\n      <td>35.825707</td>\n    </tr>\n    <tr>\n      <th>75%</th>\n      <td>540.250000</td>\n      <td>18.250000</td>\n      <td>6.000000</td>\n      <td>24.444459</td>\n      <td>0.000476</td>\n      <td>61.325861</td>\n      <td>0.528865</td>\n      <td>0.218549</td>\n      <td>4.262129</td>\n      <td>422.030274</td>\n      <td>...</td>\n      <td>81.912389</td>\n      <td>81.111493</td>\n      <td>147.018653</td>\n      <td>154.836660</td>\n      <td>149.505159</td>\n      <td>542.437341</td>\n      <td>547.864391</td>\n      <td>519.350326</td>\n      <td>0.489864</td>\n      <td>422.030274</td>\n    </tr>\n    <tr>\n      <th>max</th>\n      <td>720.000000</td>\n      <td>24.000000</td>\n      <td>7.000000</td>\n      <td>27.222233</td>\n      <td>0.353503</td>\n      <td>67.854749</td>\n      <td>7.458969</td>\n      <td>4.565351</td>\n      <td>10.608549</td>\n      <td>703.628269</td>\n      <td>...</td>\n      <td>100.000000</td>\n      <td>100.000000</td>\n      <td>461.251418</td>\n      <td>554.828726</td>\n      <td>551.798130</td>\n      <td>1056.334784</td>\n      <td>1129.740724</td>\n      <td>1237.587486</td>\n      <td>0.556063</td>\n      <td>703.628269</td>\n    </tr>\n  </tbody>\n</table>\n<p>8 rows × 52 columns</p>\n</div>"
     },
     "execution_count": 22,
     "metadata": {},
     "output_type": "execute_result"
    }
   ],
   "source": [
    "merged_dropped.describe()"
   ],
   "metadata": {
    "collapsed": false,
    "ExecuteTime": {
     "end_time": "2023-10-23T19:13:02.292763629Z",
     "start_time": "2023-10-23T19:13:02.241508319Z"
    }
   },
   "id": "26bd7b4f62507842"
  },
  {
   "cell_type": "code",
   "execution_count": 8,
   "outputs": [
    {
     "data": {
      "text/plain": "   Index  Hour_1  Day Type_1  Indoor Temperature (C)_1  \\\n0      1       1           5                 23.098652   \n1      2       2           5                 22.234742   \n2      3       3           5                 22.223061   \n3      4       4           5                 22.222251   \n4      5       5           5                 22.222236   \n\n   Average Unmet Cooling Setpoint Difference (C)_1  \\\n0                                        -0.123570   \n1                                         0.012520   \n2                                         0.000838   \n3                                         0.000029   \n4                                         0.000014   \n\n   Indoor Relative Humidity (%)_1  Equipment Electric Power (kWh)_1  \\\n0                       61.086187                          0.356839   \n1                       64.361378                          0.345078   \n2                       64.493415                          0.338769   \n3                       64.769702                          0.334856   \n4                       65.152120                          0.348607   \n\n   DHW Heating (kWh)_1  Cooling Load (kWh)_1  Solar Generation (W/kW)_1  ...  \\\n0             0.055682              1.119216                        0.0  ...   \n1             0.159338              1.469638                        0.0  ...   \n2             0.057004              1.458372                        0.0  ...   \n3             0.000000              1.337342                        0.0  ...   \n4             0.000000              1.163453                        0.0  ...   \n\n   12h Outdoor Relative Humidity (%)  24h Outdoor Relative Humidity (%)  \\\n0                          41.822361                          83.230997   \n1                          37.910023                          95.353948   \n2                          30.190199                          66.266409   \n3                          31.519739                          94.456370   \n4                          33.119543                         100.000000   \n\n   6h Diffuse Solar Radiation (W/m2)  12h Diffuse Solar Radiation (W/m2)  \\\n0                          54.625927                          116.842886   \n1                          78.375479                           89.220504   \n2                         259.822134                           82.855932   \n3                         248.631525                          105.130119   \n4                         272.825159                           75.627986   \n\n   24h Diffuse Solar Radiation (W/m2)  6h Direct Solar Radiation (W/m2)  \\\n0                                 0.0                        143.324335   \n1                                 0.0                        300.361061   \n2                                 0.0                        196.691127   \n3                                 0.0                        465.483196   \n4                                 0.0                        569.203332   \n\n   12h Direct Solar Radiation (W/m2)  24h Direct Solar Radiation (W/m2)  \\\n0                        1020.756093                                0.0   \n1                         825.097292                                0.0   \n2                         987.909330                                0.0   \n3                         854.331825                                0.0   \n4                         941.243325                                0.0   \n\n   kg_CO2/kWh  Avg solar generation  \n0    0.402488                   0.0  \n1    0.382625                   0.0  \n2    0.369458                   0.0  \n3    0.367017                   0.0  \n4    0.374040                   0.0  \n\n[5 rows x 52 columns]",
      "text/html": "<div>\n<style scoped>\n    .dataframe tbody tr th:only-of-type {\n        vertical-align: middle;\n    }\n\n    .dataframe tbody tr th {\n        vertical-align: top;\n    }\n\n    .dataframe thead th {\n        text-align: right;\n    }\n</style>\n<table border=\"1\" class=\"dataframe\">\n  <thead>\n    <tr style=\"text-align: right;\">\n      <th></th>\n      <th>Index</th>\n      <th>Hour_1</th>\n      <th>Day Type_1</th>\n      <th>Indoor Temperature (C)_1</th>\n      <th>Average Unmet Cooling Setpoint Difference (C)_1</th>\n      <th>Indoor Relative Humidity (%)_1</th>\n      <th>Equipment Electric Power (kWh)_1</th>\n      <th>DHW Heating (kWh)_1</th>\n      <th>Cooling Load (kWh)_1</th>\n      <th>Solar Generation (W/kW)_1</th>\n      <th>...</th>\n      <th>12h Outdoor Relative Humidity (%)</th>\n      <th>24h Outdoor Relative Humidity (%)</th>\n      <th>6h Diffuse Solar Radiation (W/m2)</th>\n      <th>12h Diffuse Solar Radiation (W/m2)</th>\n      <th>24h Diffuse Solar Radiation (W/m2)</th>\n      <th>6h Direct Solar Radiation (W/m2)</th>\n      <th>12h Direct Solar Radiation (W/m2)</th>\n      <th>24h Direct Solar Radiation (W/m2)</th>\n      <th>kg_CO2/kWh</th>\n      <th>Avg solar generation</th>\n    </tr>\n  </thead>\n  <tbody>\n    <tr>\n      <th>0</th>\n      <td>1</td>\n      <td>1</td>\n      <td>5</td>\n      <td>23.098652</td>\n      <td>-0.123570</td>\n      <td>61.086187</td>\n      <td>0.356839</td>\n      <td>0.055682</td>\n      <td>1.119216</td>\n      <td>0.0</td>\n      <td>...</td>\n      <td>41.822361</td>\n      <td>83.230997</td>\n      <td>54.625927</td>\n      <td>116.842886</td>\n      <td>0.0</td>\n      <td>143.324335</td>\n      <td>1020.756093</td>\n      <td>0.0</td>\n      <td>0.402488</td>\n      <td>0.0</td>\n    </tr>\n    <tr>\n      <th>1</th>\n      <td>2</td>\n      <td>2</td>\n      <td>5</td>\n      <td>22.234742</td>\n      <td>0.012520</td>\n      <td>64.361378</td>\n      <td>0.345078</td>\n      <td>0.159338</td>\n      <td>1.469638</td>\n      <td>0.0</td>\n      <td>...</td>\n      <td>37.910023</td>\n      <td>95.353948</td>\n      <td>78.375479</td>\n      <td>89.220504</td>\n      <td>0.0</td>\n      <td>300.361061</td>\n      <td>825.097292</td>\n      <td>0.0</td>\n      <td>0.382625</td>\n      <td>0.0</td>\n    </tr>\n    <tr>\n      <th>2</th>\n      <td>3</td>\n      <td>3</td>\n      <td>5</td>\n      <td>22.223061</td>\n      <td>0.000838</td>\n      <td>64.493415</td>\n      <td>0.338769</td>\n      <td>0.057004</td>\n      <td>1.458372</td>\n      <td>0.0</td>\n      <td>...</td>\n      <td>30.190199</td>\n      <td>66.266409</td>\n      <td>259.822134</td>\n      <td>82.855932</td>\n      <td>0.0</td>\n      <td>196.691127</td>\n      <td>987.909330</td>\n      <td>0.0</td>\n      <td>0.369458</td>\n      <td>0.0</td>\n    </tr>\n    <tr>\n      <th>3</th>\n      <td>4</td>\n      <td>4</td>\n      <td>5</td>\n      <td>22.222251</td>\n      <td>0.000029</td>\n      <td>64.769702</td>\n      <td>0.334856</td>\n      <td>0.000000</td>\n      <td>1.337342</td>\n      <td>0.0</td>\n      <td>...</td>\n      <td>31.519739</td>\n      <td>94.456370</td>\n      <td>248.631525</td>\n      <td>105.130119</td>\n      <td>0.0</td>\n      <td>465.483196</td>\n      <td>854.331825</td>\n      <td>0.0</td>\n      <td>0.367017</td>\n      <td>0.0</td>\n    </tr>\n    <tr>\n      <th>4</th>\n      <td>5</td>\n      <td>5</td>\n      <td>5</td>\n      <td>22.222236</td>\n      <td>0.000014</td>\n      <td>65.152120</td>\n      <td>0.348607</td>\n      <td>0.000000</td>\n      <td>1.163453</td>\n      <td>0.0</td>\n      <td>...</td>\n      <td>33.119543</td>\n      <td>100.000000</td>\n      <td>272.825159</td>\n      <td>75.627986</td>\n      <td>0.0</td>\n      <td>569.203332</td>\n      <td>941.243325</td>\n      <td>0.0</td>\n      <td>0.374040</td>\n      <td>0.0</td>\n    </tr>\n  </tbody>\n</table>\n<p>5 rows × 52 columns</p>\n</div>"
     },
     "execution_count": 8,
     "metadata": {},
     "output_type": "execute_result"
    }
   ],
   "source": [
    "train, test = train_test_split(merged_dropped, test_size=0.05, shuffle=False)\n",
    "train.head()"
   ],
   "metadata": {
    "collapsed": false,
    "ExecuteTime": {
     "end_time": "2023-10-23T19:12:23.762058024Z",
     "start_time": "2023-10-23T19:12:23.662136122Z"
    }
   },
   "id": "65b32163207abafb"
  },
  {
   "cell_type": "markdown",
   "source": [
    "Normalize the data"
   ],
   "metadata": {
    "collapsed": false
   },
   "id": "d0256c132537c8a7"
  },
  {
   "cell_type": "code",
   "execution_count": 9,
   "outputs": [
    {
     "data": {
      "text/plain": "            Index     Hour_1  Day Type_1  Indoor Temperature (C)_1  \\\ncount   36.000000  36.000000   36.000000                 36.000000   \nmean   702.500000   0.586957    0.777778                  0.574566   \nstd     10.535654   0.292216    0.079682                  0.147169   \nmin    685.000000   0.000000    0.666667                  0.162742   \n25%    693.750000   0.380435    0.666667                  0.615154   \n50%    702.500000   0.630435    0.833333                  0.615389   \n75%    711.250000   0.826087    0.833333                  0.615389   \nmax    720.000000   1.000000    0.833333                  0.889295   \n\n       Average Unmet Cooling Setpoint Difference (C)_1  \\\ncount                                        36.000000   \nmean                                          0.423756   \nstd                                           0.066476   \nmin                                           0.366301   \n25%                                           0.402741   \n50%                                           0.403053   \n75%                                           0.403065   \nmax                                           0.656467   \n\n       Indoor Relative Humidity (%)_1  Equipment Electric Power (kWh)_1  \\\ncount                       36.000000                         36.000000   \nmean                         0.482010                          0.047154   \nstd                          0.160801                          0.062273   \nmin                          0.149688                          0.004058   \n25%                          0.390320                          0.007246   \n50%                          0.448776                          0.017714   \n75%                          0.544827                          0.046502   \nmax                          0.914390                          0.185369   \n\n       DHW Heating (kWh)_1  Cooling Load (kWh)_1  Solar Generation (W/kW)_1  \\\ncount            36.000000             36.000000                  36.000000   \nmean              0.037292              0.455867                   0.332055   \nstd               0.077312              0.217892                   0.381648   \nmin               0.000000              0.075989                   0.000000   \n25%               0.000000              0.297839                   0.000000   \n50%               0.000000              0.486897                   0.114463   \n75%               0.043629              0.610829                   0.708552   \nmax               0.316554              0.836896                   0.955371   \n\n       ...  12h Outdoor Relative Humidity (%)  \\\ncount  ...                          36.000000   \nmean   ...                           0.524948   \nstd    ...                           0.339873   \nmin    ...                          -0.004999   \n25%    ...                           0.217579   \n50%    ...                           0.584414   \n75%    ...                           0.793286   \nmax    ...                           1.000000   \n\n       24h Outdoor Relative Humidity (%)  6h Diffuse Solar Radiation (W/m2)  \\\ncount                          36.000000                          36.000000   \nmean                            0.401184                           0.186033   \nstd                             0.282965                           0.276365   \nmin                             0.008482                           0.000000   \n25%                             0.196336                           0.000000   \n50%                             0.326406                           0.000000   \n75%                             0.590441                           0.381301   \nmax                             1.000000                           0.920222   \n\n       12h Diffuse Solar Radiation (W/m2)  24h Diffuse Solar Radiation (W/m2)  \\\ncount                           36.000000                           36.000000   \nmean                             0.209078                            0.199951   \nstd                              0.250384                            0.266695   \nmin                              0.000000                            0.000000   \n25%                              0.000000                            0.000000   \n50%                              0.122754                            0.094674   \n75%                              0.385805                            0.232673   \nmax                              0.936496                            0.945442   \n\n       6h Direct Solar Radiation (W/m2)  12h Direct Solar Radiation (W/m2)  \\\ncount                         36.000000                          36.000000   \nmean                           0.156912                           0.212810   \nstd                            0.230404                           0.263607   \nmin                            0.000000                           0.000000   \n25%                            0.000000                           0.000000   \n50%                            0.000000                           0.091378   \n75%                            0.307072                           0.346975   \nmax                            0.714852                           0.772160   \n\n       24h Direct Solar Radiation (W/m2)  kg_CO2/kWh  Avg solar generation  \ncount                          36.000000   36.000000             36.000000  \nmean                            0.241286    0.516124              0.332055  \nstd                             0.264524    0.084090              0.381648  \nmin                             0.000000    0.263146              0.000000  \n25%                             0.000000    0.495021              0.000000  \n50%                             0.166571    0.546540              0.114463  \n75%                             0.457191    0.572715              0.708552  \nmax                             0.875893    0.607686              0.955371  \n\n[8 rows x 52 columns]",
      "text/html": "<div>\n<style scoped>\n    .dataframe tbody tr th:only-of-type {\n        vertical-align: middle;\n    }\n\n    .dataframe tbody tr th {\n        vertical-align: top;\n    }\n\n    .dataframe thead th {\n        text-align: right;\n    }\n</style>\n<table border=\"1\" class=\"dataframe\">\n  <thead>\n    <tr style=\"text-align: right;\">\n      <th></th>\n      <th>Index</th>\n      <th>Hour_1</th>\n      <th>Day Type_1</th>\n      <th>Indoor Temperature (C)_1</th>\n      <th>Average Unmet Cooling Setpoint Difference (C)_1</th>\n      <th>Indoor Relative Humidity (%)_1</th>\n      <th>Equipment Electric Power (kWh)_1</th>\n      <th>DHW Heating (kWh)_1</th>\n      <th>Cooling Load (kWh)_1</th>\n      <th>Solar Generation (W/kW)_1</th>\n      <th>...</th>\n      <th>12h Outdoor Relative Humidity (%)</th>\n      <th>24h Outdoor Relative Humidity (%)</th>\n      <th>6h Diffuse Solar Radiation (W/m2)</th>\n      <th>12h Diffuse Solar Radiation (W/m2)</th>\n      <th>24h Diffuse Solar Radiation (W/m2)</th>\n      <th>6h Direct Solar Radiation (W/m2)</th>\n      <th>12h Direct Solar Radiation (W/m2)</th>\n      <th>24h Direct Solar Radiation (W/m2)</th>\n      <th>kg_CO2/kWh</th>\n      <th>Avg solar generation</th>\n    </tr>\n  </thead>\n  <tbody>\n    <tr>\n      <th>count</th>\n      <td>36.000000</td>\n      <td>36.000000</td>\n      <td>36.000000</td>\n      <td>36.000000</td>\n      <td>36.000000</td>\n      <td>36.000000</td>\n      <td>36.000000</td>\n      <td>36.000000</td>\n      <td>36.000000</td>\n      <td>36.000000</td>\n      <td>...</td>\n      <td>36.000000</td>\n      <td>36.000000</td>\n      <td>36.000000</td>\n      <td>36.000000</td>\n      <td>36.000000</td>\n      <td>36.000000</td>\n      <td>36.000000</td>\n      <td>36.000000</td>\n      <td>36.000000</td>\n      <td>36.000000</td>\n    </tr>\n    <tr>\n      <th>mean</th>\n      <td>702.500000</td>\n      <td>0.586957</td>\n      <td>0.777778</td>\n      <td>0.574566</td>\n      <td>0.423756</td>\n      <td>0.482010</td>\n      <td>0.047154</td>\n      <td>0.037292</td>\n      <td>0.455867</td>\n      <td>0.332055</td>\n      <td>...</td>\n      <td>0.524948</td>\n      <td>0.401184</td>\n      <td>0.186033</td>\n      <td>0.209078</td>\n      <td>0.199951</td>\n      <td>0.156912</td>\n      <td>0.212810</td>\n      <td>0.241286</td>\n      <td>0.516124</td>\n      <td>0.332055</td>\n    </tr>\n    <tr>\n      <th>std</th>\n      <td>10.535654</td>\n      <td>0.292216</td>\n      <td>0.079682</td>\n      <td>0.147169</td>\n      <td>0.066476</td>\n      <td>0.160801</td>\n      <td>0.062273</td>\n      <td>0.077312</td>\n      <td>0.217892</td>\n      <td>0.381648</td>\n      <td>...</td>\n      <td>0.339873</td>\n      <td>0.282965</td>\n      <td>0.276365</td>\n      <td>0.250384</td>\n      <td>0.266695</td>\n      <td>0.230404</td>\n      <td>0.263607</td>\n      <td>0.264524</td>\n      <td>0.084090</td>\n      <td>0.381648</td>\n    </tr>\n    <tr>\n      <th>min</th>\n      <td>685.000000</td>\n      <td>0.000000</td>\n      <td>0.666667</td>\n      <td>0.162742</td>\n      <td>0.366301</td>\n      <td>0.149688</td>\n      <td>0.004058</td>\n      <td>0.000000</td>\n      <td>0.075989</td>\n      <td>0.000000</td>\n      <td>...</td>\n      <td>-0.004999</td>\n      <td>0.008482</td>\n      <td>0.000000</td>\n      <td>0.000000</td>\n      <td>0.000000</td>\n      <td>0.000000</td>\n      <td>0.000000</td>\n      <td>0.000000</td>\n      <td>0.263146</td>\n      <td>0.000000</td>\n    </tr>\n    <tr>\n      <th>25%</th>\n      <td>693.750000</td>\n      <td>0.380435</td>\n      <td>0.666667</td>\n      <td>0.615154</td>\n      <td>0.402741</td>\n      <td>0.390320</td>\n      <td>0.007246</td>\n      <td>0.000000</td>\n      <td>0.297839</td>\n      <td>0.000000</td>\n      <td>...</td>\n      <td>0.217579</td>\n      <td>0.196336</td>\n      <td>0.000000</td>\n      <td>0.000000</td>\n      <td>0.000000</td>\n      <td>0.000000</td>\n      <td>0.000000</td>\n      <td>0.000000</td>\n      <td>0.495021</td>\n      <td>0.000000</td>\n    </tr>\n    <tr>\n      <th>50%</th>\n      <td>702.500000</td>\n      <td>0.630435</td>\n      <td>0.833333</td>\n      <td>0.615389</td>\n      <td>0.403053</td>\n      <td>0.448776</td>\n      <td>0.017714</td>\n      <td>0.000000</td>\n      <td>0.486897</td>\n      <td>0.114463</td>\n      <td>...</td>\n      <td>0.584414</td>\n      <td>0.326406</td>\n      <td>0.000000</td>\n      <td>0.122754</td>\n      <td>0.094674</td>\n      <td>0.000000</td>\n      <td>0.091378</td>\n      <td>0.166571</td>\n      <td>0.546540</td>\n      <td>0.114463</td>\n    </tr>\n    <tr>\n      <th>75%</th>\n      <td>711.250000</td>\n      <td>0.826087</td>\n      <td>0.833333</td>\n      <td>0.615389</td>\n      <td>0.403065</td>\n      <td>0.544827</td>\n      <td>0.046502</td>\n      <td>0.043629</td>\n      <td>0.610829</td>\n      <td>0.708552</td>\n      <td>...</td>\n      <td>0.793286</td>\n      <td>0.590441</td>\n      <td>0.381301</td>\n      <td>0.385805</td>\n      <td>0.232673</td>\n      <td>0.307072</td>\n      <td>0.346975</td>\n      <td>0.457191</td>\n      <td>0.572715</td>\n      <td>0.708552</td>\n    </tr>\n    <tr>\n      <th>max</th>\n      <td>720.000000</td>\n      <td>1.000000</td>\n      <td>0.833333</td>\n      <td>0.889295</td>\n      <td>0.656467</td>\n      <td>0.914390</td>\n      <td>0.185369</td>\n      <td>0.316554</td>\n      <td>0.836896</td>\n      <td>0.955371</td>\n      <td>...</td>\n      <td>1.000000</td>\n      <td>1.000000</td>\n      <td>0.920222</td>\n      <td>0.936496</td>\n      <td>0.945442</td>\n      <td>0.714852</td>\n      <td>0.772160</td>\n      <td>0.875893</td>\n      <td>0.607686</td>\n      <td>0.955371</td>\n    </tr>\n  </tbody>\n</table>\n<p>8 rows × 52 columns</p>\n</div>"
     },
     "execution_count": 9,
     "metadata": {},
     "output_type": "execute_result"
    }
   ],
   "source": [
    "train, test = train_test_split(merged_dropped, test_size=0.05, shuffle=False)\n",
    "columns = list(merged_dropped)\n",
    "columns.remove(\"Index\")\n",
    "\n",
    "for column in columns:\n",
    "    min_of_column = train[column].min()\n",
    "    max_of_column = train[column].max()\n",
    "    train[column] = (train[column] - min_of_column) / (max_of_column - min_of_column)\n",
    "    test[column] = (test[column] - min_of_column) / (max_of_column - min_of_column)\n",
    "    \n",
    "test.describe()"
   ],
   "metadata": {
    "collapsed": false,
    "ExecuteTime": {
     "end_time": "2023-10-23T19:12:24.071924247Z",
     "start_time": "2023-10-23T19:12:23.702366707Z"
    }
   },
   "id": "4fef80e557759d98"
  },
  {
   "cell_type": "markdown",
   "source": [
    "Using automatic feature selection with threshold"
   ],
   "metadata": {
    "collapsed": false
   },
   "id": "8abefb4b13cfddcc"
  },
  {
   "cell_type": "code",
   "execution_count": 10,
   "outputs": [
    {
     "data": {
      "text/plain": "['Index',\n 'Hour_1',\n 'Day Type_1',\n 'Indoor Temperature (C)_1',\n 'Average Unmet Cooling Setpoint Difference (C)_1',\n 'Indoor Relative Humidity (%)_1',\n 'Equipment Electric Power (kWh)_1',\n 'DHW Heating (kWh)_1',\n 'Cooling Load (kWh)_1',\n 'Solar Generation (W/kW)_1',\n 'Occupant Count (people)_1',\n 'Temperature Set Point (C)_1',\n 'Hour_2',\n 'Day Type_2',\n 'Indoor Temperature (C)_2',\n 'Average Unmet Cooling Setpoint Difference (C)_2',\n 'Indoor Relative Humidity (%)_2',\n 'Equipment Electric Power (kWh)_2',\n 'DHW Heating (kWh)_2',\n 'Cooling Load (kWh)_2',\n 'Solar Generation (W/kW)_2',\n 'Occupant Count (people)_2',\n 'Temperature Set Point (C)_2',\n 'Hour_3',\n 'Day Type_3',\n 'Indoor Temperature (C)_3',\n 'Average Unmet Cooling Setpoint Difference (C)_3',\n 'Indoor Relative Humidity (%)_3',\n 'Equipment Electric Power (kWh)_3',\n 'DHW Heating (kWh)_3',\n 'Cooling Load (kWh)_3',\n 'Solar Generation (W/kW)_3',\n 'Occupant Count (people)_3',\n 'Temperature Set Point (C)_3',\n 'Outdoor Drybulb Temperature (C)',\n 'Outdoor Relative Humidity (%)',\n 'Diffuse Solar Radiation (W/m2)',\n 'Direct Solar Radiation (W/m2)',\n '6h Outdoor Drybulb Temperature (C)',\n '12h Outdoor Drybulb Temperature (C)',\n '24h Outdoor Drybulb Temperature (C)',\n '6h Outdoor Relative Humidity (%)',\n '12h Outdoor Relative Humidity (%)',\n '24h Outdoor Relative Humidity (%)',\n '6h Diffuse Solar Radiation (W/m2)',\n '12h Diffuse Solar Radiation (W/m2)',\n '24h Diffuse Solar Radiation (W/m2)',\n '6h Direct Solar Radiation (W/m2)',\n '12h Direct Solar Radiation (W/m2)',\n '24h Direct Solar Radiation (W/m2)',\n 'Avg solar generation']"
     },
     "execution_count": 10,
     "metadata": {},
     "output_type": "execute_result"
    }
   ],
   "source": [
    "threshold = 0\n",
    "column_to_predict = \"kg_CO2/kWh\"\n",
    "\n",
    "independent_variables = []\n",
    "\n",
    "\n",
    "for column in train:\n",
    "    if abs(train[column].corr(train[column_to_predict])) > threshold:\n",
    "        independent_variables.append(column)\n",
    "\n",
    "independent_variables.remove(column_to_predict)\n",
    "independent_variables"
   ],
   "metadata": {
    "collapsed": false,
    "ExecuteTime": {
     "end_time": "2023-10-23T19:12:24.073614675Z",
     "start_time": "2023-10-23T19:12:23.834305962Z"
    }
   },
   "id": "eb6ac8029f6d170"
  },
  {
   "cell_type": "code",
   "execution_count": 11,
   "outputs": [],
   "source": [
    "X = train[independent_variables]\n",
    "Y = train[column_to_predict]"
   ],
   "metadata": {
    "collapsed": false,
    "ExecuteTime": {
     "end_time": "2023-10-23T19:12:24.073952327Z",
     "start_time": "2023-10-23T19:12:23.876439629Z"
    }
   },
   "id": "d9eb4601d75843c7"
  },
  {
   "cell_type": "code",
   "execution_count": 12,
   "outputs": [
    {
     "data": {
      "text/plain": "LinearRegression()",
      "text/html": "<style>#sk-container-id-1 {color: black;}#sk-container-id-1 pre{padding: 0;}#sk-container-id-1 div.sk-toggleable {background-color: white;}#sk-container-id-1 label.sk-toggleable__label {cursor: pointer;display: block;width: 100%;margin-bottom: 0;padding: 0.3em;box-sizing: border-box;text-align: center;}#sk-container-id-1 label.sk-toggleable__label-arrow:before {content: \"▸\";float: left;margin-right: 0.25em;color: #696969;}#sk-container-id-1 label.sk-toggleable__label-arrow:hover:before {color: black;}#sk-container-id-1 div.sk-estimator:hover label.sk-toggleable__label-arrow:before {color: black;}#sk-container-id-1 div.sk-toggleable__content {max-height: 0;max-width: 0;overflow: hidden;text-align: left;background-color: #f0f8ff;}#sk-container-id-1 div.sk-toggleable__content pre {margin: 0.2em;color: black;border-radius: 0.25em;background-color: #f0f8ff;}#sk-container-id-1 input.sk-toggleable__control:checked~div.sk-toggleable__content {max-height: 200px;max-width: 100%;overflow: auto;}#sk-container-id-1 input.sk-toggleable__control:checked~label.sk-toggleable__label-arrow:before {content: \"▾\";}#sk-container-id-1 div.sk-estimator input.sk-toggleable__control:checked~label.sk-toggleable__label {background-color: #d4ebff;}#sk-container-id-1 div.sk-label input.sk-toggleable__control:checked~label.sk-toggleable__label {background-color: #d4ebff;}#sk-container-id-1 input.sk-hidden--visually {border: 0;clip: rect(1px 1px 1px 1px);clip: rect(1px, 1px, 1px, 1px);height: 1px;margin: -1px;overflow: hidden;padding: 0;position: absolute;width: 1px;}#sk-container-id-1 div.sk-estimator {font-family: monospace;background-color: #f0f8ff;border: 1px dotted black;border-radius: 0.25em;box-sizing: border-box;margin-bottom: 0.5em;}#sk-container-id-1 div.sk-estimator:hover {background-color: #d4ebff;}#sk-container-id-1 div.sk-parallel-item::after {content: \"\";width: 100%;border-bottom: 1px solid gray;flex-grow: 1;}#sk-container-id-1 div.sk-label:hover label.sk-toggleable__label {background-color: #d4ebff;}#sk-container-id-1 div.sk-serial::before {content: \"\";position: absolute;border-left: 1px solid gray;box-sizing: border-box;top: 0;bottom: 0;left: 50%;z-index: 0;}#sk-container-id-1 div.sk-serial {display: flex;flex-direction: column;align-items: center;background-color: white;padding-right: 0.2em;padding-left: 0.2em;position: relative;}#sk-container-id-1 div.sk-item {position: relative;z-index: 1;}#sk-container-id-1 div.sk-parallel {display: flex;align-items: stretch;justify-content: center;background-color: white;position: relative;}#sk-container-id-1 div.sk-item::before, #sk-container-id-1 div.sk-parallel-item::before {content: \"\";position: absolute;border-left: 1px solid gray;box-sizing: border-box;top: 0;bottom: 0;left: 50%;z-index: -1;}#sk-container-id-1 div.sk-parallel-item {display: flex;flex-direction: column;z-index: 1;position: relative;background-color: white;}#sk-container-id-1 div.sk-parallel-item:first-child::after {align-self: flex-end;width: 50%;}#sk-container-id-1 div.sk-parallel-item:last-child::after {align-self: flex-start;width: 50%;}#sk-container-id-1 div.sk-parallel-item:only-child::after {width: 0;}#sk-container-id-1 div.sk-dashed-wrapped {border: 1px dashed gray;margin: 0 0.4em 0.5em 0.4em;box-sizing: border-box;padding-bottom: 0.4em;background-color: white;}#sk-container-id-1 div.sk-label label {font-family: monospace;font-weight: bold;display: inline-block;line-height: 1.2em;}#sk-container-id-1 div.sk-label-container {text-align: center;}#sk-container-id-1 div.sk-container {/* jupyter's `normalize.less` sets `[hidden] { display: none; }` but bootstrap.min.css set `[hidden] { display: none !important; }` so we also need the `!important` here to be able to override the default hidden behavior on the sphinx rendered scikit-learn.org. See: https://github.com/scikit-learn/scikit-learn/issues/21755 */display: inline-block !important;position: relative;}#sk-container-id-1 div.sk-text-repr-fallback {display: none;}</style><div id=\"sk-container-id-1\" class=\"sk-top-container\"><div class=\"sk-text-repr-fallback\"><pre>LinearRegression()</pre><b>In a Jupyter environment, please rerun this cell to show the HTML representation or trust the notebook. <br />On GitHub, the HTML representation is unable to render, please try loading this page with nbviewer.org.</b></div><div class=\"sk-container\" hidden><div class=\"sk-item\"><div class=\"sk-estimator sk-toggleable\"><input class=\"sk-toggleable__control sk-hidden--visually\" id=\"sk-estimator-id-1\" type=\"checkbox\" checked><label for=\"sk-estimator-id-1\" class=\"sk-toggleable__label sk-toggleable__label-arrow\">LinearRegression</label><div class=\"sk-toggleable__content\"><pre>LinearRegression()</pre></div></div></div></div></div>"
     },
     "execution_count": 12,
     "metadata": {},
     "output_type": "execute_result"
    }
   ],
   "source": [
    "regr = linear_model.LinearRegression()\n",
    "regr.fit(X, Y)"
   ],
   "metadata": {
    "collapsed": false,
    "ExecuteTime": {
     "end_time": "2023-10-23T19:12:24.075101154Z",
     "start_time": "2023-10-23T19:12:23.876787732Z"
    }
   },
   "id": "7f31f0ffec88ac0e"
  },
  {
   "cell_type": "code",
   "execution_count": 13,
   "outputs": [
    {
     "data": {
      "text/plain": "     kg_CO2/kWh  predicted\n0      0.297295   0.292678\n1      0.206405   0.330426\n2      0.146161   0.320186\n3      0.134990   0.255513\n4      0.167124   0.319180\n..          ...        ...\n679    0.242889   0.264667\n680    0.214475   0.362552\n681    0.193694   0.421455\n682    0.306812   0.481065\n683    0.404334   0.556194\n\n[684 rows x 2 columns]",
      "text/html": "<div>\n<style scoped>\n    .dataframe tbody tr th:only-of-type {\n        vertical-align: middle;\n    }\n\n    .dataframe tbody tr th {\n        vertical-align: top;\n    }\n\n    .dataframe thead th {\n        text-align: right;\n    }\n</style>\n<table border=\"1\" class=\"dataframe\">\n  <thead>\n    <tr style=\"text-align: right;\">\n      <th></th>\n      <th>kg_CO2/kWh</th>\n      <th>predicted</th>\n    </tr>\n  </thead>\n  <tbody>\n    <tr>\n      <th>0</th>\n      <td>0.297295</td>\n      <td>0.292678</td>\n    </tr>\n    <tr>\n      <th>1</th>\n      <td>0.206405</td>\n      <td>0.330426</td>\n    </tr>\n    <tr>\n      <th>2</th>\n      <td>0.146161</td>\n      <td>0.320186</td>\n    </tr>\n    <tr>\n      <th>3</th>\n      <td>0.134990</td>\n      <td>0.255513</td>\n    </tr>\n    <tr>\n      <th>4</th>\n      <td>0.167124</td>\n      <td>0.319180</td>\n    </tr>\n    <tr>\n      <th>...</th>\n      <td>...</td>\n      <td>...</td>\n    </tr>\n    <tr>\n      <th>679</th>\n      <td>0.242889</td>\n      <td>0.264667</td>\n    </tr>\n    <tr>\n      <th>680</th>\n      <td>0.214475</td>\n      <td>0.362552</td>\n    </tr>\n    <tr>\n      <th>681</th>\n      <td>0.193694</td>\n      <td>0.421455</td>\n    </tr>\n    <tr>\n      <th>682</th>\n      <td>0.306812</td>\n      <td>0.481065</td>\n    </tr>\n    <tr>\n      <th>683</th>\n      <td>0.404334</td>\n      <td>0.556194</td>\n    </tr>\n  </tbody>\n</table>\n<p>684 rows × 2 columns</p>\n</div>"
     },
     "execution_count": 13,
     "metadata": {},
     "output_type": "execute_result"
    }
   ],
   "source": [
    "y_pred = regr.predict(X)\n",
    "results = Y.copy()\n",
    "results = results.to_frame()\n",
    "results[\"predicted\"] = y_pred\n",
    "results"
   ],
   "metadata": {
    "collapsed": false,
    "ExecuteTime": {
     "end_time": "2023-10-23T19:12:24.097773930Z",
     "start_time": "2023-10-23T19:12:23.877110015Z"
    }
   },
   "id": "6974cdb7de20f0c1"
  },
  {
   "cell_type": "code",
   "execution_count": 14,
   "outputs": [
    {
     "data": {
      "text/plain": "0.6642533028003659"
     },
     "execution_count": 14,
     "metadata": {},
     "output_type": "execute_result"
    }
   ],
   "source": [
    "regr.score(X, Y)"
   ],
   "metadata": {
    "collapsed": false,
    "ExecuteTime": {
     "end_time": "2023-10-23T19:12:24.098096684Z",
     "start_time": "2023-10-23T19:12:23.941275158Z"
    }
   },
   "id": "4a57cbb3d2a71788"
  },
  {
   "cell_type": "code",
   "execution_count": 15,
   "outputs": [
    {
     "data": {
      "text/plain": "     kg_CO2/kWh  predicted\n684    0.471615   0.465308\n685    0.518917   0.593791\n686    0.554976   0.573076\n687    0.564855   0.596734\n688    0.555823   0.601599\n689    0.549391   0.576729\n690    0.544221   0.730759\n691    0.500163   0.554402\n692    0.491011   0.477341\n693    0.496357   0.497929\n694    0.481642   0.497369\n695    0.503693   0.511884\n696    0.517775   0.282300\n697    0.563846   0.275297\n698    0.569727   0.270726\n699    0.582340   0.247300\n700    0.557425   0.246704\n701    0.576379   0.237653\n702    0.548859   0.390769\n703    0.503307   0.490929\n704    0.425264   0.507202\n705    0.263146   0.608182\n706    0.272375   0.532376\n707    0.366386   0.572367\n708    0.432384   0.516956\n709    0.506673   0.480883\n710    0.579861   0.538608\n711    0.601116   0.537311\n712    0.605275   0.509629\n713    0.602406   0.484060\n714    0.584241   0.508864\n715    0.587037   0.499048\n716    0.607686   0.508684\n717    0.571493   0.511109\n718    0.508506   0.515288\n719    0.414290   0.481426",
      "text/html": "<div>\n<style scoped>\n    .dataframe tbody tr th:only-of-type {\n        vertical-align: middle;\n    }\n\n    .dataframe tbody tr th {\n        vertical-align: top;\n    }\n\n    .dataframe thead th {\n        text-align: right;\n    }\n</style>\n<table border=\"1\" class=\"dataframe\">\n  <thead>\n    <tr style=\"text-align: right;\">\n      <th></th>\n      <th>kg_CO2/kWh</th>\n      <th>predicted</th>\n    </tr>\n  </thead>\n  <tbody>\n    <tr>\n      <th>684</th>\n      <td>0.471615</td>\n      <td>0.465308</td>\n    </tr>\n    <tr>\n      <th>685</th>\n      <td>0.518917</td>\n      <td>0.593791</td>\n    </tr>\n    <tr>\n      <th>686</th>\n      <td>0.554976</td>\n      <td>0.573076</td>\n    </tr>\n    <tr>\n      <th>687</th>\n      <td>0.564855</td>\n      <td>0.596734</td>\n    </tr>\n    <tr>\n      <th>688</th>\n      <td>0.555823</td>\n      <td>0.601599</td>\n    </tr>\n    <tr>\n      <th>689</th>\n      <td>0.549391</td>\n      <td>0.576729</td>\n    </tr>\n    <tr>\n      <th>690</th>\n      <td>0.544221</td>\n      <td>0.730759</td>\n    </tr>\n    <tr>\n      <th>691</th>\n      <td>0.500163</td>\n      <td>0.554402</td>\n    </tr>\n    <tr>\n      <th>692</th>\n      <td>0.491011</td>\n      <td>0.477341</td>\n    </tr>\n    <tr>\n      <th>693</th>\n      <td>0.496357</td>\n      <td>0.497929</td>\n    </tr>\n    <tr>\n      <th>694</th>\n      <td>0.481642</td>\n      <td>0.497369</td>\n    </tr>\n    <tr>\n      <th>695</th>\n      <td>0.503693</td>\n      <td>0.511884</td>\n    </tr>\n    <tr>\n      <th>696</th>\n      <td>0.517775</td>\n      <td>0.282300</td>\n    </tr>\n    <tr>\n      <th>697</th>\n      <td>0.563846</td>\n      <td>0.275297</td>\n    </tr>\n    <tr>\n      <th>698</th>\n      <td>0.569727</td>\n      <td>0.270726</td>\n    </tr>\n    <tr>\n      <th>699</th>\n      <td>0.582340</td>\n      <td>0.247300</td>\n    </tr>\n    <tr>\n      <th>700</th>\n      <td>0.557425</td>\n      <td>0.246704</td>\n    </tr>\n    <tr>\n      <th>701</th>\n      <td>0.576379</td>\n      <td>0.237653</td>\n    </tr>\n    <tr>\n      <th>702</th>\n      <td>0.548859</td>\n      <td>0.390769</td>\n    </tr>\n    <tr>\n      <th>703</th>\n      <td>0.503307</td>\n      <td>0.490929</td>\n    </tr>\n    <tr>\n      <th>704</th>\n      <td>0.425264</td>\n      <td>0.507202</td>\n    </tr>\n    <tr>\n      <th>705</th>\n      <td>0.263146</td>\n      <td>0.608182</td>\n    </tr>\n    <tr>\n      <th>706</th>\n      <td>0.272375</td>\n      <td>0.532376</td>\n    </tr>\n    <tr>\n      <th>707</th>\n      <td>0.366386</td>\n      <td>0.572367</td>\n    </tr>\n    <tr>\n      <th>708</th>\n      <td>0.432384</td>\n      <td>0.516956</td>\n    </tr>\n    <tr>\n      <th>709</th>\n      <td>0.506673</td>\n      <td>0.480883</td>\n    </tr>\n    <tr>\n      <th>710</th>\n      <td>0.579861</td>\n      <td>0.538608</td>\n    </tr>\n    <tr>\n      <th>711</th>\n      <td>0.601116</td>\n      <td>0.537311</td>\n    </tr>\n    <tr>\n      <th>712</th>\n      <td>0.605275</td>\n      <td>0.509629</td>\n    </tr>\n    <tr>\n      <th>713</th>\n      <td>0.602406</td>\n      <td>0.484060</td>\n    </tr>\n    <tr>\n      <th>714</th>\n      <td>0.584241</td>\n      <td>0.508864</td>\n    </tr>\n    <tr>\n      <th>715</th>\n      <td>0.587037</td>\n      <td>0.499048</td>\n    </tr>\n    <tr>\n      <th>716</th>\n      <td>0.607686</td>\n      <td>0.508684</td>\n    </tr>\n    <tr>\n      <th>717</th>\n      <td>0.571493</td>\n      <td>0.511109</td>\n    </tr>\n    <tr>\n      <th>718</th>\n      <td>0.508506</td>\n      <td>0.515288</td>\n    </tr>\n    <tr>\n      <th>719</th>\n      <td>0.414290</td>\n      <td>0.481426</td>\n    </tr>\n  </tbody>\n</table>\n</div>"
     },
     "execution_count": 15,
     "metadata": {},
     "output_type": "execute_result"
    }
   ],
   "source": [
    "X = train[independent_variables]\n",
    "Y = train[column_to_predict]\n",
    "\n",
    "X_test = test[independent_variables]\n",
    "Y_test = test[column_to_predict]\n",
    "\n",
    "regr = linear_model.LinearRegression()\n",
    "regr.fit(X, Y)\n",
    "\n",
    "y_pred = regr.predict(X_test)\n",
    "results = Y_test.copy()\n",
    "results = results.to_frame()\n",
    "results[\"predicted\"] = y_pred\n",
    "results"
   ],
   "metadata": {
    "collapsed": false,
    "ExecuteTime": {
     "end_time": "2023-10-23T19:12:24.098586136Z",
     "start_time": "2023-10-23T19:12:23.968715037Z"
    }
   },
   "id": "9df5772173730215"
  },
  {
   "cell_type": "code",
   "execution_count": 16,
   "outputs": [
    {
     "data": {
      "text/plain": "-2.7529983417695782"
     },
     "execution_count": 16,
     "metadata": {},
     "output_type": "execute_result"
    }
   ],
   "source": [
    "regr.score(X_test, Y_test)"
   ],
   "metadata": {
    "collapsed": false,
    "ExecuteTime": {
     "end_time": "2023-10-23T19:12:24.099476390Z",
     "start_time": "2023-10-23T19:12:24.010323916Z"
    }
   },
   "id": "8cd85cdccbceea9e"
  },
  {
   "cell_type": "markdown",
   "source": [
    "Predict Solar Generation"
   ],
   "metadata": {
    "collapsed": false
   },
   "id": "7b9a6beef0905095"
  },
  {
   "cell_type": "code",
   "execution_count": 26,
   "outputs": [
    {
     "data": {
      "text/plain": "['Index',\n 'Hour_1',\n 'Day Type_1',\n 'Indoor Temperature (C)_1',\n 'Average Unmet Cooling Setpoint Difference (C)_1',\n 'Indoor Relative Humidity (%)_1',\n 'Equipment Electric Power (kWh)_1',\n 'DHW Heating (kWh)_1',\n 'Cooling Load (kWh)_1',\n 'Occupant Count (people)_1',\n 'Temperature Set Point (C)_1',\n 'Hour_2',\n 'Day Type_2',\n 'Indoor Temperature (C)_2',\n 'Average Unmet Cooling Setpoint Difference (C)_2',\n 'Indoor Relative Humidity (%)_2',\n 'Equipment Electric Power (kWh)_2',\n 'DHW Heating (kWh)_2',\n 'Cooling Load (kWh)_2',\n 'Occupant Count (people)_2',\n 'Temperature Set Point (C)_2',\n 'Hour_3',\n 'Day Type_3',\n 'Indoor Temperature (C)_3',\n 'Average Unmet Cooling Setpoint Difference (C)_3',\n 'Indoor Relative Humidity (%)_3',\n 'Equipment Electric Power (kWh)_3',\n 'DHW Heating (kWh)_3',\n 'Cooling Load (kWh)_3',\n 'Occupant Count (people)_3',\n 'Temperature Set Point (C)_3',\n 'Outdoor Drybulb Temperature (C)',\n 'Outdoor Relative Humidity (%)',\n 'Diffuse Solar Radiation (W/m2)',\n 'Direct Solar Radiation (W/m2)',\n '6h Outdoor Drybulb Temperature (C)',\n '12h Outdoor Drybulb Temperature (C)',\n '24h Outdoor Drybulb Temperature (C)',\n '6h Outdoor Relative Humidity (%)',\n '12h Outdoor Relative Humidity (%)',\n '24h Outdoor Relative Humidity (%)',\n '6h Diffuse Solar Radiation (W/m2)',\n '12h Diffuse Solar Radiation (W/m2)',\n '24h Diffuse Solar Radiation (W/m2)',\n '6h Direct Solar Radiation (W/m2)',\n '12h Direct Solar Radiation (W/m2)',\n '24h Direct Solar Radiation (W/m2)',\n 'kg_CO2/kWh']"
     },
     "execution_count": 26,
     "metadata": {},
     "output_type": "execute_result"
    }
   ],
   "source": [
    "train1 = train.copy()\n",
    "test1 = test.copy()\n",
    "\n",
    "train1 = train1.drop(columns=[\"Solar Generation (W/kW)_1\", \"Solar Generation (W/kW)_2\", \"Solar Generation (W/kW)_3\"])\n",
    "test1 = test1.drop(columns=[\"Solar Generation (W/kW)_1\", \"Solar Generation (W/kW)_2\", \"Solar Generation (W/kW)_3\"])\n",
    "\n",
    "\n",
    "threshold = 0\n",
    "column_to_predict = \"Avg solar generation\"\n",
    "\n",
    "independent_variables = []\n",
    "\n",
    "\n",
    "for column in train1:\n",
    "    if abs(train1[column].corr(train1[column_to_predict])) > threshold:\n",
    "        independent_variables.append(column)\n",
    "\n",
    "independent_variables.remove(column_to_predict)\n",
    "independent_variables"
   ],
   "metadata": {
    "collapsed": false,
    "ExecuteTime": {
     "end_time": "2023-10-23T19:22:47.391686123Z",
     "start_time": "2023-10-23T19:22:47.378566325Z"
    }
   },
   "id": "f8a8d7f80590c533"
  },
  {
   "cell_type": "code",
   "execution_count": 27,
   "outputs": [
    {
     "data": {
      "text/plain": "     Avg solar generation  predicted\n0                0.000000   0.045256\n1                0.000000  -0.002548\n2                0.000000   0.007329\n3                0.000000   0.028808\n4                0.000000   0.027230\n..                    ...        ...\n679              0.138333   0.317547\n680              0.352913   0.432773\n681              0.527590   0.609295\n682              0.765604   0.756550\n683              0.826452   0.785339\n\n[684 rows x 2 columns]",
      "text/html": "<div>\n<style scoped>\n    .dataframe tbody tr th:only-of-type {\n        vertical-align: middle;\n    }\n\n    .dataframe tbody tr th {\n        vertical-align: top;\n    }\n\n    .dataframe thead th {\n        text-align: right;\n    }\n</style>\n<table border=\"1\" class=\"dataframe\">\n  <thead>\n    <tr style=\"text-align: right;\">\n      <th></th>\n      <th>Avg solar generation</th>\n      <th>predicted</th>\n    </tr>\n  </thead>\n  <tbody>\n    <tr>\n      <th>0</th>\n      <td>0.000000</td>\n      <td>0.045256</td>\n    </tr>\n    <tr>\n      <th>1</th>\n      <td>0.000000</td>\n      <td>-0.002548</td>\n    </tr>\n    <tr>\n      <th>2</th>\n      <td>0.000000</td>\n      <td>0.007329</td>\n    </tr>\n    <tr>\n      <th>3</th>\n      <td>0.000000</td>\n      <td>0.028808</td>\n    </tr>\n    <tr>\n      <th>4</th>\n      <td>0.000000</td>\n      <td>0.027230</td>\n    </tr>\n    <tr>\n      <th>...</th>\n      <td>...</td>\n      <td>...</td>\n    </tr>\n    <tr>\n      <th>679</th>\n      <td>0.138333</td>\n      <td>0.317547</td>\n    </tr>\n    <tr>\n      <th>680</th>\n      <td>0.352913</td>\n      <td>0.432773</td>\n    </tr>\n    <tr>\n      <th>681</th>\n      <td>0.527590</td>\n      <td>0.609295</td>\n    </tr>\n    <tr>\n      <th>682</th>\n      <td>0.765604</td>\n      <td>0.756550</td>\n    </tr>\n    <tr>\n      <th>683</th>\n      <td>0.826452</td>\n      <td>0.785339</td>\n    </tr>\n  </tbody>\n</table>\n<p>684 rows × 2 columns</p>\n</div>"
     },
     "execution_count": 27,
     "metadata": {},
     "output_type": "execute_result"
    }
   ],
   "source": [
    "X = train1[independent_variables]\n",
    "Y = train1[column_to_predict]\n",
    "\n",
    "regr = linear_model.LinearRegression()\n",
    "regr.fit(X, Y)\n",
    "\n",
    "y_pred = regr.predict(X)\n",
    "results = Y.copy()\n",
    "results = results.to_frame()\n",
    "results[\"predicted\"] = y_pred\n",
    "results"
   ],
   "metadata": {
    "collapsed": false,
    "ExecuteTime": {
     "end_time": "2023-10-23T19:22:58.196555366Z",
     "start_time": "2023-10-23T19:22:58.128995244Z"
    }
   },
   "id": "5be924637693c82d"
  },
  {
   "cell_type": "code",
   "execution_count": 28,
   "outputs": [
    {
     "data": {
      "text/plain": "0.9539744396315684"
     },
     "execution_count": 28,
     "metadata": {},
     "output_type": "execute_result"
    }
   ],
   "source": [
    "regr.score(X, Y)"
   ],
   "metadata": {
    "collapsed": false,
    "ExecuteTime": {
     "end_time": "2023-10-23T19:23:05.719213738Z",
     "start_time": "2023-10-23T19:23:05.712648519Z"
    }
   },
   "id": "7e36028a5c3c9927"
  },
  {
   "cell_type": "code",
   "execution_count": 29,
   "outputs": [
    {
     "data": {
      "text/plain": "     Avg solar generation  predicted\n684              0.942854   0.800844\n685              0.936498   0.884000\n686              0.849920   0.871367\n687              0.788518   0.806802\n688              0.594962   0.665138\n689              0.353275   0.434645\n690              0.117611   0.249037\n691              0.002852  -0.036852\n692              0.000000  -0.019870\n693              0.000000  -0.028068\n694              0.000000  -0.048654\n695              0.000000  -0.000694\n696              0.000000   0.049664\n697              0.000000   0.060808\n698              0.000000   0.114554\n699              0.000000   0.021998\n700              0.000000   0.036698\n701              0.000000  -0.043697\n702              0.042001   0.094566\n703              0.182794   0.284512\n704              0.421948   0.509280\n705              0.650849   0.629909\n706              0.820398   0.761449\n707              0.899643   0.777040\n708              0.955371   0.794385\n709              0.948050   0.793908\n710              0.841356   0.723242\n711              0.681897   0.585046\n712              0.508111   0.451419\n713              0.300607   0.258754\n714              0.111316   0.137770\n715              0.003143   0.011234\n716              0.000000  -0.011164\n717              0.000000  -0.010365\n718              0.000000  -0.049299\n719              0.000000  -0.065637",
      "text/html": "<div>\n<style scoped>\n    .dataframe tbody tr th:only-of-type {\n        vertical-align: middle;\n    }\n\n    .dataframe tbody tr th {\n        vertical-align: top;\n    }\n\n    .dataframe thead th {\n        text-align: right;\n    }\n</style>\n<table border=\"1\" class=\"dataframe\">\n  <thead>\n    <tr style=\"text-align: right;\">\n      <th></th>\n      <th>Avg solar generation</th>\n      <th>predicted</th>\n    </tr>\n  </thead>\n  <tbody>\n    <tr>\n      <th>684</th>\n      <td>0.942854</td>\n      <td>0.800844</td>\n    </tr>\n    <tr>\n      <th>685</th>\n      <td>0.936498</td>\n      <td>0.884000</td>\n    </tr>\n    <tr>\n      <th>686</th>\n      <td>0.849920</td>\n      <td>0.871367</td>\n    </tr>\n    <tr>\n      <th>687</th>\n      <td>0.788518</td>\n      <td>0.806802</td>\n    </tr>\n    <tr>\n      <th>688</th>\n      <td>0.594962</td>\n      <td>0.665138</td>\n    </tr>\n    <tr>\n      <th>689</th>\n      <td>0.353275</td>\n      <td>0.434645</td>\n    </tr>\n    <tr>\n      <th>690</th>\n      <td>0.117611</td>\n      <td>0.249037</td>\n    </tr>\n    <tr>\n      <th>691</th>\n      <td>0.002852</td>\n      <td>-0.036852</td>\n    </tr>\n    <tr>\n      <th>692</th>\n      <td>0.000000</td>\n      <td>-0.019870</td>\n    </tr>\n    <tr>\n      <th>693</th>\n      <td>0.000000</td>\n      <td>-0.028068</td>\n    </tr>\n    <tr>\n      <th>694</th>\n      <td>0.000000</td>\n      <td>-0.048654</td>\n    </tr>\n    <tr>\n      <th>695</th>\n      <td>0.000000</td>\n      <td>-0.000694</td>\n    </tr>\n    <tr>\n      <th>696</th>\n      <td>0.000000</td>\n      <td>0.049664</td>\n    </tr>\n    <tr>\n      <th>697</th>\n      <td>0.000000</td>\n      <td>0.060808</td>\n    </tr>\n    <tr>\n      <th>698</th>\n      <td>0.000000</td>\n      <td>0.114554</td>\n    </tr>\n    <tr>\n      <th>699</th>\n      <td>0.000000</td>\n      <td>0.021998</td>\n    </tr>\n    <tr>\n      <th>700</th>\n      <td>0.000000</td>\n      <td>0.036698</td>\n    </tr>\n    <tr>\n      <th>701</th>\n      <td>0.000000</td>\n      <td>-0.043697</td>\n    </tr>\n    <tr>\n      <th>702</th>\n      <td>0.042001</td>\n      <td>0.094566</td>\n    </tr>\n    <tr>\n      <th>703</th>\n      <td>0.182794</td>\n      <td>0.284512</td>\n    </tr>\n    <tr>\n      <th>704</th>\n      <td>0.421948</td>\n      <td>0.509280</td>\n    </tr>\n    <tr>\n      <th>705</th>\n      <td>0.650849</td>\n      <td>0.629909</td>\n    </tr>\n    <tr>\n      <th>706</th>\n      <td>0.820398</td>\n      <td>0.761449</td>\n    </tr>\n    <tr>\n      <th>707</th>\n      <td>0.899643</td>\n      <td>0.777040</td>\n    </tr>\n    <tr>\n      <th>708</th>\n      <td>0.955371</td>\n      <td>0.794385</td>\n    </tr>\n    <tr>\n      <th>709</th>\n      <td>0.948050</td>\n      <td>0.793908</td>\n    </tr>\n    <tr>\n      <th>710</th>\n      <td>0.841356</td>\n      <td>0.723242</td>\n    </tr>\n    <tr>\n      <th>711</th>\n      <td>0.681897</td>\n      <td>0.585046</td>\n    </tr>\n    <tr>\n      <th>712</th>\n      <td>0.508111</td>\n      <td>0.451419</td>\n    </tr>\n    <tr>\n      <th>713</th>\n      <td>0.300607</td>\n      <td>0.258754</td>\n    </tr>\n    <tr>\n      <th>714</th>\n      <td>0.111316</td>\n      <td>0.137770</td>\n    </tr>\n    <tr>\n      <th>715</th>\n      <td>0.003143</td>\n      <td>0.011234</td>\n    </tr>\n    <tr>\n      <th>716</th>\n      <td>0.000000</td>\n      <td>-0.011164</td>\n    </tr>\n    <tr>\n      <th>717</th>\n      <td>0.000000</td>\n      <td>-0.010365</td>\n    </tr>\n    <tr>\n      <th>718</th>\n      <td>0.000000</td>\n      <td>-0.049299</td>\n    </tr>\n    <tr>\n      <th>719</th>\n      <td>0.000000</td>\n      <td>-0.065637</td>\n    </tr>\n  </tbody>\n</table>\n</div>"
     },
     "execution_count": 29,
     "metadata": {},
     "output_type": "execute_result"
    }
   ],
   "source": [
    "X = train1[independent_variables]\n",
    "Y = train1[column_to_predict]\n",
    "\n",
    "X_test = test1[independent_variables]\n",
    "Y_test = test1[column_to_predict]\n",
    "\n",
    "regr = linear_model.LinearRegression()\n",
    "regr.fit(X, Y)\n",
    "\n",
    "y_pred = regr.predict(X_test)\n",
    "results = Y_test.copy()\n",
    "results = results.to_frame()\n",
    "results[\"predicted\"] = y_pred\n",
    "results"
   ],
   "metadata": {
    "collapsed": false,
    "ExecuteTime": {
     "end_time": "2023-10-23T19:23:13.235238576Z",
     "start_time": "2023-10-23T19:23:13.218676489Z"
    }
   },
   "id": "97babcebef3f82e1"
  },
  {
   "cell_type": "code",
   "execution_count": 30,
   "outputs": [
    {
     "data": {
      "text/plain": "0.9595760794724848"
     },
     "execution_count": 30,
     "metadata": {},
     "output_type": "execute_result"
    }
   ],
   "source": [
    "regr.score(X_test, Y_test)"
   ],
   "metadata": {
    "collapsed": false,
    "ExecuteTime": {
     "end_time": "2023-10-23T19:23:18.496565051Z",
     "start_time": "2023-10-23T19:23:18.490952554Z"
    }
   },
   "id": "d1a82a88df47b378"
  },
  {
   "cell_type": "markdown",
   "source": [
    "More intuitive choice for features for carbon intensity\n",
    "check all that have more than 0.2 and choose manually"
   ],
   "metadata": {
    "collapsed": false
   },
   "id": "546e4ada71906f0"
  },
  {
   "cell_type": "code",
   "execution_count": 17,
   "outputs": [
    {
     "name": "stdout",
     "output_type": "stream",
     "text": [
      "column = Hour_1, corr = 0.4725739111545835\n",
      "column = Day Type_1, corr = 0.32824556097941804\n",
      "column = Indoor Temperature (C)_1, corr = 0.3319011695472018\n",
      "column = Indoor Relative Humidity (%)_1, corr = 0.2431589905634283\n",
      "column = Solar Generation (W/kW)_1, corr = 0.31613942894723773\n",
      "column = Occupant Count (people)_1, corr = 0.38558567261049526\n",
      "column = Temperature Set Point (C)_1, corr = 0.3305287434724821\n",
      "column = Hour_2, corr = 0.4725739111545835\n",
      "column = Day Type_2, corr = 0.32824556097941804\n",
      "column = Average Unmet Cooling Setpoint Difference (C)_2, corr = 0.20508746119059387\n",
      "column = Cooling Load (kWh)_2, corr = 0.3185567320650478\n",
      "column = Solar Generation (W/kW)_2, corr = 0.31613942894723773\n",
      "column = Occupant Count (people)_2, corr = 0.3228678821009518\n",
      "column = Hour_3, corr = 0.4725739111545835\n",
      "column = Day Type_3, corr = 0.32824556097941804\n",
      "column = Indoor Temperature (C)_3, corr = 0.22234199213561148\n",
      "column = Indoor Relative Humidity (%)_3, corr = 0.2995061223600635\n",
      "column = Cooling Load (kWh)_3, corr = 0.352288740750751\n",
      "column = Solar Generation (W/kW)_3, corr = 0.31613942894723773\n",
      "column = Occupant Count (people)_3, corr = 0.4566795273878805\n",
      "column = Temperature Set Point (C)_3, corr = 0.22373972070957285\n",
      "column = Outdoor Drybulb Temperature (C), corr = 0.39139257606941685\n",
      "column = Outdoor Relative Humidity (%), corr = 0.3609919269352605\n",
      "column = Diffuse Solar Radiation (W/m2), corr = 0.3961094727118894\n",
      "column = Direct Solar Radiation (W/m2), corr = 0.2070676621109555\n",
      "column = 6h Outdoor Drybulb Temperature (C), corr = 0.2836812097634688\n",
      "column = 12h Outdoor Drybulb Temperature (C), corr = 0.6323695656648245\n",
      "column = 24h Outdoor Drybulb Temperature (C), corr = 0.42885484330251256\n",
      "column = 6h Outdoor Relative Humidity (%), corr = 0.2895419486375433\n",
      "column = 12h Outdoor Relative Humidity (%), corr = 0.5554942632399923\n",
      "column = 24h Outdoor Relative Humidity (%), corr = 0.34930612609019096\n",
      "column = 6h Diffuse Solar Radiation (W/m2), corr = 0.2712929376844067\n",
      "column = 12h Diffuse Solar Radiation (W/m2), corr = 0.23619689791328907\n",
      "column = 24h Diffuse Solar Radiation (W/m2), corr = 0.29562278713877865\n",
      "column = 6h Direct Solar Radiation (W/m2), corr = 0.5595605589170168\n",
      "column = 12h Direct Solar Radiation (W/m2), corr = 0.41828518261302094\n",
      "column = 24h Direct Solar Radiation (W/m2), corr = 0.3091902923595938\n",
      "column = Avg solar generation, corr = 1.0\n"
     ]
    }
   ],
   "source": [
    "threshold = 0.2\n",
    "column_to_predict = \"kg_CO2/kWh\"\n",
    "\n",
    "independent_variables = []\n",
    "values = []\n",
    "\n",
    "\n",
    "for column in train:\n",
    "    if abs(train[column].corr(train[column_to_predict])) > threshold:\n",
    "        independent_variables.append(column)\n",
    "        values.append(abs(train[column].corr(train[column_to_predict])))\n",
    "\n",
    "independent_variables.remove(column_to_predict)\n",
    "\n",
    "for i in range(len(independent_variables)):\n",
    "    print(f\"column = {independent_variables[i]}, corr = {values[i]}\")"
   ],
   "metadata": {
    "collapsed": false,
    "ExecuteTime": {
     "end_time": "2023-10-23T19:12:24.101470395Z",
     "start_time": "2023-10-23T19:12:24.010830961Z"
    }
   },
   "id": "21d031a6c2e3701b"
  },
  {
   "cell_type": "code",
   "execution_count": 18,
   "outputs": [
    {
     "data": {
      "text/plain": "     kg_CO2/kWh  predicted\n684    0.471615   0.481098\n685    0.518917   0.589472\n686    0.554976   0.639690\n687    0.564855   0.640832\n688    0.555823   0.663350\n689    0.549391   0.579039\n690    0.544221   0.587976\n691    0.500163   0.578213\n692    0.491011   0.528992\n693    0.496357   0.454422\n694    0.481642   0.453316\n695    0.503693   0.443840\n696    0.517775   0.163224\n697    0.563846   0.229265\n698    0.569727   0.277450\n699    0.582340   0.224707\n700    0.557425   0.249360\n701    0.576379   0.216632\n702    0.548859   0.351349\n703    0.503307   0.396724\n704    0.425264   0.403109\n705    0.263146   0.524505\n706    0.272375   0.526180\n707    0.366386   0.516112\n708    0.432384   0.540376\n709    0.506673   0.517412\n710    0.579861   0.589908\n711    0.601116   0.571195\n712    0.605275   0.586191\n713    0.602406   0.533729\n714    0.584241   0.537858\n715    0.587037   0.570600\n716    0.607686   0.594586\n717    0.571493   0.557056\n718    0.508506   0.481164\n719    0.414290   0.424395",
      "text/html": "<div>\n<style scoped>\n    .dataframe tbody tr th:only-of-type {\n        vertical-align: middle;\n    }\n\n    .dataframe tbody tr th {\n        vertical-align: top;\n    }\n\n    .dataframe thead th {\n        text-align: right;\n    }\n</style>\n<table border=\"1\" class=\"dataframe\">\n  <thead>\n    <tr style=\"text-align: right;\">\n      <th></th>\n      <th>kg_CO2/kWh</th>\n      <th>predicted</th>\n    </tr>\n  </thead>\n  <tbody>\n    <tr>\n      <th>684</th>\n      <td>0.471615</td>\n      <td>0.481098</td>\n    </tr>\n    <tr>\n      <th>685</th>\n      <td>0.518917</td>\n      <td>0.589472</td>\n    </tr>\n    <tr>\n      <th>686</th>\n      <td>0.554976</td>\n      <td>0.639690</td>\n    </tr>\n    <tr>\n      <th>687</th>\n      <td>0.564855</td>\n      <td>0.640832</td>\n    </tr>\n    <tr>\n      <th>688</th>\n      <td>0.555823</td>\n      <td>0.663350</td>\n    </tr>\n    <tr>\n      <th>689</th>\n      <td>0.549391</td>\n      <td>0.579039</td>\n    </tr>\n    <tr>\n      <th>690</th>\n      <td>0.544221</td>\n      <td>0.587976</td>\n    </tr>\n    <tr>\n      <th>691</th>\n      <td>0.500163</td>\n      <td>0.578213</td>\n    </tr>\n    <tr>\n      <th>692</th>\n      <td>0.491011</td>\n      <td>0.528992</td>\n    </tr>\n    <tr>\n      <th>693</th>\n      <td>0.496357</td>\n      <td>0.454422</td>\n    </tr>\n    <tr>\n      <th>694</th>\n      <td>0.481642</td>\n      <td>0.453316</td>\n    </tr>\n    <tr>\n      <th>695</th>\n      <td>0.503693</td>\n      <td>0.443840</td>\n    </tr>\n    <tr>\n      <th>696</th>\n      <td>0.517775</td>\n      <td>0.163224</td>\n    </tr>\n    <tr>\n      <th>697</th>\n      <td>0.563846</td>\n      <td>0.229265</td>\n    </tr>\n    <tr>\n      <th>698</th>\n      <td>0.569727</td>\n      <td>0.277450</td>\n    </tr>\n    <tr>\n      <th>699</th>\n      <td>0.582340</td>\n      <td>0.224707</td>\n    </tr>\n    <tr>\n      <th>700</th>\n      <td>0.557425</td>\n      <td>0.249360</td>\n    </tr>\n    <tr>\n      <th>701</th>\n      <td>0.576379</td>\n      <td>0.216632</td>\n    </tr>\n    <tr>\n      <th>702</th>\n      <td>0.548859</td>\n      <td>0.351349</td>\n    </tr>\n    <tr>\n      <th>703</th>\n      <td>0.503307</td>\n      <td>0.396724</td>\n    </tr>\n    <tr>\n      <th>704</th>\n      <td>0.425264</td>\n      <td>0.403109</td>\n    </tr>\n    <tr>\n      <th>705</th>\n      <td>0.263146</td>\n      <td>0.524505</td>\n    </tr>\n    <tr>\n      <th>706</th>\n      <td>0.272375</td>\n      <td>0.526180</td>\n    </tr>\n    <tr>\n      <th>707</th>\n      <td>0.366386</td>\n      <td>0.516112</td>\n    </tr>\n    <tr>\n      <th>708</th>\n      <td>0.432384</td>\n      <td>0.540376</td>\n    </tr>\n    <tr>\n      <th>709</th>\n      <td>0.506673</td>\n      <td>0.517412</td>\n    </tr>\n    <tr>\n      <th>710</th>\n      <td>0.579861</td>\n      <td>0.589908</td>\n    </tr>\n    <tr>\n      <th>711</th>\n      <td>0.601116</td>\n      <td>0.571195</td>\n    </tr>\n    <tr>\n      <th>712</th>\n      <td>0.605275</td>\n      <td>0.586191</td>\n    </tr>\n    <tr>\n      <th>713</th>\n      <td>0.602406</td>\n      <td>0.533729</td>\n    </tr>\n    <tr>\n      <th>714</th>\n      <td>0.584241</td>\n      <td>0.537858</td>\n    </tr>\n    <tr>\n      <th>715</th>\n      <td>0.587037</td>\n      <td>0.570600</td>\n    </tr>\n    <tr>\n      <th>716</th>\n      <td>0.607686</td>\n      <td>0.594586</td>\n    </tr>\n    <tr>\n      <th>717</th>\n      <td>0.571493</td>\n      <td>0.557056</td>\n    </tr>\n    <tr>\n      <th>718</th>\n      <td>0.508506</td>\n      <td>0.481164</td>\n    </tr>\n    <tr>\n      <th>719</th>\n      <td>0.414290</td>\n      <td>0.424395</td>\n    </tr>\n  </tbody>\n</table>\n</div>"
     },
     "execution_count": 18,
     "metadata": {},
     "output_type": "execute_result"
    }
   ],
   "source": [
    "# What about day type and hour between the buildings?\n",
    "# they have the same values, but because they are highly correlated, the more of them the better\n",
    "\n",
    "columns_to_use = [\"Hour_1\", \"Day Type_1\", \"Hour_2\", \"Day Type_2\", \"Hour_3\", \"Day Type_3\",\n",
    "                  \"Indoor Temperature (C)_1\", \"Indoor Temperature (C)_2\", \"Indoor Temperature (C)_3\",\n",
    "                  \"Solar Generation (W/kW)_1\", \"Solar Generation (W/kW)_2\", \"Solar Generation (W/kW)_3\",\n",
    "                  \"Occupant Count (people)_1\", \"Occupant Count (people)_2\", \"Occupant Count (people)_3\",\n",
    "                  \"Cooling Load (kWh)_1\", \"Cooling Load (kWh)_2\", \"Cooling Load (kWh)_3\",\n",
    "                  \"Outdoor Drybulb Temperature (C)\", \"Diffuse Solar Radiation (W/m2)\",\n",
    "                  \"12h Outdoor Drybulb Temperature (C)\", \"12h Outdoor Relative Humidity (%)\",\n",
    "                  \"12h Diffuse Solar Radiation (W/m2)\", \"12h Direct Solar Radiation (W/m2)\"]\n",
    "\n",
    "X = train[columns_to_use]\n",
    "Y = train[column_to_predict]\n",
    "\n",
    "X_test = test[columns_to_use]\n",
    "Y_test = test[column_to_predict]\n",
    "\n",
    "regr = linear_model.LinearRegression()\n",
    "regr.fit(X, Y)\n",
    "\n",
    "y_pred = regr.predict(X_test)\n",
    "results = Y_test.copy()\n",
    "results = results.to_frame()\n",
    "results[\"predicted\"] = y_pred\n",
    "results"
   ],
   "metadata": {
    "collapsed": false,
    "ExecuteTime": {
     "end_time": "2023-10-23T19:12:24.106776696Z",
     "start_time": "2023-10-23T19:12:24.011380387Z"
    }
   },
   "id": "88595e00baedfcd9"
  },
  {
   "cell_type": "code",
   "execution_count": 19,
   "outputs": [
    {
     "data": {
      "text/plain": "-2.83394497631553"
     },
     "execution_count": 19,
     "metadata": {},
     "output_type": "execute_result"
    }
   ],
   "source": [
    "regr.score(X_test, Y_test)"
   ],
   "metadata": {
    "collapsed": false,
    "ExecuteTime": {
     "end_time": "2023-10-23T19:12:24.107197687Z",
     "start_time": "2023-10-23T19:12:24.051945159Z"
    }
   },
   "id": "2d957676a2bc834a"
  },
  {
   "cell_type": "code",
   "execution_count": 20,
   "outputs": [],
   "source": [
    "columns_to_use = [\"Hour_1\", \"Day Type_1\", \"Hour_2\", \"Day Type_2\", \"Hour_3\", \"Day Type_3\",\n",
    "                  \"Indoor Temperature (C)_1\", \"Indoor Temperature (C)_2\", \"Indoor Temperature (C)_3\",\n",
    "                  \"Solar Generation (W/kW)_1\", \"Solar Generation (W/kW)_2\", \"Solar Generation (W/kW)_3\",\n",
    "                  \"Occupant Count (people)_1\", \"Occupant Count (people)_2\", \"Occupant Count (people)_3\",\n",
    "                  \"Cooling Load (kWh)_1\", \"Cooling Load (kWh)_2\", \"Cooling Load (kWh)_3\",\n",
    "                  \"Outdoor Drybulb Temperature (C)\", \"Diffuse Solar Radiation (W/m2)\",\n",
    "                  \"12h Outdoor Drybulb Temperature (C)\", \"12h Outdoor Relative Humidity (%)\",\n",
    "                  \"12h Diffuse Solar Radiation (W/m2)\", \"12h Direct Solar Radiation (W/m2)\"]\n",
    "\n",
    "X = train[columns_to_use]\n",
    "Y = train[column_to_predict]"
   ],
   "metadata": {
    "collapsed": false,
    "ExecuteTime": {
     "end_time": "2023-10-23T19:12:24.107386176Z",
     "start_time": "2023-10-23T19:12:24.052575098Z"
    }
   },
   "id": "3740d23998888fc7"
  },
  {
   "cell_type": "markdown",
   "source": [
    "Piece-wise Linear Regression"
   ],
   "metadata": {
    "collapsed": false
   },
   "id": "34e48aba2399d310"
  },
  {
   "cell_type": "code",
   "execution_count": 21,
   "outputs": [
    {
     "name": "stdout",
     "output_type": "stream",
     "text": [
      "start = 0, end = 72, score = 0.9251220514898175\n",
      "start = 72, end = 144, score = 0.8971651480098084\n",
      "start = 144, end = 216, score = 0.9015815856981235\n",
      "start = 216, end = 288, score = 0.8390037110800765\n",
      "start = 288, end = 360, score = 0.8912015468350222\n",
      "start = 360, end = 432, score = 0.8368282719848288\n",
      "start = 432, end = 504, score = 0.7545748382013704\n",
      "start = 504, end = 576, score = 0.8873150157572576\n",
      "start = 576, end = 648, score = 0.8629620341554332\n",
      "0.8206057056012356\n"
     ]
    }
   ],
   "source": [
    "# train = 684 columns\n",
    "\n",
    "# for whole numbers, use 6, 9, 12, 18 (these are 1.0 average score, probably overfit)\n",
    "# using e.g. 72 seems much more reasonable\n",
    "# but e.g. 12 seems reasonable since it can represent day/night\n",
    "# how to use this to predict the test?\n",
    "\n",
    "step_size = 72\n",
    "overall_score = 0\n",
    "regr = linear_model.LinearRegression()\n",
    "\n",
    "for step in range(int(len(train)/step_size)):\n",
    "    start = step*step_size\n",
    "    end = step*step_size + step_size\n",
    "    df_x = X.iloc[start:end]\n",
    "    df_y = Y.iloc[start:end]\n",
    "    regr.fit(df_x, df_y)\n",
    "    overall_score += regr.score(df_x, df_y)\n",
    "    print(f\"start = {start}, end = {end}, score = {regr.score(df_x, df_y)}\")\n",
    "\n",
    "overall_score /= len(train)/step_size\n",
    "print(overall_score)"
   ],
   "metadata": {
    "collapsed": false,
    "ExecuteTime": {
     "end_time": "2023-10-23T19:12:24.185350264Z",
     "start_time": "2023-10-23T19:12:24.053083906Z"
    }
   },
   "id": "48ef2fbbdfd21f27"
  },
  {
   "cell_type": "code",
   "execution_count": 21,
   "outputs": [],
   "source": [],
   "metadata": {
    "collapsed": false,
    "ExecuteTime": {
     "end_time": "2023-10-23T19:12:24.230552923Z",
     "start_time": "2023-10-23T19:12:24.096057062Z"
    }
   },
   "id": "1e4abdc6ae4ce83f"
  }
 ],
 "metadata": {
  "kernelspec": {
   "display_name": "Python 3",
   "language": "python",
   "name": "python3"
  },
  "language_info": {
   "codemirror_mode": {
    "name": "ipython",
    "version": 2
   },
   "file_extension": ".py",
   "mimetype": "text/x-python",
   "name": "python",
   "nbconvert_exporter": "python",
   "pygments_lexer": "ipython2",
   "version": "2.7.6"
  }
 },
 "nbformat": 4,
 "nbformat_minor": 5
}
