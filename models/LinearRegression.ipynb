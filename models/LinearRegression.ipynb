{
 "cells": [
  {
   "cell_type": "code",
   "execution_count": 1,
   "id": "initial_id",
   "metadata": {
    "collapsed": true,
    "ExecuteTime": {
     "end_time": "2023-10-23T19:12:23.508607554Z",
     "start_time": "2023-10-23T19:12:23.403568391Z"
    }
   },
   "outputs": [],
   "source": [
    "import matplotlib.pyplot as plt\n",
    "import numpy as np\n",
    "import pandas as pd\n",
    "import seaborn as sns\n",
    "from sklearn.model_selection import train_test_split\n",
    "from sklearn import linear_model"
   ]
  },
  {
   "cell_type": "code",
   "execution_count": 2,
   "outputs": [],
   "source": [
    "train = pd.read_csv(\"../data/schemas/warm_up/TrainSet.csv\", sep=\",\")\n",
    "test = pd.read_csv(\"../data/schemas/warm_up/TestSet.csv\", sep=\",\")"
   ],
   "metadata": {
    "collapsed": false,
    "ExecuteTime": {
     "end_time": "2023-10-23T19:12:23.527657313Z",
     "start_time": "2023-10-23T19:12:23.509611234Z"
    }
   },
   "id": "284601924d111671"
  },
  {
   "cell_type": "markdown",
   "source": [
    "Using automatic feature selection with threshold to predict carbon intensity"
   ],
   "metadata": {
    "collapsed": false
   },
   "id": "8abefb4b13cfddcc"
  },
  {
   "cell_type": "code",
   "execution_count": 10,
   "outputs": [
    {
     "data": {
      "text/plain": "['Index',\n 'Hour_1',\n 'Day Type_1',\n 'Indoor Temperature (C)_1',\n 'Average Unmet Cooling Setpoint Difference (C)_1',\n 'Indoor Relative Humidity (%)_1',\n 'Equipment Electric Power (kWh)_1',\n 'DHW Heating (kWh)_1',\n 'Cooling Load (kWh)_1',\n 'Solar Generation (W/kW)_1',\n 'Occupant Count (people)_1',\n 'Temperature Set Point (C)_1',\n 'Hour_2',\n 'Day Type_2',\n 'Indoor Temperature (C)_2',\n 'Average Unmet Cooling Setpoint Difference (C)_2',\n 'Indoor Relative Humidity (%)_2',\n 'Equipment Electric Power (kWh)_2',\n 'DHW Heating (kWh)_2',\n 'Cooling Load (kWh)_2',\n 'Solar Generation (W/kW)_2',\n 'Occupant Count (people)_2',\n 'Temperature Set Point (C)_2',\n 'Hour_3',\n 'Day Type_3',\n 'Indoor Temperature (C)_3',\n 'Average Unmet Cooling Setpoint Difference (C)_3',\n 'Indoor Relative Humidity (%)_3',\n 'Equipment Electric Power (kWh)_3',\n 'DHW Heating (kWh)_3',\n 'Cooling Load (kWh)_3',\n 'Solar Generation (W/kW)_3',\n 'Occupant Count (people)_3',\n 'Temperature Set Point (C)_3',\n 'Outdoor Drybulb Temperature (C)',\n 'Outdoor Relative Humidity (%)',\n 'Diffuse Solar Radiation (W/m2)',\n 'Direct Solar Radiation (W/m2)',\n '6h Outdoor Drybulb Temperature (C)',\n '12h Outdoor Drybulb Temperature (C)',\n '24h Outdoor Drybulb Temperature (C)',\n '6h Outdoor Relative Humidity (%)',\n '12h Outdoor Relative Humidity (%)',\n '24h Outdoor Relative Humidity (%)',\n '6h Diffuse Solar Radiation (W/m2)',\n '12h Diffuse Solar Radiation (W/m2)',\n '24h Diffuse Solar Radiation (W/m2)',\n '6h Direct Solar Radiation (W/m2)',\n '12h Direct Solar Radiation (W/m2)',\n '24h Direct Solar Radiation (W/m2)',\n 'Avg solar generation']"
     },
     "execution_count": 10,
     "metadata": {},
     "output_type": "execute_result"
    }
   ],
   "source": [
    "threshold = 0\n",
    "column_to_predict = \"kg_CO2/kWh\"\n",
    "\n",
    "independent_variables = []\n",
    "\n",
    "\n",
    "for column in train:\n",
    "    if abs(train[column].corr(train[column_to_predict])) > threshold:\n",
    "        independent_variables.append(column)\n",
    "\n",
    "independent_variables.remove(column_to_predict)\n",
    "independent_variables"
   ],
   "metadata": {
    "collapsed": false,
    "ExecuteTime": {
     "end_time": "2023-10-23T19:12:24.073614675Z",
     "start_time": "2023-10-23T19:12:23.834305962Z"
    }
   },
   "id": "eb6ac8029f6d170"
  },
  {
   "cell_type": "code",
   "execution_count": 11,
   "outputs": [],
   "source": [
    "X = train[independent_variables]\n",
    "Y = train[column_to_predict]"
   ],
   "metadata": {
    "collapsed": false,
    "ExecuteTime": {
     "end_time": "2023-10-23T19:12:24.073952327Z",
     "start_time": "2023-10-23T19:12:23.876439629Z"
    }
   },
   "id": "d9eb4601d75843c7"
  },
  {
   "cell_type": "code",
   "execution_count": 12,
   "outputs": [
    {
     "data": {
      "text/plain": "LinearRegression()",
      "text/html": "<style>#sk-container-id-1 {color: black;}#sk-container-id-1 pre{padding: 0;}#sk-container-id-1 div.sk-toggleable {background-color: white;}#sk-container-id-1 label.sk-toggleable__label {cursor: pointer;display: block;width: 100%;margin-bottom: 0;padding: 0.3em;box-sizing: border-box;text-align: center;}#sk-container-id-1 label.sk-toggleable__label-arrow:before {content: \"▸\";float: left;margin-right: 0.25em;color: #696969;}#sk-container-id-1 label.sk-toggleable__label-arrow:hover:before {color: black;}#sk-container-id-1 div.sk-estimator:hover label.sk-toggleable__label-arrow:before {color: black;}#sk-container-id-1 div.sk-toggleable__content {max-height: 0;max-width: 0;overflow: hidden;text-align: left;background-color: #f0f8ff;}#sk-container-id-1 div.sk-toggleable__content pre {margin: 0.2em;color: black;border-radius: 0.25em;background-color: #f0f8ff;}#sk-container-id-1 input.sk-toggleable__control:checked~div.sk-toggleable__content {max-height: 200px;max-width: 100%;overflow: auto;}#sk-container-id-1 input.sk-toggleable__control:checked~label.sk-toggleable__label-arrow:before {content: \"▾\";}#sk-container-id-1 div.sk-estimator input.sk-toggleable__control:checked~label.sk-toggleable__label {background-color: #d4ebff;}#sk-container-id-1 div.sk-label input.sk-toggleable__control:checked~label.sk-toggleable__label {background-color: #d4ebff;}#sk-container-id-1 input.sk-hidden--visually {border: 0;clip: rect(1px 1px 1px 1px);clip: rect(1px, 1px, 1px, 1px);height: 1px;margin: -1px;overflow: hidden;padding: 0;position: absolute;width: 1px;}#sk-container-id-1 div.sk-estimator {font-family: monospace;background-color: #f0f8ff;border: 1px dotted black;border-radius: 0.25em;box-sizing: border-box;margin-bottom: 0.5em;}#sk-container-id-1 div.sk-estimator:hover {background-color: #d4ebff;}#sk-container-id-1 div.sk-parallel-item::after {content: \"\";width: 100%;border-bottom: 1px solid gray;flex-grow: 1;}#sk-container-id-1 div.sk-label:hover label.sk-toggleable__label {background-color: #d4ebff;}#sk-container-id-1 div.sk-serial::before {content: \"\";position: absolute;border-left: 1px solid gray;box-sizing: border-box;top: 0;bottom: 0;left: 50%;z-index: 0;}#sk-container-id-1 div.sk-serial {display: flex;flex-direction: column;align-items: center;background-color: white;padding-right: 0.2em;padding-left: 0.2em;position: relative;}#sk-container-id-1 div.sk-item {position: relative;z-index: 1;}#sk-container-id-1 div.sk-parallel {display: flex;align-items: stretch;justify-content: center;background-color: white;position: relative;}#sk-container-id-1 div.sk-item::before, #sk-container-id-1 div.sk-parallel-item::before {content: \"\";position: absolute;border-left: 1px solid gray;box-sizing: border-box;top: 0;bottom: 0;left: 50%;z-index: -1;}#sk-container-id-1 div.sk-parallel-item {display: flex;flex-direction: column;z-index: 1;position: relative;background-color: white;}#sk-container-id-1 div.sk-parallel-item:first-child::after {align-self: flex-end;width: 50%;}#sk-container-id-1 div.sk-parallel-item:last-child::after {align-self: flex-start;width: 50%;}#sk-container-id-1 div.sk-parallel-item:only-child::after {width: 0;}#sk-container-id-1 div.sk-dashed-wrapped {border: 1px dashed gray;margin: 0 0.4em 0.5em 0.4em;box-sizing: border-box;padding-bottom: 0.4em;background-color: white;}#sk-container-id-1 div.sk-label label {font-family: monospace;font-weight: bold;display: inline-block;line-height: 1.2em;}#sk-container-id-1 div.sk-label-container {text-align: center;}#sk-container-id-1 div.sk-container {/* jupyter's `normalize.less` sets `[hidden] { display: none; }` but bootstrap.min.css set `[hidden] { display: none !important; }` so we also need the `!important` here to be able to override the default hidden behavior on the sphinx rendered scikit-learn.org. See: https://github.com/scikit-learn/scikit-learn/issues/21755 */display: inline-block !important;position: relative;}#sk-container-id-1 div.sk-text-repr-fallback {display: none;}</style><div id=\"sk-container-id-1\" class=\"sk-top-container\"><div class=\"sk-text-repr-fallback\"><pre>LinearRegression()</pre><b>In a Jupyter environment, please rerun this cell to show the HTML representation or trust the notebook. <br />On GitHub, the HTML representation is unable to render, please try loading this page with nbviewer.org.</b></div><div class=\"sk-container\" hidden><div class=\"sk-item\"><div class=\"sk-estimator sk-toggleable\"><input class=\"sk-toggleable__control sk-hidden--visually\" id=\"sk-estimator-id-1\" type=\"checkbox\" checked><label for=\"sk-estimator-id-1\" class=\"sk-toggleable__label sk-toggleable__label-arrow\">LinearRegression</label><div class=\"sk-toggleable__content\"><pre>LinearRegression()</pre></div></div></div></div></div>"
     },
     "execution_count": 12,
     "metadata": {},
     "output_type": "execute_result"
    }
   ],
   "source": [
    "regr = linear_model.LinearRegression()\n",
    "regr.fit(X, Y)"
   ],
   "metadata": {
    "collapsed": false,
    "ExecuteTime": {
     "end_time": "2023-10-23T19:12:24.075101154Z",
     "start_time": "2023-10-23T19:12:23.876787732Z"
    }
   },
   "id": "7f31f0ffec88ac0e"
  },
  {
   "cell_type": "code",
   "execution_count": 13,
   "outputs": [
    {
     "data": {
      "text/plain": "     kg_CO2/kWh  predicted\n0      0.297295   0.292678\n1      0.206405   0.330426\n2      0.146161   0.320186\n3      0.134990   0.255513\n4      0.167124   0.319180\n..          ...        ...\n679    0.242889   0.264667\n680    0.214475   0.362552\n681    0.193694   0.421455\n682    0.306812   0.481065\n683    0.404334   0.556194\n\n[684 rows x 2 columns]",
      "text/html": "<div>\n<style scoped>\n    .dataframe tbody tr th:only-of-type {\n        vertical-align: middle;\n    }\n\n    .dataframe tbody tr th {\n        vertical-align: top;\n    }\n\n    .dataframe thead th {\n        text-align: right;\n    }\n</style>\n<table border=\"1\" class=\"dataframe\">\n  <thead>\n    <tr style=\"text-align: right;\">\n      <th></th>\n      <th>kg_CO2/kWh</th>\n      <th>predicted</th>\n    </tr>\n  </thead>\n  <tbody>\n    <tr>\n      <th>0</th>\n      <td>0.297295</td>\n      <td>0.292678</td>\n    </tr>\n    <tr>\n      <th>1</th>\n      <td>0.206405</td>\n      <td>0.330426</td>\n    </tr>\n    <tr>\n      <th>2</th>\n      <td>0.146161</td>\n      <td>0.320186</td>\n    </tr>\n    <tr>\n      <th>3</th>\n      <td>0.134990</td>\n      <td>0.255513</td>\n    </tr>\n    <tr>\n      <th>4</th>\n      <td>0.167124</td>\n      <td>0.319180</td>\n    </tr>\n    <tr>\n      <th>...</th>\n      <td>...</td>\n      <td>...</td>\n    </tr>\n    <tr>\n      <th>679</th>\n      <td>0.242889</td>\n      <td>0.264667</td>\n    </tr>\n    <tr>\n      <th>680</th>\n      <td>0.214475</td>\n      <td>0.362552</td>\n    </tr>\n    <tr>\n      <th>681</th>\n      <td>0.193694</td>\n      <td>0.421455</td>\n    </tr>\n    <tr>\n      <th>682</th>\n      <td>0.306812</td>\n      <td>0.481065</td>\n    </tr>\n    <tr>\n      <th>683</th>\n      <td>0.404334</td>\n      <td>0.556194</td>\n    </tr>\n  </tbody>\n</table>\n<p>684 rows × 2 columns</p>\n</div>"
     },
     "execution_count": 13,
     "metadata": {},
     "output_type": "execute_result"
    }
   ],
   "source": [
    "y_pred = regr.predict(X)\n",
    "results = Y.copy()\n",
    "results = results.to_frame()\n",
    "results[\"predicted\"] = y_pred\n",
    "results"
   ],
   "metadata": {
    "collapsed": false,
    "ExecuteTime": {
     "end_time": "2023-10-23T19:12:24.097773930Z",
     "start_time": "2023-10-23T19:12:23.877110015Z"
    }
   },
   "id": "6974cdb7de20f0c1"
  },
  {
   "cell_type": "code",
   "execution_count": 14,
   "outputs": [
    {
     "data": {
      "text/plain": "0.6642533028003659"
     },
     "execution_count": 14,
     "metadata": {},
     "output_type": "execute_result"
    }
   ],
   "source": [
    "regr.score(X, Y)"
   ],
   "metadata": {
    "collapsed": false,
    "ExecuteTime": {
     "end_time": "2023-10-23T19:12:24.098096684Z",
     "start_time": "2023-10-23T19:12:23.941275158Z"
    }
   },
   "id": "4a57cbb3d2a71788"
  },
  {
   "cell_type": "code",
   "execution_count": 15,
   "outputs": [
    {
     "data": {
      "text/plain": "     kg_CO2/kWh  predicted\n684    0.471615   0.465308\n685    0.518917   0.593791\n686    0.554976   0.573076\n687    0.564855   0.596734\n688    0.555823   0.601599\n689    0.549391   0.576729\n690    0.544221   0.730759\n691    0.500163   0.554402\n692    0.491011   0.477341\n693    0.496357   0.497929\n694    0.481642   0.497369\n695    0.503693   0.511884\n696    0.517775   0.282300\n697    0.563846   0.275297\n698    0.569727   0.270726\n699    0.582340   0.247300\n700    0.557425   0.246704\n701    0.576379   0.237653\n702    0.548859   0.390769\n703    0.503307   0.490929\n704    0.425264   0.507202\n705    0.263146   0.608182\n706    0.272375   0.532376\n707    0.366386   0.572367\n708    0.432384   0.516956\n709    0.506673   0.480883\n710    0.579861   0.538608\n711    0.601116   0.537311\n712    0.605275   0.509629\n713    0.602406   0.484060\n714    0.584241   0.508864\n715    0.587037   0.499048\n716    0.607686   0.508684\n717    0.571493   0.511109\n718    0.508506   0.515288\n719    0.414290   0.481426",
      "text/html": "<div>\n<style scoped>\n    .dataframe tbody tr th:only-of-type {\n        vertical-align: middle;\n    }\n\n    .dataframe tbody tr th {\n        vertical-align: top;\n    }\n\n    .dataframe thead th {\n        text-align: right;\n    }\n</style>\n<table border=\"1\" class=\"dataframe\">\n  <thead>\n    <tr style=\"text-align: right;\">\n      <th></th>\n      <th>kg_CO2/kWh</th>\n      <th>predicted</th>\n    </tr>\n  </thead>\n  <tbody>\n    <tr>\n      <th>684</th>\n      <td>0.471615</td>\n      <td>0.465308</td>\n    </tr>\n    <tr>\n      <th>685</th>\n      <td>0.518917</td>\n      <td>0.593791</td>\n    </tr>\n    <tr>\n      <th>686</th>\n      <td>0.554976</td>\n      <td>0.573076</td>\n    </tr>\n    <tr>\n      <th>687</th>\n      <td>0.564855</td>\n      <td>0.596734</td>\n    </tr>\n    <tr>\n      <th>688</th>\n      <td>0.555823</td>\n      <td>0.601599</td>\n    </tr>\n    <tr>\n      <th>689</th>\n      <td>0.549391</td>\n      <td>0.576729</td>\n    </tr>\n    <tr>\n      <th>690</th>\n      <td>0.544221</td>\n      <td>0.730759</td>\n    </tr>\n    <tr>\n      <th>691</th>\n      <td>0.500163</td>\n      <td>0.554402</td>\n    </tr>\n    <tr>\n      <th>692</th>\n      <td>0.491011</td>\n      <td>0.477341</td>\n    </tr>\n    <tr>\n      <th>693</th>\n      <td>0.496357</td>\n      <td>0.497929</td>\n    </tr>\n    <tr>\n      <th>694</th>\n      <td>0.481642</td>\n      <td>0.497369</td>\n    </tr>\n    <tr>\n      <th>695</th>\n      <td>0.503693</td>\n      <td>0.511884</td>\n    </tr>\n    <tr>\n      <th>696</th>\n      <td>0.517775</td>\n      <td>0.282300</td>\n    </tr>\n    <tr>\n      <th>697</th>\n      <td>0.563846</td>\n      <td>0.275297</td>\n    </tr>\n    <tr>\n      <th>698</th>\n      <td>0.569727</td>\n      <td>0.270726</td>\n    </tr>\n    <tr>\n      <th>699</th>\n      <td>0.582340</td>\n      <td>0.247300</td>\n    </tr>\n    <tr>\n      <th>700</th>\n      <td>0.557425</td>\n      <td>0.246704</td>\n    </tr>\n    <tr>\n      <th>701</th>\n      <td>0.576379</td>\n      <td>0.237653</td>\n    </tr>\n    <tr>\n      <th>702</th>\n      <td>0.548859</td>\n      <td>0.390769</td>\n    </tr>\n    <tr>\n      <th>703</th>\n      <td>0.503307</td>\n      <td>0.490929</td>\n    </tr>\n    <tr>\n      <th>704</th>\n      <td>0.425264</td>\n      <td>0.507202</td>\n    </tr>\n    <tr>\n      <th>705</th>\n      <td>0.263146</td>\n      <td>0.608182</td>\n    </tr>\n    <tr>\n      <th>706</th>\n      <td>0.272375</td>\n      <td>0.532376</td>\n    </tr>\n    <tr>\n      <th>707</th>\n      <td>0.366386</td>\n      <td>0.572367</td>\n    </tr>\n    <tr>\n      <th>708</th>\n      <td>0.432384</td>\n      <td>0.516956</td>\n    </tr>\n    <tr>\n      <th>709</th>\n      <td>0.506673</td>\n      <td>0.480883</td>\n    </tr>\n    <tr>\n      <th>710</th>\n      <td>0.579861</td>\n      <td>0.538608</td>\n    </tr>\n    <tr>\n      <th>711</th>\n      <td>0.601116</td>\n      <td>0.537311</td>\n    </tr>\n    <tr>\n      <th>712</th>\n      <td>0.605275</td>\n      <td>0.509629</td>\n    </tr>\n    <tr>\n      <th>713</th>\n      <td>0.602406</td>\n      <td>0.484060</td>\n    </tr>\n    <tr>\n      <th>714</th>\n      <td>0.584241</td>\n      <td>0.508864</td>\n    </tr>\n    <tr>\n      <th>715</th>\n      <td>0.587037</td>\n      <td>0.499048</td>\n    </tr>\n    <tr>\n      <th>716</th>\n      <td>0.607686</td>\n      <td>0.508684</td>\n    </tr>\n    <tr>\n      <th>717</th>\n      <td>0.571493</td>\n      <td>0.511109</td>\n    </tr>\n    <tr>\n      <th>718</th>\n      <td>0.508506</td>\n      <td>0.515288</td>\n    </tr>\n    <tr>\n      <th>719</th>\n      <td>0.414290</td>\n      <td>0.481426</td>\n    </tr>\n  </tbody>\n</table>\n</div>"
     },
     "execution_count": 15,
     "metadata": {},
     "output_type": "execute_result"
    }
   ],
   "source": [
    "X = train[independent_variables]\n",
    "Y = train[column_to_predict]\n",
    "\n",
    "X_test = test[independent_variables]\n",
    "Y_test = test[column_to_predict]\n",
    "\n",
    "regr = linear_model.LinearRegression()\n",
    "regr.fit(X, Y)\n",
    "\n",
    "y_pred = regr.predict(X_test)\n",
    "results = Y_test.copy()\n",
    "results = results.to_frame()\n",
    "results[\"predicted\"] = y_pred\n",
    "results"
   ],
   "metadata": {
    "collapsed": false,
    "ExecuteTime": {
     "end_time": "2023-10-23T19:12:24.098586136Z",
     "start_time": "2023-10-23T19:12:23.968715037Z"
    }
   },
   "id": "9df5772173730215"
  },
  {
   "cell_type": "code",
   "execution_count": 16,
   "outputs": [
    {
     "data": {
      "text/plain": "-2.7529983417695782"
     },
     "execution_count": 16,
     "metadata": {},
     "output_type": "execute_result"
    }
   ],
   "source": [
    "regr.score(X_test, Y_test)"
   ],
   "metadata": {
    "collapsed": false,
    "ExecuteTime": {
     "end_time": "2023-10-23T19:12:24.099476390Z",
     "start_time": "2023-10-23T19:12:24.010323916Z"
    }
   },
   "id": "8cd85cdccbceea9e"
  },
  {
   "cell_type": "markdown",
   "source": [
    "Predict Solar Generation"
   ],
   "metadata": {
    "collapsed": false
   },
   "id": "7b9a6beef0905095"
  },
  {
   "cell_type": "code",
   "execution_count": 26,
   "outputs": [
    {
     "data": {
      "text/plain": "['Index',\n 'Hour_1',\n 'Day Type_1',\n 'Indoor Temperature (C)_1',\n 'Average Unmet Cooling Setpoint Difference (C)_1',\n 'Indoor Relative Humidity (%)_1',\n 'Equipment Electric Power (kWh)_1',\n 'DHW Heating (kWh)_1',\n 'Cooling Load (kWh)_1',\n 'Occupant Count (people)_1',\n 'Temperature Set Point (C)_1',\n 'Hour_2',\n 'Day Type_2',\n 'Indoor Temperature (C)_2',\n 'Average Unmet Cooling Setpoint Difference (C)_2',\n 'Indoor Relative Humidity (%)_2',\n 'Equipment Electric Power (kWh)_2',\n 'DHW Heating (kWh)_2',\n 'Cooling Load (kWh)_2',\n 'Occupant Count (people)_2',\n 'Temperature Set Point (C)_2',\n 'Hour_3',\n 'Day Type_3',\n 'Indoor Temperature (C)_3',\n 'Average Unmet Cooling Setpoint Difference (C)_3',\n 'Indoor Relative Humidity (%)_3',\n 'Equipment Electric Power (kWh)_3',\n 'DHW Heating (kWh)_3',\n 'Cooling Load (kWh)_3',\n 'Occupant Count (people)_3',\n 'Temperature Set Point (C)_3',\n 'Outdoor Drybulb Temperature (C)',\n 'Outdoor Relative Humidity (%)',\n 'Diffuse Solar Radiation (W/m2)',\n 'Direct Solar Radiation (W/m2)',\n '6h Outdoor Drybulb Temperature (C)',\n '12h Outdoor Drybulb Temperature (C)',\n '24h Outdoor Drybulb Temperature (C)',\n '6h Outdoor Relative Humidity (%)',\n '12h Outdoor Relative Humidity (%)',\n '24h Outdoor Relative Humidity (%)',\n '6h Diffuse Solar Radiation (W/m2)',\n '12h Diffuse Solar Radiation (W/m2)',\n '24h Diffuse Solar Radiation (W/m2)',\n '6h Direct Solar Radiation (W/m2)',\n '12h Direct Solar Radiation (W/m2)',\n '24h Direct Solar Radiation (W/m2)',\n 'kg_CO2/kWh']"
     },
     "execution_count": 26,
     "metadata": {},
     "output_type": "execute_result"
    }
   ],
   "source": [
    "train1 = train.copy()\n",
    "test1 = test.copy()\n",
    "\n",
    "train1 = train1.drop(columns=[\"Solar Generation (W/kW)_1\", \"Solar Generation (W/kW)_2\", \"Solar Generation (W/kW)_3\"])\n",
    "test1 = test1.drop(columns=[\"Solar Generation (W/kW)_1\", \"Solar Generation (W/kW)_2\", \"Solar Generation (W/kW)_3\"])\n",
    "\n",
    "\n",
    "threshold = 0\n",
    "column_to_predict = \"Avg solar generation\"\n",
    "\n",
    "independent_variables = []\n",
    "\n",
    "\n",
    "for column in train1:\n",
    "    if abs(train1[column].corr(train1[column_to_predict])) > threshold:\n",
    "        independent_variables.append(column)\n",
    "\n",
    "independent_variables.remove(column_to_predict)\n",
    "independent_variables"
   ],
   "metadata": {
    "collapsed": false,
    "ExecuteTime": {
     "end_time": "2023-10-23T19:22:47.391686123Z",
     "start_time": "2023-10-23T19:22:47.378566325Z"
    }
   },
   "id": "f8a8d7f80590c533"
  },
  {
   "cell_type": "code",
   "execution_count": 27,
   "outputs": [
    {
     "data": {
      "text/plain": "     Avg solar generation  predicted\n0                0.000000   0.045256\n1                0.000000  -0.002548\n2                0.000000   0.007329\n3                0.000000   0.028808\n4                0.000000   0.027230\n..                    ...        ...\n679              0.138333   0.317547\n680              0.352913   0.432773\n681              0.527590   0.609295\n682              0.765604   0.756550\n683              0.826452   0.785339\n\n[684 rows x 2 columns]",
      "text/html": "<div>\n<style scoped>\n    .dataframe tbody tr th:only-of-type {\n        vertical-align: middle;\n    }\n\n    .dataframe tbody tr th {\n        vertical-align: top;\n    }\n\n    .dataframe thead th {\n        text-align: right;\n    }\n</style>\n<table border=\"1\" class=\"dataframe\">\n  <thead>\n    <tr style=\"text-align: right;\">\n      <th></th>\n      <th>Avg solar generation</th>\n      <th>predicted</th>\n    </tr>\n  </thead>\n  <tbody>\n    <tr>\n      <th>0</th>\n      <td>0.000000</td>\n      <td>0.045256</td>\n    </tr>\n    <tr>\n      <th>1</th>\n      <td>0.000000</td>\n      <td>-0.002548</td>\n    </tr>\n    <tr>\n      <th>2</th>\n      <td>0.000000</td>\n      <td>0.007329</td>\n    </tr>\n    <tr>\n      <th>3</th>\n      <td>0.000000</td>\n      <td>0.028808</td>\n    </tr>\n    <tr>\n      <th>4</th>\n      <td>0.000000</td>\n      <td>0.027230</td>\n    </tr>\n    <tr>\n      <th>...</th>\n      <td>...</td>\n      <td>...</td>\n    </tr>\n    <tr>\n      <th>679</th>\n      <td>0.138333</td>\n      <td>0.317547</td>\n    </tr>\n    <tr>\n      <th>680</th>\n      <td>0.352913</td>\n      <td>0.432773</td>\n    </tr>\n    <tr>\n      <th>681</th>\n      <td>0.527590</td>\n      <td>0.609295</td>\n    </tr>\n    <tr>\n      <th>682</th>\n      <td>0.765604</td>\n      <td>0.756550</td>\n    </tr>\n    <tr>\n      <th>683</th>\n      <td>0.826452</td>\n      <td>0.785339</td>\n    </tr>\n  </tbody>\n</table>\n<p>684 rows × 2 columns</p>\n</div>"
     },
     "execution_count": 27,
     "metadata": {},
     "output_type": "execute_result"
    }
   ],
   "source": [
    "X = train1[independent_variables]\n",
    "Y = train1[column_to_predict]\n",
    "\n",
    "regr = linear_model.LinearRegression()\n",
    "regr.fit(X, Y)\n",
    "\n",
    "y_pred = regr.predict(X)\n",
    "results = Y.copy()\n",
    "results = results.to_frame()\n",
    "results[\"predicted\"] = y_pred\n",
    "results"
   ],
   "metadata": {
    "collapsed": false,
    "ExecuteTime": {
     "end_time": "2023-10-23T19:22:58.196555366Z",
     "start_time": "2023-10-23T19:22:58.128995244Z"
    }
   },
   "id": "5be924637693c82d"
  },
  {
   "cell_type": "code",
   "execution_count": 28,
   "outputs": [
    {
     "data": {
      "text/plain": "0.9539744396315684"
     },
     "execution_count": 28,
     "metadata": {},
     "output_type": "execute_result"
    }
   ],
   "source": [
    "regr.score(X, Y)"
   ],
   "metadata": {
    "collapsed": false,
    "ExecuteTime": {
     "end_time": "2023-10-23T19:23:05.719213738Z",
     "start_time": "2023-10-23T19:23:05.712648519Z"
    }
   },
   "id": "7e36028a5c3c9927"
  },
  {
   "cell_type": "code",
   "execution_count": 29,
   "outputs": [
    {
     "data": {
      "text/plain": "     Avg solar generation  predicted\n684              0.942854   0.800844\n685              0.936498   0.884000\n686              0.849920   0.871367\n687              0.788518   0.806802\n688              0.594962   0.665138\n689              0.353275   0.434645\n690              0.117611   0.249037\n691              0.002852  -0.036852\n692              0.000000  -0.019870\n693              0.000000  -0.028068\n694              0.000000  -0.048654\n695              0.000000  -0.000694\n696              0.000000   0.049664\n697              0.000000   0.060808\n698              0.000000   0.114554\n699              0.000000   0.021998\n700              0.000000   0.036698\n701              0.000000  -0.043697\n702              0.042001   0.094566\n703              0.182794   0.284512\n704              0.421948   0.509280\n705              0.650849   0.629909\n706              0.820398   0.761449\n707              0.899643   0.777040\n708              0.955371   0.794385\n709              0.948050   0.793908\n710              0.841356   0.723242\n711              0.681897   0.585046\n712              0.508111   0.451419\n713              0.300607   0.258754\n714              0.111316   0.137770\n715              0.003143   0.011234\n716              0.000000  -0.011164\n717              0.000000  -0.010365\n718              0.000000  -0.049299\n719              0.000000  -0.065637",
      "text/html": "<div>\n<style scoped>\n    .dataframe tbody tr th:only-of-type {\n        vertical-align: middle;\n    }\n\n    .dataframe tbody tr th {\n        vertical-align: top;\n    }\n\n    .dataframe thead th {\n        text-align: right;\n    }\n</style>\n<table border=\"1\" class=\"dataframe\">\n  <thead>\n    <tr style=\"text-align: right;\">\n      <th></th>\n      <th>Avg solar generation</th>\n      <th>predicted</th>\n    </tr>\n  </thead>\n  <tbody>\n    <tr>\n      <th>684</th>\n      <td>0.942854</td>\n      <td>0.800844</td>\n    </tr>\n    <tr>\n      <th>685</th>\n      <td>0.936498</td>\n      <td>0.884000</td>\n    </tr>\n    <tr>\n      <th>686</th>\n      <td>0.849920</td>\n      <td>0.871367</td>\n    </tr>\n    <tr>\n      <th>687</th>\n      <td>0.788518</td>\n      <td>0.806802</td>\n    </tr>\n    <tr>\n      <th>688</th>\n      <td>0.594962</td>\n      <td>0.665138</td>\n    </tr>\n    <tr>\n      <th>689</th>\n      <td>0.353275</td>\n      <td>0.434645</td>\n    </tr>\n    <tr>\n      <th>690</th>\n      <td>0.117611</td>\n      <td>0.249037</td>\n    </tr>\n    <tr>\n      <th>691</th>\n      <td>0.002852</td>\n      <td>-0.036852</td>\n    </tr>\n    <tr>\n      <th>692</th>\n      <td>0.000000</td>\n      <td>-0.019870</td>\n    </tr>\n    <tr>\n      <th>693</th>\n      <td>0.000000</td>\n      <td>-0.028068</td>\n    </tr>\n    <tr>\n      <th>694</th>\n      <td>0.000000</td>\n      <td>-0.048654</td>\n    </tr>\n    <tr>\n      <th>695</th>\n      <td>0.000000</td>\n      <td>-0.000694</td>\n    </tr>\n    <tr>\n      <th>696</th>\n      <td>0.000000</td>\n      <td>0.049664</td>\n    </tr>\n    <tr>\n      <th>697</th>\n      <td>0.000000</td>\n      <td>0.060808</td>\n    </tr>\n    <tr>\n      <th>698</th>\n      <td>0.000000</td>\n      <td>0.114554</td>\n    </tr>\n    <tr>\n      <th>699</th>\n      <td>0.000000</td>\n      <td>0.021998</td>\n    </tr>\n    <tr>\n      <th>700</th>\n      <td>0.000000</td>\n      <td>0.036698</td>\n    </tr>\n    <tr>\n      <th>701</th>\n      <td>0.000000</td>\n      <td>-0.043697</td>\n    </tr>\n    <tr>\n      <th>702</th>\n      <td>0.042001</td>\n      <td>0.094566</td>\n    </tr>\n    <tr>\n      <th>703</th>\n      <td>0.182794</td>\n      <td>0.284512</td>\n    </tr>\n    <tr>\n      <th>704</th>\n      <td>0.421948</td>\n      <td>0.509280</td>\n    </tr>\n    <tr>\n      <th>705</th>\n      <td>0.650849</td>\n      <td>0.629909</td>\n    </tr>\n    <tr>\n      <th>706</th>\n      <td>0.820398</td>\n      <td>0.761449</td>\n    </tr>\n    <tr>\n      <th>707</th>\n      <td>0.899643</td>\n      <td>0.777040</td>\n    </tr>\n    <tr>\n      <th>708</th>\n      <td>0.955371</td>\n      <td>0.794385</td>\n    </tr>\n    <tr>\n      <th>709</th>\n      <td>0.948050</td>\n      <td>0.793908</td>\n    </tr>\n    <tr>\n      <th>710</th>\n      <td>0.841356</td>\n      <td>0.723242</td>\n    </tr>\n    <tr>\n      <th>711</th>\n      <td>0.681897</td>\n      <td>0.585046</td>\n    </tr>\n    <tr>\n      <th>712</th>\n      <td>0.508111</td>\n      <td>0.451419</td>\n    </tr>\n    <tr>\n      <th>713</th>\n      <td>0.300607</td>\n      <td>0.258754</td>\n    </tr>\n    <tr>\n      <th>714</th>\n      <td>0.111316</td>\n      <td>0.137770</td>\n    </tr>\n    <tr>\n      <th>715</th>\n      <td>0.003143</td>\n      <td>0.011234</td>\n    </tr>\n    <tr>\n      <th>716</th>\n      <td>0.000000</td>\n      <td>-0.011164</td>\n    </tr>\n    <tr>\n      <th>717</th>\n      <td>0.000000</td>\n      <td>-0.010365</td>\n    </tr>\n    <tr>\n      <th>718</th>\n      <td>0.000000</td>\n      <td>-0.049299</td>\n    </tr>\n    <tr>\n      <th>719</th>\n      <td>0.000000</td>\n      <td>-0.065637</td>\n    </tr>\n  </tbody>\n</table>\n</div>"
     },
     "execution_count": 29,
     "metadata": {},
     "output_type": "execute_result"
    }
   ],
   "source": [
    "X = train1[independent_variables]\n",
    "Y = train1[column_to_predict]\n",
    "\n",
    "X_test = test1[independent_variables]\n",
    "Y_test = test1[column_to_predict]\n",
    "\n",
    "regr = linear_model.LinearRegression()\n",
    "regr.fit(X, Y)\n",
    "\n",
    "y_pred = regr.predict(X_test)\n",
    "results = Y_test.copy()\n",
    "results = results.to_frame()\n",
    "results[\"predicted\"] = y_pred\n",
    "results"
   ],
   "metadata": {
    "collapsed": false,
    "ExecuteTime": {
     "end_time": "2023-10-23T19:23:13.235238576Z",
     "start_time": "2023-10-23T19:23:13.218676489Z"
    }
   },
   "id": "97babcebef3f82e1"
  },
  {
   "cell_type": "code",
   "execution_count": 30,
   "outputs": [
    {
     "data": {
      "text/plain": "0.9595760794724848"
     },
     "execution_count": 30,
     "metadata": {},
     "output_type": "execute_result"
    }
   ],
   "source": [
    "regr.score(X_test, Y_test)"
   ],
   "metadata": {
    "collapsed": false,
    "ExecuteTime": {
     "end_time": "2023-10-23T19:23:18.496565051Z",
     "start_time": "2023-10-23T19:23:18.490952554Z"
    }
   },
   "id": "d1a82a88df47b378"
  },
  {
   "cell_type": "markdown",
   "source": [
    "More intuitive choice for features for carbon intensity\n",
    "check all that have more than 0.2 and choose manually"
   ],
   "metadata": {
    "collapsed": false
   },
   "id": "546e4ada71906f0"
  },
  {
   "cell_type": "code",
   "execution_count": 17,
   "outputs": [
    {
     "name": "stdout",
     "output_type": "stream",
     "text": [
      "column = Hour_1, corr = 0.4725739111545835\n",
      "column = Day Type_1, corr = 0.32824556097941804\n",
      "column = Indoor Temperature (C)_1, corr = 0.3319011695472018\n",
      "column = Indoor Relative Humidity (%)_1, corr = 0.2431589905634283\n",
      "column = Solar Generation (W/kW)_1, corr = 0.31613942894723773\n",
      "column = Occupant Count (people)_1, corr = 0.38558567261049526\n",
      "column = Temperature Set Point (C)_1, corr = 0.3305287434724821\n",
      "column = Hour_2, corr = 0.4725739111545835\n",
      "column = Day Type_2, corr = 0.32824556097941804\n",
      "column = Average Unmet Cooling Setpoint Difference (C)_2, corr = 0.20508746119059387\n",
      "column = Cooling Load (kWh)_2, corr = 0.3185567320650478\n",
      "column = Solar Generation (W/kW)_2, corr = 0.31613942894723773\n",
      "column = Occupant Count (people)_2, corr = 0.3228678821009518\n",
      "column = Hour_3, corr = 0.4725739111545835\n",
      "column = Day Type_3, corr = 0.32824556097941804\n",
      "column = Indoor Temperature (C)_3, corr = 0.22234199213561148\n",
      "column = Indoor Relative Humidity (%)_3, corr = 0.2995061223600635\n",
      "column = Cooling Load (kWh)_3, corr = 0.352288740750751\n",
      "column = Solar Generation (W/kW)_3, corr = 0.31613942894723773\n",
      "column = Occupant Count (people)_3, corr = 0.4566795273878805\n",
      "column = Temperature Set Point (C)_3, corr = 0.22373972070957285\n",
      "column = Outdoor Drybulb Temperature (C), corr = 0.39139257606941685\n",
      "column = Outdoor Relative Humidity (%), corr = 0.3609919269352605\n",
      "column = Diffuse Solar Radiation (W/m2), corr = 0.3961094727118894\n",
      "column = Direct Solar Radiation (W/m2), corr = 0.2070676621109555\n",
      "column = 6h Outdoor Drybulb Temperature (C), corr = 0.2836812097634688\n",
      "column = 12h Outdoor Drybulb Temperature (C), corr = 0.6323695656648245\n",
      "column = 24h Outdoor Drybulb Temperature (C), corr = 0.42885484330251256\n",
      "column = 6h Outdoor Relative Humidity (%), corr = 0.2895419486375433\n",
      "column = 12h Outdoor Relative Humidity (%), corr = 0.5554942632399923\n",
      "column = 24h Outdoor Relative Humidity (%), corr = 0.34930612609019096\n",
      "column = 6h Diffuse Solar Radiation (W/m2), corr = 0.2712929376844067\n",
      "column = 12h Diffuse Solar Radiation (W/m2), corr = 0.23619689791328907\n",
      "column = 24h Diffuse Solar Radiation (W/m2), corr = 0.29562278713877865\n",
      "column = 6h Direct Solar Radiation (W/m2), corr = 0.5595605589170168\n",
      "column = 12h Direct Solar Radiation (W/m2), corr = 0.41828518261302094\n",
      "column = 24h Direct Solar Radiation (W/m2), corr = 0.3091902923595938\n",
      "column = Avg solar generation, corr = 1.0\n"
     ]
    }
   ],
   "source": [
    "threshold = 0.2\n",
    "column_to_predict = \"kg_CO2/kWh\"\n",
    "\n",
    "independent_variables = []\n",
    "values = []\n",
    "\n",
    "\n",
    "for column in train:\n",
    "    if abs(train[column].corr(train[column_to_predict])) > threshold:\n",
    "        independent_variables.append(column)\n",
    "        values.append(abs(train[column].corr(train[column_to_predict])))\n",
    "\n",
    "independent_variables.remove(column_to_predict)\n",
    "\n",
    "for i in range(len(independent_variables)):\n",
    "    print(f\"column = {independent_variables[i]}, corr = {values[i]}\")"
   ],
   "metadata": {
    "collapsed": false,
    "ExecuteTime": {
     "end_time": "2023-10-23T19:12:24.101470395Z",
     "start_time": "2023-10-23T19:12:24.010830961Z"
    }
   },
   "id": "21d031a6c2e3701b"
  },
  {
   "cell_type": "code",
   "execution_count": 18,
   "outputs": [
    {
     "data": {
      "text/plain": "     kg_CO2/kWh  predicted\n684    0.471615   0.481098\n685    0.518917   0.589472\n686    0.554976   0.639690\n687    0.564855   0.640832\n688    0.555823   0.663350\n689    0.549391   0.579039\n690    0.544221   0.587976\n691    0.500163   0.578213\n692    0.491011   0.528992\n693    0.496357   0.454422\n694    0.481642   0.453316\n695    0.503693   0.443840\n696    0.517775   0.163224\n697    0.563846   0.229265\n698    0.569727   0.277450\n699    0.582340   0.224707\n700    0.557425   0.249360\n701    0.576379   0.216632\n702    0.548859   0.351349\n703    0.503307   0.396724\n704    0.425264   0.403109\n705    0.263146   0.524505\n706    0.272375   0.526180\n707    0.366386   0.516112\n708    0.432384   0.540376\n709    0.506673   0.517412\n710    0.579861   0.589908\n711    0.601116   0.571195\n712    0.605275   0.586191\n713    0.602406   0.533729\n714    0.584241   0.537858\n715    0.587037   0.570600\n716    0.607686   0.594586\n717    0.571493   0.557056\n718    0.508506   0.481164\n719    0.414290   0.424395",
      "text/html": "<div>\n<style scoped>\n    .dataframe tbody tr th:only-of-type {\n        vertical-align: middle;\n    }\n\n    .dataframe tbody tr th {\n        vertical-align: top;\n    }\n\n    .dataframe thead th {\n        text-align: right;\n    }\n</style>\n<table border=\"1\" class=\"dataframe\">\n  <thead>\n    <tr style=\"text-align: right;\">\n      <th></th>\n      <th>kg_CO2/kWh</th>\n      <th>predicted</th>\n    </tr>\n  </thead>\n  <tbody>\n    <tr>\n      <th>684</th>\n      <td>0.471615</td>\n      <td>0.481098</td>\n    </tr>\n    <tr>\n      <th>685</th>\n      <td>0.518917</td>\n      <td>0.589472</td>\n    </tr>\n    <tr>\n      <th>686</th>\n      <td>0.554976</td>\n      <td>0.639690</td>\n    </tr>\n    <tr>\n      <th>687</th>\n      <td>0.564855</td>\n      <td>0.640832</td>\n    </tr>\n    <tr>\n      <th>688</th>\n      <td>0.555823</td>\n      <td>0.663350</td>\n    </tr>\n    <tr>\n      <th>689</th>\n      <td>0.549391</td>\n      <td>0.579039</td>\n    </tr>\n    <tr>\n      <th>690</th>\n      <td>0.544221</td>\n      <td>0.587976</td>\n    </tr>\n    <tr>\n      <th>691</th>\n      <td>0.500163</td>\n      <td>0.578213</td>\n    </tr>\n    <tr>\n      <th>692</th>\n      <td>0.491011</td>\n      <td>0.528992</td>\n    </tr>\n    <tr>\n      <th>693</th>\n      <td>0.496357</td>\n      <td>0.454422</td>\n    </tr>\n    <tr>\n      <th>694</th>\n      <td>0.481642</td>\n      <td>0.453316</td>\n    </tr>\n    <tr>\n      <th>695</th>\n      <td>0.503693</td>\n      <td>0.443840</td>\n    </tr>\n    <tr>\n      <th>696</th>\n      <td>0.517775</td>\n      <td>0.163224</td>\n    </tr>\n    <tr>\n      <th>697</th>\n      <td>0.563846</td>\n      <td>0.229265</td>\n    </tr>\n    <tr>\n      <th>698</th>\n      <td>0.569727</td>\n      <td>0.277450</td>\n    </tr>\n    <tr>\n      <th>699</th>\n      <td>0.582340</td>\n      <td>0.224707</td>\n    </tr>\n    <tr>\n      <th>700</th>\n      <td>0.557425</td>\n      <td>0.249360</td>\n    </tr>\n    <tr>\n      <th>701</th>\n      <td>0.576379</td>\n      <td>0.216632</td>\n    </tr>\n    <tr>\n      <th>702</th>\n      <td>0.548859</td>\n      <td>0.351349</td>\n    </tr>\n    <tr>\n      <th>703</th>\n      <td>0.503307</td>\n      <td>0.396724</td>\n    </tr>\n    <tr>\n      <th>704</th>\n      <td>0.425264</td>\n      <td>0.403109</td>\n    </tr>\n    <tr>\n      <th>705</th>\n      <td>0.263146</td>\n      <td>0.524505</td>\n    </tr>\n    <tr>\n      <th>706</th>\n      <td>0.272375</td>\n      <td>0.526180</td>\n    </tr>\n    <tr>\n      <th>707</th>\n      <td>0.366386</td>\n      <td>0.516112</td>\n    </tr>\n    <tr>\n      <th>708</th>\n      <td>0.432384</td>\n      <td>0.540376</td>\n    </tr>\n    <tr>\n      <th>709</th>\n      <td>0.506673</td>\n      <td>0.517412</td>\n    </tr>\n    <tr>\n      <th>710</th>\n      <td>0.579861</td>\n      <td>0.589908</td>\n    </tr>\n    <tr>\n      <th>711</th>\n      <td>0.601116</td>\n      <td>0.571195</td>\n    </tr>\n    <tr>\n      <th>712</th>\n      <td>0.605275</td>\n      <td>0.586191</td>\n    </tr>\n    <tr>\n      <th>713</th>\n      <td>0.602406</td>\n      <td>0.533729</td>\n    </tr>\n    <tr>\n      <th>714</th>\n      <td>0.584241</td>\n      <td>0.537858</td>\n    </tr>\n    <tr>\n      <th>715</th>\n      <td>0.587037</td>\n      <td>0.570600</td>\n    </tr>\n    <tr>\n      <th>716</th>\n      <td>0.607686</td>\n      <td>0.594586</td>\n    </tr>\n    <tr>\n      <th>717</th>\n      <td>0.571493</td>\n      <td>0.557056</td>\n    </tr>\n    <tr>\n      <th>718</th>\n      <td>0.508506</td>\n      <td>0.481164</td>\n    </tr>\n    <tr>\n      <th>719</th>\n      <td>0.414290</td>\n      <td>0.424395</td>\n    </tr>\n  </tbody>\n</table>\n</div>"
     },
     "execution_count": 18,
     "metadata": {},
     "output_type": "execute_result"
    }
   ],
   "source": [
    "# What about day type and hour between the buildings?\n",
    "# they have the same values, but because they are highly correlated, the more of them the better\n",
    "\n",
    "columns_to_use = [\"Hour_1\", \"Day Type_1\", \"Hour_2\", \"Day Type_2\", \"Hour_3\", \"Day Type_3\",\n",
    "                  \"Indoor Temperature (C)_1\", \"Indoor Temperature (C)_2\", \"Indoor Temperature (C)_3\",\n",
    "                  \"Solar Generation (W/kW)_1\", \"Solar Generation (W/kW)_2\", \"Solar Generation (W/kW)_3\",\n",
    "                  \"Occupant Count (people)_1\", \"Occupant Count (people)_2\", \"Occupant Count (people)_3\",\n",
    "                  \"Cooling Load (kWh)_1\", \"Cooling Load (kWh)_2\", \"Cooling Load (kWh)_3\",\n",
    "                  \"Outdoor Drybulb Temperature (C)\", \"Diffuse Solar Radiation (W/m2)\",\n",
    "                  \"12h Outdoor Drybulb Temperature (C)\", \"12h Outdoor Relative Humidity (%)\",\n",
    "                  \"12h Diffuse Solar Radiation (W/m2)\", \"12h Direct Solar Radiation (W/m2)\"]\n",
    "\n",
    "X = train[columns_to_use]\n",
    "Y = train[column_to_predict]\n",
    "\n",
    "X_test = test[columns_to_use]\n",
    "Y_test = test[column_to_predict]\n",
    "\n",
    "regr = linear_model.LinearRegression()\n",
    "regr.fit(X, Y)\n",
    "\n",
    "y_pred = regr.predict(X_test)\n",
    "results = Y_test.copy()\n",
    "results = results.to_frame()\n",
    "results[\"predicted\"] = y_pred\n",
    "results"
   ],
   "metadata": {
    "collapsed": false,
    "ExecuteTime": {
     "end_time": "2023-10-23T19:12:24.106776696Z",
     "start_time": "2023-10-23T19:12:24.011380387Z"
    }
   },
   "id": "88595e00baedfcd9"
  },
  {
   "cell_type": "code",
   "execution_count": 19,
   "outputs": [
    {
     "data": {
      "text/plain": "-2.83394497631553"
     },
     "execution_count": 19,
     "metadata": {},
     "output_type": "execute_result"
    }
   ],
   "source": [
    "regr.score(X_test, Y_test)"
   ],
   "metadata": {
    "collapsed": false,
    "ExecuteTime": {
     "end_time": "2023-10-23T19:12:24.107197687Z",
     "start_time": "2023-10-23T19:12:24.051945159Z"
    }
   },
   "id": "2d957676a2bc834a"
  },
  {
   "cell_type": "code",
   "execution_count": 20,
   "outputs": [],
   "source": [
    "columns_to_use = [\"Hour_1\", \"Day Type_1\", \"Hour_2\", \"Day Type_2\", \"Hour_3\", \"Day Type_3\",\n",
    "                  \"Indoor Temperature (C)_1\", \"Indoor Temperature (C)_2\", \"Indoor Temperature (C)_3\",\n",
    "                  \"Solar Generation (W/kW)_1\", \"Solar Generation (W/kW)_2\", \"Solar Generation (W/kW)_3\",\n",
    "                  \"Occupant Count (people)_1\", \"Occupant Count (people)_2\", \"Occupant Count (people)_3\",\n",
    "                  \"Cooling Load (kWh)_1\", \"Cooling Load (kWh)_2\", \"Cooling Load (kWh)_3\",\n",
    "                  \"Outdoor Drybulb Temperature (C)\", \"Diffuse Solar Radiation (W/m2)\",\n",
    "                  \"12h Outdoor Drybulb Temperature (C)\", \"12h Outdoor Relative Humidity (%)\",\n",
    "                  \"12h Diffuse Solar Radiation (W/m2)\", \"12h Direct Solar Radiation (W/m2)\"]\n",
    "\n",
    "X = train[columns_to_use]\n",
    "Y = train[column_to_predict]"
   ],
   "metadata": {
    "collapsed": false,
    "ExecuteTime": {
     "end_time": "2023-10-23T19:12:24.107386176Z",
     "start_time": "2023-10-23T19:12:24.052575098Z"
    }
   },
   "id": "3740d23998888fc7"
  },
  {
   "cell_type": "markdown",
   "source": [
    "Piece-wise Linear Regression"
   ],
   "metadata": {
    "collapsed": false
   },
   "id": "34e48aba2399d310"
  },
  {
   "cell_type": "code",
   "execution_count": 21,
   "outputs": [
    {
     "name": "stdout",
     "output_type": "stream",
     "text": [
      "start = 0, end = 72, score = 0.9251220514898175\n",
      "start = 72, end = 144, score = 0.8971651480098084\n",
      "start = 144, end = 216, score = 0.9015815856981235\n",
      "start = 216, end = 288, score = 0.8390037110800765\n",
      "start = 288, end = 360, score = 0.8912015468350222\n",
      "start = 360, end = 432, score = 0.8368282719848288\n",
      "start = 432, end = 504, score = 0.7545748382013704\n",
      "start = 504, end = 576, score = 0.8873150157572576\n",
      "start = 576, end = 648, score = 0.8629620341554332\n",
      "0.8206057056012356\n"
     ]
    }
   ],
   "source": [
    "# train = 684 columns\n",
    "\n",
    "# for whole numbers, use 6, 9, 12, 18 (these are 1.0 average score, probably overfit)\n",
    "# using e.g. 72 seems much more reasonable\n",
    "# but e.g. 12 seems reasonable since it can represent day/night\n",
    "# how to use this to predict the test?\n",
    "\n",
    "step_size = 72\n",
    "overall_score = 0\n",
    "regr = linear_model.LinearRegression()\n",
    "\n",
    "for step in range(int(len(train)/step_size)):\n",
    "    start = step*step_size\n",
    "    end = step*step_size + step_size\n",
    "    df_x = X.iloc[start:end]\n",
    "    df_y = Y.iloc[start:end]\n",
    "    regr.fit(df_x, df_y)\n",
    "    overall_score += regr.score(df_x, df_y)\n",
    "    print(f\"start = {start}, end = {end}, score = {regr.score(df_x, df_y)}\")\n",
    "\n",
    "overall_score /= len(train)/step_size\n",
    "print(overall_score)"
   ],
   "metadata": {
    "collapsed": false,
    "ExecuteTime": {
     "end_time": "2023-10-23T19:12:24.185350264Z",
     "start_time": "2023-10-23T19:12:24.053083906Z"
    }
   },
   "id": "48ef2fbbdfd21f27"
  },
  {
   "cell_type": "code",
   "execution_count": 21,
   "outputs": [],
   "source": [],
   "metadata": {
    "collapsed": false,
    "ExecuteTime": {
     "end_time": "2023-10-23T19:12:24.230552923Z",
     "start_time": "2023-10-23T19:12:24.096057062Z"
    }
   },
   "id": "1e4abdc6ae4ce83f"
  }
 ],
 "metadata": {
  "kernelspec": {
   "display_name": "Python 3",
   "language": "python",
   "name": "python3"
  },
  "language_info": {
   "codemirror_mode": {
    "name": "ipython",
    "version": 2
   },
   "file_extension": ".py",
   "mimetype": "text/x-python",
   "name": "python",
   "nbconvert_exporter": "python",
   "pygments_lexer": "ipython2",
   "version": "2.7.6"
  }
 },
 "nbformat": 4,
 "nbformat_minor": 5
}
