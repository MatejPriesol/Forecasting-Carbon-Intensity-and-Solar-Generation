{
 "cells": [
  {
   "cell_type": "code",
   "execution_count": 1,
   "id": "initial_id",
   "metadata": {
    "collapsed": true,
    "ExecuteTime": {
     "end_time": "2023-11-27T20:19:38.100546513Z",
     "start_time": "2023-11-27T20:19:38.098147948Z"
    }
   },
   "outputs": [],
   "source": [
    "import numpy as np\n",
    "import pandas as pd\n",
    "import matplotlib.pyplot as plt"
   ]
  },
  {
   "cell_type": "code",
   "execution_count": 2,
   "outputs": [],
   "source": [
    "train = pd.read_csv(\"../data/schemas/warm_up/TrainSet.csv\", sep=\",\")\n",
    "test = pd.read_csv(\"../data/schemas/warm_up/TestSet.csv\", sep=\",\")"
   ],
   "metadata": {
    "collapsed": false,
    "ExecuteTime": {
     "end_time": "2023-11-27T20:19:40.751863089Z",
     "start_time": "2023-11-27T20:19:40.740073059Z"
    }
   },
   "id": "9c38bdfa402690c6"
  },
  {
   "cell_type": "code",
   "execution_count": 3,
   "outputs": [],
   "source": [
    "NUM_OF_TIMESTEPS_INPUT = 48\n",
    "NUM_OF_TIMESTEPS_OUTPUT = 24"
   ],
   "metadata": {
    "collapsed": false,
    "ExecuteTime": {
     "end_time": "2023-11-27T20:19:42.703478175Z",
     "start_time": "2023-11-27T20:19:42.697277032Z"
    }
   },
   "id": "129d756b99dcb2ef"
  },
  {
   "cell_type": "code",
   "execution_count": 4,
   "outputs": [
    {
     "data": {
      "text/plain": "['Hour_1',\n 'Day Type_1',\n 'Indoor Temperature (C)_1',\n 'Average Unmet Cooling Setpoint Difference (C)_1',\n 'Indoor Relative Humidity (%)_1',\n 'Equipment Electric Power (kWh)_1',\n 'DHW Heating (kWh)_1',\n 'Cooling Load (kWh)_1',\n 'Solar Generation (W/kW)_1',\n 'Occupant Count (people)_1',\n 'Temperature Set Point (C)_1',\n 'Hour_2',\n 'Day Type_2',\n 'Indoor Temperature (C)_2',\n 'Average Unmet Cooling Setpoint Difference (C)_2',\n 'Indoor Relative Humidity (%)_2',\n 'Equipment Electric Power (kWh)_2',\n 'DHW Heating (kWh)_2',\n 'Cooling Load (kWh)_2',\n 'Solar Generation (W/kW)_2',\n 'Occupant Count (people)_2',\n 'Temperature Set Point (C)_2',\n 'Hour_3',\n 'Day Type_3',\n 'Indoor Temperature (C)_3',\n 'Average Unmet Cooling Setpoint Difference (C)_3',\n 'Indoor Relative Humidity (%)_3',\n 'Equipment Electric Power (kWh)_3',\n 'DHW Heating (kWh)_3',\n 'Cooling Load (kWh)_3',\n 'Solar Generation (W/kW)_3',\n 'Occupant Count (people)_3',\n 'Temperature Set Point (C)_3',\n 'Outdoor Drybulb Temperature (C)',\n 'Outdoor Relative Humidity (%)',\n 'Diffuse Solar Radiation (W/m2)',\n 'Direct Solar Radiation (W/m2)',\n '6h Outdoor Drybulb Temperature (C)',\n '12h Outdoor Drybulb Temperature (C)',\n '24h Outdoor Drybulb Temperature (C)',\n '6h Outdoor Relative Humidity (%)',\n '12h Outdoor Relative Humidity (%)',\n '24h Outdoor Relative Humidity (%)',\n '6h Diffuse Solar Radiation (W/m2)',\n '12h Diffuse Solar Radiation (W/m2)',\n '24h Diffuse Solar Radiation (W/m2)',\n '6h Direct Solar Radiation (W/m2)',\n '12h Direct Solar Radiation (W/m2)',\n '24h Direct Solar Radiation (W/m2)',\n 'Avg solar generation']"
     },
     "execution_count": 4,
     "metadata": {},
     "output_type": "execute_result"
    }
   ],
   "source": [
    "threshold = 0\n",
    "column_to_predict = \"kg_CO2/kWh\"\n",
    "\n",
    "independent_variables = []\n",
    "\n",
    "\n",
    "for column in train:\n",
    "    if abs(train[column].corr(train[column_to_predict])) > threshold:\n",
    "        independent_variables.append(column)\n",
    "\n",
    "independent_variables.remove(column_to_predict)\n",
    "independent_variables.remove(\"Index\")\n",
    "independent_variables"
   ],
   "metadata": {
    "collapsed": false,
    "ExecuteTime": {
     "end_time": "2023-11-27T20:19:44.187173726Z",
     "start_time": "2023-11-27T20:19:44.168491086Z"
    }
   },
   "id": "8c86f8db5b005aa9"
  },
  {
   "cell_type": "code",
   "execution_count": 5,
   "outputs": [],
   "source": [
    "X_train = train[independent_variables]\n",
    "# X_train = train[[\"Hour_1\", \"Day Type_1\"]]\n",
    "Y_train = train[column_to_predict]"
   ],
   "metadata": {
    "collapsed": false,
    "ExecuteTime": {
     "end_time": "2023-11-27T20:19:45.430382852Z",
     "start_time": "2023-11-27T20:19:45.425454973Z"
    }
   },
   "id": "dce7ec218b3cb89f"
  },
  {
   "cell_type": "code",
   "execution_count": 6,
   "outputs": [
    {
     "data": {
      "text/plain": "(648, 50)"
     },
     "execution_count": 6,
     "metadata": {},
     "output_type": "execute_result"
    }
   ],
   "source": [
    "X_train.shape"
   ],
   "metadata": {
    "collapsed": false,
    "ExecuteTime": {
     "end_time": "2023-11-27T20:19:46.827399611Z",
     "start_time": "2023-11-27T20:19:46.824359084Z"
    }
   },
   "id": "c20f3e72c7abeb5e"
  },
  {
   "cell_type": "code",
   "execution_count": 30,
   "outputs": [],
   "source": [
    "def create_sequences(input_data, output_data, timesteps_input, timesteps_output):\n",
    "    sequences, targets = [], []\n",
    "    for i in range(len(input_data) - timesteps_input - timesteps_output + 1):\n",
    "        seq = input_data[i:i + timesteps_input]\n",
    "        #print(f\"i = {i}, seq = {seq}\")\n",
    "        target = output_data[i + timesteps_input: i + timesteps_input + timesteps_output]\n",
    "        #print(f\"i = {i}, target = {target}\")\n",
    "        sequences.append(seq)\n",
    "        targets.append(target)\n",
    "\n",
    "    return np.array(sequences), np.array(targets)"
   ],
   "metadata": {
    "collapsed": false,
    "ExecuteTime": {
     "end_time": "2023-11-27T21:38:27.921005735Z",
     "start_time": "2023-11-27T21:38:27.910758336Z"
    }
   },
   "id": "6e5761482cc2f8b0"
  },
  {
   "cell_type": "code",
   "execution_count": 8,
   "outputs": [
    {
     "name": "stderr",
     "output_type": "stream",
     "text": [
      "IOPub data rate exceeded.\n",
      "The Jupyter server will temporarily stop sending output\n",
      "to the client in order to avoid crashing it.\n",
      "To change this limit, set the config variable\n",
      "`--ServerApp.iopub_data_rate_limit`.\n",
      "\n",
      "Current values:\n",
      "ServerApp.iopub_data_rate_limit=1000000.0 (bytes/sec)\n",
      "ServerApp.rate_limit_window=3.0 (secs)\n",
      "\n"
     ]
    },
    {
     "name": "stdout",
     "output_type": "stream",
     "text": [
      "[[0.         0.66666667 0.42905032 ... 0.90353129 0.         0.        ]\n",
      " [0.04347826 0.66666667 0.30943362 ... 0.73034217 0.         0.        ]\n",
      " [0.08695652 0.66666667 0.30781619 ... 0.87445669 0.         0.        ]\n",
      " ...\n",
      " [0.91304348 0.83333333 0.29064017 ... 0.29065842 0.         0.        ]\n",
      " [0.95652174 0.83333333 0.04895782 ... 0.59164279 0.         0.        ]\n",
      " [1.         0.83333333 0.00208331 ... 0.53563308 0.         0.        ]]\n",
      "[0.59739428 0.49429981 0.38708765 0.28880037 0.2346659  0.22880156\n",
      " 0.26241434 0.31385395 0.36274065 0.32912399 0.41859464 0.59690114\n",
      " 0.74685743 0.82796725 0.84589733 0.83725959 0.82125879 0.80709442\n",
      " 0.78806505 0.73835998 0.71748058 0.73547528 0.69513525 0.71729728]\n",
      "(577, 48, 50)\n",
      "(577, 24)\n"
     ]
    }
   ],
   "source": [
    "input_sequences, target_variables = create_sequences(X_train, Y_train, NUM_OF_TIMESTEPS_INPUT, NUM_OF_TIMESTEPS_OUTPUT)\n",
    "print(input_sequences[0])\n",
    "print(target_variables[0])\n",
    "print(input_sequences.shape)\n",
    "print(target_variables.shape)"
   ],
   "metadata": {
    "collapsed": false,
    "ExecuteTime": {
     "end_time": "2023-11-27T20:20:09.911660632Z",
     "start_time": "2023-11-27T20:20:05.382421701Z"
    }
   },
   "id": "7b08bf8c89d4a35f"
  },
  {
   "cell_type": "code",
   "execution_count": 9,
   "outputs": [
    {
     "name": "stderr",
     "output_type": "stream",
     "text": [
      "2023-11-27 21:20:14.097251: I external/local_tsl/tsl/cuda/cudart_stub.cc:31] Could not find cuda drivers on your machine, GPU will not be used.\n",
      "2023-11-27 21:20:14.276625: E external/local_xla/xla/stream_executor/cuda/cuda_dnn.cc:9261] Unable to register cuDNN factory: Attempting to register factory for plugin cuDNN when one has already been registered\n",
      "2023-11-27 21:20:14.276668: E external/local_xla/xla/stream_executor/cuda/cuda_fft.cc:607] Unable to register cuFFT factory: Attempting to register factory for plugin cuFFT when one has already been registered\n",
      "2023-11-27 21:20:14.292313: E external/local_xla/xla/stream_executor/cuda/cuda_blas.cc:1515] Unable to register cuBLAS factory: Attempting to register factory for plugin cuBLAS when one has already been registered\n",
      "2023-11-27 21:20:14.321177: I external/local_tsl/tsl/cuda/cudart_stub.cc:31] Could not find cuda drivers on your machine, GPU will not be used.\n",
      "2023-11-27 21:20:14.321701: I tensorflow/core/platform/cpu_feature_guard.cc:182] This TensorFlow binary is optimized to use available CPU instructions in performance-critical operations.\n",
      "To enable the following instructions: AVX2 FMA, in other operations, rebuild TensorFlow with the appropriate compiler flags.\n",
      "2023-11-27 21:20:15.254020: W tensorflow/compiler/tf2tensorrt/utils/py_utils.cc:38] TF-TRT Warning: Could not find TensorRT\n"
     ]
    }
   ],
   "source": [
    "# importing libraries\n",
    "from tensorflow import keras\n",
    "from keras.models import Sequential\n",
    "from keras.layers import Dense\n",
    "from keras.layers import SimpleRNN\n",
    "from keras.layers import Dropout\n",
    "from keras.optimizers import SGD"
   ],
   "metadata": {
    "collapsed": false,
    "ExecuteTime": {
     "end_time": "2023-11-27T20:20:15.948972600Z",
     "start_time": "2023-11-27T20:20:13.681015414Z"
    }
   },
   "id": "2b25b92aca404528"
  },
  {
   "cell_type": "code",
   "execution_count": 11,
   "outputs": [
    {
     "name": "stdout",
     "output_type": "stream",
     "text": [
      "(648, 50)\n"
     ]
    }
   ],
   "source": [
    "print(X_train.shape)"
   ],
   "metadata": {
    "collapsed": false,
    "ExecuteTime": {
     "end_time": "2023-11-27T20:33:34.606556517Z",
     "start_time": "2023-11-27T20:33:34.565622903Z"
    }
   },
   "id": "d83ab3c75ea449f9"
  },
  {
   "cell_type": "code",
   "execution_count": 37,
   "outputs": [
    {
     "name": "stdout",
     "output_type": "stream",
     "text": [
      "Epoch 1/100\n",
      "19/19 [==============================] - 0s 1ms/step - loss: 0.2408\n",
      "Epoch 2/100\n",
      "19/19 [==============================] - 0s 1ms/step - loss: 0.1037\n",
      "Epoch 3/100\n",
      "19/19 [==============================] - 0s 1ms/step - loss: 0.0581\n",
      "Epoch 4/100\n",
      "19/19 [==============================] - 0s 1ms/step - loss: 0.0493\n",
      "Epoch 5/100\n",
      "19/19 [==============================] - 0s 1ms/step - loss: 0.0471\n",
      "Epoch 6/100\n",
      "19/19 [==============================] - 0s 1ms/step - loss: 0.0459\n",
      "Epoch 7/100\n",
      "19/19 [==============================] - 0s 951us/step - loss: 0.0447\n",
      "Epoch 8/100\n",
      "19/19 [==============================] - 0s 991us/step - loss: 0.0434\n",
      "Epoch 9/100\n",
      "19/19 [==============================] - 0s 1ms/step - loss: 0.0425\n",
      "Epoch 10/100\n",
      "19/19 [==============================] - 0s 973us/step - loss: 0.0415\n",
      "Epoch 11/100\n",
      "19/19 [==============================] - 0s 1ms/step - loss: 0.0403\n",
      "Epoch 12/100\n",
      "19/19 [==============================] - 0s 1ms/step - loss: 0.0393\n",
      "Epoch 13/100\n",
      "19/19 [==============================] - 0s 1ms/step - loss: 0.0385\n",
      "Epoch 14/100\n",
      "19/19 [==============================] - 0s 1ms/step - loss: 0.0376\n",
      "Epoch 15/100\n",
      "19/19 [==============================] - 0s 1ms/step - loss: 0.0369\n",
      "Epoch 16/100\n",
      "19/19 [==============================] - 0s 976us/step - loss: 0.0360\n",
      "Epoch 17/100\n",
      "19/19 [==============================] - 0s 1ms/step - loss: 0.0350\n",
      "Epoch 18/100\n",
      "19/19 [==============================] - 0s 1ms/step - loss: 0.0343\n",
      "Epoch 19/100\n",
      "19/19 [==============================] - 0s 1ms/step - loss: 0.0333\n",
      "Epoch 20/100\n",
      "19/19 [==============================] - 0s 994us/step - loss: 0.0327\n",
      "Epoch 21/100\n",
      "19/19 [==============================] - 0s 1ms/step - loss: 0.0315\n",
      "Epoch 22/100\n",
      "19/19 [==============================] - 0s 1ms/step - loss: 0.0306\n",
      "Epoch 23/100\n",
      "19/19 [==============================] - 0s 1ms/step - loss: 0.0300\n",
      "Epoch 24/100\n",
      "19/19 [==============================] - 0s 1ms/step - loss: 0.0288\n",
      "Epoch 25/100\n",
      "19/19 [==============================] - 0s 1ms/step - loss: 0.0283\n",
      "Epoch 26/100\n",
      "19/19 [==============================] - 0s 1ms/step - loss: 0.0269\n",
      "Epoch 27/100\n",
      "19/19 [==============================] - 0s 1ms/step - loss: 0.0263\n",
      "Epoch 28/100\n",
      "19/19 [==============================] - 0s 986us/step - loss: 0.0255\n",
      "Epoch 29/100\n",
      "19/19 [==============================] - 0s 1ms/step - loss: 0.0258\n",
      "Epoch 30/100\n",
      "19/19 [==============================] - 0s 1ms/step - loss: 0.0252\n",
      "Epoch 31/100\n",
      "19/19 [==============================] - 0s 1ms/step - loss: 0.0238\n",
      "Epoch 32/100\n",
      "19/19 [==============================] - 0s 1ms/step - loss: 0.0234\n",
      "Epoch 33/100\n",
      "19/19 [==============================] - 0s 1ms/step - loss: 0.0228\n",
      "Epoch 34/100\n",
      "19/19 [==============================] - 0s 1ms/step - loss: 0.0224\n",
      "Epoch 35/100\n",
      "19/19 [==============================] - 0s 978us/step - loss: 0.0219\n",
      "Epoch 36/100\n",
      "19/19 [==============================] - 0s 973us/step - loss: 0.0216\n",
      "Epoch 37/100\n",
      "19/19 [==============================] - 0s 1ms/step - loss: 0.0211\n",
      "Epoch 38/100\n",
      "19/19 [==============================] - 0s 1ms/step - loss: 0.0209\n",
      "Epoch 39/100\n",
      "19/19 [==============================] - 0s 1ms/step - loss: 0.0210\n",
      "Epoch 40/100\n",
      "19/19 [==============================] - 0s 1ms/step - loss: 0.0210\n",
      "Epoch 41/100\n",
      "19/19 [==============================] - 0s 1ms/step - loss: 0.0198\n",
      "Epoch 42/100\n",
      "19/19 [==============================] - 0s 1ms/step - loss: 0.0197\n",
      "Epoch 43/100\n",
      "19/19 [==============================] - 0s 966us/step - loss: 0.0192\n",
      "Epoch 44/100\n",
      "19/19 [==============================] - 0s 1ms/step - loss: 0.0191\n",
      "Epoch 45/100\n",
      "19/19 [==============================] - 0s 1ms/step - loss: 0.0194\n",
      "Epoch 46/100\n",
      "19/19 [==============================] - 0s 983us/step - loss: 0.0185\n",
      "Epoch 47/100\n",
      "19/19 [==============================] - 0s 989us/step - loss: 0.0183\n",
      "Epoch 48/100\n",
      "19/19 [==============================] - 0s 1ms/step - loss: 0.0180\n",
      "Epoch 49/100\n",
      "19/19 [==============================] - 0s 940us/step - loss: 0.0178\n",
      "Epoch 50/100\n",
      "19/19 [==============================] - 0s 1ms/step - loss: 0.0175\n",
      "Epoch 51/100\n",
      "19/19 [==============================] - 0s 1ms/step - loss: 0.0176\n",
      "Epoch 52/100\n",
      "19/19 [==============================] - 0s 1ms/step - loss: 0.0171\n",
      "Epoch 53/100\n",
      "19/19 [==============================] - 0s 986us/step - loss: 0.0171\n",
      "Epoch 54/100\n",
      "19/19 [==============================] - 0s 1ms/step - loss: 0.0166\n",
      "Epoch 55/100\n",
      "19/19 [==============================] - 0s 969us/step - loss: 0.0164\n",
      "Epoch 56/100\n",
      "19/19 [==============================] - 0s 1ms/step - loss: 0.0161\n",
      "Epoch 57/100\n",
      "19/19 [==============================] - 0s 1ms/step - loss: 0.0162\n",
      "Epoch 58/100\n",
      "19/19 [==============================] - 0s 958us/step - loss: 0.0159\n",
      "Epoch 59/100\n",
      "19/19 [==============================] - 0s 993us/step - loss: 0.0157\n",
      "Epoch 60/100\n",
      "19/19 [==============================] - 0s 1ms/step - loss: 0.0154\n",
      "Epoch 61/100\n",
      "19/19 [==============================] - 0s 924us/step - loss: 0.0153\n",
      "Epoch 62/100\n",
      "19/19 [==============================] - 0s 1ms/step - loss: 0.0151\n",
      "Epoch 63/100\n",
      "19/19 [==============================] - 0s 1ms/step - loss: 0.0151\n",
      "Epoch 64/100\n",
      "19/19 [==============================] - 0s 933us/step - loss: 0.0147\n",
      "Epoch 65/100\n",
      "19/19 [==============================] - 0s 1ms/step - loss: 0.0148\n",
      "Epoch 66/100\n",
      "19/19 [==============================] - 0s 1ms/step - loss: 0.0145\n",
      "Epoch 67/100\n",
      "19/19 [==============================] - 0s 947us/step - loss: 0.0148\n",
      "Epoch 68/100\n",
      "19/19 [==============================] - 0s 1ms/step - loss: 0.0142\n",
      "Epoch 69/100\n",
      "19/19 [==============================] - 0s 1ms/step - loss: 0.0140\n",
      "Epoch 70/100\n",
      "19/19 [==============================] - 0s 950us/step - loss: 0.0145\n",
      "Epoch 71/100\n",
      "19/19 [==============================] - 0s 1ms/step - loss: 0.0137\n",
      "Epoch 72/100\n",
      "19/19 [==============================] - 0s 1ms/step - loss: 0.0138\n",
      "Epoch 73/100\n",
      "19/19 [==============================] - 0s 1ms/step - loss: 0.0134\n",
      "Epoch 74/100\n",
      "19/19 [==============================] - 0s 1ms/step - loss: 0.0134\n",
      "Epoch 75/100\n",
      "19/19 [==============================] - 0s 1ms/step - loss: 0.0133\n",
      "Epoch 76/100\n",
      "19/19 [==============================] - 0s 940us/step - loss: 0.0130\n",
      "Epoch 77/100\n",
      "19/19 [==============================] - 0s 1ms/step - loss: 0.0129\n",
      "Epoch 78/100\n",
      "19/19 [==============================] - 0s 1ms/step - loss: 0.0128\n",
      "Epoch 79/100\n",
      "19/19 [==============================] - 0s 1ms/step - loss: 0.0127\n",
      "Epoch 80/100\n",
      "19/19 [==============================] - 0s 1ms/step - loss: 0.0128\n",
      "Epoch 81/100\n",
      "19/19 [==============================] - 0s 1ms/step - loss: 0.0125\n",
      "Epoch 82/100\n",
      "19/19 [==============================] - 0s 1ms/step - loss: 0.0124\n",
      "Epoch 83/100\n",
      "19/19 [==============================] - 0s 1ms/step - loss: 0.0123\n",
      "Epoch 84/100\n",
      "19/19 [==============================] - 0s 1ms/step - loss: 0.0121\n",
      "Epoch 85/100\n",
      "19/19 [==============================] - 0s 1ms/step - loss: 0.0120\n",
      "Epoch 86/100\n",
      "19/19 [==============================] - 0s 1ms/step - loss: 0.0121\n",
      "Epoch 87/100\n",
      "19/19 [==============================] - 0s 1ms/step - loss: 0.0123\n",
      "Epoch 88/100\n",
      "19/19 [==============================] - 0s 1ms/step - loss: 0.0117\n",
      "Epoch 89/100\n",
      "19/19 [==============================] - 0s 1ms/step - loss: 0.0117\n",
      "Epoch 90/100\n",
      "19/19 [==============================] - 0s 954us/step - loss: 0.0116\n",
      "Epoch 91/100\n",
      "19/19 [==============================] - 0s 1ms/step - loss: 0.0115\n",
      "Epoch 92/100\n",
      "19/19 [==============================] - 0s 1ms/step - loss: 0.0116\n",
      "Epoch 93/100\n",
      "19/19 [==============================] - 0s 996us/step - loss: 0.0113\n",
      "Epoch 94/100\n",
      "19/19 [==============================] - 0s 1ms/step - loss: 0.0112\n",
      "Epoch 95/100\n",
      "19/19 [==============================] - 0s 1ms/step - loss: 0.0111\n",
      "Epoch 96/100\n",
      "19/19 [==============================] - 0s 977us/step - loss: 0.0113\n",
      "Epoch 97/100\n",
      "19/19 [==============================] - 0s 1ms/step - loss: 0.0110\n",
      "Epoch 98/100\n",
      "19/19 [==============================] - 0s 1ms/step - loss: 0.0111\n",
      "Epoch 99/100\n",
      "19/19 [==============================] - 0s 1ms/step - loss: 0.0109\n",
      "Epoch 100/100\n",
      "19/19 [==============================] - 0s 1ms/step - loss: 0.0109\n",
      "Model: \"sequential_11\"\n",
      "_________________________________________________________________\n",
      " Layer (type)                Output Shape              Param #   \n",
      "=================================================================\n",
      " permute_9 (Permute)         (None, 50, 48)            0         \n",
      "                                                                 \n",
      " flatten_10 (Flatten)        (None, 2400)              0         \n",
      "                                                                 \n",
      " dense_32 (Dense)            (None, 20)                48020     \n",
      "                                                                 \n",
      " dense_33 (Dense)            (None, 20)                420       \n",
      "                                                                 \n",
      " dense_34 (Dense)            (None, 10)                210       \n",
      "                                                                 \n",
      " dense_35 (Dense)            (None, 24)                264       \n",
      "                                                                 \n",
      "=================================================================\n",
      "Total params: 48914 (191.07 KB)\n",
      "Trainable params: 48914 (191.07 KB)\n",
      "Non-trainable params: 0 (0.00 Byte)\n",
      "_________________________________________________________________\n"
     ]
    }
   ],
   "source": [
    "# initializing the sequential RNN\n",
    "model = keras.Sequential([\n",
    "        \n",
    "        # TODO I think this might be needed to group by timestamps rather than variables\n",
    "        keras.layers.Permute((2,1), input_shape=(48,50)),\n",
    "        \n",
    "        # include a flatten layer to convert to 1D (used as a first layer instead of reshaping)\n",
    "        keras.layers.Flatten(input_shape=(50,48)),\n",
    "        # shape should be vertically, so 48 data points for x1, then x2...\n",
    "        keras.layers.Dense(20, activation='tanh'),\n",
    "        # keras.layers.Dropout(0.2),   no dropout yet\n",
    "        keras.layers.Dense(20, activation='tanh'),\n",
    "        keras.layers.Dense(10, activation='tanh'),\n",
    "        keras.layers.Dense(24)\n",
    "    ]) #amount of layers & neurons to be adjusted\n",
    "\n",
    "\n",
    "# compiling RNN\n",
    "model.compile(optimizer = SGD(learning_rate=0.01, \n",
    "                                  momentum=0.9, \n",
    "                                  nesterov=True), \n",
    "                  loss = \"mean_squared_error\")\n",
    " \n",
    "# fitting the model\n",
    "history = model.fit(input_sequences, target_variables, epochs = 100, verbose=1)\n",
    "model.summary()\n"
   ],
   "metadata": {
    "collapsed": false,
    "ExecuteTime": {
     "end_time": "2023-11-27T21:45:54.352572656Z",
     "start_time": "2023-11-27T21:45:51.815539560Z"
    }
   },
   "id": "2f150d57edea7b7"
  },
  {
   "cell_type": "code",
   "execution_count": 35,
   "outputs": [
    {
     "name": "stdout",
     "output_type": "stream",
     "text": [
      "0     0.353082\n",
      "1     0.256588\n",
      "2     0.215438\n",
      "3     0.201465\n",
      "4     0.186162\n",
      "        ...   \n",
      "91    0.587037\n",
      "92    0.607686\n",
      "93    0.571493\n",
      "94    0.508506\n",
      "95    0.414290\n",
      "Name: kg_CO2/kWh, Length: 96, dtype: float64\n",
      "(25, 48, 50)\n",
      "(25, 24)\n"
     ]
    }
   ],
   "source": [
    "# Prepare data for evaluation\n",
    "X_test = test[independent_variables]\n",
    "# X_test = train[[\"Hour_1\", \"Day Type_1\"]]\n",
    "Y_test = test[column_to_predict]\n",
    "\n",
    "# Append last 24 hours from train\n",
    "last_24_X = X_train.tail(24)\n",
    "last_24_Y = Y_train.tail(24)\n",
    "\n",
    "X_test = pd.concat([last_24_X, X_test], ignore_index=True)\n",
    "Y_test = pd.concat([last_24_Y, Y_test], ignore_index=True)\n",
    "\n",
    "eval_input_sequences, eval_target_variables = create_sequences(X_test, Y_test, NUM_OF_TIMESTEPS_INPUT, NUM_OF_TIMESTEPS_OUTPUT)\n",
    "print(Y_test)\n",
    "print(eval_input_sequences.shape)\n",
    "print(eval_target_variables.shape)"
   ],
   "metadata": {
    "collapsed": false,
    "ExecuteTime": {
     "end_time": "2023-11-27T21:43:46.942636272Z",
     "start_time": "2023-11-27T21:43:46.902018412Z"
    }
   },
   "id": "d032b1354fef5c29"
  },
  {
   "cell_type": "code",
   "execution_count": 39,
   "outputs": [
    {
     "name": "stdout",
     "output_type": "stream",
     "text": [
      "1/1 [==============================] - 0s 13ms/step - loss: 0.0247\n",
      "0.024746036157011986\n"
     ]
    },
    {
     "ename": "TypeError",
     "evalue": "cannot unpack non-iterable float object",
     "output_type": "error",
     "traceback": [
      "\u001B[0;31m---------------------------------------------------------------------------\u001B[0m",
      "\u001B[0;31mTypeError\u001B[0m                                 Traceback (most recent call last)",
      "Cell \u001B[0;32mIn[39], line 6\u001B[0m\n\u001B[1;32m      3\u001B[0m \u001B[38;5;28mprint\u001B[39m(evaluation_result)\n\u001B[1;32m      5\u001B[0m \u001B[38;5;66;03m# The evaluation result will be a list containing the loss value and accuracy\u001B[39;00m\n\u001B[0;32m----> 6\u001B[0m loss, accuracy \u001B[38;5;241m=\u001B[39m evaluation_result\n\u001B[1;32m      7\u001B[0m \u001B[38;5;28mprint\u001B[39m(\u001B[38;5;124m\"\u001B[39m\u001B[38;5;124mLoss:\u001B[39m\u001B[38;5;124m\"\u001B[39m, loss)\n\u001B[1;32m      8\u001B[0m \u001B[38;5;28mprint\u001B[39m(\u001B[38;5;124m\"\u001B[39m\u001B[38;5;124mAccuracy:\u001B[39m\u001B[38;5;124m\"\u001B[39m, accuracy)\n",
      "\u001B[0;31mTypeError\u001B[0m: cannot unpack non-iterable float object"
     ]
    }
   ],
   "source": [
    "# Evaluate the model on the test data\n",
    "evaluation_result = model.evaluate(eval_input_sequences, eval_target_variables)\n",
    "# TODO this just seems like the loss\n",
    "print(evaluation_result)\n",
    "\n",
    "# The evaluation result will be a list containing the loss value and accuracy\n",
    "loss, accuracy = evaluation_result\n",
    "print(\"Loss:\", loss)\n",
    "print(\"Accuracy:\", accuracy)"
   ],
   "metadata": {
    "collapsed": false,
    "ExecuteTime": {
     "end_time": "2023-11-27T21:47:45.775574691Z",
     "start_time": "2023-11-27T21:47:45.722836547Z"
    }
   },
   "id": "2ed24fe00e3625ae"
  },
  {
   "cell_type": "code",
   "execution_count": 41,
   "outputs": [
    {
     "name": "stdout",
     "output_type": "stream",
     "text": [
      "[[0.59739428 0.49429981 0.38708765 ... 0.73547528 0.69513525 0.71729728]\n",
      " [0.49429981 0.38708765 0.28880037 ... 0.69513525 0.71729728 0.6633147 ]\n",
      " [0.38708765 0.28880037 0.2346659  ... 0.71729728 0.6633147  0.55539687]\n",
      " ...\n",
      " [0.58203406 0.47630759 0.35308157 ... 0.72064381 0.72593017 0.70952622]\n",
      " [0.47630759 0.35308157 0.25658758 ... 0.72593017 0.70952622 0.60912381]\n",
      " [0.35308157 0.25658758 0.21543843 ... 0.70952622 0.60912381 0.49323911]]\n"
     ]
    }
   ],
   "source": [
    "print(target_variables)"
   ],
   "metadata": {
    "collapsed": false,
    "ExecuteTime": {
     "end_time": "2023-11-27T21:52:49.392307987Z",
     "start_time": "2023-11-27T21:52:49.346964674Z"
    }
   },
   "id": "271d2a63dd71b0e5"
  },
  {
   "cell_type": "code",
   "execution_count": 57,
   "outputs": [
    {
     "data": {
      "text/plain": "<Figure size 640x480 with 1 Axes>",
      "image/png": "[encoded data removed]"
     },
     "metadata": {},
     "output_type": "display_data"
    }
   ],
   "source": [
    "import matplotlib.pyplot as plt\n",
    "import numpy as np\n",
    "\n",
    "train_part = Y_train\n",
    "original_test = Y_test\n",
    "train_part.head()\n",
    "\n",
    "original_data = pd.DataFrame()\n",
    "original_data[\"Index\"] = [i for i in range(len(Y_train) + len(Y_test))]\n",
    "original_data[\"Values\"] = Y_train + Y_test\n",
    "\n",
    "# Specify different colors for each segment\n",
    "colors = ['blue'] * len(Y_train) + ['orange'] * len(Y_test)\n",
    "\n",
    "# Create a plot\n",
    "original_data.plot(x=\"Index\", y=\"Values\", color=colors)\n",
    "\n",
    "# Add labels and legend\n",
    "plt.xlabel('X-axis')\n",
    "plt.ylabel('Y-axis')\n",
    "plt.legend()\n",
    "\n",
    "# Show the plot\n",
    "plt.show()\n"
   ],
   "metadata": {
    "collapsed": false,
    "ExecuteTime": {
     "end_time": "2023-11-27T22:05:13.692349957Z",
     "start_time": "2023-11-27T22:05:13.573919059Z"
    }
   },
   "id": "60f3b93c76b3830f"
  },
  {
   "cell_type": "code",
   "execution_count": 58,
   "outputs": [
    {
     "ename": "ValueError",
     "evalue": "could not convert string to float: 'index'",
     "output_type": "error",
     "traceback": [
      "\u001B[0;31m---------------------------------------------------------------------------\u001B[0m",
      "\u001B[0;31mValueError\u001B[0m                                Traceback (most recent call last)",
      "Cell \u001B[0;32mIn[58], line 5\u001B[0m\n\u001B[1;32m      2\u001B[0m \u001B[38;5;28;01mimport\u001B[39;00m \u001B[38;5;21;01mnumpy\u001B[39;00m \u001B[38;5;28;01mas\u001B[39;00m \u001B[38;5;21;01mnp\u001B[39;00m\n\u001B[1;32m      4\u001B[0m \u001B[38;5;66;03m# Create a plot\u001B[39;00m\n\u001B[0;32m----> 5\u001B[0m \u001B[43mplt\u001B[49m\u001B[38;5;241;43m.\u001B[39;49m\u001B[43mplot\u001B[49m\u001B[43m(\u001B[49m\u001B[43mY_train\u001B[49m\u001B[43m,\u001B[49m\u001B[43m \u001B[49m\u001B[43mcolor\u001B[49m\u001B[38;5;241;43m=\u001B[39;49m\u001B[38;5;124;43m'\u001B[39;49m\u001B[38;5;124;43mblue\u001B[39;49m\u001B[38;5;124;43m'\u001B[39;49m\u001B[43m,\u001B[49m\u001B[43m \u001B[49m\u001B[43mlabel\u001B[49m\u001B[38;5;241;43m=\u001B[39;49m\u001B[38;5;124;43m'\u001B[39;49m\u001B[38;5;124;43mArray 1\u001B[39;49m\u001B[38;5;124;43m'\u001B[39;49m\u001B[43m)\u001B[49m\n\u001B[1;32m      6\u001B[0m plt\u001B[38;5;241m.\u001B[39mplot(Y_test, color\u001B[38;5;241m=\u001B[39m\u001B[38;5;124m'\u001B[39m\u001B[38;5;124morange\u001B[39m\u001B[38;5;124m'\u001B[39m, label\u001B[38;5;241m=\u001B[39m\u001B[38;5;124m'\u001B[39m\u001B[38;5;124mArray 2\u001B[39m\u001B[38;5;124m'\u001B[39m)\n\u001B[1;32m      8\u001B[0m \u001B[38;5;66;03m# Add labels and legend\u001B[39;00m\n",
      "File \u001B[0;32m~/Documents/thesis-forecasting/venv/lib64/python3.11/site-packages/matplotlib/pyplot.py:3578\u001B[0m, in \u001B[0;36mplot\u001B[0;34m(scalex, scaley, data, *args, **kwargs)\u001B[0m\n\u001B[1;32m   3570\u001B[0m \u001B[38;5;129m@_copy_docstring_and_deprecators\u001B[39m(Axes\u001B[38;5;241m.\u001B[39mplot)\n\u001B[1;32m   3571\u001B[0m \u001B[38;5;28;01mdef\u001B[39;00m \u001B[38;5;21mplot\u001B[39m(\n\u001B[1;32m   3572\u001B[0m     \u001B[38;5;241m*\u001B[39margs: \u001B[38;5;28mfloat\u001B[39m \u001B[38;5;241m|\u001B[39m ArrayLike \u001B[38;5;241m|\u001B[39m \u001B[38;5;28mstr\u001B[39m,\n\u001B[0;32m   (...)\u001B[0m\n\u001B[1;32m   3576\u001B[0m     \u001B[38;5;241m*\u001B[39m\u001B[38;5;241m*\u001B[39mkwargs,\n\u001B[1;32m   3577\u001B[0m ) \u001B[38;5;241m-\u001B[39m\u001B[38;5;241m>\u001B[39m \u001B[38;5;28mlist\u001B[39m[Line2D]:\n\u001B[0;32m-> 3578\u001B[0m     \u001B[38;5;28;01mreturn\u001B[39;00m \u001B[43mgca\u001B[49m\u001B[43m(\u001B[49m\u001B[43m)\u001B[49m\u001B[38;5;241;43m.\u001B[39;49m\u001B[43mplot\u001B[49m\u001B[43m(\u001B[49m\n\u001B[1;32m   3579\u001B[0m \u001B[43m        \u001B[49m\u001B[38;5;241;43m*\u001B[39;49m\u001B[43margs\u001B[49m\u001B[43m,\u001B[49m\n\u001B[1;32m   3580\u001B[0m \u001B[43m        \u001B[49m\u001B[43mscalex\u001B[49m\u001B[38;5;241;43m=\u001B[39;49m\u001B[43mscalex\u001B[49m\u001B[43m,\u001B[49m\n\u001B[1;32m   3581\u001B[0m \u001B[43m        \u001B[49m\u001B[43mscaley\u001B[49m\u001B[38;5;241;43m=\u001B[39;49m\u001B[43mscaley\u001B[49m\u001B[43m,\u001B[49m\n\u001B[1;32m   3582\u001B[0m \u001B[43m        \u001B[49m\u001B[38;5;241;43m*\u001B[39;49m\u001B[38;5;241;43m*\u001B[39;49m\u001B[43m(\u001B[49m\u001B[43m{\u001B[49m\u001B[38;5;124;43m\"\u001B[39;49m\u001B[38;5;124;43mdata\u001B[39;49m\u001B[38;5;124;43m\"\u001B[39;49m\u001B[43m:\u001B[49m\u001B[43m \u001B[49m\u001B[43mdata\u001B[49m\u001B[43m}\u001B[49m\u001B[43m \u001B[49m\u001B[38;5;28;43;01mif\u001B[39;49;00m\u001B[43m \u001B[49m\u001B[43mdata\u001B[49m\u001B[43m \u001B[49m\u001B[38;5;129;43;01mis\u001B[39;49;00m\u001B[43m \u001B[49m\u001B[38;5;129;43;01mnot\u001B[39;49;00m\u001B[43m \u001B[49m\u001B[38;5;28;43;01mNone\u001B[39;49;00m\u001B[43m \u001B[49m\u001B[38;5;28;43;01melse\u001B[39;49;00m\u001B[43m \u001B[49m\u001B[43m{\u001B[49m\u001B[43m}\u001B[49m\u001B[43m)\u001B[49m\u001B[43m,\u001B[49m\n\u001B[1;32m   3583\u001B[0m \u001B[43m        \u001B[49m\u001B[38;5;241;43m*\u001B[39;49m\u001B[38;5;241;43m*\u001B[39;49m\u001B[43mkwargs\u001B[49m\u001B[43m,\u001B[49m\n\u001B[1;32m   3584\u001B[0m \u001B[43m    \u001B[49m\u001B[43m)\u001B[49m\n",
      "File \u001B[0;32m~/Documents/thesis-forecasting/venv/lib64/python3.11/site-packages/matplotlib/axes/_axes.py:1723\u001B[0m, in \u001B[0;36mAxes.plot\u001B[0;34m(self, scalex, scaley, data, *args, **kwargs)\u001B[0m\n\u001B[1;32m   1721\u001B[0m lines \u001B[38;5;241m=\u001B[39m [\u001B[38;5;241m*\u001B[39m\u001B[38;5;28mself\u001B[39m\u001B[38;5;241m.\u001B[39m_get_lines(\u001B[38;5;28mself\u001B[39m, \u001B[38;5;241m*\u001B[39margs, data\u001B[38;5;241m=\u001B[39mdata, \u001B[38;5;241m*\u001B[39m\u001B[38;5;241m*\u001B[39mkwargs)]\n\u001B[1;32m   1722\u001B[0m \u001B[38;5;28;01mfor\u001B[39;00m line \u001B[38;5;129;01min\u001B[39;00m lines:\n\u001B[0;32m-> 1723\u001B[0m     \u001B[38;5;28;43mself\u001B[39;49m\u001B[38;5;241;43m.\u001B[39;49m\u001B[43madd_line\u001B[49m\u001B[43m(\u001B[49m\u001B[43mline\u001B[49m\u001B[43m)\u001B[49m\n\u001B[1;32m   1724\u001B[0m \u001B[38;5;28;01mif\u001B[39;00m scalex:\n\u001B[1;32m   1725\u001B[0m     \u001B[38;5;28mself\u001B[39m\u001B[38;5;241m.\u001B[39m_request_autoscale_view(\u001B[38;5;124m\"\u001B[39m\u001B[38;5;124mx\u001B[39m\u001B[38;5;124m\"\u001B[39m)\n",
      "File \u001B[0;32m~/Documents/thesis-forecasting/venv/lib64/python3.11/site-packages/matplotlib/axes/_base.py:2309\u001B[0m, in \u001B[0;36m_AxesBase.add_line\u001B[0;34m(self, line)\u001B[0m\n\u001B[1;32m   2306\u001B[0m \u001B[38;5;28;01mif\u001B[39;00m line\u001B[38;5;241m.\u001B[39mget_clip_path() \u001B[38;5;129;01mis\u001B[39;00m \u001B[38;5;28;01mNone\u001B[39;00m:\n\u001B[1;32m   2307\u001B[0m     line\u001B[38;5;241m.\u001B[39mset_clip_path(\u001B[38;5;28mself\u001B[39m\u001B[38;5;241m.\u001B[39mpatch)\n\u001B[0;32m-> 2309\u001B[0m \u001B[38;5;28;43mself\u001B[39;49m\u001B[38;5;241;43m.\u001B[39;49m\u001B[43m_update_line_limits\u001B[49m\u001B[43m(\u001B[49m\u001B[43mline\u001B[49m\u001B[43m)\u001B[49m\n\u001B[1;32m   2310\u001B[0m \u001B[38;5;28;01mif\u001B[39;00m \u001B[38;5;129;01mnot\u001B[39;00m line\u001B[38;5;241m.\u001B[39mget_label():\n\u001B[1;32m   2311\u001B[0m     line\u001B[38;5;241m.\u001B[39mset_label(\u001B[38;5;124mf\u001B[39m\u001B[38;5;124m'\u001B[39m\u001B[38;5;124m_child\u001B[39m\u001B[38;5;132;01m{\u001B[39;00m\u001B[38;5;28mlen\u001B[39m(\u001B[38;5;28mself\u001B[39m\u001B[38;5;241m.\u001B[39m_children)\u001B[38;5;132;01m}\u001B[39;00m\u001B[38;5;124m'\u001B[39m)\n",
      "File \u001B[0;32m~/Documents/thesis-forecasting/venv/lib64/python3.11/site-packages/matplotlib/axes/_base.py:2332\u001B[0m, in \u001B[0;36m_AxesBase._update_line_limits\u001B[0;34m(self, line)\u001B[0m\n\u001B[1;32m   2328\u001B[0m \u001B[38;5;28;01mdef\u001B[39;00m \u001B[38;5;21m_update_line_limits\u001B[39m(\u001B[38;5;28mself\u001B[39m, line):\n\u001B[1;32m   2329\u001B[0m \u001B[38;5;250m    \u001B[39m\u001B[38;5;124;03m\"\"\"\u001B[39;00m\n\u001B[1;32m   2330\u001B[0m \u001B[38;5;124;03m    Figures out the data limit of the given line, updating self.dataLim.\u001B[39;00m\n\u001B[1;32m   2331\u001B[0m \u001B[38;5;124;03m    \"\"\"\u001B[39;00m\n\u001B[0;32m-> 2332\u001B[0m     path \u001B[38;5;241m=\u001B[39m \u001B[43mline\u001B[49m\u001B[38;5;241;43m.\u001B[39;49m\u001B[43mget_path\u001B[49m\u001B[43m(\u001B[49m\u001B[43m)\u001B[49m\n\u001B[1;32m   2333\u001B[0m     \u001B[38;5;28;01mif\u001B[39;00m path\u001B[38;5;241m.\u001B[39mvertices\u001B[38;5;241m.\u001B[39msize \u001B[38;5;241m==\u001B[39m \u001B[38;5;241m0\u001B[39m:\n\u001B[1;32m   2334\u001B[0m         \u001B[38;5;28;01mreturn\u001B[39;00m\n",
      "File \u001B[0;32m~/Documents/thesis-forecasting/venv/lib64/python3.11/site-packages/matplotlib/lines.py:1032\u001B[0m, in \u001B[0;36mLine2D.get_path\u001B[0;34m(self)\u001B[0m\n\u001B[1;32m   1030\u001B[0m \u001B[38;5;250m\u001B[39m\u001B[38;5;124;03m\"\"\"Return the `~matplotlib.path.Path` associated with this line.\"\"\"\u001B[39;00m\n\u001B[1;32m   1031\u001B[0m \u001B[38;5;28;01mif\u001B[39;00m \u001B[38;5;28mself\u001B[39m\u001B[38;5;241m.\u001B[39m_invalidy \u001B[38;5;129;01mor\u001B[39;00m \u001B[38;5;28mself\u001B[39m\u001B[38;5;241m.\u001B[39m_invalidx:\n\u001B[0;32m-> 1032\u001B[0m     \u001B[38;5;28;43mself\u001B[39;49m\u001B[38;5;241;43m.\u001B[39;49m\u001B[43mrecache\u001B[49m\u001B[43m(\u001B[49m\u001B[43m)\u001B[49m\n\u001B[1;32m   1033\u001B[0m \u001B[38;5;28;01mreturn\u001B[39;00m \u001B[38;5;28mself\u001B[39m\u001B[38;5;241m.\u001B[39m_path\n",
      "File \u001B[0;32m~/Documents/thesis-forecasting/venv/lib64/python3.11/site-packages/matplotlib/lines.py:669\u001B[0m, in \u001B[0;36mLine2D.recache\u001B[0;34m(self, always)\u001B[0m\n\u001B[1;32m    667\u001B[0m \u001B[38;5;28;01mif\u001B[39;00m always \u001B[38;5;129;01mor\u001B[39;00m \u001B[38;5;28mself\u001B[39m\u001B[38;5;241m.\u001B[39m_invalidx:\n\u001B[1;32m    668\u001B[0m     xconv \u001B[38;5;241m=\u001B[39m \u001B[38;5;28mself\u001B[39m\u001B[38;5;241m.\u001B[39mconvert_xunits(\u001B[38;5;28mself\u001B[39m\u001B[38;5;241m.\u001B[39m_xorig)\n\u001B[0;32m--> 669\u001B[0m     x \u001B[38;5;241m=\u001B[39m \u001B[43m_to_unmasked_float_array\u001B[49m\u001B[43m(\u001B[49m\u001B[43mxconv\u001B[49m\u001B[43m)\u001B[49m\u001B[38;5;241m.\u001B[39mravel()\n\u001B[1;32m    670\u001B[0m \u001B[38;5;28;01melse\u001B[39;00m:\n\u001B[1;32m    671\u001B[0m     x \u001B[38;5;241m=\u001B[39m \u001B[38;5;28mself\u001B[39m\u001B[38;5;241m.\u001B[39m_x\n",
      "File \u001B[0;32m~/Documents/thesis-forecasting/venv/lib64/python3.11/site-packages/matplotlib/cbook.py:1345\u001B[0m, in \u001B[0;36m_to_unmasked_float_array\u001B[0;34m(x)\u001B[0m\n\u001B[1;32m   1343\u001B[0m     \u001B[38;5;28;01mreturn\u001B[39;00m np\u001B[38;5;241m.\u001B[39mma\u001B[38;5;241m.\u001B[39masarray(x, \u001B[38;5;28mfloat\u001B[39m)\u001B[38;5;241m.\u001B[39mfilled(np\u001B[38;5;241m.\u001B[39mnan)\n\u001B[1;32m   1344\u001B[0m \u001B[38;5;28;01melse\u001B[39;00m:\n\u001B[0;32m-> 1345\u001B[0m     \u001B[38;5;28;01mreturn\u001B[39;00m np\u001B[38;5;241m.\u001B[39masarray(x, \u001B[38;5;28mfloat\u001B[39m)\n",
      "\u001B[0;31mValueError\u001B[0m: could not convert string to float: 'index'"
     ]
    },
    {
     "data": {
      "text/plain": "<Figure size 640x480 with 1 Axes>",
      "image/png": "[encoded data removed]"
     },
     "metadata": {},
     "output_type": "display_data"
    }
   ],
   "source": [
    "import matplotlib.pyplot as plt\n",
    "import numpy as np\n",
    "\n",
    "# Create a plot\n",
    "plt.plot(Y_train, color='blue', label='Array 1')\n",
    "plt.plot(Y_test, color='orange', label='Array 2')\n",
    "\n",
    "# Add labels and legend\n",
    "plt.xlabel('X-axis')\n",
    "plt.ylabel('Y-axis')\n",
    "plt.legend()\n",
    "\n",
    "# Show the plot\n",
    "plt.show()"
   ],
   "metadata": {
    "collapsed": false,
    "ExecuteTime": {
     "end_time": "2023-11-27T22:06:09.699613922Z",
     "start_time": "2023-11-27T22:06:09.490897817Z"
    }
   },
   "id": "12eeb753efd618a5"
  },
  {
   "cell_type": "code",
   "execution_count": null,
   "outputs": [],
   "source": [
    "# LSTM, GRU, MLP\n",
    "# baseline is linear RNN"
   ],
   "metadata": {
    "collapsed": false
   },
   "id": "69327c8910083ca"
  },
  {
   "cell_type": "code",
   "execution_count": 24,
   "outputs": [
    {
     "name": "stdout",
     "output_type": "stream",
     "text": [
      "Epoch 1/100\n",
      "19/19 [==============================] - 0s 2ms/step - loss: 0.0103\n",
      "Epoch 2/100\n",
      "19/19 [==============================] - 0s 1ms/step - loss: 0.0100\n",
      "Epoch 3/100\n",
      "19/19 [==============================] - 0s 1ms/step - loss: 0.0101\n",
      "Epoch 4/100\n",
      "19/19 [==============================] - 0s 1ms/step - loss: 0.0100\n",
      "Epoch 5/100\n",
      "19/19 [==============================] - 0s 1ms/step - loss: 0.0101\n",
      "Epoch 6/100\n",
      "19/19 [==============================] - 0s 1ms/step - loss: 0.0098\n",
      "Epoch 7/100\n",
      "19/19 [==============================] - 0s 1ms/step - loss: 0.0102\n",
      "Epoch 8/100\n",
      "19/19 [==============================] - 0s 998us/step - loss: 0.0097\n",
      "Epoch 9/100\n",
      "19/19 [==============================] - 0s 1ms/step - loss: 0.0097\n",
      "Epoch 10/100\n",
      "19/19 [==============================] - 0s 1ms/step - loss: 0.0098\n",
      "Epoch 11/100\n",
      "19/19 [==============================] - 0s 1ms/step - loss: 0.0095\n",
      "Epoch 12/100\n",
      "19/19 [==============================] - 0s 1ms/step - loss: 0.0095\n",
      "Epoch 13/100\n",
      "19/19 [==============================] - 0s 1ms/step - loss: 0.0097\n",
      "Epoch 14/100\n",
      "19/19 [==============================] - 0s 1ms/step - loss: 0.0094\n",
      "Epoch 15/100\n",
      "19/19 [==============================] - 0s 1ms/step - loss: 0.0097\n",
      "Epoch 16/100\n",
      "19/19 [==============================] - 0s 990us/step - loss: 0.0092\n",
      "Epoch 17/100\n",
      "19/19 [==============================] - 0s 1ms/step - loss: 0.0094\n",
      "Epoch 18/100\n",
      "19/19 [==============================] - 0s 977us/step - loss: 0.0091\n",
      "Epoch 19/100\n",
      "19/19 [==============================] - 0s 947us/step - loss: 0.0091\n",
      "Epoch 20/100\n",
      "19/19 [==============================] - 0s 1ms/step - loss: 0.0091\n",
      "Epoch 21/100\n",
      "19/19 [==============================] - 0s 1ms/step - loss: 0.0090\n",
      "Epoch 22/100\n",
      "19/19 [==============================] - 0s 987us/step - loss: 0.0092\n",
      "Epoch 23/100\n",
      "19/19 [==============================] - 0s 1ms/step - loss: 0.0092\n",
      "Epoch 24/100\n",
      "19/19 [==============================] - 0s 1ms/step - loss: 0.0089\n",
      "Epoch 25/100\n",
      "19/19 [==============================] - 0s 1ms/step - loss: 0.0092\n",
      "Epoch 26/100\n",
      "19/19 [==============================] - 0s 1ms/step - loss: 0.0088\n",
      "Epoch 27/100\n",
      "19/19 [==============================] - 0s 1ms/step - loss: 0.0091\n",
      "Epoch 28/100\n",
      "19/19 [==============================] - 0s 976us/step - loss: 0.0087\n",
      "Epoch 29/100\n",
      "19/19 [==============================] - 0s 1ms/step - loss: 0.0086\n",
      "Epoch 30/100\n",
      "19/19 [==============================] - 0s 1ms/step - loss: 0.0087\n",
      "Epoch 31/100\n",
      "19/19 [==============================] - 0s 965us/step - loss: 0.0085\n",
      "Epoch 32/100\n",
      "19/19 [==============================] - 0s 1ms/step - loss: 0.0085\n",
      "Epoch 33/100\n",
      "19/19 [==============================] - 0s 1ms/step - loss: 0.0084\n",
      "Epoch 34/100\n",
      "19/19 [==============================] - 0s 942us/step - loss: 0.0084\n",
      "Epoch 35/100\n",
      "19/19 [==============================] - 0s 1ms/step - loss: 0.0084\n",
      "Epoch 36/100\n",
      "19/19 [==============================] - 0s 1ms/step - loss: 0.0088\n",
      "Epoch 37/100\n",
      "19/19 [==============================] - 0s 999us/step - loss: 0.0083\n",
      "Epoch 38/100\n",
      "19/19 [==============================] - 0s 1ms/step - loss: 0.0084\n",
      "Epoch 39/100\n",
      "19/19 [==============================] - 0s 1ms/step - loss: 0.0084\n",
      "Epoch 40/100\n",
      "19/19 [==============================] - 0s 933us/step - loss: 0.0083\n",
      "Epoch 41/100\n",
      "19/19 [==============================] - 0s 1ms/step - loss: 0.0084\n",
      "Epoch 42/100\n",
      "19/19 [==============================] - 0s 1ms/step - loss: 0.0081\n",
      "Epoch 43/100\n",
      "19/19 [==============================] - 0s 1ms/step - loss: 0.0081\n",
      "Epoch 44/100\n",
      "19/19 [==============================] - 0s 994us/step - loss: 0.0080\n",
      "Epoch 45/100\n",
      "19/19 [==============================] - 0s 988us/step - loss: 0.0082\n",
      "Epoch 46/100\n",
      "19/19 [==============================] - 0s 961us/step - loss: 0.0082\n",
      "Epoch 47/100\n",
      "19/19 [==============================] - 0s 1ms/step - loss: 0.0079\n",
      "Epoch 48/100\n",
      "19/19 [==============================] - 0s 1ms/step - loss: 0.0079\n",
      "Epoch 49/100\n",
      "19/19 [==============================] - 0s 937us/step - loss: 0.0078\n",
      "Epoch 50/100\n",
      "19/19 [==============================] - 0s 1ms/step - loss: 0.0078\n",
      "Epoch 51/100\n",
      "19/19 [==============================] - 0s 1ms/step - loss: 0.0078\n",
      "Epoch 52/100\n",
      "19/19 [==============================] - 0s 956us/step - loss: 0.0078\n",
      "Epoch 53/100\n",
      "19/19 [==============================] - 0s 994us/step - loss: 0.0078\n",
      "Epoch 54/100\n",
      "19/19 [==============================] - 0s 1ms/step - loss: 0.0078\n",
      "Epoch 55/100\n",
      "19/19 [==============================] - 0s 948us/step - loss: 0.0078\n",
      "Epoch 56/100\n",
      "19/19 [==============================] - 0s 1ms/step - loss: 0.0076\n",
      "Epoch 57/100\n",
      "19/19 [==============================] - 0s 1ms/step - loss: 0.0076\n",
      "Epoch 58/100\n",
      "19/19 [==============================] - 0s 981us/step - loss: 0.0077\n",
      "Epoch 59/100\n",
      "19/19 [==============================] - 0s 987us/step - loss: 0.0077\n",
      "Epoch 60/100\n",
      "19/19 [==============================] - 0s 1ms/step - loss: 0.0075\n",
      "Epoch 61/100\n",
      "19/19 [==============================] - 0s 1ms/step - loss: 0.0075\n",
      "Epoch 62/100\n",
      "19/19 [==============================] - 0s 1ms/step - loss: 0.0075\n",
      "Epoch 63/100\n",
      "19/19 [==============================] - 0s 1ms/step - loss: 0.0075\n",
      "Epoch 64/100\n",
      "19/19 [==============================] - 0s 998us/step - loss: 0.0074\n",
      "Epoch 65/100\n",
      "19/19 [==============================] - 0s 1ms/step - loss: 0.0076\n",
      "Epoch 66/100\n",
      "19/19 [==============================] - 0s 1ms/step - loss: 0.0075\n",
      "Epoch 67/100\n",
      "19/19 [==============================] - 0s 969us/step - loss: 0.0075\n",
      "Epoch 68/100\n",
      "19/19 [==============================] - 0s 998us/step - loss: 0.0074\n",
      "Epoch 69/100\n",
      "19/19 [==============================] - 0s 1ms/step - loss: 0.0074\n",
      "Epoch 70/100\n",
      "19/19 [==============================] - 0s 949us/step - loss: 0.0073\n",
      "Epoch 71/100\n",
      "19/19 [==============================] - 0s 1ms/step - loss: 0.0073\n",
      "Epoch 72/100\n",
      "19/19 [==============================] - 0s 1ms/step - loss: 0.0072\n",
      "Epoch 73/100\n",
      "19/19 [==============================] - 0s 963us/step - loss: 0.0072\n",
      "Epoch 74/100\n",
      "19/19 [==============================] - 0s 1000us/step - loss: 0.0071\n",
      "Epoch 75/100\n",
      "19/19 [==============================] - 0s 1ms/step - loss: 0.0071\n",
      "Epoch 76/100\n",
      "19/19 [==============================] - 0s 959us/step - loss: 0.0072\n",
      "Epoch 77/100\n",
      "19/19 [==============================] - 0s 1ms/step - loss: 0.0070\n",
      "Epoch 78/100\n",
      "19/19 [==============================] - 0s 1ms/step - loss: 0.0071\n",
      "Epoch 79/100\n",
      "19/19 [==============================] - 0s 999us/step - loss: 0.0071\n",
      "Epoch 80/100\n",
      "19/19 [==============================] - 0s 1ms/step - loss: 0.0070\n",
      "Epoch 81/100\n",
      "19/19 [==============================] - 0s 1ms/step - loss: 0.0069\n",
      "Epoch 82/100\n",
      "19/19 [==============================] - 0s 971us/step - loss: 0.0069\n",
      "Epoch 83/100\n",
      "19/19 [==============================] - 0s 1ms/step - loss: 0.0069\n",
      "Epoch 84/100\n",
      "19/19 [==============================] - 0s 1ms/step - loss: 0.0069\n",
      "Epoch 85/100\n",
      "19/19 [==============================] - 0s 937us/step - loss: 0.0069\n",
      "Epoch 86/100\n",
      "19/19 [==============================] - 0s 1ms/step - loss: 0.0069\n",
      "Epoch 87/100\n",
      "19/19 [==============================] - 0s 1ms/step - loss: 0.0068\n",
      "Epoch 88/100\n",
      "19/19 [==============================] - 0s 1ms/step - loss: 0.0067\n",
      "Epoch 89/100\n",
      "19/19 [==============================] - 0s 945us/step - loss: 0.0068\n",
      "Epoch 90/100\n",
      "19/19 [==============================] - 0s 1ms/step - loss: 0.0068\n",
      "Epoch 91/100\n",
      "19/19 [==============================] - 0s 1ms/step - loss: 0.0068\n",
      "Epoch 92/100\n",
      "19/19 [==============================] - 0s 1ms/step - loss: 0.0068\n",
      "Epoch 93/100\n",
      "19/19 [==============================] - 0s 1ms/step - loss: 0.0067\n",
      "Epoch 94/100\n",
      "19/19 [==============================] - 0s 1ms/step - loss: 0.0066\n",
      "Epoch 95/100\n",
      "19/19 [==============================] - 0s 958us/step - loss: 0.0066\n",
      "Epoch 96/100\n",
      "19/19 [==============================] - 0s 1ms/step - loss: 0.0065\n",
      "Epoch 97/100\n",
      "19/19 [==============================] - 0s 1ms/step - loss: 0.0065\n",
      "Epoch 98/100\n",
      "19/19 [==============================] - 0s 980us/step - loss: 0.0068\n",
      "Epoch 99/100\n",
      "19/19 [==============================] - 0s 1ms/step - loss: 0.0065\n",
      "Epoch 100/100\n",
      "19/19 [==============================] - 0s 1ms/step - loss: 0.0066\n",
      "Model: \"sequential_10\"\n",
      "_________________________________________________________________\n",
      " Layer (type)                Output Shape              Param #   \n",
      "=================================================================\n",
      " permute_8 (Permute)         (None, 50, 48)            0         \n",
      "                                                                 \n",
      " lstm_9 (LSTM)               (None, 50, 20)            5520      \n",
      "                                                                 \n",
      " lstm_10 (LSTM)              (None, 50, 20)            3280      \n",
      "                                                                 \n",
      " lstm_11 (LSTM)              (None, 50, 10)            1240      \n",
      "                                                                 \n",
      " dense_31 (Dense)            (None, 50, 24)            264       \n",
      "                                                                 \n",
      "=================================================================\n",
      "Total params: 10304 (40.25 KB)\n",
      "Trainable params: 10304 (40.25 KB)\n",
      "Non-trainable params: 0 (0.00 Byte)\n",
      "_________________________________________________________________\n"
     ]
    }
   ],
   "source": [
    "# initializing the LSTM\n",
    "model_LSTM = keras.Sequential([\n",
    "        \n",
    "        # TODO I think this might be needed to group by timestamps rather than variables\n",
    "        keras.layers.Permute((2,1), input_shape=(48,50)),\n",
    "        \n",
    "        # TODO does it make sense to stack them? should the number of units be equal to dimensions?\n",
    "        keras.layers.LSTM(20, activation='tanh', return_sequences=True),\n",
    "        # keras.layers.Dropout(0.2),   no dropout yet\n",
    "        keras.layers.LSTM(20, activation='tanh', return_sequences=True),\n",
    "        keras.layers.LSTM(10, activation='tanh', return_sequences=True),\n",
    "        keras.layers.Dense(24)\n",
    "    ]) #amount of layers & neurons to be adjusted\n",
    "\n",
    "\n",
    "# compiling RNN\n",
    "model_LSTM.compile(optimizer = SGD(learning_rate=0.01, \n",
    "                                  momentum=0.9, \n",
    "                                  nesterov=True), \n",
    "                  loss = \"mean_squared_error\")\n",
    " \n",
    "# fitting the model\n",
    "history_LSTM = model.fit(input_sequences, target_variables, epochs = 100, verbose=1)\n",
    "model_LSTM.summary()"
   ],
   "metadata": {
    "collapsed": false,
    "ExecuteTime": {
     "end_time": "2023-11-27T21:05:23.628976753Z",
     "start_time": "2023-11-27T21:05:20.935447029Z"
    }
   },
   "id": "eaacacc2e43cdf51"
  }
 ],
 "metadata": {
  "kernelspec": {
   "display_name": "Python 3",
   "language": "python",
   "name": "python3"
  },
  "language_info": {
   "codemirror_mode": {
    "name": "ipython",
    "version": 2
   },
   "file_extension": ".py",
   "mimetype": "text/x-python",
   "name": "python",
   "nbconvert_exporter": "python",
   "pygments_lexer": "ipython2",
   "version": "2.7.6"
  }
 },
 "nbformat": 4,
 "nbformat_minor": 5
}
