{
 "cells": [
  {
   "cell_type": "code",
   "execution_count": 4,
   "id": "initial_id",
   "metadata": {
    "collapsed": true,
    "ExecuteTime": {
     "end_time": "2023-11-20T18:00:19.552351796Z",
     "start_time": "2023-11-20T18:00:19.510906131Z"
    }
   },
   "outputs": [],
   "source": [
    "import numpy as np\n",
    "import pandas as pd\n",
    "import matplotlib.pyplot as plt"
   ]
  },
  {
   "cell_type": "code",
   "execution_count": 5,
   "outputs": [],
   "source": [
    "train = pd.read_csv(\"../data/schemas/warm_up/TrainSet.csv\", sep=\",\")\n",
    "test = pd.read_csv(\"../data/schemas/warm_up/TestSet.csv\", sep=\",\")"
   ],
   "metadata": {
    "collapsed": false,
    "ExecuteTime": {
     "end_time": "2023-11-20T18:00:19.553003005Z",
     "start_time": "2023-11-20T18:00:19.551982032Z"
    }
   },
   "id": "9c38bdfa402690c6"
  },
  {
   "cell_type": "code",
   "execution_count": 6,
   "outputs": [],
   "source": [
    "NUM_OF_TIMESTEPS_INPUT = 48\n",
    "NUM_OF_TIMESTEPS_OUTPUT = 24"
   ],
   "metadata": {
    "collapsed": false,
    "ExecuteTime": {
     "end_time": "2023-11-20T18:00:19.553330939Z",
     "start_time": "2023-11-20T18:00:19.552284278Z"
    }
   },
   "id": "129d756b99dcb2ef"
  },
  {
   "cell_type": "code",
   "execution_count": 7,
   "outputs": [
    {
     "data": {
      "text/plain": "['Hour_1',\n 'Day Type_1',\n 'Indoor Temperature (C)_1',\n 'Average Unmet Cooling Setpoint Difference (C)_1',\n 'Indoor Relative Humidity (%)_1',\n 'Equipment Electric Power (kWh)_1',\n 'DHW Heating (kWh)_1',\n 'Cooling Load (kWh)_1',\n 'Solar Generation (W/kW)_1',\n 'Occupant Count (people)_1',\n 'Temperature Set Point (C)_1',\n 'Hour_2',\n 'Day Type_2',\n 'Indoor Temperature (C)_2',\n 'Average Unmet Cooling Setpoint Difference (C)_2',\n 'Indoor Relative Humidity (%)_2',\n 'Equipment Electric Power (kWh)_2',\n 'DHW Heating (kWh)_2',\n 'Cooling Load (kWh)_2',\n 'Solar Generation (W/kW)_2',\n 'Occupant Count (people)_2',\n 'Temperature Set Point (C)_2',\n 'Hour_3',\n 'Day Type_3',\n 'Indoor Temperature (C)_3',\n 'Average Unmet Cooling Setpoint Difference (C)_3',\n 'Indoor Relative Humidity (%)_3',\n 'Equipment Electric Power (kWh)_3',\n 'DHW Heating (kWh)_3',\n 'Cooling Load (kWh)_3',\n 'Solar Generation (W/kW)_3',\n 'Occupant Count (people)_3',\n 'Temperature Set Point (C)_3',\n 'Outdoor Drybulb Temperature (C)',\n 'Outdoor Relative Humidity (%)',\n 'Diffuse Solar Radiation (W/m2)',\n 'Direct Solar Radiation (W/m2)',\n '6h Outdoor Drybulb Temperature (C)',\n '12h Outdoor Drybulb Temperature (C)',\n '24h Outdoor Drybulb Temperature (C)',\n '6h Outdoor Relative Humidity (%)',\n '12h Outdoor Relative Humidity (%)',\n '24h Outdoor Relative Humidity (%)',\n '6h Diffuse Solar Radiation (W/m2)',\n '12h Diffuse Solar Radiation (W/m2)',\n '24h Diffuse Solar Radiation (W/m2)',\n '6h Direct Solar Radiation (W/m2)',\n '12h Direct Solar Radiation (W/m2)',\n '24h Direct Solar Radiation (W/m2)',\n 'Avg solar generation']"
     },
     "execution_count": 7,
     "metadata": {},
     "output_type": "execute_result"
    }
   ],
   "source": [
    "threshold = 0\n",
    "column_to_predict = \"kg_CO2/kWh\"\n",
    "\n",
    "independent_variables = []\n",
    "\n",
    "\n",
    "for column in train:\n",
    "    if abs(train[column].corr(train[column_to_predict])) > threshold:\n",
    "        independent_variables.append(column)\n",
    "\n",
    "independent_variables.remove(column_to_predict)\n",
    "independent_variables.remove(\"Index\")\n",
    "independent_variables"
   ],
   "metadata": {
    "collapsed": false,
    "ExecuteTime": {
     "end_time": "2023-11-20T18:00:19.590680610Z",
     "start_time": "2023-11-20T18:00:19.552517672Z"
    }
   },
   "id": "8c86f8db5b005aa9"
  },
  {
   "cell_type": "code",
   "execution_count": 8,
   "outputs": [],
   "source": [
    "X_train = train[independent_variables]\n",
    "# X_train = train[[\"Hour_1\", \"Day Type_1\"]]\n",
    "Y_train = train[column_to_predict]"
   ],
   "metadata": {
    "collapsed": false,
    "ExecuteTime": {
     "end_time": "2023-11-20T18:00:19.626816802Z",
     "start_time": "2023-11-20T18:00:19.568764918Z"
    }
   },
   "id": "dce7ec218b3cb89f"
  },
  {
   "cell_type": "code",
   "execution_count": 9,
   "outputs": [
    {
     "data": {
      "text/plain": "(648, 50)"
     },
     "execution_count": 9,
     "metadata": {},
     "output_type": "execute_result"
    }
   ],
   "source": [
    "X_train.shape"
   ],
   "metadata": {
    "collapsed": false,
    "ExecuteTime": {
     "end_time": "2023-11-20T18:00:19.628812970Z",
     "start_time": "2023-11-20T18:00:19.575255388Z"
    }
   },
   "id": "c20f3e72c7abeb5e"
  },
  {
   "cell_type": "code",
   "execution_count": 10,
   "outputs": [],
   "source": [
    "def create_sequences(input_data, output_data, timesteps_input, timesteps_output):\n",
    "    sequences, targets = [], []\n",
    "\n",
    "    for i in range(len(input_data) - timesteps_input - timesteps_output + 1):\n",
    "        seq = input_data[i:i + timesteps_input]\n",
    "        #print(f\"i = {i}, seq = {seq}\")\n",
    "        target = output_data[i + timesteps_input: i + timesteps_input + timesteps_output]\n",
    "        #print(f\"i = {i}, target = {target}\")\n",
    "        sequences.append(seq)\n",
    "        targets.append(target)\n",
    "\n",
    "    return np.array(sequences), np.array(targets)"
   ],
   "metadata": {
    "collapsed": false,
    "ExecuteTime": {
     "end_time": "2023-11-20T18:00:19.632331796Z",
     "start_time": "2023-11-20T18:00:19.586788624Z"
    }
   },
   "id": "6e5761482cc2f8b0"
  },
  {
   "cell_type": "code",
   "execution_count": 11,
   "outputs": [
    {
     "name": "stdout",
     "output_type": "stream",
     "text": [
      "[[0.         0.66666667 0.42905032 ... 0.90353129 0.         0.        ]\n",
      " [0.04347826 0.66666667 0.30943362 ... 0.73034217 0.         0.        ]\n",
      " [0.08695652 0.66666667 0.30781619 ... 0.87445669 0.         0.        ]\n",
      " ...\n",
      " [0.91304348 0.83333333 0.29064017 ... 0.29065842 0.         0.        ]\n",
      " [0.95652174 0.83333333 0.04895782 ... 0.59164279 0.         0.        ]\n",
      " [1.         0.83333333 0.00208331 ... 0.53563308 0.         0.        ]]\n",
      "[0.59739428 0.49429981 0.38708765 0.28880037 0.2346659  0.22880156\n",
      " 0.26241434 0.31385395 0.36274065 0.32912399 0.41859464 0.59690114\n",
      " 0.74685743 0.82796725 0.84589733 0.83725959 0.82125879 0.80709442\n",
      " 0.78806505 0.73835998 0.71748058 0.73547528 0.69513525 0.71729728]\n",
      "(577, 48, 50)\n",
      "(577, 24)\n"
     ]
    }
   ],
   "source": [
    "input_sequences, target_variables = create_sequences(X_train, Y_train, NUM_OF_TIMESTEPS_INPUT, NUM_OF_TIMESTEPS_OUTPUT)\n",
    "print(input_sequences[0])\n",
    "print(target_variables[0])\n",
    "print(input_sequences.shape)\n",
    "print(target_variables.shape)"
   ],
   "metadata": {
    "collapsed": false,
    "ExecuteTime": {
     "end_time": "2023-11-20T18:00:19.667516127Z",
     "start_time": "2023-11-20T18:00:19.598887136Z"
    }
   },
   "id": "7b08bf8c89d4a35f"
  },
  {
   "cell_type": "code",
   "execution_count": 12,
   "outputs": [],
   "source": [
    "# importing libraries\n",
    "from tensorflow import keras\n",
    "from keras.models import Sequential\n",
    "from keras.layers import Dense\n",
    "from keras.layers import SimpleRNN\n",
    "from keras.layers import Dropout\n",
    "from keras.optimizers import SGD"
   ],
   "metadata": {
    "collapsed": false,
    "ExecuteTime": {
     "end_time": "2023-11-20T18:00:19.708476458Z",
     "start_time": "2023-11-20T18:00:19.654992035Z"
    }
   },
   "id": "2b25b92aca404528"
  },
  {
   "cell_type": "code",
   "execution_count": 13,
   "outputs": [
    {
     "name": "stdout",
     "output_type": "stream",
     "text": [
      "(50, 1)\n"
     ]
    }
   ],
   "source": [
    "print((X_train.shape[1],1))"
   ],
   "metadata": {
    "collapsed": false,
    "ExecuteTime": {
     "end_time": "2023-11-20T18:00:19.709130132Z",
     "start_time": "2023-11-20T18:00:19.696047217Z"
    }
   },
   "id": "d83ab3c75ea449f9"
  },
  {
   "cell_type": "code",
   "execution_count": 16,
   "outputs": [
    {
     "name": "stdout",
     "output_type": "stream",
     "text": [
      "Epoch 1/100\n",
      "21/21 [==============================] - 0s 2ms/step - loss: 0.0955\n",
      "Epoch 2/100\n",
      "21/21 [==============================] - 0s 1ms/step - loss: 0.0548\n",
      "Epoch 3/100\n",
      "21/21 [==============================] - 0s 1ms/step - loss: 0.0531\n",
      "Epoch 4/100\n",
      "21/21 [==============================] - 0s 1ms/step - loss: 0.0529\n",
      "Epoch 5/100\n",
      "21/21 [==============================] - 0s 1ms/step - loss: 0.0526\n",
      "Epoch 6/100\n",
      "21/21 [==============================] - 0s 1ms/step - loss: 0.0525\n",
      "Epoch 7/100\n",
      "21/21 [==============================] - 0s 1ms/step - loss: 0.0528\n",
      "Epoch 8/100\n",
      "21/21 [==============================] - 0s 1ms/step - loss: 0.0522\n",
      "Epoch 9/100\n",
      "21/21 [==============================] - 0s 1ms/step - loss: 0.0520\n",
      "Epoch 10/100\n",
      "21/21 [==============================] - 0s 1ms/step - loss: 0.0526\n",
      "Epoch 11/100\n",
      "21/21 [==============================] - 0s 1ms/step - loss: 0.0520\n",
      "Epoch 12/100\n",
      "21/21 [==============================] - 0s 1ms/step - loss: 0.0517\n",
      "Epoch 13/100\n",
      "21/21 [==============================] - 0s 1ms/step - loss: 0.0520\n",
      "Epoch 14/100\n",
      "21/21 [==============================] - 0s 1ms/step - loss: 0.0519\n",
      "Epoch 15/100\n",
      "21/21 [==============================] - 0s 1ms/step - loss: 0.0521\n",
      "Epoch 16/100\n",
      "21/21 [==============================] - 0s 1ms/step - loss: 0.0520\n",
      "Epoch 17/100\n",
      "21/21 [==============================] - 0s 1ms/step - loss: 0.0519\n",
      "Epoch 18/100\n",
      "21/21 [==============================] - 0s 1ms/step - loss: 0.0517\n",
      "Epoch 19/100\n",
      "21/21 [==============================] - 0s 1ms/step - loss: 0.0518\n",
      "Epoch 20/100\n",
      "21/21 [==============================] - 0s 1ms/step - loss: 0.0518\n",
      "Epoch 21/100\n",
      "21/21 [==============================] - 0s 1ms/step - loss: 0.0520\n",
      "Epoch 22/100\n",
      "21/21 [==============================] - 0s 1ms/step - loss: 0.0524\n",
      "Epoch 23/100\n",
      "21/21 [==============================] - 0s 1ms/step - loss: 0.0518\n",
      "Epoch 24/100\n",
      "21/21 [==============================] - 0s 1ms/step - loss: 0.0527\n",
      "Epoch 25/100\n",
      "21/21 [==============================] - 0s 1ms/step - loss: 0.0520\n",
      "Epoch 26/100\n",
      "21/21 [==============================] - 0s 1ms/step - loss: 0.0517\n",
      "Epoch 27/100\n",
      "21/21 [==============================] - 0s 1ms/step - loss: 0.0514\n",
      "Epoch 28/100\n",
      "21/21 [==============================] - 0s 1ms/step - loss: 0.0521\n",
      "Epoch 29/100\n",
      "21/21 [==============================] - 0s 1ms/step - loss: 0.0517\n",
      "Epoch 30/100\n",
      "21/21 [==============================] - 0s 1ms/step - loss: 0.0518\n",
      "Epoch 31/100\n",
      "21/21 [==============================] - 0s 1ms/step - loss: 0.0515\n",
      "Epoch 32/100\n",
      "21/21 [==============================] - 0s 1ms/step - loss: 0.0519\n",
      "Epoch 33/100\n",
      "21/21 [==============================] - 0s 1ms/step - loss: 0.0516\n",
      "Epoch 34/100\n",
      "21/21 [==============================] - 0s 1ms/step - loss: 0.0518\n",
      "Epoch 35/100\n",
      "21/21 [==============================] - 0s 1ms/step - loss: 0.0526\n",
      "Epoch 36/100\n",
      "21/21 [==============================] - 0s 1ms/step - loss: 0.0519\n",
      "Epoch 37/100\n",
      "21/21 [==============================] - 0s 1ms/step - loss: 0.0524\n",
      "Epoch 38/100\n",
      "21/21 [==============================] - 0s 1ms/step - loss: 0.0516\n",
      "Epoch 39/100\n",
      "21/21 [==============================] - 0s 1ms/step - loss: 0.0515\n",
      "Epoch 40/100\n",
      "21/21 [==============================] - 0s 1ms/step - loss: 0.0518\n",
      "Epoch 41/100\n",
      "21/21 [==============================] - 0s 1ms/step - loss: 0.0519\n",
      "Epoch 42/100\n",
      "21/21 [==============================] - 0s 2ms/step - loss: 0.0519\n",
      "Epoch 43/100\n",
      "21/21 [==============================] - 0s 1ms/step - loss: 0.0517\n",
      "Epoch 44/100\n",
      "21/21 [==============================] - 0s 1ms/step - loss: 0.0517\n",
      "Epoch 45/100\n",
      "21/21 [==============================] - 0s 1ms/step - loss: 0.0515\n",
      "Epoch 46/100\n",
      "21/21 [==============================] - 0s 1ms/step - loss: 0.0521\n",
      "Epoch 47/100\n",
      "21/21 [==============================] - 0s 1ms/step - loss: 0.0516\n",
      "Epoch 48/100\n",
      "21/21 [==============================] - 0s 1ms/step - loss: 0.0521\n",
      "Epoch 49/100\n",
      "21/21 [==============================] - 0s 1ms/step - loss: 0.0519\n",
      "Epoch 50/100\n",
      "21/21 [==============================] - 0s 1ms/step - loss: 0.0516\n",
      "Epoch 51/100\n",
      "21/21 [==============================] - 0s 1ms/step - loss: 0.0515\n",
      "Epoch 52/100\n",
      "21/21 [==============================] - 0s 1ms/step - loss: 0.0518\n",
      "Epoch 53/100\n",
      "21/21 [==============================] - 0s 1ms/step - loss: 0.0524\n",
      "Epoch 54/100\n",
      "21/21 [==============================] - 0s 1ms/step - loss: 0.0520\n",
      "Epoch 55/100\n",
      "21/21 [==============================] - 0s 1ms/step - loss: 0.0515\n",
      "Epoch 56/100\n",
      "21/21 [==============================] - 0s 1ms/step - loss: 0.0521\n",
      "Epoch 57/100\n",
      "21/21 [==============================] - 0s 1ms/step - loss: 0.0512\n",
      "Epoch 58/100\n",
      "21/21 [==============================] - 0s 1ms/step - loss: 0.0522\n",
      "Epoch 59/100\n",
      "21/21 [==============================] - 0s 1ms/step - loss: 0.0521\n",
      "Epoch 60/100\n",
      "21/21 [==============================] - 0s 1ms/step - loss: 0.0517\n",
      "Epoch 61/100\n",
      "21/21 [==============================] - 0s 1ms/step - loss: 0.0518\n",
      "Epoch 62/100\n",
      "21/21 [==============================] - 0s 1ms/step - loss: 0.0520\n",
      "Epoch 63/100\n",
      "21/21 [==============================] - 0s 1ms/step - loss: 0.0518\n",
      "Epoch 64/100\n",
      "21/21 [==============================] - 0s 1ms/step - loss: 0.0520\n",
      "Epoch 65/100\n",
      "21/21 [==============================] - 0s 1ms/step - loss: 0.0518\n",
      "Epoch 66/100\n",
      "21/21 [==============================] - 0s 1ms/step - loss: 0.0522\n",
      "Epoch 67/100\n",
      "21/21 [==============================] - 0s 1ms/step - loss: 0.0519\n",
      "Epoch 68/100\n",
      "21/21 [==============================] - 0s 1ms/step - loss: 0.0515\n",
      "Epoch 69/100\n",
      "21/21 [==============================] - 0s 1ms/step - loss: 0.0517\n",
      "Epoch 70/100\n",
      "21/21 [==============================] - 0s 1ms/step - loss: 0.0519\n",
      "Epoch 71/100\n",
      "21/21 [==============================] - 0s 1ms/step - loss: 0.0525\n",
      "Epoch 72/100\n",
      "21/21 [==============================] - 0s 1ms/step - loss: 0.0517\n",
      "Epoch 73/100\n",
      "21/21 [==============================] - 0s 1ms/step - loss: 0.0515\n",
      "Epoch 74/100\n",
      "21/21 [==============================] - 0s 1ms/step - loss: 0.0522\n",
      "Epoch 75/100\n",
      "21/21 [==============================] - 0s 1ms/step - loss: 0.0519\n",
      "Epoch 76/100\n",
      "21/21 [==============================] - 0s 1ms/step - loss: 0.0517\n",
      "Epoch 77/100\n",
      "21/21 [==============================] - 0s 1ms/step - loss: 0.0515\n",
      "Epoch 78/100\n",
      "21/21 [==============================] - 0s 1ms/step - loss: 0.0515\n",
      "Epoch 79/100\n",
      "21/21 [==============================] - 0s 1ms/step - loss: 0.0513\n",
      "Epoch 80/100\n",
      "21/21 [==============================] - 0s 1ms/step - loss: 0.0519\n",
      "Epoch 81/100\n",
      "21/21 [==============================] - 0s 1ms/step - loss: 0.0521\n",
      "Epoch 82/100\n",
      "21/21 [==============================] - 0s 1ms/step - loss: 0.0520\n",
      "Epoch 83/100\n",
      "21/21 [==============================] - 0s 1ms/step - loss: 0.0518\n",
      "Epoch 84/100\n",
      "21/21 [==============================] - 0s 1ms/step - loss: 0.0515\n",
      "Epoch 85/100\n",
      "21/21 [==============================] - 0s 1ms/step - loss: 0.0520\n",
      "Epoch 86/100\n",
      "21/21 [==============================] - 0s 1ms/step - loss: 0.0513\n",
      "Epoch 87/100\n",
      "21/21 [==============================] - 0s 1ms/step - loss: 0.0519\n",
      "Epoch 88/100\n",
      "21/21 [==============================] - 0s 1ms/step - loss: 0.0518\n",
      "Epoch 89/100\n",
      "21/21 [==============================] - 0s 1ms/step - loss: 0.0516\n",
      "Epoch 90/100\n",
      "21/21 [==============================] - 0s 1ms/step - loss: 0.0514\n",
      "Epoch 91/100\n",
      "21/21 [==============================] - 0s 1ms/step - loss: 0.0516\n",
      "Epoch 92/100\n",
      "21/21 [==============================] - 0s 2ms/step - loss: 0.0514\n",
      "Epoch 93/100\n",
      "21/21 [==============================] - 0s 1ms/step - loss: 0.0520\n",
      "Epoch 94/100\n",
      "21/21 [==============================] - 0s 1ms/step - loss: 0.0515\n",
      "Epoch 95/100\n",
      "21/21 [==============================] - 0s 2ms/step - loss: 0.0520\n",
      "Epoch 96/100\n",
      "21/21 [==============================] - 0s 2ms/step - loss: 0.0515\n",
      "Epoch 97/100\n",
      "21/21 [==============================] - 0s 2ms/step - loss: 0.0522\n",
      "Epoch 98/100\n",
      "21/21 [==============================] - 0s 1ms/step - loss: 0.0526\n",
      "Epoch 99/100\n",
      "21/21 [==============================] - 0s 1ms/step - loss: 0.0519\n",
      "Epoch 100/100\n",
      "21/21 [==============================] - 0s 1ms/step - loss: 0.0516\n",
      "Model: \"sequential_2\"\n",
      "_________________________________________________________________\n",
      " Layer (type)                Output Shape              Param #   \n",
      "=================================================================\n",
      " dense_4 (Dense)             (None, 50, 20)            40        \n",
      "                                                                 \n",
      " dropout_1 (Dropout)         (None, 50, 20)            0         \n",
      "                                                                 \n",
      " dense_5 (Dense)             (None, 50, 20)            420       \n",
      "                                                                 \n",
      " dense_6 (Dense)             (None, 50, 10)            210       \n",
      "                                                                 \n",
      " dense_7 (Dense)             (None, 50, 1)             11        \n",
      "                                                                 \n",
      "=================================================================\n",
      "Total params: 681 (2.66 KB)\n",
      "Trainable params: 681 (2.66 KB)\n",
      "Non-trainable params: 0 (0.00 Byte)\n",
      "_________________________________________________________________\n"
     ]
    }
   ],
   "source": [
    "# initializing the sequential RNN\n",
    "model = keras.Sequential([\n",
    "        keras.layers.Dense(20, activation='tanh', input_shape=(X_train.shape[1],1)),\n",
    "        keras.layers.Dropout(0.2),\n",
    "        keras.layers.Dense(20, activation='tanh'),\n",
    "        keras.layers.Dense(10, activation='tanh'),\n",
    "        keras.layers.Dense(1),\n",
    "    ]) #amount of layers & neurons to be adjusted\n",
    "\n",
    "\n",
    "# compiling RNN\n",
    "model.compile(optimizer = SGD(learning_rate=0.01, \n",
    "                                  momentum=0.9, \n",
    "                                  nesterov=True), \n",
    "                  loss = \"mean_squared_error\")\n",
    " \n",
    "# fitting the model\n",
    "history = model.fit(X_train, Y_train, epochs = 100, verbose=1)\n",
    "model.summary()\n"
   ],
   "metadata": {
    "collapsed": false,
    "ExecuteTime": {
     "end_time": "2023-11-20T18:06:16.364909251Z",
     "start_time": "2023-11-20T18:06:12.813577325Z"
    }
   },
   "id": "2f150d57edea7b7"
  }
 ],
 "metadata": {
  "kernelspec": {
   "display_name": "Python 3",
   "language": "python",
   "name": "python3"
  },
  "language_info": {
   "codemirror_mode": {
    "name": "ipython",
    "version": 2
   },
   "file_extension": ".py",
   "mimetype": "text/x-python",
   "name": "python",
   "nbconvert_exporter": "python",
   "pygments_lexer": "ipython2",
   "version": "2.7.6"
  }
 },
 "nbformat": 4,
 "nbformat_minor": 5
}
