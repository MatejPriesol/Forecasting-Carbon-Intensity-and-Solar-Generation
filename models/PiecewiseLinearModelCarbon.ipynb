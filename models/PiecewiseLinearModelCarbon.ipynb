{
 "cells": [
  {
   "cell_type": "code",
   "execution_count": 6,
   "id": "initial_id",
   "metadata": {
    "collapsed": true,
    "ExecuteTime": {
     "end_time": "2023-10-25T18:58:37.121334530Z",
     "start_time": "2023-10-25T18:58:37.080410728Z"
    }
   },
   "outputs": [],
   "source": [
    "import matplotlib.pyplot as plt\n",
    "import numpy as np\n",
    "import pandas as pd\n",
    "import seaborn as sns\n",
    "from sklearn.model_selection import train_test_split\n",
    "from sklearn import linear_model"
   ]
  },
  {
   "cell_type": "code",
   "execution_count": 7,
   "outputs": [],
   "source": [
    "train = pd.read_csv(\"../data/schemas/warm_up/TrainSet.csv\", sep=\",\")\n",
    "test = pd.read_csv(\"../data/schemas/warm_up/TestSet.csv\", sep=\",\")"
   ],
   "metadata": {
    "collapsed": false,
    "ExecuteTime": {
     "end_time": "2023-10-25T18:58:37.121596398Z",
     "start_time": "2023-10-25T18:58:37.121181910Z"
    }
   },
   "id": "a3758b5da1d39e24"
  },
  {
   "cell_type": "code",
   "execution_count": 12,
   "outputs": [
    {
     "data": {
      "text/plain": "['Unnamed: 0',\n 'Hour_1',\n 'Day Type_1',\n 'Indoor Temperature (C)_1',\n 'Average Unmet Cooling Setpoint Difference (C)_1',\n 'Indoor Relative Humidity (%)_1',\n 'Equipment Electric Power (kWh)_1',\n 'DHW Heating (kWh)_1',\n 'Cooling Load (kWh)_1',\n 'Solar Generation (W/kW)_1',\n 'Occupant Count (people)_1',\n 'Temperature Set Point (C)_1',\n 'Hour_2',\n 'Day Type_2',\n 'Indoor Temperature (C)_2',\n 'Average Unmet Cooling Setpoint Difference (C)_2',\n 'Indoor Relative Humidity (%)_2',\n 'Equipment Electric Power (kWh)_2',\n 'DHW Heating (kWh)_2',\n 'Cooling Load (kWh)_2',\n 'Solar Generation (W/kW)_2',\n 'Occupant Count (people)_2',\n 'Temperature Set Point (C)_2',\n 'Hour_3',\n 'Day Type_3',\n 'Indoor Temperature (C)_3',\n 'Average Unmet Cooling Setpoint Difference (C)_3',\n 'Indoor Relative Humidity (%)_3',\n 'Equipment Electric Power (kWh)_3',\n 'DHW Heating (kWh)_3',\n 'Cooling Load (kWh)_3',\n 'Solar Generation (W/kW)_3',\n 'Occupant Count (people)_3',\n 'Temperature Set Point (C)_3',\n 'Outdoor Drybulb Temperature (C)',\n 'Outdoor Relative Humidity (%)',\n 'Diffuse Solar Radiation (W/m2)',\n 'Direct Solar Radiation (W/m2)',\n '6h Outdoor Drybulb Temperature (C)',\n '12h Outdoor Drybulb Temperature (C)',\n '24h Outdoor Drybulb Temperature (C)',\n '6h Outdoor Relative Humidity (%)',\n '12h Outdoor Relative Humidity (%)',\n '24h Outdoor Relative Humidity (%)',\n '6h Diffuse Solar Radiation (W/m2)',\n '12h Diffuse Solar Radiation (W/m2)',\n '24h Diffuse Solar Radiation (W/m2)',\n '6h Direct Solar Radiation (W/m2)',\n '12h Direct Solar Radiation (W/m2)',\n '24h Direct Solar Radiation (W/m2)',\n 'Avg solar generation']"
     },
     "execution_count": 12,
     "metadata": {},
     "output_type": "execute_result"
    }
   ],
   "source": [
    "threshold = 0\n",
    "column_to_predict = \"kg_CO2/kWh\"\n",
    "\n",
    "independent_variables = []\n",
    "\n",
    "\n",
    "for column in train:\n",
    "    if abs(train[column].corr(train[column_to_predict])) > threshold:\n",
    "        independent_variables.append(column)\n",
    "\n",
    "independent_variables.remove(column_to_predict)\n",
    "independent_variables.remove(\"Index\")\n",
    "independent_variables"
   ],
   "metadata": {
    "collapsed": false,
    "ExecuteTime": {
     "end_time": "2023-10-25T18:59:32.666900342Z",
     "start_time": "2023-10-25T18:59:32.625857560Z"
    }
   },
   "id": "3b44d39a80f50049"
  },
  {
   "cell_type": "code",
   "execution_count": 13,
   "outputs": [],
   "source": [
    "X = train[independent_variables]\n",
    "Y = train[column_to_predict]"
   ],
   "metadata": {
    "collapsed": false,
    "ExecuteTime": {
     "end_time": "2023-10-25T18:59:37.137520225Z",
     "start_time": "2023-10-25T18:59:37.133962425Z"
    }
   },
   "id": "a4988debdda6fae7"
  },
  {
   "cell_type": "code",
   "execution_count": 14,
   "outputs": [
    {
     "name": "stdout",
     "output_type": "stream",
     "text": [
      "start = 0, end = 72, score = 0.9717744005255394\n",
      "start = 72, end = 144, score = 0.95226777452406\n",
      "start = 144, end = 216, score = 0.9558007773053332\n",
      "start = 216, end = 288, score = 0.9393565522985248\n",
      "start = 288, end = 360, score = 0.9702879268048064\n",
      "start = 360, end = 432, score = 0.9797040323618299\n",
      "start = 432, end = 504, score = 0.927639828122997\n",
      "start = 504, end = 576, score = 0.9631769149798294\n",
      "start = 576, end = 648, score = 0.9536871614260981\n",
      "0.9067047756156862\n"
     ]
    }
   ],
   "source": [
    "# train = 684 columns\n",
    "\n",
    "# for whole numbers, use 6, 9, 12, 18 (these are 1.0 average score, probably overfit)\n",
    "# using e.g. 72 seems much more reasonable\n",
    "# but e.g. 12 seems reasonable since it can represent day/night\n",
    "# how to use this to predict the test?\n",
    "\n",
    "step_size = 72\n",
    "overall_score = 0\n",
    "regr = linear_model.LinearRegression()\n",
    "\n",
    "for step in range(int(len(train)/step_size)):\n",
    "    start = step*step_size\n",
    "    end = step*step_size + step_size\n",
    "    df_x = X.iloc[start:end]\n",
    "    df_y = Y.iloc[start:end]\n",
    "    regr.fit(df_x, df_y)\n",
    "    overall_score += regr.score(df_x, df_y)\n",
    "    print(f\"start = {start}, end = {end}, score = {regr.score(df_x, df_y)}\")\n",
    "\n",
    "overall_score /= len(train)/step_size\n",
    "print(overall_score)"
   ],
   "metadata": {
    "collapsed": false,
    "ExecuteTime": {
     "end_time": "2023-10-25T18:59:37.827029830Z",
     "start_time": "2023-10-25T18:59:37.799147899Z"
    }
   },
   "id": "ab5c3099c63088cf"
  },
  {
   "cell_type": "code",
   "execution_count": 10,
   "outputs": [],
   "source": [],
   "metadata": {
    "collapsed": false,
    "ExecuteTime": {
     "end_time": "2023-10-25T18:58:37.165033227Z",
     "start_time": "2023-10-25T18:58:37.158334654Z"
    }
   },
   "id": "98f378eac068e6b"
  }
 ],
 "metadata": {
  "kernelspec": {
   "display_name": "Python 3",
   "language": "python",
   "name": "python3"
  },
  "language_info": {
   "codemirror_mode": {
    "name": "ipython",
    "version": 2
   },
   "file_extension": ".py",
   "mimetype": "text/x-python",
   "name": "python",
   "nbconvert_exporter": "python",
   "pygments_lexer": "ipython2",
   "version": "2.7.6"
  }
 },
 "nbformat": 4,
 "nbformat_minor": 5
}
