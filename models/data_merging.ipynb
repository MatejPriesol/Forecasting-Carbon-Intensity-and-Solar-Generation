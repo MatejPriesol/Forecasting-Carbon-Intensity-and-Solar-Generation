{
 "cells": [
  {
   "cell_type": "code",
   "execution_count": 19,
   "id": "initial_id",
   "metadata": {
    "collapsed": true,
    "ExecuteTime": {
     "end_time": "2023-10-12T20:01:43.203537555Z",
     "start_time": "2023-10-12T20:01:42.569314457Z"
    }
   },
   "outputs": [],
   "source": [
    "import matplotlib.pyplot as plt\n",
    "import numpy as np\n",
    "import pandas as pd\n",
    "import seaborn as sns\n",
    "from sklearn.model_selection import train_test_split"
   ]
  },
  {
   "cell_type": "code",
   "execution_count": 4,
   "outputs": [],
   "source": [
    "building1 = pd.read_csv(\"../data/schemas/warm_up/Building_1.csv\", sep=\",\")\n",
    "building2 = pd.read_csv(\"../data/schemas/warm_up/Building_2.csv\", sep=\",\")\n",
    "building3 = pd.read_csv(\"../data/schemas/warm_up/Building_3.csv\", sep=\",\")\n",
    "weather = pd.read_csv(\"../data/schemas/warm_up/weather.csv\", sep=\",\")\n",
    "carbon_intensity = pd.read_csv(\"../data/schemas/warm_up/carbon_intensity.csv\", sep=\",\")"
   ],
   "metadata": {
    "collapsed": false,
    "ExecuteTime": {
     "end_time": "2023-10-12T19:39:14.889383523Z",
     "start_time": "2023-10-12T19:39:14.877755628Z"
    }
   },
   "id": "284601924d111671"
  },
  {
   "cell_type": "code",
   "execution_count": 5,
   "outputs": [],
   "source": [
    "building1 = building1.add_suffix(\"_1\")\n",
    "building2 = building2.add_suffix(\"_2\")\n",
    "building3 = building3.add_suffix(\"_3\")"
   ],
   "metadata": {
    "collapsed": false,
    "ExecuteTime": {
     "end_time": "2023-10-12T19:39:58.501309935Z",
     "start_time": "2023-10-12T19:39:58.460628754Z"
    }
   },
   "id": "6159d1a56c1b0990"
  },
  {
   "cell_type": "code",
   "execution_count": 14,
   "outputs": [
    {
     "data": {
      "text/plain": "   Month_1  Hour_1  Day Type_1  Daylight Savings Status_1  \\\n0        6       1           5                          0   \n1        6       2           5                          0   \n2        6       3           5                          0   \n3        6       4           5                          0   \n4        6       5           5                          0   \n\n   Indoor Temperature (C)_1  Average Unmet Cooling Setpoint Difference (C)_1  \\\n0                 23.098652                                        -0.123570   \n1                 22.234742                                         0.012520   \n2                 22.223061                                         0.000838   \n3                 22.222251                                         0.000029   \n4                 22.222236                                         0.000014   \n\n   Indoor Relative Humidity (%)_1  Equipment Electric Power (kWh)_1  \\\n0                       61.086187                          0.356839   \n1                       64.361378                          0.345078   \n2                       64.493415                          0.338769   \n3                       64.769702                          0.334856   \n4                       65.152120                          0.348607   \n\n   DHW Heating (kWh)_1  Cooling Load (kWh)_1  ...  \\\n0             0.055682              1.119216  ...   \n1             0.159338              1.469638  ...   \n2             0.057004              1.458372  ...   \n3             0.000000              1.337342  ...   \n4             0.000000              1.163453  ...   \n\n   6h Outdoor Relative Humidity (%)  12h Outdoor Relative Humidity (%)  \\\n0                         72.980273                          41.822361   \n1                         87.317655                          37.910023   \n2                         60.341453                          30.190199   \n3                         50.063925                          31.519739   \n4                         40.942579                          33.119543   \n\n   24h Outdoor Relative Humidity (%)  6h Diffuse Solar Radiation (W/m2)  \\\n0                          83.230997                          54.625927   \n1                          95.353948                          78.375479   \n2                          66.266409                         259.822134   \n3                          94.456370                         248.631525   \n4                         100.000000                         272.825159   \n\n   12h Diffuse Solar Radiation (W/m2)  24h Diffuse Solar Radiation (W/m2)  \\\n0                          116.842886                                 0.0   \n1                           89.220504                                 0.0   \n2                           82.855932                                 0.0   \n3                          105.130119                                 0.0   \n4                           75.627986                                 0.0   \n\n   6h Direct Solar Radiation (W/m2)  12h Direct Solar Radiation (W/m2)  \\\n0                        143.324335                        1020.756093   \n1                        300.361061                         825.097292   \n2                        196.691127                         987.909330   \n3                        465.483196                         854.331825   \n4                        569.203332                         941.243325   \n\n   24h Direct Solar Radiation (W/m2)  kg_CO2/kWh  \n0                                0.0    0.402488  \n1                                0.0    0.382625  \n2                                0.0    0.369458  \n3                                0.0    0.367017  \n4                                0.0    0.374040  \n\n[5 rows x 62 columns]",
      "text/html": "<div>\n<style scoped>\n    .dataframe tbody tr th:only-of-type {\n        vertical-align: middle;\n    }\n\n    .dataframe tbody tr th {\n        vertical-align: top;\n    }\n\n    .dataframe thead th {\n        text-align: right;\n    }\n</style>\n<table border=\"1\" class=\"dataframe\">\n  <thead>\n    <tr style=\"text-align: right;\">\n      <th></th>\n      <th>Month_1</th>\n      <th>Hour_1</th>\n      <th>Day Type_1</th>\n      <th>Daylight Savings Status_1</th>\n      <th>Indoor Temperature (C)_1</th>\n      <th>Average Unmet Cooling Setpoint Difference (C)_1</th>\n      <th>Indoor Relative Humidity (%)_1</th>\n      <th>Equipment Electric Power (kWh)_1</th>\n      <th>DHW Heating (kWh)_1</th>\n      <th>Cooling Load (kWh)_1</th>\n      <th>...</th>\n      <th>6h Outdoor Relative Humidity (%)</th>\n      <th>12h Outdoor Relative Humidity (%)</th>\n      <th>24h Outdoor Relative Humidity (%)</th>\n      <th>6h Diffuse Solar Radiation (W/m2)</th>\n      <th>12h Diffuse Solar Radiation (W/m2)</th>\n      <th>24h Diffuse Solar Radiation (W/m2)</th>\n      <th>6h Direct Solar Radiation (W/m2)</th>\n      <th>12h Direct Solar Radiation (W/m2)</th>\n      <th>24h Direct Solar Radiation (W/m2)</th>\n      <th>kg_CO2/kWh</th>\n    </tr>\n  </thead>\n  <tbody>\n    <tr>\n      <th>0</th>\n      <td>6</td>\n      <td>1</td>\n      <td>5</td>\n      <td>0</td>\n      <td>23.098652</td>\n      <td>-0.123570</td>\n      <td>61.086187</td>\n      <td>0.356839</td>\n      <td>0.055682</td>\n      <td>1.119216</td>\n      <td>...</td>\n      <td>72.980273</td>\n      <td>41.822361</td>\n      <td>83.230997</td>\n      <td>54.625927</td>\n      <td>116.842886</td>\n      <td>0.0</td>\n      <td>143.324335</td>\n      <td>1020.756093</td>\n      <td>0.0</td>\n      <td>0.402488</td>\n    </tr>\n    <tr>\n      <th>1</th>\n      <td>6</td>\n      <td>2</td>\n      <td>5</td>\n      <td>0</td>\n      <td>22.234742</td>\n      <td>0.012520</td>\n      <td>64.361378</td>\n      <td>0.345078</td>\n      <td>0.159338</td>\n      <td>1.469638</td>\n      <td>...</td>\n      <td>87.317655</td>\n      <td>37.910023</td>\n      <td>95.353948</td>\n      <td>78.375479</td>\n      <td>89.220504</td>\n      <td>0.0</td>\n      <td>300.361061</td>\n      <td>825.097292</td>\n      <td>0.0</td>\n      <td>0.382625</td>\n    </tr>\n    <tr>\n      <th>2</th>\n      <td>6</td>\n      <td>3</td>\n      <td>5</td>\n      <td>0</td>\n      <td>22.223061</td>\n      <td>0.000838</td>\n      <td>64.493415</td>\n      <td>0.338769</td>\n      <td>0.057004</td>\n      <td>1.458372</td>\n      <td>...</td>\n      <td>60.341453</td>\n      <td>30.190199</td>\n      <td>66.266409</td>\n      <td>259.822134</td>\n      <td>82.855932</td>\n      <td>0.0</td>\n      <td>196.691127</td>\n      <td>987.909330</td>\n      <td>0.0</td>\n      <td>0.369458</td>\n    </tr>\n    <tr>\n      <th>3</th>\n      <td>6</td>\n      <td>4</td>\n      <td>5</td>\n      <td>0</td>\n      <td>22.222251</td>\n      <td>0.000029</td>\n      <td>64.769702</td>\n      <td>0.334856</td>\n      <td>0.000000</td>\n      <td>1.337342</td>\n      <td>...</td>\n      <td>50.063925</td>\n      <td>31.519739</td>\n      <td>94.456370</td>\n      <td>248.631525</td>\n      <td>105.130119</td>\n      <td>0.0</td>\n      <td>465.483196</td>\n      <td>854.331825</td>\n      <td>0.0</td>\n      <td>0.367017</td>\n    </tr>\n    <tr>\n      <th>4</th>\n      <td>6</td>\n      <td>5</td>\n      <td>5</td>\n      <td>0</td>\n      <td>22.222236</td>\n      <td>0.000014</td>\n      <td>65.152120</td>\n      <td>0.348607</td>\n      <td>0.000000</td>\n      <td>1.163453</td>\n      <td>...</td>\n      <td>40.942579</td>\n      <td>33.119543</td>\n      <td>100.000000</td>\n      <td>272.825159</td>\n      <td>75.627986</td>\n      <td>0.0</td>\n      <td>569.203332</td>\n      <td>941.243325</td>\n      <td>0.0</td>\n      <td>0.374040</td>\n    </tr>\n  </tbody>\n</table>\n<p>5 rows × 62 columns</p>\n</div>"
     },
     "execution_count": 14,
     "metadata": {},
     "output_type": "execute_result"
    }
   ],
   "source": [
    "data = [building1, building2, building3, weather, carbon_intensity]\n",
    "merged = pd.concat(data, axis=1)\n",
    "merged.head()"
   ],
   "metadata": {
    "collapsed": false,
    "ExecuteTime": {
     "end_time": "2023-10-12T19:54:53.636887674Z",
     "start_time": "2023-10-12T19:54:53.623312764Z"
    }
   },
   "id": "a71d5f23434a809a"
  },
  {
   "cell_type": "code",
   "execution_count": 15,
   "outputs": [
    {
     "data": {
      "text/plain": "       Month_1      Hour_1  Day Type_1  Daylight Savings Status_1  \\\ncount    720.0  720.000000  720.000000                      720.0   \nmean       6.0   12.500000    4.100000                        0.0   \nstd        0.0    6.926999    1.973679                        0.0   \nmin        6.0    1.000000    1.000000                        0.0   \n25%        6.0    6.750000    2.000000                        0.0   \n50%        6.0   12.500000    4.000000                        0.0   \n75%        6.0   18.250000    6.000000                        0.0   \nmax        6.0   24.000000    7.000000                        0.0   \n\n       Indoor Temperature (C)_1  \\\ncount                720.000000   \nmean                  24.024244   \nstd                    1.538245   \nmin                   19.999914   \n25%                   22.332080   \n50%                   24.444309   \n75%                   24.444459   \nmax                   27.222233   \n\n       Average Unmet Cooling Setpoint Difference (C)_1  \\\ncount                                       720.000000   \nmean                                          0.003642   \nstd                                           0.042871   \nmin                                          -0.238674   \n25%                                          -0.000159   \n50%                                           0.000007   \n75%                                           0.000476   \nmax                                           0.353503   \n\n       Indoor Relative Humidity (%)_1  Equipment Electric Power (kWh)_1  \\\ncount                      720.000000                        720.000000   \nmean                        57.808784                          0.625618   \nstd                          4.707318                          0.810932   \nmin                         46.463528                          0.319633   \n25%                         54.488177                          0.355172   \n50%                         57.407697                          0.405048   \n75%                         61.325861                          0.528865   \nmax                         67.854749                          7.458969   \n\n       DHW Heating (kWh)_1  Cooling Load (kWh)_1  ...  \\\ncount           720.000000            720.000000  ...   \nmean              0.213675              3.333438  ...   \nstd               0.469465              1.827450  ...   \nmin               0.000000              0.000000  ...   \n25%               0.000000              2.076277  ...   \n50%               0.000000              3.043866  ...   \n75%               0.218549              4.262129  ...   \nmax               4.565351             10.608549  ...   \n\n       6h Outdoor Relative Humidity (%)  12h Outdoor Relative Humidity (%)  \\\ncount                        720.000000                         720.000000   \nmean                          63.424809                          62.786474   \nstd                           23.154273                          23.444021   \nmin                           19.430299                          18.265532   \n25%                           41.746715                          42.122502   \n50%                           63.427843                          63.155060   \n75%                           82.917889                          81.912389   \nmax                          100.000000                         100.000000   \n\n       24h Outdoor Relative Humidity (%)  6h Diffuse Solar Radiation (W/m2)  \\\ncount                         720.000000                         720.000000   \nmean                           61.793372                          90.000166   \nstd                            24.038353                         107.451266   \nmin                            16.665542                           0.000000   \n25%                            41.263384                           0.000000   \n50%                            59.349503                          59.419070   \n75%                            81.111493                         147.018653   \nmax                           100.000000                         461.251418   \n\n       12h Diffuse Solar Radiation (W/m2)  24h Diffuse Solar Radiation (W/m2)  \\\ncount                          720.000000                          720.000000   \nmean                            92.607278                           91.938938   \nstd                            113.491246                          115.477303   \nmin                              0.000000                            0.000000   \n25%                              0.000000                            0.000000   \n50%                             62.671503                           53.935234   \n75%                            154.836660                          149.505159   \nmax                            554.828726                          551.798130   \n\n       6h Direct Solar Radiation (W/m2)  12h Direct Solar Radiation (W/m2)  \\\ncount                        720.000000                         720.000000   \nmean                         269.654399                         270.472846   \nstd                          308.867793                         313.529048   \nmin                            0.000000                           0.000000   \n25%                            0.000000                           0.000000   \n50%                          113.453978                         100.850994   \n75%                          542.437341                         547.864391   \nmax                         1056.334784                        1129.740724   \n\n       24h Direct Solar Radiation (W/m2)  kg_CO2/kWh  \ncount                         720.000000  720.000000  \nmean                          272.939691    0.454334  \nstd                           320.500605    0.048759  \nmin                             0.000000    0.337515  \n25%                             0.000000    0.422080  \n50%                           104.554913    0.459258  \n75%                           519.350326    0.489864  \nmax                          1237.587486    0.556063  \n\n[8 rows x 62 columns]",
      "text/html": "<div>\n<style scoped>\n    .dataframe tbody tr th:only-of-type {\n        vertical-align: middle;\n    }\n\n    .dataframe tbody tr th {\n        vertical-align: top;\n    }\n\n    .dataframe thead th {\n        text-align: right;\n    }\n</style>\n<table border=\"1\" class=\"dataframe\">\n  <thead>\n    <tr style=\"text-align: right;\">\n      <th></th>\n      <th>Month_1</th>\n      <th>Hour_1</th>\n      <th>Day Type_1</th>\n      <th>Daylight Savings Status_1</th>\n      <th>Indoor Temperature (C)_1</th>\n      <th>Average Unmet Cooling Setpoint Difference (C)_1</th>\n      <th>Indoor Relative Humidity (%)_1</th>\n      <th>Equipment Electric Power (kWh)_1</th>\n      <th>DHW Heating (kWh)_1</th>\n      <th>Cooling Load (kWh)_1</th>\n      <th>...</th>\n      <th>6h Outdoor Relative Humidity (%)</th>\n      <th>12h Outdoor Relative Humidity (%)</th>\n      <th>24h Outdoor Relative Humidity (%)</th>\n      <th>6h Diffuse Solar Radiation (W/m2)</th>\n      <th>12h Diffuse Solar Radiation (W/m2)</th>\n      <th>24h Diffuse Solar Radiation (W/m2)</th>\n      <th>6h Direct Solar Radiation (W/m2)</th>\n      <th>12h Direct Solar Radiation (W/m2)</th>\n      <th>24h Direct Solar Radiation (W/m2)</th>\n      <th>kg_CO2/kWh</th>\n    </tr>\n  </thead>\n  <tbody>\n    <tr>\n      <th>count</th>\n      <td>720.0</td>\n      <td>720.000000</td>\n      <td>720.000000</td>\n      <td>720.0</td>\n      <td>720.000000</td>\n      <td>720.000000</td>\n      <td>720.000000</td>\n      <td>720.000000</td>\n      <td>720.000000</td>\n      <td>720.000000</td>\n      <td>...</td>\n      <td>720.000000</td>\n      <td>720.000000</td>\n      <td>720.000000</td>\n      <td>720.000000</td>\n      <td>720.000000</td>\n      <td>720.000000</td>\n      <td>720.000000</td>\n      <td>720.000000</td>\n      <td>720.000000</td>\n      <td>720.000000</td>\n    </tr>\n    <tr>\n      <th>mean</th>\n      <td>6.0</td>\n      <td>12.500000</td>\n      <td>4.100000</td>\n      <td>0.0</td>\n      <td>24.024244</td>\n      <td>0.003642</td>\n      <td>57.808784</td>\n      <td>0.625618</td>\n      <td>0.213675</td>\n      <td>3.333438</td>\n      <td>...</td>\n      <td>63.424809</td>\n      <td>62.786474</td>\n      <td>61.793372</td>\n      <td>90.000166</td>\n      <td>92.607278</td>\n      <td>91.938938</td>\n      <td>269.654399</td>\n      <td>270.472846</td>\n      <td>272.939691</td>\n      <td>0.454334</td>\n    </tr>\n    <tr>\n      <th>std</th>\n      <td>0.0</td>\n      <td>6.926999</td>\n      <td>1.973679</td>\n      <td>0.0</td>\n      <td>1.538245</td>\n      <td>0.042871</td>\n      <td>4.707318</td>\n      <td>0.810932</td>\n      <td>0.469465</td>\n      <td>1.827450</td>\n      <td>...</td>\n      <td>23.154273</td>\n      <td>23.444021</td>\n      <td>24.038353</td>\n      <td>107.451266</td>\n      <td>113.491246</td>\n      <td>115.477303</td>\n      <td>308.867793</td>\n      <td>313.529048</td>\n      <td>320.500605</td>\n      <td>0.048759</td>\n    </tr>\n    <tr>\n      <th>min</th>\n      <td>6.0</td>\n      <td>1.000000</td>\n      <td>1.000000</td>\n      <td>0.0</td>\n      <td>19.999914</td>\n      <td>-0.238674</td>\n      <td>46.463528</td>\n      <td>0.319633</td>\n      <td>0.000000</td>\n      <td>0.000000</td>\n      <td>...</td>\n      <td>19.430299</td>\n      <td>18.265532</td>\n      <td>16.665542</td>\n      <td>0.000000</td>\n      <td>0.000000</td>\n      <td>0.000000</td>\n      <td>0.000000</td>\n      <td>0.000000</td>\n      <td>0.000000</td>\n      <td>0.337515</td>\n    </tr>\n    <tr>\n      <th>25%</th>\n      <td>6.0</td>\n      <td>6.750000</td>\n      <td>2.000000</td>\n      <td>0.0</td>\n      <td>22.332080</td>\n      <td>-0.000159</td>\n      <td>54.488177</td>\n      <td>0.355172</td>\n      <td>0.000000</td>\n      <td>2.076277</td>\n      <td>...</td>\n      <td>41.746715</td>\n      <td>42.122502</td>\n      <td>41.263384</td>\n      <td>0.000000</td>\n      <td>0.000000</td>\n      <td>0.000000</td>\n      <td>0.000000</td>\n      <td>0.000000</td>\n      <td>0.000000</td>\n      <td>0.422080</td>\n    </tr>\n    <tr>\n      <th>50%</th>\n      <td>6.0</td>\n      <td>12.500000</td>\n      <td>4.000000</td>\n      <td>0.0</td>\n      <td>24.444309</td>\n      <td>0.000007</td>\n      <td>57.407697</td>\n      <td>0.405048</td>\n      <td>0.000000</td>\n      <td>3.043866</td>\n      <td>...</td>\n      <td>63.427843</td>\n      <td>63.155060</td>\n      <td>59.349503</td>\n      <td>59.419070</td>\n      <td>62.671503</td>\n      <td>53.935234</td>\n      <td>113.453978</td>\n      <td>100.850994</td>\n      <td>104.554913</td>\n      <td>0.459258</td>\n    </tr>\n    <tr>\n      <th>75%</th>\n      <td>6.0</td>\n      <td>18.250000</td>\n      <td>6.000000</td>\n      <td>0.0</td>\n      <td>24.444459</td>\n      <td>0.000476</td>\n      <td>61.325861</td>\n      <td>0.528865</td>\n      <td>0.218549</td>\n      <td>4.262129</td>\n      <td>...</td>\n      <td>82.917889</td>\n      <td>81.912389</td>\n      <td>81.111493</td>\n      <td>147.018653</td>\n      <td>154.836660</td>\n      <td>149.505159</td>\n      <td>542.437341</td>\n      <td>547.864391</td>\n      <td>519.350326</td>\n      <td>0.489864</td>\n    </tr>\n    <tr>\n      <th>max</th>\n      <td>6.0</td>\n      <td>24.000000</td>\n      <td>7.000000</td>\n      <td>0.0</td>\n      <td>27.222233</td>\n      <td>0.353503</td>\n      <td>67.854749</td>\n      <td>7.458969</td>\n      <td>4.565351</td>\n      <td>10.608549</td>\n      <td>...</td>\n      <td>100.000000</td>\n      <td>100.000000</td>\n      <td>100.000000</td>\n      <td>461.251418</td>\n      <td>554.828726</td>\n      <td>551.798130</td>\n      <td>1056.334784</td>\n      <td>1129.740724</td>\n      <td>1237.587486</td>\n      <td>0.556063</td>\n    </tr>\n  </tbody>\n</table>\n<p>8 rows × 62 columns</p>\n</div>"
     },
     "execution_count": 15,
     "metadata": {},
     "output_type": "execute_result"
    }
   ],
   "source": [
    "merged.describe()"
   ],
   "metadata": {
    "collapsed": false,
    "ExecuteTime": {
     "end_time": "2023-10-12T19:54:55.748318477Z",
     "start_time": "2023-10-12T19:54:55.695273706Z"
    }
   },
   "id": "2f9f332241751e79"
  },
  {
   "cell_type": "code",
   "execution_count": 16,
   "outputs": [
    {
     "data": {
      "text/plain": "   Hour_1  Day Type_1  Indoor Temperature (C)_1  \\\n0       1           5                 23.098652   \n1       2           5                 22.234742   \n2       3           5                 22.223061   \n3       4           5                 22.222251   \n4       5           5                 22.222236   \n\n   Average Unmet Cooling Setpoint Difference (C)_1  \\\n0                                        -0.123570   \n1                                         0.012520   \n2                                         0.000838   \n3                                         0.000029   \n4                                         0.000014   \n\n   Indoor Relative Humidity (%)_1  Equipment Electric Power (kWh)_1  \\\n0                       61.086187                          0.356839   \n1                       64.361378                          0.345078   \n2                       64.493415                          0.338769   \n3                       64.769702                          0.334856   \n4                       65.152120                          0.348607   \n\n   DHW Heating (kWh)_1  Cooling Load (kWh)_1  Solar Generation (W/kW)_1  \\\n0             0.055682              1.119216                        0.0   \n1             0.159338              1.469638                        0.0   \n2             0.057004              1.458372                        0.0   \n3             0.000000              1.337342                        0.0   \n4             0.000000              1.163453                        0.0   \n\n   Occupant Count (people)_1  ...  6h Outdoor Relative Humidity (%)  \\\n0                        3.0  ...                         72.980273   \n1                        3.0  ...                         87.317655   \n2                        3.0  ...                         60.341453   \n3                        3.0  ...                         50.063925   \n4                        3.0  ...                         40.942579   \n\n   12h Outdoor Relative Humidity (%)  24h Outdoor Relative Humidity (%)  \\\n0                          41.822361                          83.230997   \n1                          37.910023                          95.353948   \n2                          30.190199                          66.266409   \n3                          31.519739                          94.456370   \n4                          33.119543                         100.000000   \n\n   6h Diffuse Solar Radiation (W/m2)  12h Diffuse Solar Radiation (W/m2)  \\\n0                          54.625927                          116.842886   \n1                          78.375479                           89.220504   \n2                         259.822134                           82.855932   \n3                         248.631525                          105.130119   \n4                         272.825159                           75.627986   \n\n   24h Diffuse Solar Radiation (W/m2)  6h Direct Solar Radiation (W/m2)  \\\n0                                 0.0                        143.324335   \n1                                 0.0                        300.361061   \n2                                 0.0                        196.691127   \n3                                 0.0                        465.483196   \n4                                 0.0                        569.203332   \n\n   12h Direct Solar Radiation (W/m2)  24h Direct Solar Radiation (W/m2)  \\\n0                        1020.756093                                0.0   \n1                         825.097292                                0.0   \n2                         987.909330                                0.0   \n3                         854.331825                                0.0   \n4                         941.243325                                0.0   \n\n   kg_CO2/kWh  \n0    0.402488  \n1    0.382625  \n2    0.369458  \n3    0.367017  \n4    0.374040  \n\n[5 rows x 50 columns]",
      "text/html": "<div>\n<style scoped>\n    .dataframe tbody tr th:only-of-type {\n        vertical-align: middle;\n    }\n\n    .dataframe tbody tr th {\n        vertical-align: top;\n    }\n\n    .dataframe thead th {\n        text-align: right;\n    }\n</style>\n<table border=\"1\" class=\"dataframe\">\n  <thead>\n    <tr style=\"text-align: right;\">\n      <th></th>\n      <th>Hour_1</th>\n      <th>Day Type_1</th>\n      <th>Indoor Temperature (C)_1</th>\n      <th>Average Unmet Cooling Setpoint Difference (C)_1</th>\n      <th>Indoor Relative Humidity (%)_1</th>\n      <th>Equipment Electric Power (kWh)_1</th>\n      <th>DHW Heating (kWh)_1</th>\n      <th>Cooling Load (kWh)_1</th>\n      <th>Solar Generation (W/kW)_1</th>\n      <th>Occupant Count (people)_1</th>\n      <th>...</th>\n      <th>6h Outdoor Relative Humidity (%)</th>\n      <th>12h Outdoor Relative Humidity (%)</th>\n      <th>24h Outdoor Relative Humidity (%)</th>\n      <th>6h Diffuse Solar Radiation (W/m2)</th>\n      <th>12h Diffuse Solar Radiation (W/m2)</th>\n      <th>24h Diffuse Solar Radiation (W/m2)</th>\n      <th>6h Direct Solar Radiation (W/m2)</th>\n      <th>12h Direct Solar Radiation (W/m2)</th>\n      <th>24h Direct Solar Radiation (W/m2)</th>\n      <th>kg_CO2/kWh</th>\n    </tr>\n  </thead>\n  <tbody>\n    <tr>\n      <th>0</th>\n      <td>1</td>\n      <td>5</td>\n      <td>23.098652</td>\n      <td>-0.123570</td>\n      <td>61.086187</td>\n      <td>0.356839</td>\n      <td>0.055682</td>\n      <td>1.119216</td>\n      <td>0.0</td>\n      <td>3.0</td>\n      <td>...</td>\n      <td>72.980273</td>\n      <td>41.822361</td>\n      <td>83.230997</td>\n      <td>54.625927</td>\n      <td>116.842886</td>\n      <td>0.0</td>\n      <td>143.324335</td>\n      <td>1020.756093</td>\n      <td>0.0</td>\n      <td>0.402488</td>\n    </tr>\n    <tr>\n      <th>1</th>\n      <td>2</td>\n      <td>5</td>\n      <td>22.234742</td>\n      <td>0.012520</td>\n      <td>64.361378</td>\n      <td>0.345078</td>\n      <td>0.159338</td>\n      <td>1.469638</td>\n      <td>0.0</td>\n      <td>3.0</td>\n      <td>...</td>\n      <td>87.317655</td>\n      <td>37.910023</td>\n      <td>95.353948</td>\n      <td>78.375479</td>\n      <td>89.220504</td>\n      <td>0.0</td>\n      <td>300.361061</td>\n      <td>825.097292</td>\n      <td>0.0</td>\n      <td>0.382625</td>\n    </tr>\n    <tr>\n      <th>2</th>\n      <td>3</td>\n      <td>5</td>\n      <td>22.223061</td>\n      <td>0.000838</td>\n      <td>64.493415</td>\n      <td>0.338769</td>\n      <td>0.057004</td>\n      <td>1.458372</td>\n      <td>0.0</td>\n      <td>3.0</td>\n      <td>...</td>\n      <td>60.341453</td>\n      <td>30.190199</td>\n      <td>66.266409</td>\n      <td>259.822134</td>\n      <td>82.855932</td>\n      <td>0.0</td>\n      <td>196.691127</td>\n      <td>987.909330</td>\n      <td>0.0</td>\n      <td>0.369458</td>\n    </tr>\n    <tr>\n      <th>3</th>\n      <td>4</td>\n      <td>5</td>\n      <td>22.222251</td>\n      <td>0.000029</td>\n      <td>64.769702</td>\n      <td>0.334856</td>\n      <td>0.000000</td>\n      <td>1.337342</td>\n      <td>0.0</td>\n      <td>3.0</td>\n      <td>...</td>\n      <td>50.063925</td>\n      <td>31.519739</td>\n      <td>94.456370</td>\n      <td>248.631525</td>\n      <td>105.130119</td>\n      <td>0.0</td>\n      <td>465.483196</td>\n      <td>854.331825</td>\n      <td>0.0</td>\n      <td>0.367017</td>\n    </tr>\n    <tr>\n      <th>4</th>\n      <td>5</td>\n      <td>5</td>\n      <td>22.222236</td>\n      <td>0.000014</td>\n      <td>65.152120</td>\n      <td>0.348607</td>\n      <td>0.000000</td>\n      <td>1.163453</td>\n      <td>0.0</td>\n      <td>3.0</td>\n      <td>...</td>\n      <td>40.942579</td>\n      <td>33.119543</td>\n      <td>100.000000</td>\n      <td>272.825159</td>\n      <td>75.627986</td>\n      <td>0.0</td>\n      <td>569.203332</td>\n      <td>941.243325</td>\n      <td>0.0</td>\n      <td>0.374040</td>\n    </tr>\n  </tbody>\n</table>\n<p>5 rows × 50 columns</p>\n</div>"
     },
     "execution_count": 16,
     "metadata": {},
     "output_type": "execute_result"
    }
   ],
   "source": [
    "merged_dropped = merged.drop(columns=[\"Month_1\", \"Month_2\", \"Month_3\",\n",
    "                                      \"Daylight Savings Status_1\", \"Daylight Savings Status_2\", \"Daylight Savings Status_3\",\n",
    "                                      \"Heating Load (kWh)_1\", \"Heating Load (kWh)_2\", \"Heating Load (kWh)_3\",\n",
    "                                      \"HVAC Mode (Off/Cooling/Heating)_1\", \"HVAC Mode (Off/Cooling/Heating)_2\", \"HVAC Mode (Off/Cooling/Heating)_3\"])\n",
    "merged_dropped.head()"
   ],
   "metadata": {
    "collapsed": false,
    "ExecuteTime": {
     "end_time": "2023-10-12T19:58:44.110044533Z",
     "start_time": "2023-10-12T19:58:44.068174978Z"
    }
   },
   "id": "a9aae4a6809d2f4c"
  },
  {
   "cell_type": "code",
   "execution_count": 18,
   "outputs": [
    {
     "data": {
      "text/plain": "     Hour_1  Day Type_1  Indoor Temperature (C)_1  \\\n0  0.000000    0.666667                  0.429050   \n1  0.043478    0.666667                  0.309434   \n2  0.086957    0.666667                  0.307816   \n3  0.130435    0.666667                  0.307704   \n4  0.173913    0.666667                  0.307702   \n\n   Average Unmet Cooling Setpoint Difference (C)_1  \\\n0                                         0.194375   \n1                                         0.424188   \n2                                         0.404461   \n3                                         0.403094   \n4                                         0.403069   \n\n   Indoor Relative Humidity (%)_1  Equipment Electric Power (kWh)_1  \\\n0                        0.683582                          0.005211   \n1                        0.836691                          0.003564   \n2                        0.842864                          0.002680   \n3                        0.855780                          0.002132   \n4                        0.873657                          0.004058   \n\n   DHW Heating (kWh)_1  Cooling Load (kWh)_1  Solar Generation (W/kW)_1  \\\n0             0.012197              0.105501                        0.0   \n1             0.034902              0.138533                        0.0   \n2             0.012486              0.137471                        0.0   \n3             0.000000              0.126063                        0.0   \n4             0.000000              0.109671                        0.0   \n\n   Occupant Count (people)_1  ...  6h Outdoor Relative Humidity (%)  \\\n0                        1.0  ...                          0.664642   \n1                        1.0  ...                          0.842592   \n2                        1.0  ...                          0.507773   \n3                        1.0  ...                          0.380213   \n4                        1.0  ...                          0.267002   \n\n   12h Outdoor Relative Humidity (%)  24h Outdoor Relative Humidity (%)  \\\n0                           0.288212                           0.798775   \n1                           0.240345                           0.944248   \n2                           0.145895                           0.595202   \n3                           0.162162                           0.933477   \n4                           0.181735                           1.000000   \n\n   6h Diffuse Solar Radiation (W/m2)  12h Diffuse Solar Radiation (W/m2)  \\\n0                           0.118430                            0.210593   \n1                           0.169919                            0.160807   \n2                           0.563298                            0.149336   \n3                           0.539037                            0.189482   \n4                           0.591489                            0.136309   \n\n   24h Diffuse Solar Radiation (W/m2)  6h Direct Solar Radiation (W/m2)  \\\n0                                 0.0                          0.135681   \n1                                 0.0                          0.284343   \n2                                 0.0                          0.186202   \n3                                 0.0                          0.440659   \n4                                 0.0                          0.538847   \n\n   12h Direct Solar Radiation (W/m2)  24h Direct Solar Radiation (W/m2)  \\\n0                           0.903531                                0.0   \n1                           0.730342                                0.0   \n2                           0.874457                                0.0   \n3                           0.756219                                0.0   \n4                           0.833150                                0.0   \n\n   kg_CO2/kWh  \n0    0.297295  \n1    0.206405  \n2    0.146161  \n3    0.134990  \n4    0.167124  \n\n[5 rows x 50 columns]",
      "text/html": "<div>\n<style scoped>\n    .dataframe tbody tr th:only-of-type {\n        vertical-align: middle;\n    }\n\n    .dataframe tbody tr th {\n        vertical-align: top;\n    }\n\n    .dataframe thead th {\n        text-align: right;\n    }\n</style>\n<table border=\"1\" class=\"dataframe\">\n  <thead>\n    <tr style=\"text-align: right;\">\n      <th></th>\n      <th>Hour_1</th>\n      <th>Day Type_1</th>\n      <th>Indoor Temperature (C)_1</th>\n      <th>Average Unmet Cooling Setpoint Difference (C)_1</th>\n      <th>Indoor Relative Humidity (%)_1</th>\n      <th>Equipment Electric Power (kWh)_1</th>\n      <th>DHW Heating (kWh)_1</th>\n      <th>Cooling Load (kWh)_1</th>\n      <th>Solar Generation (W/kW)_1</th>\n      <th>Occupant Count (people)_1</th>\n      <th>...</th>\n      <th>6h Outdoor Relative Humidity (%)</th>\n      <th>12h Outdoor Relative Humidity (%)</th>\n      <th>24h Outdoor Relative Humidity (%)</th>\n      <th>6h Diffuse Solar Radiation (W/m2)</th>\n      <th>12h Diffuse Solar Radiation (W/m2)</th>\n      <th>24h Diffuse Solar Radiation (W/m2)</th>\n      <th>6h Direct Solar Radiation (W/m2)</th>\n      <th>12h Direct Solar Radiation (W/m2)</th>\n      <th>24h Direct Solar Radiation (W/m2)</th>\n      <th>kg_CO2/kWh</th>\n    </tr>\n  </thead>\n  <tbody>\n    <tr>\n      <th>0</th>\n      <td>0.000000</td>\n      <td>0.666667</td>\n      <td>0.429050</td>\n      <td>0.194375</td>\n      <td>0.683582</td>\n      <td>0.005211</td>\n      <td>0.012197</td>\n      <td>0.105501</td>\n      <td>0.0</td>\n      <td>1.0</td>\n      <td>...</td>\n      <td>0.664642</td>\n      <td>0.288212</td>\n      <td>0.798775</td>\n      <td>0.118430</td>\n      <td>0.210593</td>\n      <td>0.0</td>\n      <td>0.135681</td>\n      <td>0.903531</td>\n      <td>0.0</td>\n      <td>0.297295</td>\n    </tr>\n    <tr>\n      <th>1</th>\n      <td>0.043478</td>\n      <td>0.666667</td>\n      <td>0.309434</td>\n      <td>0.424188</td>\n      <td>0.836691</td>\n      <td>0.003564</td>\n      <td>0.034902</td>\n      <td>0.138533</td>\n      <td>0.0</td>\n      <td>1.0</td>\n      <td>...</td>\n      <td>0.842592</td>\n      <td>0.240345</td>\n      <td>0.944248</td>\n      <td>0.169919</td>\n      <td>0.160807</td>\n      <td>0.0</td>\n      <td>0.284343</td>\n      <td>0.730342</td>\n      <td>0.0</td>\n      <td>0.206405</td>\n    </tr>\n    <tr>\n      <th>2</th>\n      <td>0.086957</td>\n      <td>0.666667</td>\n      <td>0.307816</td>\n      <td>0.404461</td>\n      <td>0.842864</td>\n      <td>0.002680</td>\n      <td>0.012486</td>\n      <td>0.137471</td>\n      <td>0.0</td>\n      <td>1.0</td>\n      <td>...</td>\n      <td>0.507773</td>\n      <td>0.145895</td>\n      <td>0.595202</td>\n      <td>0.563298</td>\n      <td>0.149336</td>\n      <td>0.0</td>\n      <td>0.186202</td>\n      <td>0.874457</td>\n      <td>0.0</td>\n      <td>0.146161</td>\n    </tr>\n    <tr>\n      <th>3</th>\n      <td>0.130435</td>\n      <td>0.666667</td>\n      <td>0.307704</td>\n      <td>0.403094</td>\n      <td>0.855780</td>\n      <td>0.002132</td>\n      <td>0.000000</td>\n      <td>0.126063</td>\n      <td>0.0</td>\n      <td>1.0</td>\n      <td>...</td>\n      <td>0.380213</td>\n      <td>0.162162</td>\n      <td>0.933477</td>\n      <td>0.539037</td>\n      <td>0.189482</td>\n      <td>0.0</td>\n      <td>0.440659</td>\n      <td>0.756219</td>\n      <td>0.0</td>\n      <td>0.134990</td>\n    </tr>\n    <tr>\n      <th>4</th>\n      <td>0.173913</td>\n      <td>0.666667</td>\n      <td>0.307702</td>\n      <td>0.403069</td>\n      <td>0.873657</td>\n      <td>0.004058</td>\n      <td>0.000000</td>\n      <td>0.109671</td>\n      <td>0.0</td>\n      <td>1.0</td>\n      <td>...</td>\n      <td>0.267002</td>\n      <td>0.181735</td>\n      <td>1.000000</td>\n      <td>0.591489</td>\n      <td>0.136309</td>\n      <td>0.0</td>\n      <td>0.538847</td>\n      <td>0.833150</td>\n      <td>0.0</td>\n      <td>0.167124</td>\n    </tr>\n  </tbody>\n</table>\n<p>5 rows × 50 columns</p>\n</div>"
     },
     "execution_count": 18,
     "metadata": {},
     "output_type": "execute_result"
    }
   ],
   "source": [
    "normalized_data = merged_dropped.copy()\n",
    "\n",
    "for column in normalized_data.columns:\n",
    "    normalized_data[column] = (normalized_data[column] - normalized_data[column].min()) / (normalized_data[column].max() - normalized_data[column].min())\n",
    "    \n",
    "normalized_data.head()"
   ],
   "metadata": {
    "collapsed": false,
    "ExecuteTime": {
     "end_time": "2023-10-12T19:58:56.698088460Z",
     "start_time": "2023-10-12T19:58:56.660477373Z"
    }
   },
   "id": "4fef80e557759d98"
  },
  {
   "cell_type": "code",
   "execution_count": 21,
   "outputs": [],
   "source": [
    "train, test = train_test_split(normalized_data, test_size=0.05)"
   ],
   "metadata": {
    "collapsed": false,
    "ExecuteTime": {
     "end_time": "2023-10-12T20:11:47.745321053Z",
     "start_time": "2023-10-12T20:11:47.704311356Z"
    }
   },
   "id": "8fa69b52bec41d08"
  },
  {
   "cell_type": "code",
   "execution_count": null,
   "outputs": [],
   "source": [
    "threshold = 0.2\n",
    "column_to_predict = \"kg_CO2/kWh\"\n",
    "\n",
    "\n",
    "for column in train:\n",
    "    if train[column].corr(train[column_to_predict]):\n",
    "        \n"
   ],
   "metadata": {
    "collapsed": false
   },
   "id": "eb6ac8029f6d170"
  }
 ],
 "metadata": {
  "kernelspec": {
   "display_name": "Python 3",
   "language": "python",
   "name": "python3"
  },
  "language_info": {
   "codemirror_mode": {
    "name": "ipython",
    "version": 2
   },
   "file_extension": ".py",
   "mimetype": "text/x-python",
   "name": "python",
   "nbconvert_exporter": "python",
   "pygments_lexer": "ipython2",
   "version": "2.7.6"
  }
 },
 "nbformat": 4,
 "nbformat_minor": 5
}
