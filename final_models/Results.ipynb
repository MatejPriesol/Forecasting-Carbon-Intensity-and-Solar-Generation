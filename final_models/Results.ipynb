{
 "cells": [
  {
   "cell_type": "code",
   "execution_count": null,
   "id": "initial_id",
   "metadata": {
    "collapsed": true
   },
   "outputs": [],
   "source": [
    "import numpy as np\n",
    "import pandas as pd\n",
    "import matplotlib.pyplot as plt"
   ]
  },
  {
   "cell_type": "code",
   "outputs": [],
   "source": [
    "train = pd.read_csv(\"../data/input-output-batches/TrainSet.csv\", sep=\",\")\n",
    "validation = pd.read_csv(\"../data/input-output-batches/ValidationSet.csv\", sep=\",\")\n",
    "test = pd.read_csv(\"../data/input-output-batches/TestSet.csv\", sep=\",\")\n",
    "carbon_mlp = pd.read_csv(\"../data/results/carbon_mlp.csv\", sep=\",\", header=None)\n",
    "carbon_lstm = pd.read_csv(\"../data/results/carbon_lstm.csv\", sep=\",\", header=None)\n",
    "carbon_gru = pd.read_csv(\"../data/results/carbon_gru.csv\", sep=\",\", header=None)\n",
    "solar_mlp = pd.read_csv(\"../data/results/solar_mlp.csv\", sep=\",\", header=None)\n",
    "solar_lstm = pd.read_csv(\"../data/results/solar_lstm.csv\", sep=\",\", header=None)\n",
    "solar_gru = pd.read_csv(\"../data/results/solar_gru.csv\", sep=\",\", header=None)"
   ],
   "metadata": {
    "collapsed": false
   },
   "id": "e37228d5841605cd",
   "execution_count": null
  },
  {
   "cell_type": "markdown",
   "source": [
    "To correctly plot all the results, I need the actual values that the models tried to predict in the correct format. The functions are taken from the model codes, but the input part is ignored (i.e. empty list for independent variables)"
   ],
   "metadata": {
    "collapsed": false
   },
   "id": "dacae5de265c462"
  },
  {
   "cell_type": "code",
   "outputs": [],
   "source": [
    "independent_variables = []\n",
    "columns_to_predict = [\"kg_CO2/kWh\", \"Avg solar generation\"]\n",
    "NUM_OF_TIMESTEPS_INPUT = 48\n",
    "NUM_OF_TIMESTEPS_OUTPUT = 24\n",
    "\n",
    "# Split the X and Y for all sets\n",
    "\n",
    "# Train set\n",
    "X_train_default = train[independent_variables]\n",
    "Y_train_default = train[columns_to_predict]\n",
    "\n",
    "# Validation set, also include the data from train that was used only as output to get more datapoints\n",
    "X_val_default = pd.concat([X_train_default.tail(NUM_OF_TIMESTEPS_OUTPUT), validation[independent_variables]], ignore_index=True)\n",
    "Y_val_default = pd.concat([Y_train_default.tail(NUM_OF_TIMESTEPS_OUTPUT), validation[columns_to_predict]], ignore_index=True)\n",
    "\n",
    "# Test set, also include the data from train that was used only as output to get more datapoints\n",
    "X_test_default = pd.concat([X_val_default.tail(NUM_OF_TIMESTEPS_OUTPUT), test[independent_variables]], ignore_index=True)\n",
    "Y_test_default = pd.concat([Y_val_default.tail(NUM_OF_TIMESTEPS_OUTPUT), test[columns_to_predict]], ignore_index=True)\n",
    "\n",
    "NUM_OF_ROWS_TRAIN, NUM_OF_FEATURES = X_train_default.shape"
   ],
   "metadata": {
    "collapsed": false
   },
   "id": "95f305b1a87649b5",
   "execution_count": null
  },
  {
   "cell_type": "code",
   "outputs": [],
   "source": [
    "def create_sequences(input_data, output_data, timesteps_input, timesteps_output):\n",
    "    sequences, targets = [], []\n",
    "    for i in range(len(input_data) - timesteps_input - timesteps_output + 1):\n",
    "        seq = input_data[i:i + timesteps_input]\n",
    "        target = output_data[i + timesteps_input: i + timesteps_input + timesteps_output]\n",
    "        sequences.append(seq)\n",
    "        targets.append(target)\n",
    "\n",
    "    return np.array(sequences), np.array(targets)\n",
    "\n",
    "\n",
    "X_test, Y_test = create_sequences(X_test_default, Y_test_default, NUM_OF_TIMESTEPS_INPUT, NUM_OF_TIMESTEPS_OUTPUT)\n",
    "print(len(Y_test))"
   ],
   "metadata": {
    "collapsed": false
   },
   "id": "ad94402168f77970",
   "execution_count": null
  },
  {
   "cell_type": "code",
   "outputs": [],
   "source": [
    "# Denormalize the data\n",
    "\n",
    "carbon_max = 0.5560628544361648\n",
    "carbon_min = 0.337515252471314\n",
    "solar_max = 703.628269052724\n",
    "solar_min = 0.0\n",
    "\n",
    "for i in range(len(Y_test)):\n",
    "    carbon_mlp[i] = carbon_mlp[i] * (carbon_max - carbon_min) + carbon_min\n",
    "    carbon_lstm[i] = carbon_lstm[i] * (carbon_max - carbon_min) + carbon_min\n",
    "    carbon_gru[i] = carbon_gru[i] * (carbon_max - carbon_min) + carbon_min\n",
    "    solar_mlp[i] = solar_mlp[i] * (solar_max - solar_min) + solar_min\n",
    "    solar_lstm[i] = solar_lstm[i] * (solar_max - solar_min) + solar_min\n",
    "    solar_gru[i] = solar_gru[i] * (solar_max - solar_min) + solar_min\n",
    "    Y_test[i, :, 0] = Y_test[i, :, 0] * (carbon_max - carbon_min) + carbon_min\n",
    "    Y_test[i, :, 1] = Y_test[i, :, 1] * (solar_max - solar_min) + solar_min"
   ],
   "metadata": {
    "collapsed": false
   },
   "id": "c832370fa27f9877",
   "execution_count": null
  },
  {
   "cell_type": "code",
   "outputs": [],
   "source": [
    "plt.figure(figsize=(20, 48))\n",
    "\n",
    "i = 1\n",
    "\n",
    "for num in range(len(Y_test)):\n",
    "    plt.subplot(9, 3, i)\n",
    "    i += 1\n",
    "    plt.plot(carbon_mlp[num], label=\"MLP\")\n",
    "    plt.plot(carbon_lstm[num], label=\"LSTM\")\n",
    "    plt.plot(carbon_gru[num], label=\"GRU\")\n",
    "    plt.plot(Y_test[num, :, 0], label=\"Actual\")\n",
    "    plt.xlabel('Timestamp', fontsize=20)\n",
    "    plt.ylabel('Carbon Intensity (kg/kWh)', fontsize=20)\n",
    "    plt.legend(fontsize=14)\n",
    "    plt.title(f'Prediction number {num+1}', fontsize=22)\n",
    "    plt.tick_params(labelsize=16)\n",
    "\n",
    "plt.suptitle('Predicted and actual Carbon Intensity', fontsize=26, y=1)\n",
    "plt.tight_layout()\n",
    "plt.show()"
   ],
   "metadata": {
    "collapsed": false
   },
   "id": "cd3df8bcc4456eb1",
   "execution_count": null
  },
  {
   "cell_type": "code",
   "outputs": [],
   "source": [
    "plt.figure(figsize=(20, 48))\n",
    "\n",
    "i = 1\n",
    "\n",
    "for num in range(len(Y_test)):\n",
    "    plt.subplot(9, 3, i)\n",
    "    i += 1\n",
    "    plt.plot(solar_mlp[num], label=\"MLP\")\n",
    "    plt.plot(solar_lstm[num], label=\"LSTM\")\n",
    "    plt.plot(solar_gru[num], label=\"GRU\")\n",
    "    plt.plot(Y_test[num, :, 1], label=\"Actual\")\n",
    "    plt.xlabel('Timestamp', fontsize=20)\n",
    "    plt.ylabel('Solar Generation (W/kW)', fontsize=20)\n",
    "    plt.legend(fontsize=14)\n",
    "    plt.title(f'Prediction number {num+1}', fontsize=22)\n",
    "    plt.tick_params(labelsize=16)\n",
    "\n",
    "plt.suptitle('Predicted and actual Solar Generation', fontsize=26, y=1)\n",
    "plt.tight_layout()\n",
    "plt.show()"
   ],
   "metadata": {
    "collapsed": false
   },
   "id": "887869bd27236b8b",
   "execution_count": null
  }
 ],
 "metadata": {
  "kernelspec": {
   "display_name": "Python 3",
   "language": "python",
   "name": "python3"
  },
  "language_info": {
   "codemirror_mode": {
    "name": "ipython",
    "version": 2
   },
   "file_extension": ".py",
   "mimetype": "text/x-python",
   "name": "python",
   "nbconvert_exporter": "python",
   "pygments_lexer": "ipython2",
   "version": "2.7.6"
  }
 },
 "nbformat": 4,
 "nbformat_minor": 5
}
