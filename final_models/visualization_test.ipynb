{
 "cells": [
  {
   "cell_type": "code",
   "execution_count": 1,
   "id": "initial_id",
   "metadata": {
    "collapsed": true,
    "ExecuteTime": {
     "end_time": "2024-07-12T07:56:12.481023300Z",
     "start_time": "2024-07-12T07:55:53.379681100Z"
    }
   },
   "outputs": [
    {
     "name": "stdout",
     "output_type": "stream",
     "text": [
      "WARNING:tensorflow:From C:\\Users\\Matej\\Documents\\GitHub\\thesis-forecasting\\venv\\Lib\\site-packages\\keras\\src\\losses.py:2976: The name tf.losses.sparse_softmax_cross_entropy is deprecated. Please use tf.compat.v1.losses.sparse_softmax_cross_entropy instead.\n"
     ]
    }
   ],
   "source": [
    "import numpy as np\n",
    "import pandas as pd\n",
    "import matplotlib.pyplot as plt\n",
    "from tensorflow import keras\n",
    "from sklearn.metrics import mean_squared_error\n",
    "from math import sqrt\n",
    "import visualkeras"
   ]
  },
  {
   "cell_type": "code",
   "outputs": [],
   "source": [
    "# Global variables\n",
    "\n",
    "NUM_OF_TIMESTEPS_INPUT = 48\n",
    "NUM_OF_TIMESTEPS_OUTPUT = 24\n",
    "NUM_OF_FEATURES = 9\n",
    "\n",
    "THRESHOLD = 0.4   # For feature selection"
   ],
   "metadata": {
    "collapsed": false,
    "ExecuteTime": {
     "end_time": "2024-07-12T07:56:12.499706100Z",
     "start_time": "2024-07-12T07:56:12.484509500Z"
    }
   },
   "id": "47d6f64f8128c71b",
   "execution_count": 2
  },
  {
   "cell_type": "code",
   "outputs": [
    {
     "name": "stdout",
     "output_type": "stream",
     "text": [
      "WARNING:tensorflow:From C:\\Users\\Matej\\Documents\\GitHub\\thesis-forecasting\\venv\\Lib\\site-packages\\keras\\src\\backend.py:1398: The name tf.executing_eagerly_outside_functions is deprecated. Please use tf.compat.v1.executing_eagerly_outside_functions instead.\n",
      "WARNING:tensorflow:From C:\\Users\\Matej\\Documents\\GitHub\\thesis-forecasting\\venv\\Lib\\site-packages\\keras\\src\\optimizers\\__init__.py:309: The name tf.train.Optimizer is deprecated. Please use tf.compat.v1.train.Optimizer instead.\n"
     ]
    }
   ],
   "source": [
    "from sklearn.model_selection import TimeSeriesSplit\n",
    "from tensorflow.keras import layers, models\n",
    "import time\n",
    "\n",
    "tscv = TimeSeriesSplit(n_splits = 4, test_size=24) # For cross-validation\n",
    "\n",
    "callback = keras.callbacks.EarlyStopping(monitor='loss', patience = 4) #patience parameter to be adjusted\n",
    "\n",
    "loss = []\n",
    "val_loss = []\n",
    "loss_1 = []\n",
    "val_loss_1 = []\n",
    "loss_2 = []\n",
    "val_loss_2 = []\n",
    "\n",
    "# Input layer\n",
    "input_layer = layers.Input(shape=(NUM_OF_TIMESTEPS_INPUT, NUM_OF_FEATURES))\n",
    "\n",
    "# Dense layers for variable 1\n",
    "lstm1 = layers.LSTM(48, activation='leaky_relu', return_sequences=True)(input_layer)\n",
    "lstm2 = layers.LSTM(48, activation='leaky_relu', return_sequences=True)(lstm1)\n",
    "lstm3 = layers.LSTM(24, activation='leaky_relu', return_sequences=False)(lstm2)\n",
    "output_variable1 = layers.Dense(24, name='output_variable1')(lstm3)\n",
    "\n",
    "# Dense layers for variable 2\n",
    "dense4 = layers.LSTM(48, activation='leaky_relu', return_sequences=True)(input_layer)\n",
    "dense5 = layers.LSTM(48, activation='leaky_relu', return_sequences=True)(dense4)\n",
    "dense6 = layers.LSTM(24, activation='leaky_relu', return_sequences=False)(dense5)\n",
    "output_variable2 = layers.Dense(24, name='output_variable2')(dense6)\n",
    "\n",
    "# Define the model\n",
    "model = models.Model(inputs=input_layer, outputs=[output_variable1, output_variable2])\n",
    "\n",
    "model.compile(\n",
    "    optimizer='adam',\n",
    "    loss={'output_variable1': 'mean_squared_error', 'output_variable2': 'mean_squared_error'}\n",
    ") #types of optimizer, loss function to be adjusted"
   ],
   "metadata": {
    "collapsed": false,
    "ExecuteTime": {
     "end_time": "2024-07-12T07:56:13.936349800Z",
     "start_time": "2024-07-12T07:56:12.498326400Z"
    }
   },
   "id": "3e355b0751b61e26",
   "execution_count": 3
  },
  {
   "cell_type": "code",
   "outputs": [
    {
     "data": {
      "text/plain": "<PIL.Image.Image image mode=RGBA size=556x294>",
      "image/png": "[encoded data removed]"
     },
     "execution_count": 7,
     "metadata": {},
     "output_type": "execute_result"
    }
   ],
   "source": [
    "visualkeras.layered_view(model, legend=True, spacing=40)"
   ],
   "metadata": {
    "collapsed": false,
    "ExecuteTime": {
     "end_time": "2024-07-12T07:58:08.112582600Z",
     "start_time": "2024-07-12T07:58:08.085270100Z"
    }
   },
   "id": "b2566d65eebec21b",
   "execution_count": 7
  },
  {
   "cell_type": "code",
   "outputs": [
    {
     "name": "stdout",
     "output_type": "stream",
     "text": [
      "Model: \"model\"\n",
      "__________________________________________________________________________________________________\n",
      " Layer (type)                Output Shape                 Param #   Connected to                  \n",
      "==================================================================================================\n",
      " input_1 (InputLayer)        [(None, 48, 9)]              0         []                            \n",
      "                                                                                                  \n",
      " lstm (LSTM)                 (None, 48, 48)               11136     ['input_1[0][0]']             \n",
      "                                                                                                  \n",
      " lstm_3 (LSTM)               (None, 48, 48)               11136     ['input_1[0][0]']             \n",
      "                                                                                                  \n",
      " lstm_1 (LSTM)               (None, 48, 48)               18624     ['lstm[0][0]']                \n",
      "                                                                                                  \n",
      " lstm_4 (LSTM)               (None, 48, 48)               18624     ['lstm_3[0][0]']              \n",
      "                                                                                                  \n",
      " lstm_2 (LSTM)               (None, 24)                   7008      ['lstm_1[0][0]']              \n",
      "                                                                                                  \n",
      " lstm_5 (LSTM)               (None, 24)                   7008      ['lstm_4[0][0]']              \n",
      "                                                                                                  \n",
      " output_variable1 (Dense)    (None, 24)                   600       ['lstm_2[0][0]']              \n",
      "                                                                                                  \n",
      " output_variable2 (Dense)    (None, 24)                   600       ['lstm_5[0][0]']              \n",
      "                                                                                                  \n",
      "==================================================================================================\n",
      "Total params: 74736 (291.94 KB)\n",
      "Trainable params: 74736 (291.94 KB)\n",
      "Non-trainable params: 0 (0.00 Byte)\n",
      "__________________________________________________________________________________________________\n"
     ]
    }
   ],
   "source": [
    "model.summary()"
   ],
   "metadata": {
    "collapsed": false,
    "ExecuteTime": {
     "end_time": "2024-07-12T08:02:39.554131500Z",
     "start_time": "2024-07-12T08:02:39.320602300Z"
    }
   },
   "id": "1cb18ad597385c47",
   "execution_count": 8
  }
 ],
 "metadata": {
  "kernelspec": {
   "display_name": "Python 3",
   "language": "python",
   "name": "python3"
  },
  "language_info": {
   "codemirror_mode": {
    "name": "ipython",
    "version": 2
   },
   "file_extension": ".py",
   "mimetype": "text/x-python",
   "name": "python",
   "nbconvert_exporter": "python",
   "pygments_lexer": "ipython2",
   "version": "2.7.6"
  }
 },
 "nbformat": 4,
 "nbformat_minor": 5
}
