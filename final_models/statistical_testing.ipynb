{
 "cells": [
  {
   "cell_type": "code",
   "execution_count": 17,
   "id": "initial_id",
   "metadata": {
    "collapsed": true,
    "ExecuteTime": {
     "end_time": "2024-02-17T15:38:43.133478800Z",
     "start_time": "2024-02-17T15:38:43.047612100Z"
    }
   },
   "outputs": [],
   "source": [
    "import numpy as np\n",
    "import pandas as pd\n",
    "import matplotlib.pyplot as plt\n",
    "from tensorflow import keras\n",
    "from sklearn.metrics import mean_squared_error\n",
    "from math import sqrt"
   ]
  },
  {
   "cell_type": "code",
   "outputs": [],
   "source": [
    "train = pd.read_csv(\"../data/schemas/warm_up/TrainSet.csv\", sep=\",\")\n",
    "validation = pd.read_csv(\"../data/schemas/warm_up/ValidationSet.csv\", sep=\",\")\n",
    "test = pd.read_csv(\"../data/schemas/warm_up/TestSet.csv\", sep=\",\")\n",
    "carbon_mlp = pd.read_csv(\"../data/results/carbon_mlp.csv\", sep=\",\", header=None)\n",
    "carbon_lstm = pd.read_csv(\"../data/results/carbon_lstm.csv\", sep=\",\", header=None)\n",
    "carbon_gru = pd.read_csv(\"../data/results/carbon_gru.csv\", sep=\",\", header=None)\n",
    "solar_mlp = pd.read_csv(\"../data/results/solar_mlp.csv\", sep=\",\", header=None)\n",
    "solar_lstm = pd.read_csv(\"../data/results/solar_lstm.csv\", sep=\",\", header=None)\n",
    "solar_gru = pd.read_csv(\"../data/results/solar_gru.csv\", sep=\",\", header=None)"
   ],
   "metadata": {
    "collapsed": false,
    "ExecuteTime": {
     "end_time": "2024-02-17T15:38:43.307662300Z",
     "start_time": "2024-02-17T15:38:43.144332400Z"
    }
   },
   "id": "41dbca7d77dcf922",
   "execution_count": 18
  },
  {
   "cell_type": "code",
   "outputs": [
    {
     "name": "stdout",
     "output_type": "stream",
     "text": [
      "Hour_1, corr: 0.432\n",
      "Occupant Count (people)_3, corr: 0.458\n",
      "12h Outdoor Drybulb Temperature (C), corr: 0.605\n",
      "24h Outdoor Drybulb Temperature (C), corr: 0.401\n",
      "12h Outdoor Relative Humidity (%), corr: 0.525\n",
      "6h Direct Solar Radiation (W/m2), corr: 0.532\n",
      "12h Direct Solar Radiation (W/m2), corr: 0.415\n",
      "(576, 7)\n",
      "(96, 7)\n",
      "(96, 7)\n",
      "X_train = (505, 48, 7), Y_train = (505, 24, 2)\n",
      "X_val = (25, 48, 7), Y_val = (25, 24, 2)\n",
      "X_test = (25, 48, 7), Y_test = (25, 24, 2)\n"
     ]
    }
   ],
   "source": [
    "# Global variables\n",
    "\n",
    "NUM_OF_TIMESTEPS_INPUT = 48\n",
    "NUM_OF_TIMESTEPS_OUTPUT = 24\n",
    "\n",
    "THRESHOLD = 0.4  # For feature selection\n",
    "columns_to_predict = [\"kg_CO2/kWh\", \"Avg solar generation\"]\n",
    "\n",
    "independent_variables = []\n",
    "\n",
    "for column in train:\n",
    "    if abs(train[column].corr(train[columns_to_predict[\n",
    "        0]])) > THRESHOLD:  #or abs(train[column].corr(train[columns_to_predict[1]])) > THRESHOLD:\n",
    "        independent_variables.append(column)\n",
    "\n",
    "independent_variables = [var for var in independent_variables if var not in columns_to_predict]\n",
    "\n",
    "if \"Index\" in independent_variables:\n",
    "    independent_variables.remove(\"Index\")\n",
    "if \"Solar Generation (W/kW)_1\" in independent_variables:\n",
    "    independent_variables.remove(\"Solar Generation (W/kW)_1\")\n",
    "if \"Solar Generation (W/kW)_2\" in independent_variables:\n",
    "    independent_variables.remove(\"Solar Generation (W/kW)_2\")\n",
    "if \"Solar Generation (W/kW)_3\" in independent_variables:\n",
    "    independent_variables.remove(\"Solar Generation (W/kW)_3\")\n",
    "if \"Hour_2\" in independent_variables:\n",
    "    independent_variables.remove(\"Hour_2\")\n",
    "if \"Hour_3\" in independent_variables:\n",
    "    independent_variables.remove(\"Hour_3\")\n",
    "\n",
    "for i in independent_variables:\n",
    "    print(f\"{i}, corr: {'%.3f' % abs(train[i].corr(train[columns_to_predict[0]]))}\")\n",
    "\n",
    "\n",
    "# Split the X and Y for all sets\n",
    "\n",
    "# Train set\n",
    "X_train_default = train[independent_variables]\n",
    "Y_train_default = train[columns_to_predict]\n",
    "\n",
    "# Validation set, also include the data from train that was used only as output to get more datapoints\n",
    "X_val_default = pd.concat([X_train_default.tail(NUM_OF_TIMESTEPS_OUTPUT), validation[independent_variables]],\n",
    "                          ignore_index=True)\n",
    "Y_val_default = pd.concat([Y_train_default.tail(NUM_OF_TIMESTEPS_OUTPUT), validation[columns_to_predict]],\n",
    "                          ignore_index=True)\n",
    "\n",
    "# Test set, also include the data from train that was used only as output to get more datapoints\n",
    "X_test_default = pd.concat([X_val_default.tail(NUM_OF_TIMESTEPS_OUTPUT), test[independent_variables]],\n",
    "                           ignore_index=True)\n",
    "Y_test_default = pd.concat([Y_val_default.tail(NUM_OF_TIMESTEPS_OUTPUT), test[columns_to_predict]], ignore_index=True)\n",
    "\n",
    "NUM_OF_ROWS_TRAIN, NUM_OF_FEATURES = X_train_default.shape\n",
    "\n",
    "print(X_train_default.shape)\n",
    "print(X_val_default.shape)\n",
    "print(X_test_default.shape)\n",
    "\n",
    "\n",
    "# Function to prepare the data into batches that will be passed into the model\n",
    "\n",
    "def create_sequences(input_data, output_data, timesteps_input, timesteps_output):\n",
    "    sequences, targets = [], []\n",
    "    for i in range(len(input_data) - timesteps_input - timesteps_output + 1):\n",
    "        seq = input_data[i:i + timesteps_input]\n",
    "        target = output_data[i + timesteps_input: i + timesteps_input + timesteps_output]\n",
    "        sequences.append(seq)\n",
    "        targets.append(target)\n",
    "\n",
    "    return np.array(sequences), np.array(targets)\n",
    "\n",
    "\n",
    "X_train, Y_train = create_sequences(X_train_default, Y_train_default, NUM_OF_TIMESTEPS_INPUT, NUM_OF_TIMESTEPS_OUTPUT)\n",
    "X_val, Y_val = create_sequences(X_val_default, Y_val_default, NUM_OF_TIMESTEPS_INPUT, NUM_OF_TIMESTEPS_OUTPUT)\n",
    "X_test, Y_test = create_sequences(X_test_default, Y_test_default, NUM_OF_TIMESTEPS_INPUT, NUM_OF_TIMESTEPS_OUTPUT)\n",
    "\n",
    "print(f\"X_train = {X_train.shape}, Y_train = {Y_train.shape}\\n\"\n",
    "      f\"X_val = {X_val.shape}, Y_val = {Y_val.shape}\\n\"\n",
    "      f\"X_test = {X_test.shape}, Y_test = {Y_test.shape}\")"
   ],
   "metadata": {
    "collapsed": false,
    "ExecuteTime": {
     "end_time": "2024-02-17T15:38:43.356543700Z",
     "start_time": "2024-02-17T15:38:43.224405Z"
    }
   },
   "id": "b3f88d8019963e6b",
   "execution_count": 19
  },
  {
   "cell_type": "code",
   "outputs": [
    {
     "data": {
      "text/plain": "          0         1         2         3         4         5         6   \\\n0   0.322625  0.283766  0.261381  0.243292  0.240131  0.256516  0.289512   \n1   0.238519  0.202941  0.194240  0.199984  0.223099  0.259735  0.316785   \n2   0.178182  0.150409  0.148180  0.158964  0.188033  0.238968  0.316949   \n3   0.136572  0.125149  0.135721  0.157006  0.194024  0.250439  0.331598   \n4   0.151637  0.154228  0.175821  0.207623  0.254581  0.316213  0.389154   \n5   0.134088  0.154953  0.195047  0.244055  0.304842  0.375709  0.444708   \n6   0.173486  0.202228  0.243107  0.288117  0.341906  0.396623  0.451326   \n7   0.163781  0.198779  0.247647  0.298702  0.359472  0.423058  0.478388   \n8   0.201804  0.248477  0.305061  0.360474  0.419579  0.471522  0.505777   \n9   0.257886  0.303544  0.352489  0.395507  0.438567  0.481604  0.506774   \n10  0.307545  0.340639  0.375431  0.405299  0.439035  0.478333  0.510085   \n11  0.321358  0.362685  0.405227  0.438618  0.471694  0.503449  0.521734   \n12  0.337833  0.371138  0.405694  0.433321  0.462687  0.492843  0.518384   \n13  0.411177  0.425546  0.444906  0.461609  0.483589  0.504971  0.519714   \n14  0.358664  0.382324  0.406593  0.424007  0.442179  0.464227  0.489456   \n15  0.393378  0.409655  0.428050  0.442059  0.459696  0.476324  0.489339   \n16  0.430027  0.450715  0.474279  0.492867  0.512540  0.519173  0.513679   \n17  0.441028  0.454340  0.470925  0.482189  0.493669  0.495204  0.491097   \n18  0.474637  0.485221  0.502704  0.518146  0.532467  0.533111  0.516399   \n19  0.498814  0.505082  0.511572  0.512389  0.510829  0.502890  0.481558   \n20  0.466137  0.479604  0.497505  0.511352  0.523542  0.524203  0.510355   \n21  0.461639  0.477399  0.502825  0.525348  0.542991  0.542221  0.521616   \n22  0.481138  0.478325  0.486346  0.494798  0.504264  0.498646  0.484861   \n23  0.423587  0.426163  0.439382  0.453586  0.468008  0.470660  0.470332   \n\n          7         8         9   ...        15        16        17        18  \\\n0   0.317089  0.356495  0.389055  ...  0.518135  0.537164  0.545459  0.547887   \n1   0.364941  0.419226  0.458326  ...  0.534192  0.548919  0.564307  0.582493   \n2   0.374696  0.434091  0.468899  ...  0.525302  0.548098  0.576293  0.602475   \n3   0.392885  0.455356  0.493568  ...  0.515632  0.534751  0.565099  0.591332   \n4   0.430791  0.470192  0.488937  ...  0.493127  0.520971  0.560836  0.587448   \n5   0.477830  0.506198  0.517845  ...  0.538089  0.555551  0.570292  0.565229   \n6   0.479276  0.501756  0.509452  ...  0.523737  0.533021  0.531523  0.511831   \n7   0.495390  0.509304  0.508302  ...  0.510747  0.508485  0.482941  0.435237   \n8   0.511326  0.512781  0.507688  ...  0.496248  0.484738  0.459513  0.425553   \n9   0.513420  0.518598  0.524380  ...  0.489629  0.460023  0.423861  0.389726   \n10  0.516596  0.524374  0.528821  ...  0.500670  0.477668  0.457281  0.453091   \n11  0.520621  0.518152  0.514216  ...  0.459419  0.444902  0.441397  0.456828   \n12  0.521931  0.524064  0.520677  ...  0.433538  0.429103  0.454257  0.508403   \n13  0.512187  0.501539  0.488172  ...  0.425191  0.436391  0.475669  0.533383   \n14  0.494911  0.498683  0.493116  ...  0.492804  0.529498  0.585257  0.648202   \n15  0.476376  0.463052  0.444068  ...  0.533970  0.590911  0.636539  0.668504   \n16  0.494037  0.467656  0.441928  ...  0.506709  0.564798  0.619926  0.660184   \n17  0.480964  0.467880  0.457346  ...  0.608065  0.657677  0.693422  0.712898   \n18  0.493308  0.464208  0.446287  ...  0.659166  0.706635  0.732575  0.737797   \n19  0.467110  0.455596  0.462324  ...  0.668791  0.692403  0.701329  0.689573   \n20  0.505317  0.504242  0.519874  ...  0.727488  0.739056  0.734605  0.715313   \n21  0.521396  0.521993  0.541054  ...  0.723251  0.714034  0.693106  0.666292   \n22  0.493163  0.505192  0.534028  ...  0.737543  0.718615  0.690470  0.666281   \n23  0.496463  0.526681  0.568929  ...  0.674921  0.637165  0.608834  0.591157   \n\n          19        20        21        22        23        24  \n0   0.561278  0.592277  0.611521  0.618488  0.588946  0.534170  \n1   0.600838  0.620133  0.608840  0.572113  0.511107  0.448314  \n2   0.619514  0.625151  0.587685  0.529091  0.457201  0.399275  \n3   0.601343  0.599173  0.559462  0.502129  0.441595  0.397045  \n4   0.588878  0.574784  0.531011  0.490313  0.471905  0.479950  \n5   0.544380  0.519605  0.487252  0.469959  0.483313  0.522411  \n6   0.485229  0.459925  0.439929  0.433500  0.450034  0.489062  \n7   0.384079  0.353417  0.355105  0.390441  0.450288  0.519194  \n8   0.401341  0.398026  0.426545  0.477275  0.543543  0.611395  \n9   0.384132  0.408113  0.467827  0.537062  0.599590  0.645028  \n10  0.470228  0.506432  0.556325  0.605723  0.645900  0.674051  \n11  0.498422  0.555739  0.620381  0.673600  0.709047  0.728384  \n12  0.569135  0.626245  0.662563  0.675821  0.678365  0.679322  \n13  0.590249  0.643187  0.672775  0.685561  0.694397  0.706049  \n14  0.701361  0.741489  0.753909  0.745979  0.725898  0.706181  \n15  0.683589  0.696367  0.698872  0.702020  0.707441  0.716979  \n16  0.678878  0.688140  0.681555  0.671429  0.666349  0.670428  \n17  0.718858  0.721137  0.708408  0.687760  0.666305  0.652356  \n18  0.730482  0.722279  0.702760  0.684467  0.674792  0.677938  \n19  0.668496  0.657920  0.651988  0.654047  0.657296  0.651419  \n20  0.693825  0.682122  0.677884  0.679835  0.679543  0.667512  \n21  0.654116  0.655054  0.660506  0.660742  0.650308  0.626922  \n22  0.659417  0.664771  0.665221  0.654019  0.626140  0.587333  \n23  0.584335  0.583052  0.575052  0.553442  0.515759  0.466593  \n\n[24 rows x 25 columns]",
      "text/html": "<div>\n<style scoped>\n    .dataframe tbody tr th:only-of-type {\n        vertical-align: middle;\n    }\n\n    .dataframe tbody tr th {\n        vertical-align: top;\n    }\n\n    .dataframe thead th {\n        text-align: right;\n    }\n</style>\n<table border=\"1\" class=\"dataframe\">\n  <thead>\n    <tr style=\"text-align: right;\">\n      <th></th>\n      <th>0</th>\n      <th>1</th>\n      <th>2</th>\n      <th>3</th>\n      <th>4</th>\n      <th>5</th>\n      <th>6</th>\n      <th>7</th>\n      <th>8</th>\n      <th>9</th>\n      <th>...</th>\n      <th>15</th>\n      <th>16</th>\n      <th>17</th>\n      <th>18</th>\n      <th>19</th>\n      <th>20</th>\n      <th>21</th>\n      <th>22</th>\n      <th>23</th>\n      <th>24</th>\n    </tr>\n  </thead>\n  <tbody>\n    <tr>\n      <th>0</th>\n      <td>0.322625</td>\n      <td>0.283766</td>\n      <td>0.261381</td>\n      <td>0.243292</td>\n      <td>0.240131</td>\n      <td>0.256516</td>\n      <td>0.289512</td>\n      <td>0.317089</td>\n      <td>0.356495</td>\n      <td>0.389055</td>\n      <td>...</td>\n      <td>0.518135</td>\n      <td>0.537164</td>\n      <td>0.545459</td>\n      <td>0.547887</td>\n      <td>0.561278</td>\n      <td>0.592277</td>\n      <td>0.611521</td>\n      <td>0.618488</td>\n      <td>0.588946</td>\n      <td>0.534170</td>\n    </tr>\n    <tr>\n      <th>1</th>\n      <td>0.238519</td>\n      <td>0.202941</td>\n      <td>0.194240</td>\n      <td>0.199984</td>\n      <td>0.223099</td>\n      <td>0.259735</td>\n      <td>0.316785</td>\n      <td>0.364941</td>\n      <td>0.419226</td>\n      <td>0.458326</td>\n      <td>...</td>\n      <td>0.534192</td>\n      <td>0.548919</td>\n      <td>0.564307</td>\n      <td>0.582493</td>\n      <td>0.600838</td>\n      <td>0.620133</td>\n      <td>0.608840</td>\n      <td>0.572113</td>\n      <td>0.511107</td>\n      <td>0.448314</td>\n    </tr>\n    <tr>\n      <th>2</th>\n      <td>0.178182</td>\n      <td>0.150409</td>\n      <td>0.148180</td>\n      <td>0.158964</td>\n      <td>0.188033</td>\n      <td>0.238968</td>\n      <td>0.316949</td>\n      <td>0.374696</td>\n      <td>0.434091</td>\n      <td>0.468899</td>\n      <td>...</td>\n      <td>0.525302</td>\n      <td>0.548098</td>\n      <td>0.576293</td>\n      <td>0.602475</td>\n      <td>0.619514</td>\n      <td>0.625151</td>\n      <td>0.587685</td>\n      <td>0.529091</td>\n      <td>0.457201</td>\n      <td>0.399275</td>\n    </tr>\n    <tr>\n      <th>3</th>\n      <td>0.136572</td>\n      <td>0.125149</td>\n      <td>0.135721</td>\n      <td>0.157006</td>\n      <td>0.194024</td>\n      <td>0.250439</td>\n      <td>0.331598</td>\n      <td>0.392885</td>\n      <td>0.455356</td>\n      <td>0.493568</td>\n      <td>...</td>\n      <td>0.515632</td>\n      <td>0.534751</td>\n      <td>0.565099</td>\n      <td>0.591332</td>\n      <td>0.601343</td>\n      <td>0.599173</td>\n      <td>0.559462</td>\n      <td>0.502129</td>\n      <td>0.441595</td>\n      <td>0.397045</td>\n    </tr>\n    <tr>\n      <th>4</th>\n      <td>0.151637</td>\n      <td>0.154228</td>\n      <td>0.175821</td>\n      <td>0.207623</td>\n      <td>0.254581</td>\n      <td>0.316213</td>\n      <td>0.389154</td>\n      <td>0.430791</td>\n      <td>0.470192</td>\n      <td>0.488937</td>\n      <td>...</td>\n      <td>0.493127</td>\n      <td>0.520971</td>\n      <td>0.560836</td>\n      <td>0.587448</td>\n      <td>0.588878</td>\n      <td>0.574784</td>\n      <td>0.531011</td>\n      <td>0.490313</td>\n      <td>0.471905</td>\n      <td>0.479950</td>\n    </tr>\n    <tr>\n      <th>5</th>\n      <td>0.134088</td>\n      <td>0.154953</td>\n      <td>0.195047</td>\n      <td>0.244055</td>\n      <td>0.304842</td>\n      <td>0.375709</td>\n      <td>0.444708</td>\n      <td>0.477830</td>\n      <td>0.506198</td>\n      <td>0.517845</td>\n      <td>...</td>\n      <td>0.538089</td>\n      <td>0.555551</td>\n      <td>0.570292</td>\n      <td>0.565229</td>\n      <td>0.544380</td>\n      <td>0.519605</td>\n      <td>0.487252</td>\n      <td>0.469959</td>\n      <td>0.483313</td>\n      <td>0.522411</td>\n    </tr>\n    <tr>\n      <th>6</th>\n      <td>0.173486</td>\n      <td>0.202228</td>\n      <td>0.243107</td>\n      <td>0.288117</td>\n      <td>0.341906</td>\n      <td>0.396623</td>\n      <td>0.451326</td>\n      <td>0.479276</td>\n      <td>0.501756</td>\n      <td>0.509452</td>\n      <td>...</td>\n      <td>0.523737</td>\n      <td>0.533021</td>\n      <td>0.531523</td>\n      <td>0.511831</td>\n      <td>0.485229</td>\n      <td>0.459925</td>\n      <td>0.439929</td>\n      <td>0.433500</td>\n      <td>0.450034</td>\n      <td>0.489062</td>\n    </tr>\n    <tr>\n      <th>7</th>\n      <td>0.163781</td>\n      <td>0.198779</td>\n      <td>0.247647</td>\n      <td>0.298702</td>\n      <td>0.359472</td>\n      <td>0.423058</td>\n      <td>0.478388</td>\n      <td>0.495390</td>\n      <td>0.509304</td>\n      <td>0.508302</td>\n      <td>...</td>\n      <td>0.510747</td>\n      <td>0.508485</td>\n      <td>0.482941</td>\n      <td>0.435237</td>\n      <td>0.384079</td>\n      <td>0.353417</td>\n      <td>0.355105</td>\n      <td>0.390441</td>\n      <td>0.450288</td>\n      <td>0.519194</td>\n    </tr>\n    <tr>\n      <th>8</th>\n      <td>0.201804</td>\n      <td>0.248477</td>\n      <td>0.305061</td>\n      <td>0.360474</td>\n      <td>0.419579</td>\n      <td>0.471522</td>\n      <td>0.505777</td>\n      <td>0.511326</td>\n      <td>0.512781</td>\n      <td>0.507688</td>\n      <td>...</td>\n      <td>0.496248</td>\n      <td>0.484738</td>\n      <td>0.459513</td>\n      <td>0.425553</td>\n      <td>0.401341</td>\n      <td>0.398026</td>\n      <td>0.426545</td>\n      <td>0.477275</td>\n      <td>0.543543</td>\n      <td>0.611395</td>\n    </tr>\n    <tr>\n      <th>9</th>\n      <td>0.257886</td>\n      <td>0.303544</td>\n      <td>0.352489</td>\n      <td>0.395507</td>\n      <td>0.438567</td>\n      <td>0.481604</td>\n      <td>0.506774</td>\n      <td>0.513420</td>\n      <td>0.518598</td>\n      <td>0.524380</td>\n      <td>...</td>\n      <td>0.489629</td>\n      <td>0.460023</td>\n      <td>0.423861</td>\n      <td>0.389726</td>\n      <td>0.384132</td>\n      <td>0.408113</td>\n      <td>0.467827</td>\n      <td>0.537062</td>\n      <td>0.599590</td>\n      <td>0.645028</td>\n    </tr>\n    <tr>\n      <th>10</th>\n      <td>0.307545</td>\n      <td>0.340639</td>\n      <td>0.375431</td>\n      <td>0.405299</td>\n      <td>0.439035</td>\n      <td>0.478333</td>\n      <td>0.510085</td>\n      <td>0.516596</td>\n      <td>0.524374</td>\n      <td>0.528821</td>\n      <td>...</td>\n      <td>0.500670</td>\n      <td>0.477668</td>\n      <td>0.457281</td>\n      <td>0.453091</td>\n      <td>0.470228</td>\n      <td>0.506432</td>\n      <td>0.556325</td>\n      <td>0.605723</td>\n      <td>0.645900</td>\n      <td>0.674051</td>\n    </tr>\n    <tr>\n      <th>11</th>\n      <td>0.321358</td>\n      <td>0.362685</td>\n      <td>0.405227</td>\n      <td>0.438618</td>\n      <td>0.471694</td>\n      <td>0.503449</td>\n      <td>0.521734</td>\n      <td>0.520621</td>\n      <td>0.518152</td>\n      <td>0.514216</td>\n      <td>...</td>\n      <td>0.459419</td>\n      <td>0.444902</td>\n      <td>0.441397</td>\n      <td>0.456828</td>\n      <td>0.498422</td>\n      <td>0.555739</td>\n      <td>0.620381</td>\n      <td>0.673600</td>\n      <td>0.709047</td>\n      <td>0.728384</td>\n    </tr>\n    <tr>\n      <th>12</th>\n      <td>0.337833</td>\n      <td>0.371138</td>\n      <td>0.405694</td>\n      <td>0.433321</td>\n      <td>0.462687</td>\n      <td>0.492843</td>\n      <td>0.518384</td>\n      <td>0.521931</td>\n      <td>0.524064</td>\n      <td>0.520677</td>\n      <td>...</td>\n      <td>0.433538</td>\n      <td>0.429103</td>\n      <td>0.454257</td>\n      <td>0.508403</td>\n      <td>0.569135</td>\n      <td>0.626245</td>\n      <td>0.662563</td>\n      <td>0.675821</td>\n      <td>0.678365</td>\n      <td>0.679322</td>\n    </tr>\n    <tr>\n      <th>13</th>\n      <td>0.411177</td>\n      <td>0.425546</td>\n      <td>0.444906</td>\n      <td>0.461609</td>\n      <td>0.483589</td>\n      <td>0.504971</td>\n      <td>0.519714</td>\n      <td>0.512187</td>\n      <td>0.501539</td>\n      <td>0.488172</td>\n      <td>...</td>\n      <td>0.425191</td>\n      <td>0.436391</td>\n      <td>0.475669</td>\n      <td>0.533383</td>\n      <td>0.590249</td>\n      <td>0.643187</td>\n      <td>0.672775</td>\n      <td>0.685561</td>\n      <td>0.694397</td>\n      <td>0.706049</td>\n    </tr>\n    <tr>\n      <th>14</th>\n      <td>0.358664</td>\n      <td>0.382324</td>\n      <td>0.406593</td>\n      <td>0.424007</td>\n      <td>0.442179</td>\n      <td>0.464227</td>\n      <td>0.489456</td>\n      <td>0.494911</td>\n      <td>0.498683</td>\n      <td>0.493116</td>\n      <td>...</td>\n      <td>0.492804</td>\n      <td>0.529498</td>\n      <td>0.585257</td>\n      <td>0.648202</td>\n      <td>0.701361</td>\n      <td>0.741489</td>\n      <td>0.753909</td>\n      <td>0.745979</td>\n      <td>0.725898</td>\n      <td>0.706181</td>\n    </tr>\n    <tr>\n      <th>15</th>\n      <td>0.393378</td>\n      <td>0.409655</td>\n      <td>0.428050</td>\n      <td>0.442059</td>\n      <td>0.459696</td>\n      <td>0.476324</td>\n      <td>0.489339</td>\n      <td>0.476376</td>\n      <td>0.463052</td>\n      <td>0.444068</td>\n      <td>...</td>\n      <td>0.533970</td>\n      <td>0.590911</td>\n      <td>0.636539</td>\n      <td>0.668504</td>\n      <td>0.683589</td>\n      <td>0.696367</td>\n      <td>0.698872</td>\n      <td>0.702020</td>\n      <td>0.707441</td>\n      <td>0.716979</td>\n    </tr>\n    <tr>\n      <th>16</th>\n      <td>0.430027</td>\n      <td>0.450715</td>\n      <td>0.474279</td>\n      <td>0.492867</td>\n      <td>0.512540</td>\n      <td>0.519173</td>\n      <td>0.513679</td>\n      <td>0.494037</td>\n      <td>0.467656</td>\n      <td>0.441928</td>\n      <td>...</td>\n      <td>0.506709</td>\n      <td>0.564798</td>\n      <td>0.619926</td>\n      <td>0.660184</td>\n      <td>0.678878</td>\n      <td>0.688140</td>\n      <td>0.681555</td>\n      <td>0.671429</td>\n      <td>0.666349</td>\n      <td>0.670428</td>\n    </tr>\n    <tr>\n      <th>17</th>\n      <td>0.441028</td>\n      <td>0.454340</td>\n      <td>0.470925</td>\n      <td>0.482189</td>\n      <td>0.493669</td>\n      <td>0.495204</td>\n      <td>0.491097</td>\n      <td>0.480964</td>\n      <td>0.467880</td>\n      <td>0.457346</td>\n      <td>...</td>\n      <td>0.608065</td>\n      <td>0.657677</td>\n      <td>0.693422</td>\n      <td>0.712898</td>\n      <td>0.718858</td>\n      <td>0.721137</td>\n      <td>0.708408</td>\n      <td>0.687760</td>\n      <td>0.666305</td>\n      <td>0.652356</td>\n    </tr>\n    <tr>\n      <th>18</th>\n      <td>0.474637</td>\n      <td>0.485221</td>\n      <td>0.502704</td>\n      <td>0.518146</td>\n      <td>0.532467</td>\n      <td>0.533111</td>\n      <td>0.516399</td>\n      <td>0.493308</td>\n      <td>0.464208</td>\n      <td>0.446287</td>\n      <td>...</td>\n      <td>0.659166</td>\n      <td>0.706635</td>\n      <td>0.732575</td>\n      <td>0.737797</td>\n      <td>0.730482</td>\n      <td>0.722279</td>\n      <td>0.702760</td>\n      <td>0.684467</td>\n      <td>0.674792</td>\n      <td>0.677938</td>\n    </tr>\n    <tr>\n      <th>19</th>\n      <td>0.498814</td>\n      <td>0.505082</td>\n      <td>0.511572</td>\n      <td>0.512389</td>\n      <td>0.510829</td>\n      <td>0.502890</td>\n      <td>0.481558</td>\n      <td>0.467110</td>\n      <td>0.455596</td>\n      <td>0.462324</td>\n      <td>...</td>\n      <td>0.668791</td>\n      <td>0.692403</td>\n      <td>0.701329</td>\n      <td>0.689573</td>\n      <td>0.668496</td>\n      <td>0.657920</td>\n      <td>0.651988</td>\n      <td>0.654047</td>\n      <td>0.657296</td>\n      <td>0.651419</td>\n    </tr>\n    <tr>\n      <th>20</th>\n      <td>0.466137</td>\n      <td>0.479604</td>\n      <td>0.497505</td>\n      <td>0.511352</td>\n      <td>0.523542</td>\n      <td>0.524203</td>\n      <td>0.510355</td>\n      <td>0.505317</td>\n      <td>0.504242</td>\n      <td>0.519874</td>\n      <td>...</td>\n      <td>0.727488</td>\n      <td>0.739056</td>\n      <td>0.734605</td>\n      <td>0.715313</td>\n      <td>0.693825</td>\n      <td>0.682122</td>\n      <td>0.677884</td>\n      <td>0.679835</td>\n      <td>0.679543</td>\n      <td>0.667512</td>\n    </tr>\n    <tr>\n      <th>21</th>\n      <td>0.461639</td>\n      <td>0.477399</td>\n      <td>0.502825</td>\n      <td>0.525348</td>\n      <td>0.542991</td>\n      <td>0.542221</td>\n      <td>0.521616</td>\n      <td>0.521396</td>\n      <td>0.521993</td>\n      <td>0.541054</td>\n      <td>...</td>\n      <td>0.723251</td>\n      <td>0.714034</td>\n      <td>0.693106</td>\n      <td>0.666292</td>\n      <td>0.654116</td>\n      <td>0.655054</td>\n      <td>0.660506</td>\n      <td>0.660742</td>\n      <td>0.650308</td>\n      <td>0.626922</td>\n    </tr>\n    <tr>\n      <th>22</th>\n      <td>0.481138</td>\n      <td>0.478325</td>\n      <td>0.486346</td>\n      <td>0.494798</td>\n      <td>0.504264</td>\n      <td>0.498646</td>\n      <td>0.484861</td>\n      <td>0.493163</td>\n      <td>0.505192</td>\n      <td>0.534028</td>\n      <td>...</td>\n      <td>0.737543</td>\n      <td>0.718615</td>\n      <td>0.690470</td>\n      <td>0.666281</td>\n      <td>0.659417</td>\n      <td>0.664771</td>\n      <td>0.665221</td>\n      <td>0.654019</td>\n      <td>0.626140</td>\n      <td>0.587333</td>\n    </tr>\n    <tr>\n      <th>23</th>\n      <td>0.423587</td>\n      <td>0.426163</td>\n      <td>0.439382</td>\n      <td>0.453586</td>\n      <td>0.468008</td>\n      <td>0.470660</td>\n      <td>0.470332</td>\n      <td>0.496463</td>\n      <td>0.526681</td>\n      <td>0.568929</td>\n      <td>...</td>\n      <td>0.674921</td>\n      <td>0.637165</td>\n      <td>0.608834</td>\n      <td>0.591157</td>\n      <td>0.584335</td>\n      <td>0.583052</td>\n      <td>0.575052</td>\n      <td>0.553442</td>\n      <td>0.515759</td>\n      <td>0.466593</td>\n    </tr>\n  </tbody>\n</table>\n<p>24 rows × 25 columns</p>\n</div>"
     },
     "execution_count": 20,
     "metadata": {},
     "output_type": "execute_result"
    }
   ],
   "source": [
    "carbon_lstm"
   ],
   "metadata": {
    "collapsed": false,
    "ExecuteTime": {
     "end_time": "2024-02-17T15:38:43.516424600Z",
     "start_time": "2024-02-17T15:38:43.320268800Z"
    }
   },
   "id": "c7f518143d1de0c5",
   "execution_count": 20
  },
  {
   "cell_type": "code",
   "outputs": [
    {
     "name": "stdout",
     "output_type": "stream",
     "text": [
      "RMSE for carbon_mlp = 0.13551121057457657\n",
      "RMSE for carbon_lstm = 0.12928722844756912\n",
      "RMSE for carbon_gru = 0.12489182755708626\n",
      "RMSE for solar_mlp = 0.0571350922464098\n",
      "RMSE for solar_lstm = 0.0594736639187891\n",
      "RMSE for solar_gru = 0.040305307458519034\n"
     ]
    }
   ],
   "source": [
    "rmse_mlp_carbon = []\n",
    "rmse_lstm_carbon = []\n",
    "rmse_gru_carbon = []\n",
    "rmse_mlp_solar = []\n",
    "rmse_lstm_solar = []\n",
    "rmse_gru_solar = []\n",
    "\n",
    "rmse = 0\n",
    "\n",
    "\n",
    "for i in range(len(carbon_mlp)):\n",
    "    current_rmse = sqrt(mean_squared_error(carbon_mlp[i], Y_test[i, :, 0]))\n",
    "    rmse_mlp_carbon.append(current_rmse)\n",
    "    rmse += current_rmse\n",
    "     \n",
    "rmse /= len(carbon_mlp)    \n",
    "print(f\"RMSE for carbon_mlp = {rmse}\")\n",
    "\n",
    "rmse = 0\n",
    "for i in range(len(carbon_lstm)):\n",
    "    current_rmse = sqrt(mean_squared_error(carbon_lstm[i], Y_test[i, :, 0]))\n",
    "    rmse_lstm_carbon.append(current_rmse)\n",
    "    rmse += current_rmse\n",
    "\n",
    "rmse /= len(carbon_lstm)    \n",
    "print(f\"RMSE for carbon_lstm = {rmse}\")\n",
    "\n",
    "rmse = 0\n",
    "for i in range(len(carbon_gru)):\n",
    "    current_rmse = sqrt(mean_squared_error(carbon_gru[i], Y_test[i, :, 0]))\n",
    "    rmse_gru_carbon.append(current_rmse)\n",
    "    rmse += current_rmse\n",
    "\n",
    "rmse /= len(carbon_gru)    \n",
    "print(f\"RMSE for carbon_gru = {rmse}\")\n",
    "\n",
    "\n",
    "rmse = 0\n",
    "for i in range(len(solar_mlp)):\n",
    "    current_rmse = sqrt(mean_squared_error(solar_mlp[i], Y_test[i, :, 1]))\n",
    "    rmse_mlp_solar.append(current_rmse)\n",
    "    rmse += current_rmse\n",
    "     \n",
    "rmse /= len(solar_mlp)    \n",
    "print(f\"RMSE for solar_mlp = {rmse}\")\n",
    "\n",
    "rmse = 0\n",
    "for i in range(len(solar_lstm)):\n",
    "    current_rmse = sqrt(mean_squared_error(solar_lstm[i], Y_test[i, :, 1]))\n",
    "    rmse_lstm_solar.append(current_rmse)\n",
    "    rmse += current_rmse\n",
    "\n",
    "rmse /= len(solar_lstm)    \n",
    "print(f\"RMSE for solar_lstm = {rmse}\")\n",
    "\n",
    "rmse = 0\n",
    "for i in range(len(solar_gru)):\n",
    "    current_rmse = sqrt(mean_squared_error(solar_gru[i], Y_test[i, :, 1]))\n",
    "    rmse_gru_solar.append(current_rmse)\n",
    "    rmse += current_rmse\n",
    "\n",
    "rmse /= len(solar_gru)    \n",
    "print(f\"RMSE for solar_gru = {rmse}\")"
   ],
   "metadata": {
    "collapsed": false,
    "ExecuteTime": {
     "end_time": "2024-02-17T15:38:43.573584900Z",
     "start_time": "2024-02-17T15:38:43.383682700Z"
    }
   },
   "id": "232b958c366df850",
   "execution_count": 21
  },
  {
   "cell_type": "code",
   "outputs": [],
   "source": [
    "from scipy import stats"
   ],
   "metadata": {
    "collapsed": false,
    "ExecuteTime": {
     "end_time": "2024-02-17T15:38:43.632686600Z",
     "start_time": "2024-02-17T15:38:43.500672900Z"
    }
   },
   "id": "856064487c120c",
   "execution_count": 22
  },
  {
   "cell_type": "code",
   "outputs": [
    {
     "name": "stdout",
     "output_type": "stream",
     "text": [
      "ShapiroResult(statistic=0.8778755068778992, pvalue=0.007533067371696234)\n",
      "ShapiroResult(statistic=0.8310264945030212, pvalue=0.0009912558598443866)\n",
      "ShapiroResult(statistic=0.8453090190887451, pvalue=0.0017911724280565977)\n",
      "ShapiroResult(statistic=0.8888959884643555, pvalue=0.012612108141183853)\n",
      "ShapiroResult(statistic=0.9219475388526917, pvalue=0.06450442224740982)\n",
      "ShapiroResult(statistic=0.9586084485054016, pvalue=0.4111086130142212)\n"
     ]
    }
   ],
   "source": [
    "print(stats.shapiro(rmse_mlp_carbon))\n",
    "print(stats.shapiro(rmse_lstm_carbon))\n",
    "print(stats.shapiro(rmse_gru_carbon))\n",
    "print(stats.shapiro(rmse_mlp_solar))\n",
    "print(stats.shapiro(rmse_lstm_solar))\n",
    "print(stats.shapiro(rmse_gru_solar))"
   ],
   "metadata": {
    "collapsed": false,
    "ExecuteTime": {
     "end_time": "2024-02-17T16:19:50.816687100Z",
     "start_time": "2024-02-17T16:19:50.746238200Z"
    }
   },
   "id": "974cd8e1f19bbcbe",
   "execution_count": 26
  },
  {
   "cell_type": "code",
   "outputs": [
    {
     "name": "stdout",
     "output_type": "stream",
     "text": [
      "WilcoxonResult(statistic=77.0, pvalue=0.036649227142333984)\n",
      "WilcoxonResult(statistic=89.0, pvalue=0.08392000198364258)\n",
      "WilcoxonResult(statistic=74.0, pvalue=0.029131293296813965)\n",
      "WilcoxonResult(statistic=133.0, pvalue=0.6431422233581543)\n",
      "WilcoxonResult(statistic=15.0, pvalue=1.633167266845703e-05)\n",
      "WilcoxonResult(statistic=59.0, pvalue=0.007920503616333008)\n"
     ]
    }
   ],
   "source": [
    "print(stats.wilcoxon(rmse_mlp_carbon, rmse_lstm_carbon))\n",
    "print(stats.wilcoxon(rmse_lstm_carbon, rmse_gru_carbon))\n",
    "print(stats.wilcoxon(rmse_mlp_carbon, rmse_gru_carbon))\n",
    "\n",
    "print(stats.wilcoxon(rmse_mlp_solar, rmse_lstm_solar))\n",
    "print(stats.wilcoxon(rmse_lstm_solar, rmse_gru_solar))\n",
    "print(stats.wilcoxon(rmse_mlp_solar, rmse_gru_solar))"
   ],
   "metadata": {
    "collapsed": false,
    "ExecuteTime": {
     "end_time": "2024-02-17T15:38:43.796802600Z",
     "start_time": "2024-02-17T15:38:43.646821700Z"
    }
   },
   "id": "182ca9ff635bbb3f",
   "execution_count": 24
  },
  {
   "cell_type": "code",
   "outputs": [
    {
     "name": "stdout",
     "output_type": "stream",
     "text": [
      "TtestResult(statistic=2.4387133290976757, pvalue=0.022873259792795926, df=23)\n",
      "TtestResult(statistic=1.9972082152728636, pvalue=0.05776706373655365, df=23)\n",
      "TtestResult(statistic=2.7048786667607216, pvalue=0.012638223353874205, df=23)\n",
      "TtestResult(statistic=-0.3380126363013858, pvalue=0.7384195264161315, df=23)\n",
      "TtestResult(statistic=5.657976516086405, pvalue=9.262427648351478e-06, df=23)\n",
      "TtestResult(statistic=3.2595719308877897, pvalue=0.0034496796457513996, df=23)\n"
     ]
    }
   ],
   "source": [
    "print(stats.ttest_rel(rmse_mlp_carbon, rmse_lstm_carbon))\n",
    "print(stats.ttest_rel(rmse_lstm_carbon, rmse_gru_carbon))\n",
    "print(stats.ttest_rel(rmse_mlp_carbon, rmse_gru_carbon))\n",
    "\n",
    "print(stats.ttest_rel(rmse_mlp_solar, rmse_lstm_solar))\n",
    "print(stats.ttest_rel(rmse_lstm_solar, rmse_gru_solar))\n",
    "print(stats.ttest_rel(rmse_mlp_solar, rmse_gru_solar))"
   ],
   "metadata": {
    "collapsed": false,
    "ExecuteTime": {
     "end_time": "2024-02-17T15:38:43.926747700Z",
     "start_time": "2024-02-17T15:38:43.715421200Z"
    }
   },
   "id": "aa73e50ba6525605",
   "execution_count": 25
  }
 ],
 "metadata": {
  "kernelspec": {
   "display_name": "Python 3",
   "language": "python",
   "name": "python3"
  },
  "language_info": {
   "codemirror_mode": {
    "name": "ipython",
    "version": 2
   },
   "file_extension": ".py",
   "mimetype": "text/x-python",
   "name": "python",
   "nbconvert_exporter": "python",
   "pygments_lexer": "ipython2",
   "version": "2.7.6"
  }
 },
 "nbformat": 4,
 "nbformat_minor": 5
}
