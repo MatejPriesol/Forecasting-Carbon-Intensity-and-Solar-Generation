{
 "cells": [
  {
   "cell_type": "code",
   "execution_count": null,
   "id": "initial_id",
   "metadata": {
    "collapsed": true
   },
   "outputs": [],
   "source": [
    "import matplotlib.pyplot as plt\n",
    "import pandas as pd\n",
    "import seaborn as sns"
   ]
  },
  {
   "cell_type": "code",
   "execution_count": null,
   "outputs": [],
   "source": [
    "building1 = pd.read_csv(\"../data/original/Building_1.csv\", sep=\",\")"
   ],
   "metadata": {
    "collapsed": false
   },
   "id": "62fa35e1f1a25a4f"
  },
  {
   "cell_type": "code",
   "execution_count": null,
   "outputs": [],
   "source": [
    "building1.head()"
   ],
   "metadata": {
    "collapsed": false
   },
   "id": "f6b5994909fea208"
  },
  {
   "cell_type": "code",
   "execution_count": null,
   "outputs": [],
   "source": [
    "building1.info()"
   ],
   "metadata": {
    "collapsed": false
   },
   "id": "e7c595f2340ad433"
  },
  {
   "cell_type": "code",
   "execution_count": null,
   "outputs": [],
   "source": [
    "building1.describe()"
   ],
   "metadata": {
    "collapsed": false
   },
   "id": "d6e79fce841f2426"
  },
  {
   "cell_type": "code",
   "execution_count": null,
   "outputs": [],
   "source": [
    "plt.plot(building1['Day Type'])"
   ],
   "metadata": {
    "collapsed": false
   },
   "id": "bdf2992c93eeb68"
  },
  {
   "cell_type": "code",
   "execution_count": null,
   "outputs": [],
   "source": [
    "plt.plot(building1['Hour'])"
   ],
   "metadata": {
    "collapsed": false
   },
   "id": "289c461a2bc3571c"
  },
  {
   "cell_type": "markdown",
   "source": [
    "Get an idea for the distribution, plot all columns into a boxplot and histogram"
   ],
   "metadata": {
    "collapsed": false
   },
   "id": "767aa7d051ce41de"
  },
  {
   "cell_type": "code",
   "execution_count": null,
   "outputs": [],
   "source": [
    "fig, axs = plt.subplots(3, 5, figsize=(25, 25))\n",
    "axs = axs.flatten()\n",
    "\n",
    "i = 0\n",
    "for column in building1:\n",
    "    ax = axs[i]\n",
    "    ax.boxplot(building1[column])\n",
    "    ax.title.set_text(column)\n",
    "    i += 1\n",
    "    \n",
    "fig.suptitle(\"Title\", fontsize=24)\n",
    "plt.tight_layout(rect=[0, 0, 1, 0.98])\n",
    "plt.show()"
   ],
   "metadata": {
    "collapsed": false
   },
   "id": "7314628ae57e6dd8"
  },
  {
   "cell_type": "code",
   "execution_count": null,
   "outputs": [],
   "source": [
    "bins = 20\n",
    "\n",
    "fig, axs = plt.subplots(4, 4, figsize=(25, 25))\n",
    "axs = axs.flatten()\n",
    "\n",
    "i = 0\n",
    "for column in building1:\n",
    "    ax = axs[i]\n",
    "    ax.hist(building1[column], bins=bins)\n",
    "    ax.title.set_text(column)\n",
    "    i += 1\n",
    "    \n",
    "fig.suptitle(\"Title\", fontsize=24)\n",
    "plt.tight_layout(rect=[0, 0, 1, 0.98])\n",
    "plt.show()"
   ],
   "metadata": {
    "collapsed": false
   },
   "id": "d66f946bf82379f7"
  },
  {
   "cell_type": "code",
   "execution_count": null,
   "outputs": [],
   "source": [
    "fig, axs = plt.subplots(5, 3, figsize=(25, 25))\n",
    "axs = axs.flatten()\n",
    "\n",
    "i = 0\n",
    "for column in building1:\n",
    "    ax = axs[i]\n",
    "    ax.plot(building1[column])\n",
    "    ax.title.set_text(column)\n",
    "    i += 1\n",
    "    \n",
    "fig.suptitle(\"Title\", fontsize=24)\n",
    "plt.tight_layout(rect=[0, 0, 1, 0.98])\n",
    "plt.show()"
   ],
   "metadata": {
    "collapsed": false
   },
   "id": "67b99319678446af"
  },
  {
   "cell_type": "code",
   "execution_count": null,
   "outputs": [],
   "source": [
    "corr = building1.corr()\n",
    "sns.set(rc={'figure.figsize':(12,10)})\n",
    "sns.heatmap(corr, annot = True, fmt='.2f')"
   ],
   "metadata": {
    "collapsed": false
   },
   "id": "82791b2d632922c3"
  }
 ],
 "metadata": {
  "kernelspec": {
   "display_name": "Python 3",
   "language": "python",
   "name": "python3"
  },
  "language_info": {
   "codemirror_mode": {
    "name": "ipython",
    "version": 2
   },
   "file_extension": ".py",
   "mimetype": "text/x-python",
   "name": "python",
   "nbconvert_exporter": "python",
   "pygments_lexer": "ipython2",
   "version": "2.7.6"
  }
 },
 "nbformat": 4,
 "nbformat_minor": 5
}
