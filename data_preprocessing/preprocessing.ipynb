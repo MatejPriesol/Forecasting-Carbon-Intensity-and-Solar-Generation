{
 "cells": [
  {
   "cell_type": "code",
   "execution_count": null,
   "id": "initial_id",
   "metadata": {
    "collapsed": true
   },
   "outputs": [],
   "source": [
    "import pandas as pd"
   ]
  },
  {
   "cell_type": "markdown",
   "source": [
    "Merge all the data"
   ],
   "metadata": {
    "collapsed": false
   },
   "id": "db714014ff860d11"
  },
  {
   "cell_type": "code",
   "execution_count": null,
   "outputs": [],
   "source": [
    "# Read all the data\n",
    "building1 = pd.read_csv(\"../data/original/Building_1.csv\", sep=\",\")\n",
    "building2 = pd.read_csv(\"../data/original/Building_2.csv\", sep=\",\")\n",
    "building3 = pd.read_csv(\"../data/original/Building_3.csv\", sep=\",\")\n",
    "weather = pd.read_csv(\"../data/original/weather.csv\", sep=\",\")\n",
    "carbon_intensity = pd.read_csv(\"../data/original/carbon_intensity.csv\", sep=\",\")\n",
    "pricing = pd.read_csv(\"../data/original/pricing.csv\", sep=\",\")\n",
    "\n",
    "# Distinguish between the buildings\n",
    "building1 = building1.add_suffix(\"_1\")\n",
    "building2 = building2.add_suffix(\"_2\")\n",
    "building3 = building3.add_suffix(\"_3\")\n",
    "\n",
    "# Merge\n",
    "data = [building1, building2, building3, weather, carbon_intensity, pricing]\n",
    "merged = pd.concat(data, axis=1)\n",
    "merged.head()"
   ],
   "metadata": {
    "collapsed": false
   },
   "id": "2c2b0409364c7e98"
  },
  {
   "cell_type": "markdown",
   "source": [
    "Drop the columns with constant values"
   ],
   "metadata": {
    "collapsed": false
   },
   "id": "1b302eb5fca919ec"
  },
  {
   "cell_type": "code",
   "execution_count": null,
   "outputs": [],
   "source": [
    "merged_dropped = merged.drop(columns=[\"Month_1\", \"Month_2\", \"Month_3\",\n",
    "                                      \"Daylight Savings Status_1\", \"Daylight Savings Status_2\", \"Daylight Savings Status_3\",\n",
    "                                      \"Heating Load (kWh)_1\", \"Heating Load (kWh)_2\", \"Heating Load (kWh)_3\",\n",
    "                                      \"HVAC Mode (Off/Cooling/Heating)_1\", \"HVAC Mode (Off/Cooling/Heating)_2\", \"HVAC Mode (Off/Cooling/Heating)_3\"])\n",
    "\n",
    "# Insert an index column\n",
    "index = range(1, len(merged_dropped)+1)\n",
    "merged_dropped.insert(loc=0, column=\"Index\", value=index)"
   ],
   "metadata": {
    "collapsed": false
   },
   "id": "48a4028ade8c6519"
  },
  {
   "cell_type": "code",
   "execution_count": null,
   "outputs": [],
   "source": [
    "# Add a column with average solar generation for later prediction\n",
    "merged_dropped[\"Avg solar generation\"] = merged_dropped[[\"Solar Generation (W/kW)_1\", \"Solar Generation (W/kW)_2\", \"Solar Generation (W/kW)_3\"]].mean(axis=1)"
   ],
   "metadata": {
    "collapsed": false
   },
   "id": "8541bf5ca9a61983"
  },
  {
   "cell_type": "code",
   "outputs": [],
   "source": [
    "merged_dropped.describe()"
   ],
   "metadata": {
    "collapsed": false
   },
   "id": "d2fda815608ef85d",
   "execution_count": null
  },
  {
   "cell_type": "markdown",
   "source": [
    "Split into train-test and normalize"
   ],
   "metadata": {
    "collapsed": false
   },
   "id": "6ebced8a2efb3611"
  },
  {
   "cell_type": "code",
   "execution_count": null,
   "outputs": [],
   "source": [
    "total_length = merged_dropped.shape[0]\n",
    "# last 3 days\n",
    "SIZE_OF_TEST = 72\n",
    "SIZE_OF_VALIDATION = 72\n",
    "\n",
    "train = merged_dropped.head(total_length - SIZE_OF_TEST - SIZE_OF_VALIDATION)\n",
    "validation = merged_dropped.iloc[total_length - SIZE_OF_TEST - SIZE_OF_VALIDATION: total_length - SIZE_OF_TEST] \n",
    "test = merged_dropped.tail(SIZE_OF_TEST)\n",
    "\n",
    "# Ignore index when normalizing\n",
    "columns = list(merged_dropped)\n",
    "columns.remove(\"Index\")\n",
    "\n",
    "# Normalize\n",
    "for column in columns:\n",
    "    min_of_column = train[column].min()\n",
    "    max_of_column = train[column].max()\n",
    "    \n",
    "    train[column] = (train[column] - min_of_column) / (max_of_column - min_of_column)\n",
    "    validation[column] = (validation[column] - min_of_column) / (max_of_column - min_of_column)\n",
    "    test[column] = (test[column] - min_of_column) / (max_of_column - min_of_column)\n",
    "    \n",
    "    if column == \"Avg solar generation\":\n",
    "        print(f\"solar max = {max_of_column}\")\n",
    "        print(f\"solar min = {min_of_column}\")\n",
    "    if column == \"kg_CO2/kWh\":\n",
    "        print(f\"carbon max = {max_of_column}\")\n",
    "        print(f\"carbon min = {min_of_column}\")"
   ],
   "metadata": {
    "collapsed": false
   },
   "id": "e49bd8d75b2fde5e"
  },
  {
   "cell_type": "markdown",
   "source": [
    "Export the train and test sets"
   ],
   "metadata": {
    "collapsed": false
   },
   "id": "74cb5d1da04fcc7a"
  },
  {
   "cell_type": "code",
   "execution_count": null,
   "outputs": [],
   "source": [
    "train.to_csv(\"../data/input-output-batches/TrainSet.csv\", index=False)\n",
    "validation.to_csv(\"../data/input-output-batches/ValidationSet.csv\", index=False)\n",
    "test.to_csv(\"../data/input-output-batches/TestSet.csv\", index=False)"
   ],
   "metadata": {
    "collapsed": false
   },
   "id": "c506673ba32cac32"
  }
 ],
 "metadata": {
  "kernelspec": {
   "display_name": "Python 3",
   "language": "python",
   "name": "python3"
  },
  "language_info": {
   "codemirror_mode": {
    "name": "ipython",
    "version": 2
   },
   "file_extension": ".py",
   "mimetype": "text/x-python",
   "name": "python",
   "nbconvert_exporter": "python",
   "pygments_lexer": "ipython2",
   "version": "2.7.6"
  }
 },
 "nbformat": 4,
 "nbformat_minor": 5
}
