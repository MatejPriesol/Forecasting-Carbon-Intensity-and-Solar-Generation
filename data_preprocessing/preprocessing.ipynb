{
 "cells": [
  {
   "cell_type": "code",
   "execution_count": 11,
   "id": "initial_id",
   "metadata": {
    "collapsed": true,
    "ExecuteTime": {
     "end_time": "2023-10-25T19:03:59.924087886Z",
     "start_time": "2023-10-25T19:03:59.892731962Z"
    }
   },
   "outputs": [],
   "source": [
    "import matplotlib.pyplot as plt\n",
    "import numpy as np\n",
    "import pandas as pd\n",
    "import seaborn as sns\n",
    "from sklearn.model_selection import train_test_split\n",
    "from sklearn import linear_model"
   ]
  },
  {
   "cell_type": "markdown",
   "source": [
    "Merge all the data"
   ],
   "metadata": {
    "collapsed": false
   },
   "id": "db714014ff860d11"
  },
  {
   "cell_type": "code",
   "execution_count": 12,
   "outputs": [
    {
     "data": {
      "text/plain": "   Month_1  Hour_1  Day Type_1  Daylight Savings Status_1  \\\n0        6       1           5                          0   \n1        6       2           5                          0   \n2        6       3           5                          0   \n3        6       4           5                          0   \n4        6       5           5                          0   \n\n   Indoor Temperature (C)_1  Average Unmet Cooling Setpoint Difference (C)_1  \\\n0                 23.098652                                        -0.123570   \n1                 22.234742                                         0.012520   \n2                 22.223061                                         0.000838   \n3                 22.222251                                         0.000029   \n4                 22.222236                                         0.000014   \n\n   Indoor Relative Humidity (%)_1  Equipment Electric Power (kWh)_1  \\\n0                       61.086187                          0.356839   \n1                       64.361378                          0.345078   \n2                       64.493415                          0.338769   \n3                       64.769702                          0.334856   \n4                       65.152120                          0.348607   \n\n   DHW Heating (kWh)_1  Cooling Load (kWh)_1  ...  \\\n0             0.055682              1.119216  ...   \n1             0.159338              1.469638  ...   \n2             0.057004              1.458372  ...   \n3             0.000000              1.337342  ...   \n4             0.000000              1.163453  ...   \n\n   6h Outdoor Relative Humidity (%)  12h Outdoor Relative Humidity (%)  \\\n0                         72.980273                          41.822361   \n1                         87.317655                          37.910023   \n2                         60.341453                          30.190199   \n3                         50.063925                          31.519739   \n4                         40.942579                          33.119543   \n\n   24h Outdoor Relative Humidity (%)  6h Diffuse Solar Radiation (W/m2)  \\\n0                          83.230997                          54.625927   \n1                          95.353948                          78.375479   \n2                          66.266409                         259.822134   \n3                          94.456370                         248.631525   \n4                         100.000000                         272.825159   \n\n   12h Diffuse Solar Radiation (W/m2)  24h Diffuse Solar Radiation (W/m2)  \\\n0                          116.842886                                 0.0   \n1                           89.220504                                 0.0   \n2                           82.855932                                 0.0   \n3                          105.130119                                 0.0   \n4                           75.627986                                 0.0   \n\n   6h Direct Solar Radiation (W/m2)  12h Direct Solar Radiation (W/m2)  \\\n0                        143.324335                        1020.756093   \n1                        300.361061                         825.097292   \n2                        196.691127                         987.909330   \n3                        465.483196                         854.331825   \n4                        569.203332                         941.243325   \n\n   24h Direct Solar Radiation (W/m2)  kg_CO2/kWh  \n0                                0.0    0.402488  \n1                                0.0    0.382625  \n2                                0.0    0.369458  \n3                                0.0    0.367017  \n4                                0.0    0.374040  \n\n[5 rows x 62 columns]",
      "text/html": "<div>\n<style scoped>\n    .dataframe tbody tr th:only-of-type {\n        vertical-align: middle;\n    }\n\n    .dataframe tbody tr th {\n        vertical-align: top;\n    }\n\n    .dataframe thead th {\n        text-align: right;\n    }\n</style>\n<table border=\"1\" class=\"dataframe\">\n  <thead>\n    <tr style=\"text-align: right;\">\n      <th></th>\n      <th>Month_1</th>\n      <th>Hour_1</th>\n      <th>Day Type_1</th>\n      <th>Daylight Savings Status_1</th>\n      <th>Indoor Temperature (C)_1</th>\n      <th>Average Unmet Cooling Setpoint Difference (C)_1</th>\n      <th>Indoor Relative Humidity (%)_1</th>\n      <th>Equipment Electric Power (kWh)_1</th>\n      <th>DHW Heating (kWh)_1</th>\n      <th>Cooling Load (kWh)_1</th>\n      <th>...</th>\n      <th>6h Outdoor Relative Humidity (%)</th>\n      <th>12h Outdoor Relative Humidity (%)</th>\n      <th>24h Outdoor Relative Humidity (%)</th>\n      <th>6h Diffuse Solar Radiation (W/m2)</th>\n      <th>12h Diffuse Solar Radiation (W/m2)</th>\n      <th>24h Diffuse Solar Radiation (W/m2)</th>\n      <th>6h Direct Solar Radiation (W/m2)</th>\n      <th>12h Direct Solar Radiation (W/m2)</th>\n      <th>24h Direct Solar Radiation (W/m2)</th>\n      <th>kg_CO2/kWh</th>\n    </tr>\n  </thead>\n  <tbody>\n    <tr>\n      <th>0</th>\n      <td>6</td>\n      <td>1</td>\n      <td>5</td>\n      <td>0</td>\n      <td>23.098652</td>\n      <td>-0.123570</td>\n      <td>61.086187</td>\n      <td>0.356839</td>\n      <td>0.055682</td>\n      <td>1.119216</td>\n      <td>...</td>\n      <td>72.980273</td>\n      <td>41.822361</td>\n      <td>83.230997</td>\n      <td>54.625927</td>\n      <td>116.842886</td>\n      <td>0.0</td>\n      <td>143.324335</td>\n      <td>1020.756093</td>\n      <td>0.0</td>\n      <td>0.402488</td>\n    </tr>\n    <tr>\n      <th>1</th>\n      <td>6</td>\n      <td>2</td>\n      <td>5</td>\n      <td>0</td>\n      <td>22.234742</td>\n      <td>0.012520</td>\n      <td>64.361378</td>\n      <td>0.345078</td>\n      <td>0.159338</td>\n      <td>1.469638</td>\n      <td>...</td>\n      <td>87.317655</td>\n      <td>37.910023</td>\n      <td>95.353948</td>\n      <td>78.375479</td>\n      <td>89.220504</td>\n      <td>0.0</td>\n      <td>300.361061</td>\n      <td>825.097292</td>\n      <td>0.0</td>\n      <td>0.382625</td>\n    </tr>\n    <tr>\n      <th>2</th>\n      <td>6</td>\n      <td>3</td>\n      <td>5</td>\n      <td>0</td>\n      <td>22.223061</td>\n      <td>0.000838</td>\n      <td>64.493415</td>\n      <td>0.338769</td>\n      <td>0.057004</td>\n      <td>1.458372</td>\n      <td>...</td>\n      <td>60.341453</td>\n      <td>30.190199</td>\n      <td>66.266409</td>\n      <td>259.822134</td>\n      <td>82.855932</td>\n      <td>0.0</td>\n      <td>196.691127</td>\n      <td>987.909330</td>\n      <td>0.0</td>\n      <td>0.369458</td>\n    </tr>\n    <tr>\n      <th>3</th>\n      <td>6</td>\n      <td>4</td>\n      <td>5</td>\n      <td>0</td>\n      <td>22.222251</td>\n      <td>0.000029</td>\n      <td>64.769702</td>\n      <td>0.334856</td>\n      <td>0.000000</td>\n      <td>1.337342</td>\n      <td>...</td>\n      <td>50.063925</td>\n      <td>31.519739</td>\n      <td>94.456370</td>\n      <td>248.631525</td>\n      <td>105.130119</td>\n      <td>0.0</td>\n      <td>465.483196</td>\n      <td>854.331825</td>\n      <td>0.0</td>\n      <td>0.367017</td>\n    </tr>\n    <tr>\n      <th>4</th>\n      <td>6</td>\n      <td>5</td>\n      <td>5</td>\n      <td>0</td>\n      <td>22.222236</td>\n      <td>0.000014</td>\n      <td>65.152120</td>\n      <td>0.348607</td>\n      <td>0.000000</td>\n      <td>1.163453</td>\n      <td>...</td>\n      <td>40.942579</td>\n      <td>33.119543</td>\n      <td>100.000000</td>\n      <td>272.825159</td>\n      <td>75.627986</td>\n      <td>0.0</td>\n      <td>569.203332</td>\n      <td>941.243325</td>\n      <td>0.0</td>\n      <td>0.374040</td>\n    </tr>\n  </tbody>\n</table>\n<p>5 rows × 62 columns</p>\n</div>"
     },
     "execution_count": 12,
     "metadata": {},
     "output_type": "execute_result"
    }
   ],
   "source": [
    "# Read all the data\n",
    "building1 = pd.read_csv(\"../data/schemas/warm_up/Building_1.csv\", sep=\",\")\n",
    "building2 = pd.read_csv(\"../data/schemas/warm_up/Building_2.csv\", sep=\",\")\n",
    "building3 = pd.read_csv(\"../data/schemas/warm_up/Building_3.csv\", sep=\",\")\n",
    "weather = pd.read_csv(\"../data/schemas/warm_up/weather.csv\", sep=\",\")\n",
    "carbon_intensity = pd.read_csv(\"../data/schemas/warm_up/carbon_intensity.csv\", sep=\",\")\n",
    "\n",
    "# Distinguish between the buildings\n",
    "building1 = building1.add_suffix(\"_1\")\n",
    "building2 = building2.add_suffix(\"_2\")\n",
    "building3 = building3.add_suffix(\"_3\")\n",
    "\n",
    "# Merge\n",
    "data = [building1, building2, building3, weather, carbon_intensity]\n",
    "merged = pd.concat(data, axis=1)\n",
    "merged.head()"
   ],
   "metadata": {
    "collapsed": false,
    "ExecuteTime": {
     "end_time": "2023-10-25T19:03:59.963527320Z",
     "start_time": "2023-10-25T19:03:59.900097938Z"
    }
   },
   "id": "2c2b0409364c7e98"
  },
  {
   "cell_type": "markdown",
   "source": [
    "Drop the columns with constant values"
   ],
   "metadata": {
    "collapsed": false
   },
   "id": "1b302eb5fca919ec"
  },
  {
   "cell_type": "code",
   "execution_count": 13,
   "outputs": [],
   "source": [
    "merged_dropped = merged.drop(columns=[\"Month_1\", \"Month_2\", \"Month_3\",\n",
    "                                      \"Daylight Savings Status_1\", \"Daylight Savings Status_2\", \"Daylight Savings Status_3\",\n",
    "                                      \"Heating Load (kWh)_1\", \"Heating Load (kWh)_2\", \"Heating Load (kWh)_3\",\n",
    "                                      \"HVAC Mode (Off/Cooling/Heating)_1\", \"HVAC Mode (Off/Cooling/Heating)_2\", \"HVAC Mode (Off/Cooling/Heating)_3\"])\n",
    "\n",
    "# Insert an index column\n",
    "index = range(1, len(merged_dropped)+1)\n",
    "merged_dropped.insert(loc=0, column=\"Index\", value=index)"
   ],
   "metadata": {
    "collapsed": false,
    "ExecuteTime": {
     "end_time": "2023-10-25T19:03:59.963802063Z",
     "start_time": "2023-10-25T19:03:59.960167697Z"
    }
   },
   "id": "48a4028ade8c6519"
  },
  {
   "cell_type": "code",
   "execution_count": 14,
   "outputs": [],
   "source": [
    "# Add a column with average solar generation for later prediction\n",
    "merged_dropped[\"Avg solar generation\"] = merged_dropped[[\"Solar Generation (W/kW)_1\", \"Solar Generation (W/kW)_2\", \"Solar Generation (W/kW)_3\"]].mean(axis=1)"
   ],
   "metadata": {
    "collapsed": false,
    "ExecuteTime": {
     "end_time": "2023-10-25T19:03:59.963949233Z",
     "start_time": "2023-10-25T19:03:59.960437922Z"
    }
   },
   "id": "8541bf5ca9a61983"
  },
  {
   "cell_type": "markdown",
   "source": [
    "Split into train-test and normalize"
   ],
   "metadata": {
    "collapsed": false
   },
   "id": "6ebced8a2efb3611"
  },
  {
   "cell_type": "code",
   "execution_count": 15,
   "outputs": [],
   "source": [
    "train, test = train_test_split(merged_dropped, test_size=0.05, shuffle=False)\n",
    "columns = list(merged_dropped)\n",
    "columns.remove(\"Index\")\n",
    "\n",
    "for column in columns:\n",
    "    min_of_column = train[column].min()\n",
    "    max_of_column = train[column].max()\n",
    "    train[column] = (train[column] - min_of_column) / (max_of_column - min_of_column)\n",
    "    test[column] = (test[column] - min_of_column) / (max_of_column - min_of_column)"
   ],
   "metadata": {
    "collapsed": false,
    "ExecuteTime": {
     "end_time": "2023-10-25T19:03:59.964059623Z",
     "start_time": "2023-10-25T19:03:59.960584170Z"
    }
   },
   "id": "e49bd8d75b2fde5e"
  },
  {
   "cell_type": "markdown",
   "source": [
    "Export the train and test sets"
   ],
   "metadata": {
    "collapsed": false
   },
   "id": "74cb5d1da04fcc7a"
  },
  {
   "cell_type": "code",
   "execution_count": 16,
   "outputs": [],
   "source": [
    "train.to_csv(\"../data/schemas/warm_up/TrainSet.csv\", index=False)\n",
    "test.to_csv(\"../data/schemas/warm_up/TestSet.csv\", index=False)"
   ],
   "metadata": {
    "collapsed": false,
    "ExecuteTime": {
     "end_time": "2023-10-25T19:04:00.026051349Z",
     "start_time": "2023-10-25T19:03:59.960725809Z"
    }
   },
   "id": "c506673ba32cac32"
  },
  {
   "cell_type": "code",
   "execution_count": 16,
   "outputs": [],
   "source": [],
   "metadata": {
    "collapsed": false,
    "ExecuteTime": {
     "end_time": "2023-10-25T19:04:00.039607293Z",
     "start_time": "2023-10-25T19:03:59.993503949Z"
    }
   },
   "id": "d367be389160f961"
  }
 ],
 "metadata": {
  "kernelspec": {
   "display_name": "Python 3",
   "language": "python",
   "name": "python3"
  },
  "language_info": {
   "codemirror_mode": {
    "name": "ipython",
    "version": 2
   },
   "file_extension": ".py",
   "mimetype": "text/x-python",
   "name": "python",
   "nbconvert_exporter": "python",
   "pygments_lexer": "ipython2",
   "version": "2.7.6"
  }
 },
 "nbformat": 4,
 "nbformat_minor": 5
}
