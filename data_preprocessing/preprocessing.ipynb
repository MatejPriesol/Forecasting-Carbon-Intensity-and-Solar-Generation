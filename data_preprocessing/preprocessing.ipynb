{
 "cells": [
  {
   "cell_type": "code",
   "execution_count": 1,
   "id": "initial_id",
   "metadata": {
    "collapsed": true,
    "ExecuteTime": {
     "end_time": "2023-11-20T14:17:18.848042664Z",
     "start_time": "2023-11-20T14:17:18.844694436Z"
    }
   },
   "outputs": [],
   "source": [
    "import pandas as pd"
   ]
  },
  {
   "cell_type": "markdown",
   "source": [
    "Merge all the data"
   ],
   "metadata": {
    "collapsed": false
   },
   "id": "db714014ff860d11"
  },
  {
   "cell_type": "code",
   "execution_count": 2,
   "outputs": [
    {
     "data": {
      "text/plain": "   Month_1  Hour_1  Day Type_1  Daylight Savings Status_1  \\\n0        6       1           5                          0   \n1        6       2           5                          0   \n2        6       3           5                          0   \n3        6       4           5                          0   \n4        6       5           5                          0   \n\n   Indoor Temperature (C)_1  Average Unmet Cooling Setpoint Difference (C)_1  \\\n0                 23.098652                                        -0.123570   \n1                 22.234742                                         0.012520   \n2                 22.223061                                         0.000838   \n3                 22.222251                                         0.000029   \n4                 22.222236                                         0.000014   \n\n   Indoor Relative Humidity (%)_1  Equipment Electric Power (kWh)_1  \\\n0                       61.086187                          0.356839   \n1                       64.361378                          0.345078   \n2                       64.493415                          0.338769   \n3                       64.769702                          0.334856   \n4                       65.152120                          0.348607   \n\n   DHW Heating (kWh)_1  Cooling Load (kWh)_1  ...  \\\n0             0.055682              1.119216  ...   \n1             0.159338              1.469638  ...   \n2             0.057004              1.458372  ...   \n3             0.000000              1.337342  ...   \n4             0.000000              1.163453  ...   \n\n   6h Outdoor Relative Humidity (%)  12h Outdoor Relative Humidity (%)  \\\n0                         72.980273                          41.822361   \n1                         87.317655                          37.910023   \n2                         60.341453                          30.190199   \n3                         50.063925                          31.519739   \n4                         40.942579                          33.119543   \n\n   24h Outdoor Relative Humidity (%)  6h Diffuse Solar Radiation (W/m2)  \\\n0                          83.230997                          54.625927   \n1                          95.353948                          78.375479   \n2                          66.266409                         259.822134   \n3                          94.456370                         248.631525   \n4                         100.000000                         272.825159   \n\n   12h Diffuse Solar Radiation (W/m2)  24h Diffuse Solar Radiation (W/m2)  \\\n0                          116.842886                                 0.0   \n1                           89.220504                                 0.0   \n2                           82.855932                                 0.0   \n3                          105.130119                                 0.0   \n4                           75.627986                                 0.0   \n\n   6h Direct Solar Radiation (W/m2)  12h Direct Solar Radiation (W/m2)  \\\n0                        143.324335                        1020.756093   \n1                        300.361061                         825.097292   \n2                        196.691127                         987.909330   \n3                        465.483196                         854.331825   \n4                        569.203332                         941.243325   \n\n   24h Direct Solar Radiation (W/m2)  kg_CO2/kWh  \n0                                0.0    0.402488  \n1                                0.0    0.382625  \n2                                0.0    0.369458  \n3                                0.0    0.367017  \n4                                0.0    0.374040  \n\n[5 rows x 62 columns]",
      "text/html": "<div>\n<style scoped>\n    .dataframe tbody tr th:only-of-type {\n        vertical-align: middle;\n    }\n\n    .dataframe tbody tr th {\n        vertical-align: top;\n    }\n\n    .dataframe thead th {\n        text-align: right;\n    }\n</style>\n<table border=\"1\" class=\"dataframe\">\n  <thead>\n    <tr style=\"text-align: right;\">\n      <th></th>\n      <th>Month_1</th>\n      <th>Hour_1</th>\n      <th>Day Type_1</th>\n      <th>Daylight Savings Status_1</th>\n      <th>Indoor Temperature (C)_1</th>\n      <th>Average Unmet Cooling Setpoint Difference (C)_1</th>\n      <th>Indoor Relative Humidity (%)_1</th>\n      <th>Equipment Electric Power (kWh)_1</th>\n      <th>DHW Heating (kWh)_1</th>\n      <th>Cooling Load (kWh)_1</th>\n      <th>...</th>\n      <th>6h Outdoor Relative Humidity (%)</th>\n      <th>12h Outdoor Relative Humidity (%)</th>\n      <th>24h Outdoor Relative Humidity (%)</th>\n      <th>6h Diffuse Solar Radiation (W/m2)</th>\n      <th>12h Diffuse Solar Radiation (W/m2)</th>\n      <th>24h Diffuse Solar Radiation (W/m2)</th>\n      <th>6h Direct Solar Radiation (W/m2)</th>\n      <th>12h Direct Solar Radiation (W/m2)</th>\n      <th>24h Direct Solar Radiation (W/m2)</th>\n      <th>kg_CO2/kWh</th>\n    </tr>\n  </thead>\n  <tbody>\n    <tr>\n      <th>0</th>\n      <td>6</td>\n      <td>1</td>\n      <td>5</td>\n      <td>0</td>\n      <td>23.098652</td>\n      <td>-0.123570</td>\n      <td>61.086187</td>\n      <td>0.356839</td>\n      <td>0.055682</td>\n      <td>1.119216</td>\n      <td>...</td>\n      <td>72.980273</td>\n      <td>41.822361</td>\n      <td>83.230997</td>\n      <td>54.625927</td>\n      <td>116.842886</td>\n      <td>0.0</td>\n      <td>143.324335</td>\n      <td>1020.756093</td>\n      <td>0.0</td>\n      <td>0.402488</td>\n    </tr>\n    <tr>\n      <th>1</th>\n      <td>6</td>\n      <td>2</td>\n      <td>5</td>\n      <td>0</td>\n      <td>22.234742</td>\n      <td>0.012520</td>\n      <td>64.361378</td>\n      <td>0.345078</td>\n      <td>0.159338</td>\n      <td>1.469638</td>\n      <td>...</td>\n      <td>87.317655</td>\n      <td>37.910023</td>\n      <td>95.353948</td>\n      <td>78.375479</td>\n      <td>89.220504</td>\n      <td>0.0</td>\n      <td>300.361061</td>\n      <td>825.097292</td>\n      <td>0.0</td>\n      <td>0.382625</td>\n    </tr>\n    <tr>\n      <th>2</th>\n      <td>6</td>\n      <td>3</td>\n      <td>5</td>\n      <td>0</td>\n      <td>22.223061</td>\n      <td>0.000838</td>\n      <td>64.493415</td>\n      <td>0.338769</td>\n      <td>0.057004</td>\n      <td>1.458372</td>\n      <td>...</td>\n      <td>60.341453</td>\n      <td>30.190199</td>\n      <td>66.266409</td>\n      <td>259.822134</td>\n      <td>82.855932</td>\n      <td>0.0</td>\n      <td>196.691127</td>\n      <td>987.909330</td>\n      <td>0.0</td>\n      <td>0.369458</td>\n    </tr>\n    <tr>\n      <th>3</th>\n      <td>6</td>\n      <td>4</td>\n      <td>5</td>\n      <td>0</td>\n      <td>22.222251</td>\n      <td>0.000029</td>\n      <td>64.769702</td>\n      <td>0.334856</td>\n      <td>0.000000</td>\n      <td>1.337342</td>\n      <td>...</td>\n      <td>50.063925</td>\n      <td>31.519739</td>\n      <td>94.456370</td>\n      <td>248.631525</td>\n      <td>105.130119</td>\n      <td>0.0</td>\n      <td>465.483196</td>\n      <td>854.331825</td>\n      <td>0.0</td>\n      <td>0.367017</td>\n    </tr>\n    <tr>\n      <th>4</th>\n      <td>6</td>\n      <td>5</td>\n      <td>5</td>\n      <td>0</td>\n      <td>22.222236</td>\n      <td>0.000014</td>\n      <td>65.152120</td>\n      <td>0.348607</td>\n      <td>0.000000</td>\n      <td>1.163453</td>\n      <td>...</td>\n      <td>40.942579</td>\n      <td>33.119543</td>\n      <td>100.000000</td>\n      <td>272.825159</td>\n      <td>75.627986</td>\n      <td>0.0</td>\n      <td>569.203332</td>\n      <td>941.243325</td>\n      <td>0.0</td>\n      <td>0.374040</td>\n    </tr>\n  </tbody>\n</table>\n<p>5 rows × 62 columns</p>\n</div>"
     },
     "execution_count": 2,
     "metadata": {},
     "output_type": "execute_result"
    }
   ],
   "source": [
    "# Read all the data\n",
    "building1 = pd.read_csv(\"../data/schemas/warm_up/Building_1.csv\", sep=\",\")\n",
    "building2 = pd.read_csv(\"../data/schemas/warm_up/Building_2.csv\", sep=\",\")\n",
    "building3 = pd.read_csv(\"../data/schemas/warm_up/Building_3.csv\", sep=\",\")\n",
    "weather = pd.read_csv(\"../data/schemas/warm_up/weather.csv\", sep=\",\")\n",
    "carbon_intensity = pd.read_csv(\"../data/schemas/warm_up/carbon_intensity.csv\", sep=\",\")\n",
    "\n",
    "# Distinguish between the buildings\n",
    "building1 = building1.add_suffix(\"_1\")\n",
    "building2 = building2.add_suffix(\"_2\")\n",
    "building3 = building3.add_suffix(\"_3\")\n",
    "\n",
    "# Merge\n",
    "data = [building1, building2, building3, weather, carbon_intensity]\n",
    "merged = pd.concat(data, axis=1)\n",
    "merged.head()"
   ],
   "metadata": {
    "collapsed": false,
    "ExecuteTime": {
     "end_time": "2023-11-20T14:17:18.868707756Z",
     "start_time": "2023-11-20T14:17:18.847121071Z"
    }
   },
   "id": "2c2b0409364c7e98"
  },
  {
   "cell_type": "markdown",
   "source": [
    "Drop the columns with constant values"
   ],
   "metadata": {
    "collapsed": false
   },
   "id": "1b302eb5fca919ec"
  },
  {
   "cell_type": "code",
   "execution_count": 3,
   "outputs": [],
   "source": [
    "merged_dropped = merged.drop(columns=[\"Month_1\", \"Month_2\", \"Month_3\",\n",
    "                                      \"Daylight Savings Status_1\", \"Daylight Savings Status_2\", \"Daylight Savings Status_3\",\n",
    "                                      \"Heating Load (kWh)_1\", \"Heating Load (kWh)_2\", \"Heating Load (kWh)_3\",\n",
    "                                      \"HVAC Mode (Off/Cooling/Heating)_1\", \"HVAC Mode (Off/Cooling/Heating)_2\", \"HVAC Mode (Off/Cooling/Heating)_3\"])\n",
    "\n",
    "# Insert an index column\n",
    "index = range(1, len(merged_dropped)+1)\n",
    "merged_dropped.insert(loc=0, column=\"Index\", value=index)"
   ],
   "metadata": {
    "collapsed": false,
    "ExecuteTime": {
     "end_time": "2023-11-20T14:17:18.869047803Z",
     "start_time": "2023-11-20T14:17:18.854504794Z"
    }
   },
   "id": "48a4028ade8c6519"
  },
  {
   "cell_type": "code",
   "execution_count": 4,
   "outputs": [],
   "source": [
    "# Add a column with average solar generation for later prediction\n",
    "merged_dropped[\"Avg solar generation\"] = merged_dropped[[\"Solar Generation (W/kW)_1\", \"Solar Generation (W/kW)_2\", \"Solar Generation (W/kW)_3\"]].mean(axis=1)"
   ],
   "metadata": {
    "collapsed": false,
    "ExecuteTime": {
     "end_time": "2023-11-20T14:17:18.869280766Z",
     "start_time": "2023-11-20T14:17:18.859820484Z"
    }
   },
   "id": "8541bf5ca9a61983"
  },
  {
   "cell_type": "markdown",
   "source": [
    "Split into train-test and normalize"
   ],
   "metadata": {
    "collapsed": false
   },
   "id": "6ebced8a2efb3611"
  },
  {
   "cell_type": "code",
   "execution_count": 5,
   "outputs": [
    {
     "name": "stderr",
     "output_type": "stream",
     "text": [
      "/tmp/ipykernel_11229/2349579039.py:14: SettingWithCopyWarning: \n",
      "A value is trying to be set on a copy of a slice from a DataFrame.\n",
      "Try using .loc[row_indexer,col_indexer] = value instead\n",
      "\n",
      "See the caveats in the documentation: https://pandas.pydata.org/pandas-docs/stable/user_guide/indexing.html#returning-a-view-versus-a-copy\n",
      "  train[column] = (train[column] - min_of_column) / (max_of_column - min_of_column)\n",
      "/tmp/ipykernel_11229/2349579039.py:15: SettingWithCopyWarning: \n",
      "A value is trying to be set on a copy of a slice from a DataFrame.\n",
      "Try using .loc[row_indexer,col_indexer] = value instead\n",
      "\n",
      "See the caveats in the documentation: https://pandas.pydata.org/pandas-docs/stable/user_guide/indexing.html#returning-a-view-versus-a-copy\n",
      "  test[column] = (test[column] - min_of_column) / (max_of_column - min_of_column)\n",
      "/tmp/ipykernel_11229/2349579039.py:14: SettingWithCopyWarning: \n",
      "A value is trying to be set on a copy of a slice from a DataFrame.\n",
      "Try using .loc[row_indexer,col_indexer] = value instead\n",
      "\n",
      "See the caveats in the documentation: https://pandas.pydata.org/pandas-docs/stable/user_guide/indexing.html#returning-a-view-versus-a-copy\n",
      "  train[column] = (train[column] - min_of_column) / (max_of_column - min_of_column)\n",
      "/tmp/ipykernel_11229/2349579039.py:15: SettingWithCopyWarning: \n",
      "A value is trying to be set on a copy of a slice from a DataFrame.\n",
      "Try using .loc[row_indexer,col_indexer] = value instead\n",
      "\n",
      "See the caveats in the documentation: https://pandas.pydata.org/pandas-docs/stable/user_guide/indexing.html#returning-a-view-versus-a-copy\n",
      "  test[column] = (test[column] - min_of_column) / (max_of_column - min_of_column)\n",
      "/tmp/ipykernel_11229/2349579039.py:14: SettingWithCopyWarning: \n",
      "A value is trying to be set on a copy of a slice from a DataFrame.\n",
      "Try using .loc[row_indexer,col_indexer] = value instead\n",
      "\n",
      "See the caveats in the documentation: https://pandas.pydata.org/pandas-docs/stable/user_guide/indexing.html#returning-a-view-versus-a-copy\n",
      "  train[column] = (train[column] - min_of_column) / (max_of_column - min_of_column)\n",
      "/tmp/ipykernel_11229/2349579039.py:14: SettingWithCopyWarning: \n",
      "A value is trying to be set on a copy of a slice from a DataFrame.\n",
      "Try using .loc[row_indexer,col_indexer] = value instead\n",
      "\n",
      "See the caveats in the documentation: https://pandas.pydata.org/pandas-docs/stable/user_guide/indexing.html#returning-a-view-versus-a-copy\n",
      "  train[column] = (train[column] - min_of_column) / (max_of_column - min_of_column)\n",
      "/tmp/ipykernel_11229/2349579039.py:15: SettingWithCopyWarning: \n",
      "A value is trying to be set on a copy of a slice from a DataFrame.\n",
      "Try using .loc[row_indexer,col_indexer] = value instead\n",
      "\n",
      "See the caveats in the documentation: https://pandas.pydata.org/pandas-docs/stable/user_guide/indexing.html#returning-a-view-versus-a-copy\n",
      "  test[column] = (test[column] - min_of_column) / (max_of_column - min_of_column)\n",
      "/tmp/ipykernel_11229/2349579039.py:14: SettingWithCopyWarning: \n",
      "A value is trying to be set on a copy of a slice from a DataFrame.\n",
      "Try using .loc[row_indexer,col_indexer] = value instead\n",
      "\n",
      "See the caveats in the documentation: https://pandas.pydata.org/pandas-docs/stable/user_guide/indexing.html#returning-a-view-versus-a-copy\n",
      "  train[column] = (train[column] - min_of_column) / (max_of_column - min_of_column)\n",
      "/tmp/ipykernel_11229/2349579039.py:15: SettingWithCopyWarning: \n",
      "A value is trying to be set on a copy of a slice from a DataFrame.\n",
      "Try using .loc[row_indexer,col_indexer] = value instead\n",
      "\n",
      "See the caveats in the documentation: https://pandas.pydata.org/pandas-docs/stable/user_guide/indexing.html#returning-a-view-versus-a-copy\n",
      "  test[column] = (test[column] - min_of_column) / (max_of_column - min_of_column)\n",
      "/tmp/ipykernel_11229/2349579039.py:14: SettingWithCopyWarning: \n",
      "A value is trying to be set on a copy of a slice from a DataFrame.\n",
      "Try using .loc[row_indexer,col_indexer] = value instead\n",
      "\n",
      "See the caveats in the documentation: https://pandas.pydata.org/pandas-docs/stable/user_guide/indexing.html#returning-a-view-versus-a-copy\n",
      "  train[column] = (train[column] - min_of_column) / (max_of_column - min_of_column)\n",
      "/tmp/ipykernel_11229/2349579039.py:14: SettingWithCopyWarning: \n",
      "A value is trying to be set on a copy of a slice from a DataFrame.\n",
      "Try using .loc[row_indexer,col_indexer] = value instead\n",
      "\n",
      "See the caveats in the documentation: https://pandas.pydata.org/pandas-docs/stable/user_guide/indexing.html#returning-a-view-versus-a-copy\n",
      "  train[column] = (train[column] - min_of_column) / (max_of_column - min_of_column)\n",
      "/tmp/ipykernel_11229/2349579039.py:15: SettingWithCopyWarning: \n",
      "A value is trying to be set on a copy of a slice from a DataFrame.\n",
      "Try using .loc[row_indexer,col_indexer] = value instead\n",
      "\n",
      "See the caveats in the documentation: https://pandas.pydata.org/pandas-docs/stable/user_guide/indexing.html#returning-a-view-versus-a-copy\n",
      "  test[column] = (test[column] - min_of_column) / (max_of_column - min_of_column)\n",
      "/tmp/ipykernel_11229/2349579039.py:14: SettingWithCopyWarning: \n",
      "A value is trying to be set on a copy of a slice from a DataFrame.\n",
      "Try using .loc[row_indexer,col_indexer] = value instead\n",
      "\n",
      "See the caveats in the documentation: https://pandas.pydata.org/pandas-docs/stable/user_guide/indexing.html#returning-a-view-versus-a-copy\n",
      "  train[column] = (train[column] - min_of_column) / (max_of_column - min_of_column)\n",
      "/tmp/ipykernel_11229/2349579039.py:15: SettingWithCopyWarning: \n",
      "A value is trying to be set on a copy of a slice from a DataFrame.\n",
      "Try using .loc[row_indexer,col_indexer] = value instead\n",
      "\n",
      "See the caveats in the documentation: https://pandas.pydata.org/pandas-docs/stable/user_guide/indexing.html#returning-a-view-versus-a-copy\n",
      "  test[column] = (test[column] - min_of_column) / (max_of_column - min_of_column)\n",
      "/tmp/ipykernel_11229/2349579039.py:14: SettingWithCopyWarning: \n",
      "A value is trying to be set on a copy of a slice from a DataFrame.\n",
      "Try using .loc[row_indexer,col_indexer] = value instead\n",
      "\n",
      "See the caveats in the documentation: https://pandas.pydata.org/pandas-docs/stable/user_guide/indexing.html#returning-a-view-versus-a-copy\n",
      "  train[column] = (train[column] - min_of_column) / (max_of_column - min_of_column)\n"
     ]
    }
   ],
   "source": [
    "total_length = merged_dropped.shape[0]\n",
    "# last 3 days\n",
    "SIZE_OF_TEST = 72\n",
    "\n",
    "train = merged_dropped.head(total_length - SIZE_OF_TEST)\n",
    "test = merged_dropped.tail(SIZE_OF_TEST)\n",
    "\n",
    "# Ignore index when normalizing\n",
    "columns = list(merged_dropped)\n",
    "columns.remove(\"Index\")\n",
    "\n",
    "# Normalize\n",
    "for column in columns:\n",
    "    min_of_column = train[column].min()\n",
    "    max_of_column = train[column].max()\n",
    "    train[column] = (train[column] - min_of_column) / (max_of_column - min_of_column)\n",
    "    test[column] = (test[column] - min_of_column) / (max_of_column - min_of_column)"
   ],
   "metadata": {
    "collapsed": false,
    "ExecuteTime": {
     "end_time": "2023-11-20T14:17:18.973638742Z",
     "start_time": "2023-11-20T14:17:18.868542492Z"
    }
   },
   "id": "e49bd8d75b2fde5e"
  },
  {
   "cell_type": "markdown",
   "source": [
    "Export the train and test sets"
   ],
   "metadata": {
    "collapsed": false
   },
   "id": "74cb5d1da04fcc7a"
  },
  {
   "cell_type": "code",
   "execution_count": 6,
   "outputs": [],
   "source": [
    "train.to_csv(\"../data/schemas/warm_up/TrainSet.csv\", index=False)\n",
    "test.to_csv(\"../data/schemas/warm_up/TestSet.csv\", index=False)"
   ],
   "metadata": {
    "collapsed": false,
    "ExecuteTime": {
     "end_time": "2023-11-20T14:17:18.974453702Z",
     "start_time": "2023-11-20T14:17:18.896525172Z"
    }
   },
   "id": "c506673ba32cac32"
  },
  {
   "cell_type": "code",
   "execution_count": 7,
   "outputs": [
    {
     "data": {
      "text/plain": "     Index    Hour_1  Day Type_1  Indoor Temperature (C)_1  \\\n648    649  0.000000         0.5                  0.461351   \n649    650  0.043478         0.5                  0.318182   \n650    651  0.086957         0.5                  0.308573   \n651    652  0.130435         0.5                  0.307767   \n652    653  0.173913         0.5                  0.307709   \n\n     Average Unmet Cooling Setpoint Difference (C)_1  \\\n648                                         0.400684   \n649                                         0.530888   \n650                                         0.413692   \n651                                         0.403860   \n652                                         0.403150   \n\n     Indoor Relative Humidity (%)_1  Equipment Electric Power (kWh)_1  \\\n648                        0.521655                          0.004843   \n649                        0.684838                          0.004637   \n650                        0.690602                          0.004455   \n651                        0.680822                          0.004264   \n652                        0.679180                          0.004058   \n\n     DHW Heating (kWh)_1  Cooling Load (kWh)_1  Solar Generation (W/kW)_1  \\\n648                  0.0              0.348288                        0.0   \n649                  0.0              0.391748                        0.0   \n650                  0.0              0.364249                        0.0   \n651                  0.0              0.304699                        0.0   \n652                  0.0              0.258937                        0.0   \n\n     ...  12h Outdoor Relative Humidity (%)  \\\n648  ...                           0.269049   \n649  ...                           0.110983   \n650  ...                           0.084943   \n651  ...                           0.175230   \n652  ...                           0.213445   \n\n     24h Outdoor Relative Humidity (%)  6h Diffuse Solar Radiation (W/m2)  \\\n648                           0.709453                           0.093896   \n649                           1.000000                           0.202073   \n650                           0.501230                           0.169092   \n651                           0.943541                           0.243866   \n652                           0.586132                           0.308598   \n\n     12h Diffuse Solar Radiation (W/m2)  24h Diffuse Solar Radiation (W/m2)  \\\n648                            0.264929                                 0.0   \n649                            0.417112                                 0.0   \n650                            0.324264                                 0.0   \n651                            0.319945                                 0.0   \n652                            0.306676                                 0.0   \n\n     6h Direct Solar Radiation (W/m2)  12h Direct Solar Radiation (W/m2)  \\\n648                          0.475100                           0.859031   \n649                          0.548013                           0.454032   \n650                          0.614610                           0.695198   \n651                          0.671525                           0.589291   \n652                          0.703863                           0.562629   \n\n     24h Direct Solar Radiation (W/m2)  kg_CO2/kWh  Avg solar generation  \n648                                0.0    0.343397                   0.0  \n649                                0.0    0.287999                   0.0  \n650                                0.0    0.203789                   0.0  \n651                                0.0    0.152925                   0.0  \n652                                0.0    0.182259                   0.0  \n\n[5 rows x 52 columns]",
      "text/html": "<div>\n<style scoped>\n    .dataframe tbody tr th:only-of-type {\n        vertical-align: middle;\n    }\n\n    .dataframe tbody tr th {\n        vertical-align: top;\n    }\n\n    .dataframe thead th {\n        text-align: right;\n    }\n</style>\n<table border=\"1\" class=\"dataframe\">\n  <thead>\n    <tr style=\"text-align: right;\">\n      <th></th>\n      <th>Index</th>\n      <th>Hour_1</th>\n      <th>Day Type_1</th>\n      <th>Indoor Temperature (C)_1</th>\n      <th>Average Unmet Cooling Setpoint Difference (C)_1</th>\n      <th>Indoor Relative Humidity (%)_1</th>\n      <th>Equipment Electric Power (kWh)_1</th>\n      <th>DHW Heating (kWh)_1</th>\n      <th>Cooling Load (kWh)_1</th>\n      <th>Solar Generation (W/kW)_1</th>\n      <th>...</th>\n      <th>12h Outdoor Relative Humidity (%)</th>\n      <th>24h Outdoor Relative Humidity (%)</th>\n      <th>6h Diffuse Solar Radiation (W/m2)</th>\n      <th>12h Diffuse Solar Radiation (W/m2)</th>\n      <th>24h Diffuse Solar Radiation (W/m2)</th>\n      <th>6h Direct Solar Radiation (W/m2)</th>\n      <th>12h Direct Solar Radiation (W/m2)</th>\n      <th>24h Direct Solar Radiation (W/m2)</th>\n      <th>kg_CO2/kWh</th>\n      <th>Avg solar generation</th>\n    </tr>\n  </thead>\n  <tbody>\n    <tr>\n      <th>648</th>\n      <td>649</td>\n      <td>0.000000</td>\n      <td>0.5</td>\n      <td>0.461351</td>\n      <td>0.400684</td>\n      <td>0.521655</td>\n      <td>0.004843</td>\n      <td>0.0</td>\n      <td>0.348288</td>\n      <td>0.0</td>\n      <td>...</td>\n      <td>0.269049</td>\n      <td>0.709453</td>\n      <td>0.093896</td>\n      <td>0.264929</td>\n      <td>0.0</td>\n      <td>0.475100</td>\n      <td>0.859031</td>\n      <td>0.0</td>\n      <td>0.343397</td>\n      <td>0.0</td>\n    </tr>\n    <tr>\n      <th>649</th>\n      <td>650</td>\n      <td>0.043478</td>\n      <td>0.5</td>\n      <td>0.318182</td>\n      <td>0.530888</td>\n      <td>0.684838</td>\n      <td>0.004637</td>\n      <td>0.0</td>\n      <td>0.391748</td>\n      <td>0.0</td>\n      <td>...</td>\n      <td>0.110983</td>\n      <td>1.000000</td>\n      <td>0.202073</td>\n      <td>0.417112</td>\n      <td>0.0</td>\n      <td>0.548013</td>\n      <td>0.454032</td>\n      <td>0.0</td>\n      <td>0.287999</td>\n      <td>0.0</td>\n    </tr>\n    <tr>\n      <th>650</th>\n      <td>651</td>\n      <td>0.086957</td>\n      <td>0.5</td>\n      <td>0.308573</td>\n      <td>0.413692</td>\n      <td>0.690602</td>\n      <td>0.004455</td>\n      <td>0.0</td>\n      <td>0.364249</td>\n      <td>0.0</td>\n      <td>...</td>\n      <td>0.084943</td>\n      <td>0.501230</td>\n      <td>0.169092</td>\n      <td>0.324264</td>\n      <td>0.0</td>\n      <td>0.614610</td>\n      <td>0.695198</td>\n      <td>0.0</td>\n      <td>0.203789</td>\n      <td>0.0</td>\n    </tr>\n    <tr>\n      <th>651</th>\n      <td>652</td>\n      <td>0.130435</td>\n      <td>0.5</td>\n      <td>0.307767</td>\n      <td>0.403860</td>\n      <td>0.680822</td>\n      <td>0.004264</td>\n      <td>0.0</td>\n      <td>0.304699</td>\n      <td>0.0</td>\n      <td>...</td>\n      <td>0.175230</td>\n      <td>0.943541</td>\n      <td>0.243866</td>\n      <td>0.319945</td>\n      <td>0.0</td>\n      <td>0.671525</td>\n      <td>0.589291</td>\n      <td>0.0</td>\n      <td>0.152925</td>\n      <td>0.0</td>\n    </tr>\n    <tr>\n      <th>652</th>\n      <td>653</td>\n      <td>0.173913</td>\n      <td>0.5</td>\n      <td>0.307709</td>\n      <td>0.403150</td>\n      <td>0.679180</td>\n      <td>0.004058</td>\n      <td>0.0</td>\n      <td>0.258937</td>\n      <td>0.0</td>\n      <td>...</td>\n      <td>0.213445</td>\n      <td>0.586132</td>\n      <td>0.308598</td>\n      <td>0.306676</td>\n      <td>0.0</td>\n      <td>0.703863</td>\n      <td>0.562629</td>\n      <td>0.0</td>\n      <td>0.182259</td>\n      <td>0.0</td>\n    </tr>\n  </tbody>\n</table>\n<p>5 rows × 52 columns</p>\n</div>"
     },
     "execution_count": 7,
     "metadata": {},
     "output_type": "execute_result"
    }
   ],
   "source": [
    "test.head()"
   ],
   "metadata": {
    "collapsed": false,
    "ExecuteTime": {
     "end_time": "2023-11-20T14:17:18.975632935Z",
     "start_time": "2023-11-20T14:17:18.945959520Z"
    }
   },
   "id": "d367be389160f961"
  }
 ],
 "metadata": {
  "kernelspec": {
   "display_name": "Python 3",
   "language": "python",
   "name": "python3"
  },
  "language_info": {
   "codemirror_mode": {
    "name": "ipython",
    "version": 2
   },
   "file_extension": ".py",
   "mimetype": "text/x-python",
   "name": "python",
   "nbconvert_exporter": "python",
   "pygments_lexer": "ipython2",
   "version": "2.7.6"
  }
 },
 "nbformat": 4,
 "nbformat_minor": 5
}
