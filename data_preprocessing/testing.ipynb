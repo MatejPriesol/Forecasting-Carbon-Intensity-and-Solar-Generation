{
 "cells": [
  {
   "cell_type": "code",
   "execution_count": 1,
   "id": "initial_id",
   "metadata": {
    "collapsed": true,
    "ExecuteTime": {
     "end_time": "2024-02-19T08:23:41.974398400Z",
     "start_time": "2024-02-19T08:23:40.538609100Z"
    }
   },
   "outputs": [],
   "source": [
    "import pandas as pd"
   ]
  },
  {
   "cell_type": "code",
   "outputs": [],
   "source": [
    "# Read all the data\n",
    "building1 = pd.read_csv(\"../data/schemas/warm_up/Building_1.csv\", sep=\",\")\n",
    "building2 = pd.read_csv(\"../data/schemas/warm_up/Building_2.csv\", sep=\",\")\n",
    "building3 = pd.read_csv(\"../data/schemas/warm_up/Building_3.csv\", sep=\",\")\n",
    "weather = pd.read_csv(\"../data/schemas/warm_up/weather.csv\", sep=\",\")\n",
    "carbon_intensity = pd.read_csv(\"../data/schemas/warm_up/carbon_intensity.csv\", sep=\",\")\n",
    "pricing = pd.read_csv(\"../data/schemas/warm_up/pricing.csv\", sep=\",\")\n",
    "\n",
    "# Distinguish between the buildings\n",
    "building1 = building1.add_suffix(\"_1\")\n",
    "building2 = building2.add_suffix(\"_2\")\n",
    "building3 = building3.add_suffix(\"_3\")"
   ],
   "metadata": {
    "collapsed": false,
    "ExecuteTime": {
     "end_time": "2024-02-19T08:23:42.069007200Z",
     "start_time": "2024-02-19T08:23:41.974398400Z"
    }
   },
   "id": "7963b209ebf02a26",
   "execution_count": 2
  },
  {
   "cell_type": "code",
   "outputs": [
    {
     "data": {
      "text/plain": "   Outdoor Drybulb Temperature (C)  Outdoor Relative Humidity (%)  \\\n0                            24.66                          77.56   \n1                            24.07                          85.12   \n2                            23.90                          89.62   \n3                            23.87                          91.88   \n4                            23.83                          93.06   \n\n   Diffuse Solar Radiation (W/m2)  Direct Solar Radiation (W/m2)  \\\n0                             0.0                            0.0   \n1                             0.0                            0.0   \n2                             0.0                            0.0   \n3                             0.0                            0.0   \n4                             0.0                            0.0   \n\n   6h Outdoor Drybulb Temperature (C)  12h Outdoor Drybulb Temperature (C)  \\\n0                           24.910638                            38.415958   \n1                           27.076564                            38.319349   \n2                           29.351833                            39.150482   \n3                           31.032975                            40.934789   \n4                           33.814467                            39.717841   \n\n   24h Outdoor Drybulb Temperature (C)  6h Outdoor Relative Humidity (%)  \\\n0                            27.611464                         72.980273   \n1                            23.515498                         87.317655   \n2                            23.659443                         60.341453   \n3                            26.686004                         50.063925   \n4                            24.467758                         40.942579   \n\n   12h Outdoor Relative Humidity (%)  24h Outdoor Relative Humidity (%)  \\\n0                          41.822361                          83.230997   \n1                          37.910023                          95.353948   \n2                          30.190199                          66.266409   \n3                          31.519739                          94.456370   \n4                          33.119543                         100.000000   \n\n   6h Diffuse Solar Radiation (W/m2)  12h Diffuse Solar Radiation (W/m2)  \\\n0                          54.625927                          116.842886   \n1                          78.375479                           89.220504   \n2                         259.822134                           82.855932   \n3                         248.631525                          105.130119   \n4                         272.825159                           75.627986   \n\n   24h Diffuse Solar Radiation (W/m2)  6h Direct Solar Radiation (W/m2)  \\\n0                                 0.0                        143.324335   \n1                                 0.0                        300.361061   \n2                                 0.0                        196.691127   \n3                                 0.0                        465.483196   \n4                                 0.0                        569.203332   \n\n   12h Direct Solar Radiation (W/m2)  24h Direct Solar Radiation (W/m2)  \n0                        1020.756093                                0.0  \n1                         825.097292                                0.0  \n2                         987.909330                                0.0  \n3                         854.331825                                0.0  \n4                         941.243325                                0.0  ",
      "text/html": "<div>\n<style scoped>\n    .dataframe tbody tr th:only-of-type {\n        vertical-align: middle;\n    }\n\n    .dataframe tbody tr th {\n        vertical-align: top;\n    }\n\n    .dataframe thead th {\n        text-align: right;\n    }\n</style>\n<table border=\"1\" class=\"dataframe\">\n  <thead>\n    <tr style=\"text-align: right;\">\n      <th></th>\n      <th>Outdoor Drybulb Temperature (C)</th>\n      <th>Outdoor Relative Humidity (%)</th>\n      <th>Diffuse Solar Radiation (W/m2)</th>\n      <th>Direct Solar Radiation (W/m2)</th>\n      <th>6h Outdoor Drybulb Temperature (C)</th>\n      <th>12h Outdoor Drybulb Temperature (C)</th>\n      <th>24h Outdoor Drybulb Temperature (C)</th>\n      <th>6h Outdoor Relative Humidity (%)</th>\n      <th>12h Outdoor Relative Humidity (%)</th>\n      <th>24h Outdoor Relative Humidity (%)</th>\n      <th>6h Diffuse Solar Radiation (W/m2)</th>\n      <th>12h Diffuse Solar Radiation (W/m2)</th>\n      <th>24h Diffuse Solar Radiation (W/m2)</th>\n      <th>6h Direct Solar Radiation (W/m2)</th>\n      <th>12h Direct Solar Radiation (W/m2)</th>\n      <th>24h Direct Solar Radiation (W/m2)</th>\n    </tr>\n  </thead>\n  <tbody>\n    <tr>\n      <th>0</th>\n      <td>24.66</td>\n      <td>77.56</td>\n      <td>0.0</td>\n      <td>0.0</td>\n      <td>24.910638</td>\n      <td>38.415958</td>\n      <td>27.611464</td>\n      <td>72.980273</td>\n      <td>41.822361</td>\n      <td>83.230997</td>\n      <td>54.625927</td>\n      <td>116.842886</td>\n      <td>0.0</td>\n      <td>143.324335</td>\n      <td>1020.756093</td>\n      <td>0.0</td>\n    </tr>\n    <tr>\n      <th>1</th>\n      <td>24.07</td>\n      <td>85.12</td>\n      <td>0.0</td>\n      <td>0.0</td>\n      <td>27.076564</td>\n      <td>38.319349</td>\n      <td>23.515498</td>\n      <td>87.317655</td>\n      <td>37.910023</td>\n      <td>95.353948</td>\n      <td>78.375479</td>\n      <td>89.220504</td>\n      <td>0.0</td>\n      <td>300.361061</td>\n      <td>825.097292</td>\n      <td>0.0</td>\n    </tr>\n    <tr>\n      <th>2</th>\n      <td>23.90</td>\n      <td>89.62</td>\n      <td>0.0</td>\n      <td>0.0</td>\n      <td>29.351833</td>\n      <td>39.150482</td>\n      <td>23.659443</td>\n      <td>60.341453</td>\n      <td>30.190199</td>\n      <td>66.266409</td>\n      <td>259.822134</td>\n      <td>82.855932</td>\n      <td>0.0</td>\n      <td>196.691127</td>\n      <td>987.909330</td>\n      <td>0.0</td>\n    </tr>\n    <tr>\n      <th>3</th>\n      <td>23.87</td>\n      <td>91.88</td>\n      <td>0.0</td>\n      <td>0.0</td>\n      <td>31.032975</td>\n      <td>40.934789</td>\n      <td>26.686004</td>\n      <td>50.063925</td>\n      <td>31.519739</td>\n      <td>94.456370</td>\n      <td>248.631525</td>\n      <td>105.130119</td>\n      <td>0.0</td>\n      <td>465.483196</td>\n      <td>854.331825</td>\n      <td>0.0</td>\n    </tr>\n    <tr>\n      <th>4</th>\n      <td>23.83</td>\n      <td>93.06</td>\n      <td>0.0</td>\n      <td>0.0</td>\n      <td>33.814467</td>\n      <td>39.717841</td>\n      <td>24.467758</td>\n      <td>40.942579</td>\n      <td>33.119543</td>\n      <td>100.000000</td>\n      <td>272.825159</td>\n      <td>75.627986</td>\n      <td>0.0</td>\n      <td>569.203332</td>\n      <td>941.243325</td>\n      <td>0.0</td>\n    </tr>\n  </tbody>\n</table>\n</div>"
     },
     "execution_count": 3,
     "metadata": {},
     "output_type": "execute_result"
    }
   ],
   "source": [
    "weather.head()"
   ],
   "metadata": {
    "collapsed": false,
    "ExecuteTime": {
     "end_time": "2024-02-19T08:23:42.092848900Z",
     "start_time": "2024-02-19T08:23:42.070027900Z"
    }
   },
   "id": "f7eb46434838823e",
   "execution_count": 3
  },
  {
   "cell_type": "code",
   "outputs": [
    {
     "data": {
      "text/plain": "   Electricity Pricing [$/kWh]  6h Prediction Electricity Pricing [$/kWh]  \\\n0                      0.02893                                    0.02893   \n1                      0.02893                                    0.02915   \n2                      0.02893                                    0.02915   \n3                      0.02893                                    0.02915   \n4                      0.02893                                    0.02915   \n\n   12h Prediction Electricity Pricing [$/kWh]  \\\n0                                     0.02915   \n1                                     0.02915   \n2                                     0.02915   \n3                                     0.05867   \n4                                     0.05867   \n\n   24h Prediction Electricity Pricing [$/kWh]  \n0                                     0.02893  \n1                                     0.02893  \n2                                     0.02893  \n3                                     0.02893  \n4                                     0.02893  ",
      "text/html": "<div>\n<style scoped>\n    .dataframe tbody tr th:only-of-type {\n        vertical-align: middle;\n    }\n\n    .dataframe tbody tr th {\n        vertical-align: top;\n    }\n\n    .dataframe thead th {\n        text-align: right;\n    }\n</style>\n<table border=\"1\" class=\"dataframe\">\n  <thead>\n    <tr style=\"text-align: right;\">\n      <th></th>\n      <th>Electricity Pricing [$/kWh]</th>\n      <th>6h Prediction Electricity Pricing [$/kWh]</th>\n      <th>12h Prediction Electricity Pricing [$/kWh]</th>\n      <th>24h Prediction Electricity Pricing [$/kWh]</th>\n    </tr>\n  </thead>\n  <tbody>\n    <tr>\n      <th>0</th>\n      <td>0.02893</td>\n      <td>0.02893</td>\n      <td>0.02915</td>\n      <td>0.02893</td>\n    </tr>\n    <tr>\n      <th>1</th>\n      <td>0.02893</td>\n      <td>0.02915</td>\n      <td>0.02915</td>\n      <td>0.02893</td>\n    </tr>\n    <tr>\n      <th>2</th>\n      <td>0.02893</td>\n      <td>0.02915</td>\n      <td>0.02915</td>\n      <td>0.02893</td>\n    </tr>\n    <tr>\n      <th>3</th>\n      <td>0.02893</td>\n      <td>0.02915</td>\n      <td>0.05867</td>\n      <td>0.02893</td>\n    </tr>\n    <tr>\n      <th>4</th>\n      <td>0.02893</td>\n      <td>0.02915</td>\n      <td>0.05867</td>\n      <td>0.02893</td>\n    </tr>\n  </tbody>\n</table>\n</div>"
     },
     "execution_count": 4,
     "metadata": {},
     "output_type": "execute_result"
    }
   ],
   "source": [
    "pricing.head()"
   ],
   "metadata": {
    "collapsed": false,
    "ExecuteTime": {
     "end_time": "2024-02-19T08:23:42.099741700Z",
     "start_time": "2024-02-19T08:23:42.087871400Z"
    }
   },
   "id": "a1a62b02bc8ef487",
   "execution_count": 4
  },
  {
   "cell_type": "code",
   "outputs": [
    {
     "data": {
      "text/plain": "   kg_CO2/kWh\n0    0.402488\n1    0.382625\n2    0.369458\n3    0.367017\n4    0.374040",
      "text/html": "<div>\n<style scoped>\n    .dataframe tbody tr th:only-of-type {\n        vertical-align: middle;\n    }\n\n    .dataframe tbody tr th {\n        vertical-align: top;\n    }\n\n    .dataframe thead th {\n        text-align: right;\n    }\n</style>\n<table border=\"1\" class=\"dataframe\">\n  <thead>\n    <tr style=\"text-align: right;\">\n      <th></th>\n      <th>kg_CO2/kWh</th>\n    </tr>\n  </thead>\n  <tbody>\n    <tr>\n      <th>0</th>\n      <td>0.402488</td>\n    </tr>\n    <tr>\n      <th>1</th>\n      <td>0.382625</td>\n    </tr>\n    <tr>\n      <th>2</th>\n      <td>0.369458</td>\n    </tr>\n    <tr>\n      <th>3</th>\n      <td>0.367017</td>\n    </tr>\n    <tr>\n      <th>4</th>\n      <td>0.374040</td>\n    </tr>\n  </tbody>\n</table>\n</div>"
     },
     "execution_count": 5,
     "metadata": {},
     "output_type": "execute_result"
    }
   ],
   "source": [
    "carbon_intensity.head()"
   ],
   "metadata": {
    "collapsed": false,
    "ExecuteTime": {
     "end_time": "2024-02-19T08:23:42.100900200Z",
     "start_time": "2024-02-19T08:23:42.096084200Z"
    }
   },
   "id": "b27b62241f8a7275",
   "execution_count": 5
  },
  {
   "cell_type": "code",
   "outputs": [
    {
     "data": {
      "text/plain": "       Month_1      Hour_1  Day Type_1  Daylight Savings Status_1  \\\ncount    720.0  720.000000  720.000000                      720.0   \nmean       6.0   12.500000    4.100000                        0.0   \nstd        0.0    6.926999    1.973679                        0.0   \nmin        6.0    1.000000    1.000000                        0.0   \n25%        6.0    6.750000    2.000000                        0.0   \n50%        6.0   12.500000    4.000000                        0.0   \n75%        6.0   18.250000    6.000000                        0.0   \nmax        6.0   24.000000    7.000000                        0.0   \n\n       Indoor Temperature (C)_1  \\\ncount                720.000000   \nmean                  24.024244   \nstd                    1.538245   \nmin                   19.999914   \n25%                   22.332080   \n50%                   24.444309   \n75%                   24.444459   \nmax                   27.222233   \n\n       Average Unmet Cooling Setpoint Difference (C)_1  \\\ncount                                       720.000000   \nmean                                          0.003642   \nstd                                           0.042871   \nmin                                          -0.238674   \n25%                                          -0.000159   \n50%                                           0.000007   \n75%                                           0.000476   \nmax                                           0.353503   \n\n       Indoor Relative Humidity (%)_1  Equipment Electric Power (kWh)_1  \\\ncount                      720.000000                        720.000000   \nmean                        57.808784                          0.625618   \nstd                          4.707318                          0.810932   \nmin                         46.463528                          0.319633   \n25%                         54.488177                          0.355172   \n50%                         57.407697                          0.405048   \n75%                         61.325861                          0.528865   \nmax                         67.854749                          7.458969   \n\n       DHW Heating (kWh)_1  Cooling Load (kWh)_1  Heating Load (kWh)_1  \\\ncount           720.000000            720.000000                 720.0   \nmean              0.213675              3.333438                   0.0   \nstd               0.469465              1.827450                   0.0   \nmin               0.000000              0.000000                   0.0   \n25%               0.000000              2.076277                   0.0   \n50%               0.000000              3.043866                   0.0   \n75%               0.218549              4.262129                   0.0   \nmax               4.565351             10.608549                   0.0   \n\n       Solar Generation (W/kW)_1  Occupant Count (people)_1  \\\ncount                 720.000000                 720.000000   \nmean                  200.066115                   2.268056   \nstd                   243.372592                   0.838292   \nmin                     0.000000                   0.000000   \n25%                     0.000000                   2.000000   \n50%                    35.825707                   3.000000   \n75%                   422.030274                   3.000000   \nmax                   703.628269                   3.000000   \n\n       Temperature Set Point (C)_1  HVAC Mode (Off/Cooling/Heating)_1  \ncount                   720.000000                              720.0  \nmean                     24.020602                                1.0  \nstd                       1.548475                                0.0  \nmin                      20.000000                                1.0  \n25%                      22.319444                                1.0  \n50%                      24.444444                                1.0  \n75%                      24.444444                                1.0  \nmax                      27.222222                                1.0  ",
      "text/html": "<div>\n<style scoped>\n    .dataframe tbody tr th:only-of-type {\n        vertical-align: middle;\n    }\n\n    .dataframe tbody tr th {\n        vertical-align: top;\n    }\n\n    .dataframe thead th {\n        text-align: right;\n    }\n</style>\n<table border=\"1\" class=\"dataframe\">\n  <thead>\n    <tr style=\"text-align: right;\">\n      <th></th>\n      <th>Month_1</th>\n      <th>Hour_1</th>\n      <th>Day Type_1</th>\n      <th>Daylight Savings Status_1</th>\n      <th>Indoor Temperature (C)_1</th>\n      <th>Average Unmet Cooling Setpoint Difference (C)_1</th>\n      <th>Indoor Relative Humidity (%)_1</th>\n      <th>Equipment Electric Power (kWh)_1</th>\n      <th>DHW Heating (kWh)_1</th>\n      <th>Cooling Load (kWh)_1</th>\n      <th>Heating Load (kWh)_1</th>\n      <th>Solar Generation (W/kW)_1</th>\n      <th>Occupant Count (people)_1</th>\n      <th>Temperature Set Point (C)_1</th>\n      <th>HVAC Mode (Off/Cooling/Heating)_1</th>\n    </tr>\n  </thead>\n  <tbody>\n    <tr>\n      <th>count</th>\n      <td>720.0</td>\n      <td>720.000000</td>\n      <td>720.000000</td>\n      <td>720.0</td>\n      <td>720.000000</td>\n      <td>720.000000</td>\n      <td>720.000000</td>\n      <td>720.000000</td>\n      <td>720.000000</td>\n      <td>720.000000</td>\n      <td>720.0</td>\n      <td>720.000000</td>\n      <td>720.000000</td>\n      <td>720.000000</td>\n      <td>720.0</td>\n    </tr>\n    <tr>\n      <th>mean</th>\n      <td>6.0</td>\n      <td>12.500000</td>\n      <td>4.100000</td>\n      <td>0.0</td>\n      <td>24.024244</td>\n      <td>0.003642</td>\n      <td>57.808784</td>\n      <td>0.625618</td>\n      <td>0.213675</td>\n      <td>3.333438</td>\n      <td>0.0</td>\n      <td>200.066115</td>\n      <td>2.268056</td>\n      <td>24.020602</td>\n      <td>1.0</td>\n    </tr>\n    <tr>\n      <th>std</th>\n      <td>0.0</td>\n      <td>6.926999</td>\n      <td>1.973679</td>\n      <td>0.0</td>\n      <td>1.538245</td>\n      <td>0.042871</td>\n      <td>4.707318</td>\n      <td>0.810932</td>\n      <td>0.469465</td>\n      <td>1.827450</td>\n      <td>0.0</td>\n      <td>243.372592</td>\n      <td>0.838292</td>\n      <td>1.548475</td>\n      <td>0.0</td>\n    </tr>\n    <tr>\n      <th>min</th>\n      <td>6.0</td>\n      <td>1.000000</td>\n      <td>1.000000</td>\n      <td>0.0</td>\n      <td>19.999914</td>\n      <td>-0.238674</td>\n      <td>46.463528</td>\n      <td>0.319633</td>\n      <td>0.000000</td>\n      <td>0.000000</td>\n      <td>0.0</td>\n      <td>0.000000</td>\n      <td>0.000000</td>\n      <td>20.000000</td>\n      <td>1.0</td>\n    </tr>\n    <tr>\n      <th>25%</th>\n      <td>6.0</td>\n      <td>6.750000</td>\n      <td>2.000000</td>\n      <td>0.0</td>\n      <td>22.332080</td>\n      <td>-0.000159</td>\n      <td>54.488177</td>\n      <td>0.355172</td>\n      <td>0.000000</td>\n      <td>2.076277</td>\n      <td>0.0</td>\n      <td>0.000000</td>\n      <td>2.000000</td>\n      <td>22.319444</td>\n      <td>1.0</td>\n    </tr>\n    <tr>\n      <th>50%</th>\n      <td>6.0</td>\n      <td>12.500000</td>\n      <td>4.000000</td>\n      <td>0.0</td>\n      <td>24.444309</td>\n      <td>0.000007</td>\n      <td>57.407697</td>\n      <td>0.405048</td>\n      <td>0.000000</td>\n      <td>3.043866</td>\n      <td>0.0</td>\n      <td>35.825707</td>\n      <td>3.000000</td>\n      <td>24.444444</td>\n      <td>1.0</td>\n    </tr>\n    <tr>\n      <th>75%</th>\n      <td>6.0</td>\n      <td>18.250000</td>\n      <td>6.000000</td>\n      <td>0.0</td>\n      <td>24.444459</td>\n      <td>0.000476</td>\n      <td>61.325861</td>\n      <td>0.528865</td>\n      <td>0.218549</td>\n      <td>4.262129</td>\n      <td>0.0</td>\n      <td>422.030274</td>\n      <td>3.000000</td>\n      <td>24.444444</td>\n      <td>1.0</td>\n    </tr>\n    <tr>\n      <th>max</th>\n      <td>6.0</td>\n      <td>24.000000</td>\n      <td>7.000000</td>\n      <td>0.0</td>\n      <td>27.222233</td>\n      <td>0.353503</td>\n      <td>67.854749</td>\n      <td>7.458969</td>\n      <td>4.565351</td>\n      <td>10.608549</td>\n      <td>0.0</td>\n      <td>703.628269</td>\n      <td>3.000000</td>\n      <td>27.222222</td>\n      <td>1.0</td>\n    </tr>\n  </tbody>\n</table>\n</div>"
     },
     "execution_count": 7,
     "metadata": {},
     "output_type": "execute_result"
    }
   ],
   "source": [
    "building1.describe()"
   ],
   "metadata": {
    "collapsed": false,
    "ExecuteTime": {
     "end_time": "2024-02-19T08:24:05.784998900Z",
     "start_time": "2024-02-19T08:24:05.757844200Z"
    }
   },
   "id": "407cede1dec6dd4d",
   "execution_count": 7
  }
 ],
 "metadata": {
  "kernelspec": {
   "display_name": "Python 3",
   "language": "python",
   "name": "python3"
  },
  "language_info": {
   "codemirror_mode": {
    "name": "ipython",
    "version": 2
   },
   "file_extension": ".py",
   "mimetype": "text/x-python",
   "name": "python",
   "nbconvert_exporter": "python",
   "pygments_lexer": "ipython2",
   "version": "2.7.6"
  }
 },
 "nbformat": 4,
 "nbformat_minor": 5
}
